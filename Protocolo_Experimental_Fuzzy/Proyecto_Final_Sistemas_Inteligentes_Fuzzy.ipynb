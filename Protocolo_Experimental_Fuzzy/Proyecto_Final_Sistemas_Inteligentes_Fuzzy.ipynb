{
  "cells": [
    {
      "cell_type": "markdown",
      "metadata": {
        "id": "view-in-github",
        "colab_type": "text"
      },
      "source": [
        "<a href=\"https://colab.research.google.com/github/leonardo-91/sistemas-inteligentes/blob/main/Proyecto_Final_Sistemas_Inteligentes_Fuzzy.ipynb\" target=\"_parent\"><img src=\"https://colab.research.google.com/assets/colab-badge.svg\" alt=\"Open In Colab\"/></a>"
      ]
    },
    {
      "cell_type": "markdown",
      "metadata": {
        "id": "qpRXucXyd1Zk"
      },
      "source": [
        "**Pontifica Universidad Javeriana**\n",
        "\n",
        "Sistemas Inteligentes\n",
        "\n",
        "\n",
        "---\n",
        "\n",
        "\n",
        "\n",
        "**Grupo:**\n",
        "\n",
        "1.   Edison Leonardo Neira Espitia\n",
        "2.   Sergio Rairan\n",
        "3.   Sebastian Herrara\n",
        "\n",
        "\n",
        "\n",
        "\n",
        "---\n",
        "\n",
        "\n",
        "\n"
      ]
    },
    {
      "cell_type": "markdown",
      "metadata": {
        "id": "v2-nvPW_gxoS"
      },
      "source": [
        "# **Sistema inteligente para la segmentación de clientes con el fin de potencializar y optimizar la conversión de la campaña deposito financiero**\n",
        "\n",
        "\n",
        "\n",
        "---\n",
        "\n"
      ]
    },
    {
      "cell_type": "markdown",
      "metadata": {
        "id": "yZu8-o2ldNHw"
      },
      "source": [
        "# **Contexto**\n",
        "\n",
        "Una institución bancaria portuguesa, propone a través de una campaña de marketing basada en llamadas telefónica, predecir si un usuario se suscribirá a un depósito a plazos. De cada usuario intentan saber atributos como el trabajo actual, el nivel de educación, el incumplimiento financiero, etc. Actualmente, la institución realiza las llamadas sin clasificar ni priorizar clientes, como consecuencia se tiene un tiempo elevado en la labor e incomodidad en clientes que no cumplan con el perfil.\n",
        "\n"
      ]
    },
    {
      "cell_type": "markdown",
      "metadata": {
        "id": "Vc3Y0Wr8dhd5"
      },
      "source": [
        "## **Objetivo**\n",
        "\n",
        "Aumentar el número de clientes que se suscriben y al mismo tiempo eficientar la operación de la campaña de depósito financiero (CDT) a partir de estrategias orientadas a la conversión de usuarios usando cuatro técnicas de IA utilizando datos de los años 2012 - 2014 con un nivel mínimo de precisión del 80% de conversión, buscando ampliar el recaudo financiero para la compañía (Banco), posibilitando el aumento del índice de inversión y por ende el aumento de las utilidades. Esperamos analizar estos cuatro tipos de técnicas de IA por medio de Google Colabs usando Python 3.7 como leguaje de programación, y Scikit-Learn como librería de apoyo para la implementación de los diferentes algoritmos, a su vez usaremos el set de datos públicos de una institución financiera de Portugal que se encuentra alojado en Center of Machine Learning  and Intellignet system (UCI), tenemos como objetivo desarrollar este análisis en el transcurso del curso que se estima será de 3 meses.  \n",
        "\n",
        "\n",
        "\n",
        "---\n",
        "\n"
      ]
    },
    {
      "cell_type": "markdown",
      "metadata": {
        "id": "_HG2zw4VduaW"
      },
      "source": [
        "## **Desarrollo**"
      ]
    },
    {
      "cell_type": "code",
      "execution_count": 1,
      "metadata": {
        "colab": {
          "base_uri": "https://localhost:8080/"
        },
        "id": "iJMa1Sy6dBG1",
        "outputId": "993d9cd0-6898-4444-bb48-5772d67fd9ff"
      },
      "outputs": [
        {
          "output_type": "stream",
          "name": "stdout",
          "text": [
            "Python 3.7.13\n"
          ]
        }
      ],
      "source": [
        "!python --version"
      ]
    },
    {
      "cell_type": "markdown",
      "source": [
        "Instalamos libreria para usar **Fuzzy** sobre python usando la libreria **scikit-fuzzy**"
      ],
      "metadata": {
        "id": "JwYeXTlTs37p"
      }
    },
    {
      "cell_type": "code",
      "source": [
        "!pip install scikit-fuzzy"
      ],
      "metadata": {
        "id": "n9VmF1p92_zd",
        "colab": {
          "base_uri": "https://localhost:8080/"
        },
        "outputId": "18524b2b-168b-4c22-dc8a-03cf657b8b00"
      },
      "execution_count": 2,
      "outputs": [
        {
          "output_type": "stream",
          "name": "stdout",
          "text": [
            "Requirement already satisfied: scikit-fuzzy in /usr/local/lib/python3.7/dist-packages (0.4.2)\n",
            "Requirement already satisfied: numpy>=1.6.0 in /usr/local/lib/python3.7/dist-packages (from scikit-fuzzy) (1.21.6)\n",
            "Requirement already satisfied: scipy>=0.9.0 in /usr/local/lib/python3.7/dist-packages (from scikit-fuzzy) (1.4.1)\n",
            "Requirement already satisfied: networkx>=1.9.0 in /usr/local/lib/python3.7/dist-packages (from scikit-fuzzy) (2.6.3)\n"
          ]
        }
      ]
    },
    {
      "cell_type": "markdown",
      "metadata": {
        "id": "WAUcP30ocuQy"
      },
      "source": [
        "**Librerías**"
      ]
    },
    {
      "cell_type": "code",
      "execution_count": 3,
      "metadata": {
        "id": "muHcCi_Hc3B1"
      },
      "outputs": [],
      "source": [
        "import numpy as np\n",
        "import pandas as pd\n",
        "import pylab as pl\n",
        "from matplotlib import pyplot as plt\n",
        "from sklearn import preprocessing\n",
        "from sklearn.preprocessing import OrdinalEncoder"
      ]
    },
    {
      "cell_type": "markdown",
      "source": [
        "**Matriz de confusión**"
      ],
      "metadata": {
        "id": "GPifpHBPoBO4"
      }
    },
    {
      "cell_type": "code",
      "source": [
        "def list_cm(cm,classes):     #función para generar de una forma más visual la matriz de confusión\n",
        "    if len(cm)==2:\n",
        "      cm.astype(int)\n",
        "      row_0 =['','Valor','Verdadero']\n",
        "      row_1 =['-',classes[0],classes[1]]\n",
        "      row_2 =[classes[0],cm[0,0],cm[1,0]]\n",
        "      row_3 =[classes[1],cm[0,1],cm[1,1]]\n",
        "      table = zip(row_0,row_1, row_2, row_3)\n",
        "      headers = ['', '', 'Valor', 'Predicho']  \n",
        "      return print(tabulate(table, headers=headers, floatfmt=\".0f\"))\n",
        "    else:\n",
        "      cm.astype(int)\n",
        "      row_0 =['','Valor','Verdadero','']\n",
        "      row_1 =['-',classes[0],classes[1],classes[2]]\n",
        "      row_2 =[classes[0],cm[0,0],cm[1,0],cm[2,0]]\n",
        "      row_3 =[classes[1],cm[0,1],cm[1,1],cm[2,1]]\n",
        "      row_4 =[classes[2],cm[0,2],cm[1,2],cm[2,2]]\n",
        "      table = zip(row_0,row_1, row_2, row_3, row_4)\n",
        "      headers = ['', '', 'Valor', 'Predicho', '']  \n",
        "      return print(tabulate(table, headers=headers, floatfmt=\".0f\")) "
      ],
      "metadata": {
        "id": "wrzq9imZoD3J"
      },
      "execution_count": 4,
      "outputs": []
    },
    {
      "cell_type": "markdown",
      "metadata": {
        "id": "VIheO_-Cc-gV"
      },
      "source": [
        "**Cargue de datos**"
      ]
    },
    {
      "cell_type": "code",
      "execution_count": 5,
      "metadata": {
        "colab": {
          "base_uri": "https://localhost:8080/"
        },
        "id": "5Baz1s0HfBIm",
        "outputId": "e5318fa2-db53-4e31-c258-ca16fc315515"
      },
      "outputs": [
        {
          "output_type": "stream",
          "name": "stdout",
          "text": [
            "Drive already mounted at /content/drive; to attempt to forcibly remount, call drive.mount(\"/content/drive\", force_remount=True).\n"
          ]
        }
      ],
      "source": [
        "from google.colab import drive\n",
        "drive.mount('/content/drive')"
      ]
    },
    {
      "cell_type": "code",
      "execution_count": 6,
      "metadata": {
        "id": "cIGZDtK_fHpv"
      },
      "outputs": [],
      "source": [
        "#Ruta leo : \"/content/drive/MyDrive/Maestria IA/Sistemas Inteligentes/Proyecto Final SI/Set de datos/bank-full.csv\"\n",
        "#Ruta Sergio : \"/content/drive/MyDrive/Proyecto Final/Set de datos/bank-full.csv\"\n",
        "#Ruta Sebastián: \"/content/drive/MyDrive/Proyecto Final/Set de datos/bank-full.csv\"\n",
        "\n",
        "df_bank = pd.read_csv(\"/content/drive/MyDrive/Maestria IA/Sistemas Inteligentes/Proyecto Final SI/Set de datos/bank-full.csv\", sep=\";\")"
      ]
    },
    {
      "cell_type": "code",
      "execution_count": 7,
      "metadata": {
        "colab": {
          "base_uri": "https://localhost:8080/",
          "height": 270
        },
        "id": "IzW8uO00fnnJ",
        "outputId": "8fc703e8-64a2-44fb-a1ea-471a968db39c"
      },
      "outputs": [
        {
          "output_type": "execute_result",
          "data": {
            "text/plain": [
              "   age           job  marital  education default  balance housing loan  \\\n",
              "0   58    management  married   tertiary      no     2143     yes   no   \n",
              "1   44    technician   single  secondary      no       29     yes   no   \n",
              "2   33  entrepreneur  married  secondary      no        2     yes  yes   \n",
              "3   47   blue-collar  married    unknown      no     1506     yes   no   \n",
              "4   33       unknown   single    unknown      no        1      no   no   \n",
              "\n",
              "   contact  day month  duration  campaign  pdays  previous poutcome   y  \n",
              "0  unknown    5   may       261         1     -1         0  unknown  no  \n",
              "1  unknown    5   may       151         1     -1         0  unknown  no  \n",
              "2  unknown    5   may        76         1     -1         0  unknown  no  \n",
              "3  unknown    5   may        92         1     -1         0  unknown  no  \n",
              "4  unknown    5   may       198         1     -1         0  unknown  no  "
            ],
            "text/html": [
              "\n",
              "  <div id=\"df-4233591f-38ab-4fb4-91d6-be4ac7328144\">\n",
              "    <div class=\"colab-df-container\">\n",
              "      <div>\n",
              "<style scoped>\n",
              "    .dataframe tbody tr th:only-of-type {\n",
              "        vertical-align: middle;\n",
              "    }\n",
              "\n",
              "    .dataframe tbody tr th {\n",
              "        vertical-align: top;\n",
              "    }\n",
              "\n",
              "    .dataframe thead th {\n",
              "        text-align: right;\n",
              "    }\n",
              "</style>\n",
              "<table border=\"1\" class=\"dataframe\">\n",
              "  <thead>\n",
              "    <tr style=\"text-align: right;\">\n",
              "      <th></th>\n",
              "      <th>age</th>\n",
              "      <th>job</th>\n",
              "      <th>marital</th>\n",
              "      <th>education</th>\n",
              "      <th>default</th>\n",
              "      <th>balance</th>\n",
              "      <th>housing</th>\n",
              "      <th>loan</th>\n",
              "      <th>contact</th>\n",
              "      <th>day</th>\n",
              "      <th>month</th>\n",
              "      <th>duration</th>\n",
              "      <th>campaign</th>\n",
              "      <th>pdays</th>\n",
              "      <th>previous</th>\n",
              "      <th>poutcome</th>\n",
              "      <th>y</th>\n",
              "    </tr>\n",
              "  </thead>\n",
              "  <tbody>\n",
              "    <tr>\n",
              "      <th>0</th>\n",
              "      <td>58</td>\n",
              "      <td>management</td>\n",
              "      <td>married</td>\n",
              "      <td>tertiary</td>\n",
              "      <td>no</td>\n",
              "      <td>2143</td>\n",
              "      <td>yes</td>\n",
              "      <td>no</td>\n",
              "      <td>unknown</td>\n",
              "      <td>5</td>\n",
              "      <td>may</td>\n",
              "      <td>261</td>\n",
              "      <td>1</td>\n",
              "      <td>-1</td>\n",
              "      <td>0</td>\n",
              "      <td>unknown</td>\n",
              "      <td>no</td>\n",
              "    </tr>\n",
              "    <tr>\n",
              "      <th>1</th>\n",
              "      <td>44</td>\n",
              "      <td>technician</td>\n",
              "      <td>single</td>\n",
              "      <td>secondary</td>\n",
              "      <td>no</td>\n",
              "      <td>29</td>\n",
              "      <td>yes</td>\n",
              "      <td>no</td>\n",
              "      <td>unknown</td>\n",
              "      <td>5</td>\n",
              "      <td>may</td>\n",
              "      <td>151</td>\n",
              "      <td>1</td>\n",
              "      <td>-1</td>\n",
              "      <td>0</td>\n",
              "      <td>unknown</td>\n",
              "      <td>no</td>\n",
              "    </tr>\n",
              "    <tr>\n",
              "      <th>2</th>\n",
              "      <td>33</td>\n",
              "      <td>entrepreneur</td>\n",
              "      <td>married</td>\n",
              "      <td>secondary</td>\n",
              "      <td>no</td>\n",
              "      <td>2</td>\n",
              "      <td>yes</td>\n",
              "      <td>yes</td>\n",
              "      <td>unknown</td>\n",
              "      <td>5</td>\n",
              "      <td>may</td>\n",
              "      <td>76</td>\n",
              "      <td>1</td>\n",
              "      <td>-1</td>\n",
              "      <td>0</td>\n",
              "      <td>unknown</td>\n",
              "      <td>no</td>\n",
              "    </tr>\n",
              "    <tr>\n",
              "      <th>3</th>\n",
              "      <td>47</td>\n",
              "      <td>blue-collar</td>\n",
              "      <td>married</td>\n",
              "      <td>unknown</td>\n",
              "      <td>no</td>\n",
              "      <td>1506</td>\n",
              "      <td>yes</td>\n",
              "      <td>no</td>\n",
              "      <td>unknown</td>\n",
              "      <td>5</td>\n",
              "      <td>may</td>\n",
              "      <td>92</td>\n",
              "      <td>1</td>\n",
              "      <td>-1</td>\n",
              "      <td>0</td>\n",
              "      <td>unknown</td>\n",
              "      <td>no</td>\n",
              "    </tr>\n",
              "    <tr>\n",
              "      <th>4</th>\n",
              "      <td>33</td>\n",
              "      <td>unknown</td>\n",
              "      <td>single</td>\n",
              "      <td>unknown</td>\n",
              "      <td>no</td>\n",
              "      <td>1</td>\n",
              "      <td>no</td>\n",
              "      <td>no</td>\n",
              "      <td>unknown</td>\n",
              "      <td>5</td>\n",
              "      <td>may</td>\n",
              "      <td>198</td>\n",
              "      <td>1</td>\n",
              "      <td>-1</td>\n",
              "      <td>0</td>\n",
              "      <td>unknown</td>\n",
              "      <td>no</td>\n",
              "    </tr>\n",
              "  </tbody>\n",
              "</table>\n",
              "</div>\n",
              "      <button class=\"colab-df-convert\" onclick=\"convertToInteractive('df-4233591f-38ab-4fb4-91d6-be4ac7328144')\"\n",
              "              title=\"Convert this dataframe to an interactive table.\"\n",
              "              style=\"display:none;\">\n",
              "        \n",
              "  <svg xmlns=\"http://www.w3.org/2000/svg\" height=\"24px\"viewBox=\"0 0 24 24\"\n",
              "       width=\"24px\">\n",
              "    <path d=\"M0 0h24v24H0V0z\" fill=\"none\"/>\n",
              "    <path d=\"M18.56 5.44l.94 2.06.94-2.06 2.06-.94-2.06-.94-.94-2.06-.94 2.06-2.06.94zm-11 1L8.5 8.5l.94-2.06 2.06-.94-2.06-.94L8.5 2.5l-.94 2.06-2.06.94zm10 10l.94 2.06.94-2.06 2.06-.94-2.06-.94-.94-2.06-.94 2.06-2.06.94z\"/><path d=\"M17.41 7.96l-1.37-1.37c-.4-.4-.92-.59-1.43-.59-.52 0-1.04.2-1.43.59L10.3 9.45l-7.72 7.72c-.78.78-.78 2.05 0 2.83L4 21.41c.39.39.9.59 1.41.59.51 0 1.02-.2 1.41-.59l7.78-7.78 2.81-2.81c.8-.78.8-2.07 0-2.86zM5.41 20L4 18.59l7.72-7.72 1.47 1.35L5.41 20z\"/>\n",
              "  </svg>\n",
              "      </button>\n",
              "      \n",
              "  <style>\n",
              "    .colab-df-container {\n",
              "      display:flex;\n",
              "      flex-wrap:wrap;\n",
              "      gap: 12px;\n",
              "    }\n",
              "\n",
              "    .colab-df-convert {\n",
              "      background-color: #E8F0FE;\n",
              "      border: none;\n",
              "      border-radius: 50%;\n",
              "      cursor: pointer;\n",
              "      display: none;\n",
              "      fill: #1967D2;\n",
              "      height: 32px;\n",
              "      padding: 0 0 0 0;\n",
              "      width: 32px;\n",
              "    }\n",
              "\n",
              "    .colab-df-convert:hover {\n",
              "      background-color: #E2EBFA;\n",
              "      box-shadow: 0px 1px 2px rgba(60, 64, 67, 0.3), 0px 1px 3px 1px rgba(60, 64, 67, 0.15);\n",
              "      fill: #174EA6;\n",
              "    }\n",
              "\n",
              "    [theme=dark] .colab-df-convert {\n",
              "      background-color: #3B4455;\n",
              "      fill: #D2E3FC;\n",
              "    }\n",
              "\n",
              "    [theme=dark] .colab-df-convert:hover {\n",
              "      background-color: #434B5C;\n",
              "      box-shadow: 0px 1px 3px 1px rgba(0, 0, 0, 0.15);\n",
              "      filter: drop-shadow(0px 1px 2px rgba(0, 0, 0, 0.3));\n",
              "      fill: #FFFFFF;\n",
              "    }\n",
              "  </style>\n",
              "\n",
              "      <script>\n",
              "        const buttonEl =\n",
              "          document.querySelector('#df-4233591f-38ab-4fb4-91d6-be4ac7328144 button.colab-df-convert');\n",
              "        buttonEl.style.display =\n",
              "          google.colab.kernel.accessAllowed ? 'block' : 'none';\n",
              "\n",
              "        async function convertToInteractive(key) {\n",
              "          const element = document.querySelector('#df-4233591f-38ab-4fb4-91d6-be4ac7328144');\n",
              "          const dataTable =\n",
              "            await google.colab.kernel.invokeFunction('convertToInteractive',\n",
              "                                                     [key], {});\n",
              "          if (!dataTable) return;\n",
              "\n",
              "          const docLinkHtml = 'Like what you see? Visit the ' +\n",
              "            '<a target=\"_blank\" href=https://colab.research.google.com/notebooks/data_table.ipynb>data table notebook</a>'\n",
              "            + ' to learn more about interactive tables.';\n",
              "          element.innerHTML = '';\n",
              "          dataTable['output_type'] = 'display_data';\n",
              "          await google.colab.output.renderOutput(dataTable, element);\n",
              "          const docLink = document.createElement('div');\n",
              "          docLink.innerHTML = docLinkHtml;\n",
              "          element.appendChild(docLink);\n",
              "        }\n",
              "      </script>\n",
              "    </div>\n",
              "  </div>\n",
              "  "
            ]
          },
          "metadata": {},
          "execution_count": 7
        }
      ],
      "source": [
        "df_bank.head()"
      ]
    },
    {
      "cell_type": "markdown",
      "source": [
        "# Eliminacion de variables"
      ],
      "metadata": {
        "id": "3_r4wYaW7s60"
      }
    },
    {
      "cell_type": "markdown",
      "source": [
        "En este caso vamos a eliminar las variables que descartamos de acuerdo a nuestro analisis realizado"
      ],
      "metadata": {
        "id": "mj14UOPN77D6"
      }
    },
    {
      "cell_type": "code",
      "source": [
        "df_bank.drop(inplace=True,axis=1,columns=[\"job\",\"default\",\"housing\",\"contact\",\"day\",\"month\",\"duration\",\"campaign\",\"pdays\",\"poutcome\"])"
      ],
      "metadata": {
        "id": "LufBE-4a8BIa"
      },
      "execution_count": 8,
      "outputs": []
    },
    {
      "cell_type": "code",
      "source": [
        "df_bank.info()"
      ],
      "metadata": {
        "colab": {
          "base_uri": "https://localhost:8080/"
        },
        "id": "NCJth-pBAw_U",
        "outputId": "4532aae4-9447-427b-d70d-4ca00f1e991a"
      },
      "execution_count": 9,
      "outputs": [
        {
          "output_type": "stream",
          "name": "stdout",
          "text": [
            "<class 'pandas.core.frame.DataFrame'>\n",
            "RangeIndex: 45211 entries, 0 to 45210\n",
            "Data columns (total 7 columns):\n",
            " #   Column     Non-Null Count  Dtype \n",
            "---  ------     --------------  ----- \n",
            " 0   age        45211 non-null  int64 \n",
            " 1   marital    45211 non-null  object\n",
            " 2   education  45211 non-null  object\n",
            " 3   balance    45211 non-null  int64 \n",
            " 4   loan       45211 non-null  object\n",
            " 5   previous   45211 non-null  int64 \n",
            " 6   y          45211 non-null  object\n",
            "dtypes: int64(3), object(4)\n",
            "memory usage: 2.4+ MB\n"
          ]
        }
      ]
    },
    {
      "cell_type": "code",
      "source": [
        "df_bank.balance.value_counts().sort_index()"
      ],
      "metadata": {
        "colab": {
          "base_uri": "https://localhost:8080/"
        },
        "id": "_cRUueT3EBsw",
        "outputId": "06c4bc5a-830d-4e7a-de7e-065314bc5056"
      },
      "execution_count": 10,
      "outputs": [
        {
          "output_type": "execute_result",
          "data": {
            "text/plain": [
              "-8019      1\n",
              "-6847      1\n",
              "-4057      1\n",
              "-3372      1\n",
              "-3313      1\n",
              "          ..\n",
              " 66721     1\n",
              " 71188     1\n",
              " 81204     2\n",
              " 98417     1\n",
              " 102127    1\n",
              "Name: balance, Length: 7168, dtype: int64"
            ]
          },
          "metadata": {},
          "execution_count": 10
        }
      ]
    },
    {
      "cell_type": "markdown",
      "source": [
        "**Limpieza y Calidad de datos**"
      ],
      "metadata": {
        "id": "exu5fPux8v6S"
      }
    },
    {
      "cell_type": "markdown",
      "source": [
        "Variable **Education**, eliminacion de registros desconocidos"
      ],
      "metadata": {
        "id": "-O8OZM6w84d_"
      }
    },
    {
      "cell_type": "code",
      "source": [
        "df_bank.education.value_counts()"
      ],
      "metadata": {
        "colab": {
          "base_uri": "https://localhost:8080/"
        },
        "id": "NYoQ-kgk82XX",
        "outputId": "b5dd016e-01a2-4ad3-8a44-cb3152b28f67"
      },
      "execution_count": 11,
      "outputs": [
        {
          "output_type": "execute_result",
          "data": {
            "text/plain": [
              "secondary    23202\n",
              "tertiary     13301\n",
              "primary       6851\n",
              "unknown       1857\n",
              "Name: education, dtype: int64"
            ]
          },
          "metadata": {},
          "execution_count": 11
        }
      ]
    },
    {
      "cell_type": "code",
      "source": [
        "df_bank=df_bank[~df_bank.education.isin(['unknown'])]"
      ],
      "metadata": {
        "id": "XQDMtJOf8-cr"
      },
      "execution_count": 12,
      "outputs": []
    },
    {
      "cell_type": "code",
      "source": [
        "df_bank.education.value_counts()"
      ],
      "metadata": {
        "colab": {
          "base_uri": "https://localhost:8080/"
        },
        "id": "Hxtyln5r8niN",
        "outputId": "75e83fa8-5c45-4dba-bba1-00deb506ca99"
      },
      "execution_count": 13,
      "outputs": [
        {
          "output_type": "execute_result",
          "data": {
            "text/plain": [
              "secondary    23202\n",
              "tertiary     13301\n",
              "primary       6851\n",
              "Name: education, dtype: int64"
            ]
          },
          "metadata": {},
          "execution_count": 13
        }
      ]
    },
    {
      "cell_type": "markdown",
      "source": [
        "Variable **Previous**, eliminacion de ruido (Registros  errados)"
      ],
      "metadata": {
        "id": "tbcOV8IE9xnU"
      }
    },
    {
      "cell_type": "code",
      "source": [
        "df_bank.previous.value_counts().sort_index()"
      ],
      "metadata": {
        "colab": {
          "base_uri": "https://localhost:8080/"
        },
        "id": "ZUpwKVYjAnob",
        "outputId": "e1e02b86-3c6f-4ba2-ba5f-2edf0ef3266e"
      },
      "execution_count": 14,
      "outputs": [
        {
          "output_type": "execute_result",
          "data": {
            "text/plain": [
              "0      35420\n",
              "1       2656\n",
              "2       2011\n",
              "3       1098\n",
              "4        695\n",
              "5        446\n",
              "6        269\n",
              "7        197\n",
              "8        127\n",
              "9         88\n",
              "10        63\n",
              "11        60\n",
              "12        42\n",
              "13        36\n",
              "14        19\n",
              "15        20\n",
              "16        13\n",
              "17        15\n",
              "18         6\n",
              "19        11\n",
              "20         8\n",
              "21         4\n",
              "22         6\n",
              "23         8\n",
              "24         5\n",
              "25         4\n",
              "26         2\n",
              "27         4\n",
              "28         2\n",
              "29         4\n",
              "30         3\n",
              "32         1\n",
              "35         1\n",
              "37         2\n",
              "38         2\n",
              "40         1\n",
              "41         1\n",
              "51         1\n",
              "55         1\n",
              "58         1\n",
              "275        1\n",
              "Name: previous, dtype: int64"
            ]
          },
          "metadata": {},
          "execution_count": 14
        }
      ]
    },
    {
      "cell_type": "code",
      "source": [
        "df_bank=df_bank[~df_bank.previous.isin([275])]"
      ],
      "metadata": {
        "id": "OFPnweS096Zy"
      },
      "execution_count": 15,
      "outputs": []
    },
    {
      "cell_type": "markdown",
      "source": [
        "# Implementacion Fuzzy"
      ],
      "metadata": {
        "id": "YOX2JaDrBC0J"
      }
    },
    {
      "cell_type": "code",
      "source": [
        "import skfuzzy as fuzz\n",
        "import random\n",
        "from skfuzzy import control as ctrl"
      ],
      "metadata": {
        "id": "5DOP6uBcBI-C"
      },
      "execution_count": 16,
      "outputs": []
    },
    {
      "cell_type": "markdown",
      "source": [
        "Creacion de **variables Fuzzy**"
      ],
      "metadata": {
        "id": "-h9vK2p4BSTM"
      }
    },
    {
      "cell_type": "code",
      "source": [
        "age = ctrl.Antecedent(np.arange(32, 95, 1), 'age')\n",
        "previous = ctrl.Antecedent(np.arange(0, 58, 1), 'previous')\n",
        "balance = ctrl.Antecedent(np.arange(0, 140000, 1), 'balance')\n",
        "marital = ctrl.Antecedent(np.arange(0, 4, 1), 'marital')\n",
        "loan = ctrl.Antecedent(np.arange(0, 1, 0.1), 'loan')\n",
        "education = ctrl.Antecedent(np.arange(0, 4, 1), 'education')\n",
        "y = ctrl.Consequent(np.arange(0, 1, 0.1), 'y')"
      ],
      "metadata": {
        "id": "UBP8AXKmBL_U"
      },
      "execution_count": 17,
      "outputs": []
    },
    {
      "cell_type": "markdown",
      "source": [
        "Creacion de rangos **Fuzzy** **Triangualar**"
      ],
      "metadata": {
        "id": "JdrBC1ixCnDi"
      }
    },
    {
      "cell_type": "code",
      "source": [
        "age[\"Joven\"] = fuzz.trimf(age.universe, [32,32,50])\n",
        "age[\"Adulto\"] = fuzz.trimf(age.universe, [40,55,70])\n",
        "age[\"Adulto Mayor\"] = fuzz.trimf(age.universe, [65,95,95])\n",
        "\n",
        "previous[\"Bajo\"] = fuzz.trimf(previous.universe, [0,0,1])\n",
        "previous[\"Medio\"] = fuzz.trimf(previous.universe, [1,6,10])\n",
        "previous[\"Alto\"] = fuzz.trimf(previous.universe, [9,58,58])\n",
        "\n",
        "balance[\"Bajo\"] = fuzz.trimf(balance.universe, [-8019,-8019,15000])\n",
        "balance[\"Medio\"] = fuzz.trimf(balance.universe, [10000,35000,60000])\n",
        "balance[\"Alto\"] = fuzz.trimf(balance.universe, [50000,140000,140000])\n",
        "\n",
        "marital[\"Soltero\"] = fuzz.trimf(marital.universe, [0,0,2])\n",
        "marital[\"Casado\"] = fuzz.trimf(marital.universe, [1,2,3])\n",
        "marital[\"Divorciado\"] = fuzz.trimf(marital.universe, [2,4,4])\n",
        "\n",
        "loan[\"No\"] = fuzz.trimf(loan.universe, [0,0,0.6])\n",
        "loan[\"Si\"] = fuzz.trimf(loan.universe, [0.4,1,1])\n",
        "\n",
        "education[\"Primaria\"] = fuzz.trimf(education.universe, [0,0,2])\n",
        "education[\"Segundaria\"] = fuzz.trimf(education.universe, [1,2,3])\n",
        "education[\"Universitario\"] = fuzz.trimf(education.universe, [2,4,4])\n",
        "\n",
        "y[\"Bajo\"] = fuzz.trimf(y.universe, [0,0,0.4])\n",
        "y[\"Alto\"] = fuzz.trimf(y.universe, [0.1,.45,.8])\n",
        "y[\"Muy Alto\"] = fuzz.trimf(y.universe, [.7,1,1])"
      ],
      "metadata": {
        "id": "1VxYpnVkCwmD"
      },
      "execution_count": 18,
      "outputs": []
    },
    {
      "cell_type": "markdown",
      "source": [
        "Visualizamos las graficas **triangulares** de cada variables Fuzzy"
      ],
      "metadata": {
        "id": "BiMmdBDiIp07"
      }
    },
    {
      "cell_type": "code",
      "source": [
        "age.view()\n",
        "previous.view()\n",
        "balance.view()\n",
        "marital.view()\n",
        "loan.view()\n",
        "education.view()\n",
        "y.view()"
      ],
      "metadata": {
        "colab": {
          "base_uri": "https://localhost:8080/",
          "height": 1000
        },
        "id": "SDSQE0guDhj8",
        "outputId": "c8edd005-ca58-4703-9572-d094b5f5a99b"
      },
      "execution_count": 19,
      "outputs": [
        {
          "output_type": "display_data",
          "data": {
            "text/plain": [
              "<Figure size 432x288 with 1 Axes>"
            ],
            "image/png": "[encoded data removed]"
          },
          "metadata": {
            "needs_background": "light"
          }
        },
        {
          "output_type": "display_data",
          "data": {
            "text/plain": [
              "<Figure size 432x288 with 1 Axes>"
            ],
            "image/png": "[encoded data removed]"
          },
          "metadata": {
            "needs_background": "light"
          }
        },
        {
          "output_type": "display_data",
          "data": {
            "text/plain": [
              "<Figure size 432x288 with 1 Axes>"
            ],
            "image/png": "[encoded data removed]"
          },
          "metadata": {
            "needs_background": "light"
          }
        },
        {
          "output_type": "display_data",
          "data": {
            "text/plain": [
              "<Figure size 432x288 with 1 Axes>"
            ],
            "image/png": "[encoded data removed]"
          },
          "metadata": {
            "needs_background": "light"
          }
        },
        {
          "output_type": "display_data",
          "data": {
            "text/plain": [
              "<Figure size 432x288 with 1 Axes>"
            ],
            "image/png": "[encoded data removed]"
          },
          "metadata": {
            "needs_background": "light"
          }
        },
        {
          "output_type": "display_data",
          "data": {
            "text/plain": [
              "<Figure size 432x288 with 1 Axes>"
            ],
            "image/png": "[encoded data removed]"
          },
          "metadata": {
            "needs_background": "light"
          }
        },
        {
          "output_type": "display_data",
          "data": {
            "text/plain": [
              "<Figure size 432x288 with 1 Axes>"
            ],
            "image/png": "[encoded data removed]"
          },
          "metadata": {
            "needs_background": "light"
          }
        }
      ]
    },
    {
      "cell_type": "markdown",
      "source": [
        "Creacion de las **reglas fuzzy** analizadas para nuestro ejercicio"
      ],
      "metadata": {
        "id": "rFG5BJy7IwWv"
      }
    },
    {
      "cell_type": "code",
      "source": [
        "rule1 = ctrl.Rule(age['Joven'] & previous['Alto'] & balance['Alto'] & marital['Soltero'] & loan['No'] & education['Universitario'], y['Muy Alto'])\n",
        "rule2 = ctrl.Rule(age['Adulto'] & previous['Alto'] & balance['Alto'] & marital['Casado'] & loan['No'] & education['Universitario'], y['Muy Alto'])\n",
        "rule3 = ctrl.Rule(age['Joven'] & previous['Alto'] & balance['Alto'] & marital['Casado'] & loan['No'] & education['Universitario'], y['Muy Alto'])\n",
        "rule4 = ctrl.Rule(age['Joven'] & previous['Alto'] & balance['Alto'] & marital['Soltero'] & loan['Si'] & education['Universitario'], y['Alto'])\n",
        "rule5 = ctrl.Rule(age['Adulto'] & previous['Medio'] & balance['Alto'] & marital['Divorciado'] & loan['No'] & education['Segundaria'], y['Alto'])\n",
        "rule6 = ctrl.Rule(age['Adulto'] & previous['Medio'] & balance['Alto'] & marital['Casado'] & loan['No'] & education['Universitario'], y['Alto'])\n",
        "rule7 = ctrl.Rule(age['Joven'] & previous['Medio'] & balance['Medio'] & marital['Soltero'] & loan['No'] & education['Universitario'], y['Alto'])\n",
        "rule8 = ctrl.Rule(age['Joven'] & previous['Medio'] & balance['Bajo'] & marital['Soltero'] & loan['No'] & education['Segundaria'], y['Bajo'])\n",
        "rule9 = ctrl.Rule(age['Adulto'] & previous['Bajo'] & balance['Bajo'] & marital['Divorciado'] & loan['Si'] & education['Segundaria'], y['Bajo'])\n",
        "rule10 = ctrl.Rule(age['Joven'] & previous['Bajo'] & balance['Bajo'] & marital['Soltero'] & loan['Si'] & education['Primaria'], y['Bajo'])\n",
        "rule11 = ctrl.Rule(age['Adulto Mayor'] & previous['Medio'] & balance['Bajo'] & marital['Casado'] & loan['Si'] & education['Segundaria'], y['Bajo'])\n",
        "rule12 = ctrl.Rule(age['Adulto Mayor'] & previous['Medio'] & balance['Medio'] & marital['Casado'] & loan['No'] & education['Segundaria'], y['Alto'])\n",
        "rule13 = ctrl.Rule(age['Adulto Mayor'] & previous['Medio'] & balance['Alto'] & marital['Casado'] & loan['No'] & education['Universitario'], y['Muy Alto'])\n",
        "rule14 = ctrl.Rule(age['Adulto Mayor'] & previous['Alto'] & balance['Alto'] & marital['Divorciado'] & loan['No'] & education['Universitario'], y['Alto'])\n",
        "rule15 = ctrl.Rule(age['Adulto'] & previous['Bajo'] & balance['Medio'] & marital['Soltero'] & loan['No'] & education['Universitario'], y['Alto'])\n",
        "rule16 = ctrl.Rule(age['Joven'] & previous['Bajo'] & balance['Medio'] & marital['Casado'] & loan['No'] & education['Universitario'], y['Alto'])\n",
        "rule17 = ctrl.Rule(age['Adulto'] & previous['Bajo'] & balance['Bajo'] & marital['Soltero'] & loan['No'] & education['Universitario'], y['Alto'])"
      ],
      "metadata": {
        "id": "LW5eTcabXFrZ"
      },
      "execution_count": 49,
      "outputs": []
    },
    {
      "cell_type": "code",
      "source": [
        "rule1 = ctrl.Rule(age['Joven'] & balance['Bajo'] & loan['No'], y['Bajo'])\n",
        "rule2 = ctrl.Rule(age['Adulto'] & balance['Bajo'] & loan['No'], y['Bajo'])\n",
        "rule3 = ctrl.Rule(age['Adulto Mayor'] & balance['Bajo'] & loan['No'], y['Bajo'])\n",
        "rule4 = ctrl.Rule(age['Joven'] & balance['Medio'] & loan['No'], y['Alto'])\n",
        "rule5 = ctrl.Rule(age['Adulto'] & balance['Medio'] & loan['No'], y['Alto'])\n",
        "rule6 = ctrl.Rule(age['Adulto Mayor'] & balance['Medio'] & loan['No'], y['Muy Alto'])\n",
        "rule7 = ctrl.Rule(age['Joven'] & balance['Alto'] & loan['No'], y['Alto'])\n",
        "rule8 = ctrl.Rule(age['Adulto'] & balance['Alto'] & loan['No'], y['Muy Alto'])\n",
        "rule9 = ctrl.Rule(age['Adulto Mayor'] & balance['Alto'] & loan['No'], y['Muy Alto'])\n",
        "rule10 = ctrl.Rule(age['Joven'] & balance['Bajo'] & loan['Si'], y['Bajo'])\n",
        "rule11 = ctrl.Rule(age['Adulto'] & balance['Bajo'] & loan['Si'], y['Bajo'])\n",
        "rule12 = ctrl.Rule(age['Adulto Mayor'] & balance['Bajo'] & loan['Si'], y['Bajo'])\n",
        "rule13 = ctrl.Rule(age['Joven'] & balance['Medio'] & loan['Si'], y['Bajo'])\n",
        "rule14 = ctrl.Rule(age['Adulto'] & balance['Medio'] & loan['Si'], y['Bajo'])\n",
        "rule15 = ctrl.Rule(age['Adulto Mayor'] & balance['Medio'] & loan['Si'], y['Bajo'])\n",
        "rule16 = ctrl.Rule(age['Joven'] & balance['Alto'] & loan['Si'], y['Alto'])\n",
        "rule17 = ctrl.Rule(age['Adulto'] & balance['Alto'] & loan['Si'], y['Alto'])\n",
        "rule18 = ctrl.Rule(age['Adulto Mayor'] & balance['Alto'] & loan['Si'], y['Alto'])"
      ],
      "metadata": {
        "id": "Z6wt8EzHDUPM"
      },
      "execution_count": 20,
      "outputs": []
    },
    {
      "cell_type": "markdown",
      "source": [
        "Agregamos las reglas a nuestro algoritmo"
      ],
      "metadata": {
        "id": "1BCOZN7yOPkJ"
      }
    },
    {
      "cell_type": "code",
      "source": [
        "#validate_ctrl = ctrl.ControlSystem([rule1, rule2, rule3,rule4,rule5,rule6,rule7,rule8,rule9,rule10,rule11,rule12,rule13,rule14,rule15,rule16,rule17,rule18])\n",
        "validate_ctrl = ctrl.ControlSystem([rule1, rule2, rule3,rule4,rule5,rule6,rule7,rule8,rule9,rule10,rule11,rule12,rule13,rule14,rule15,rule16,rule17])\n",
        "validate_simulator = ctrl.ControlSystemSimulation(validate_ctrl)"
      ],
      "metadata": {
        "id": "khiLtLk8OYkj"
      },
      "execution_count": 50,
      "outputs": []
    },
    {
      "cell_type": "markdown",
      "source": [
        "Ejecutamos la regla con el 1 registro del dataframe"
      ],
      "metadata": {
        "id": "Q_bVmDCsOxxZ"
      }
    },
    {
      "cell_type": "markdown",
      "source": [
        "Funciones de conversion de variables a numericas acorde al rango"
      ],
      "metadata": {
        "id": "a7g9YW5aVj1p"
      }
    },
    {
      "cell_type": "code",
      "source": [
        "def randomBetweenMarital(marital):\n",
        "  a,b=0,0\n",
        "  if marital == 'single':\n",
        "    a,b=0,2\n",
        "  elif marital=='married':\n",
        "    a,b=1,3\n",
        "  else:\n",
        "    a,b=2,4\n",
        "  return a+random.random()*(b-a) "
      ],
      "metadata": {
        "id": "_0Tx3v-TQQvy"
      },
      "execution_count": 26,
      "outputs": []
    },
    {
      "cell_type": "code",
      "source": [
        "def randomBetweenLoan(loan):\n",
        "  a,b=0,0\n",
        "  if loan == 'no':\n",
        "    a,b=0,0.6\n",
        "  else:\n",
        "    a,b=0.4,1\n",
        "  return a+random.random()*(b-a) "
      ],
      "metadata": {
        "id": "kSG9qWY8SXuy"
      },
      "execution_count": 27,
      "outputs": []
    },
    {
      "cell_type": "code",
      "source": [
        "def randomBetweenEducation(edication):\n",
        "  a,b=0,0\n",
        "  if edication == 'primary':\n",
        "    a,b=0,2\n",
        "  elif edication=='secondary':\n",
        "    a,b=1,3\n",
        "  else:\n",
        "    a,b=2,4\n",
        "  return a+random.random()*(b-a) "
      ],
      "metadata": {
        "id": "d3LXlUU3S5zu"
      },
      "execution_count": 28,
      "outputs": []
    },
    {
      "cell_type": "code",
      "source": [
        "randomBetweenEducation(df_bank.head(1).education[0])"
      ],
      "metadata": {
        "colab": {
          "base_uri": "https://localhost:8080/"
        },
        "id": "6Q7tJzD3YMgq",
        "outputId": "822c3821-ac44-4afa-a771-1dc23c3c501f"
      },
      "execution_count": 44,
      "outputs": [
        {
          "output_type": "execute_result",
          "data": {
            "text/plain": [
              "3.839648133634359"
            ]
          },
          "metadata": {},
          "execution_count": 44
        }
      ]
    },
    {
      "cell_type": "code",
      "source": [
        "#58,2143,0.31,0,1.7,3.8"
      ],
      "metadata": {
        "id": "0TYzQ9LwZDCS"
      },
      "execution_count": null,
      "outputs": []
    },
    {
      "cell_type": "code",
      "source": [
        "validate_simulator.input['age']=df_bank.head(1).age[0]#58\n",
        "validate_simulator.input['balance']=df_bank.head(1).balance[0]#\n",
        "validate_simulator.input['loan']=randomBetweenLoan(df_bank.head(1).loan[0])\n",
        "validate_simulator.input['previous']=df_bank.head(1).previous[0]\n",
        "validate_simulator.input['marital']=randomBetweenMarital(df_bank.head(1).marital[0])\n",
        "validate_simulator.input['education']=randomBetweenEducation(df_bank.head(1).education[0])"
      ],
      "metadata": {
        "id": "EmpvVORUOqdf"
      },
      "execution_count": 53,
      "outputs": []
    },
    {
      "cell_type": "code",
      "source": [
        "validate_simulator.input['age']=58\n",
        "validate_simulator.input['balance']=2143\n",
        "validate_simulator.input['loan']=0.3\n",
        "validate_simulator.input['previous']=0\n",
        "validate_simulator.input['marital']=1.7\n",
        "validate_simulator.input['education']=3.8"
      ],
      "metadata": {
        "id": "t2IXQzEoYlOq"
      },
      "execution_count": 51,
      "outputs": []
    },
    {
      "cell_type": "markdown",
      "source": [
        "Revisamos el resultado del algoritmo Fuzzy"
      ],
      "metadata": {
        "id": "m3Trr7f_XkxG"
      }
    },
    {
      "cell_type": "code",
      "source": [
        "validate_simulator.compute()\n",
        "print(validate_simulator.output['y'])"
      ],
      "metadata": {
        "colab": {
          "base_uri": "https://localhost:8080/"
        },
        "id": "6vDDw-TEVwMH",
        "outputId": "cd342515-9992-45f8-b21c-74fdc7bcbd16"
      },
      "execution_count": 54,
      "outputs": [
        {
          "output_type": "stream",
          "name": "stdout",
          "text": [
            "0.45000000000000007\n"
          ]
        }
      ]
    },
    {
      "cell_type": "markdown",
      "source": [
        "Graficamos el resultado"
      ],
      "metadata": {
        "id": "sD-p7igfay4l"
      }
    },
    {
      "cell_type": "code",
      "source": [
        "age.view(sim=validate_simulator)\n",
        "previous.view(sim=validate_simulator)\n",
        "balance.view(sim=validate_simulator)\n",
        "marital.view(sim=validate_simulator)\n",
        "loan.view(sim=validate_simulator)\n",
        "education.view(sim=validate_simulator)\n"
      ],
      "metadata": {
        "colab": {
          "base_uri": "https://localhost:8080/",
          "height": 1000
        },
        "id": "MFfc3WB4a0w-",
        "outputId": "8f5dc3c2-c09d-42c0-9178-0d62b082e794"
      },
      "execution_count": 55,
      "outputs": [
        {
          "output_type": "display_data",
          "data": {
            "text/plain": [
              "<Figure size 432x288 with 1 Axes>"
            ],
            "image/png": "[encoded data removed]"
          },
          "metadata": {
            "needs_background": "light"
          }
        },
        {
          "output_type": "display_data",
          "data": {
            "text/plain": [
              "<Figure size 432x288 with 1 Axes>"
            ],
            "image/png": "[encoded data removed]"
          },
          "metadata": {
            "needs_background": "light"
          }
        },
        {
          "output_type": "display_data",
          "data": {
            "text/plain": [
              "<Figure size 432x288 with 1 Axes>"
            ],
            "image/png": "[encoded data removed]"
          },
          "metadata": {
            "needs_background": "light"
          }
        },
        {
          "output_type": "display_data",
          "data": {
            "text/plain": [
              "<Figure size 432x288 with 1 Axes>"
            ],
            "image/png": "[encoded data removed]"
          },
          "metadata": {
            "needs_background": "light"
          }
        },
        {
          "output_type": "display_data",
          "data": {
            "text/plain": [
              "<Figure size 432x288 with 1 Axes>"
            ],
            "image/png": "[encoded data removed]"
          },
          "metadata": {
            "needs_background": "light"
          }
        },
        {
          "output_type": "display_data",
          "data": {
            "text/plain": [
              "<Figure size 432x288 with 1 Axes>"
            ],
            "image/png": "[encoded data removed]"
          },
          "metadata": {
            "needs_background": "light"
          }
        }
      ]
    },
    {
      "cell_type": "code",
      "source": [
        "y.view(sim=validate_simulator)"
      ],
      "metadata": {
        "colab": {
          "base_uri": "https://localhost:8080/",
          "height": 281
        },
        "id": "NbQOxTJibTU9",
        "outputId": "0ad922ca-4da4-4ac3-f5eb-897cd6ab9b07"
      },
      "execution_count": 56,
      "outputs": [
        {
          "output_type": "display_data",
          "data": {
            "text/plain": [
              "<Figure size 432x288 with 1 Axes>"
            ],
            "image/png": "[encoded data removed]"
          },
          "metadata": {
            "needs_background": "light"
          }
        }
      ]
    },
    {
      "cell_type": "markdown",
      "source": [
        "Ejecutar hasta aqui"
      ],
      "metadata": {
        "id": "A7pZTz4ycBD2"
      }
    },
    {
      "cell_type": "code",
      "source": [
        "error"
      ],
      "metadata": {
        "id": "NTq9H9WfcCjL"
      },
      "execution_count": null,
      "outputs": []
    },
    {
      "cell_type": "markdown",
      "source": [
        "**Variables Nominales**\n",
        "\n",
        "\n",
        "*   Job\n",
        "*   marital\n",
        "*   Default (1 Solo Valor)\n",
        "*   housing (1 Solo Valor)\n",
        "*   loan (1 Solo Valor)\n",
        "*   contact \n",
        "*   poutcome\n",
        "*   y (1 Solo Valor)\n",
        "\n",
        "\n",
        "**Variables Desccartadas**\n",
        "\n",
        "*   duration\t(Varible que tiene una alta relacion con la campaña por lo cual nos puede sobre ajustar el modelo, pues indica tiempo de duracion de la llamada y es 0 cuando no ha sido contacto). \n",
        "\n",
        "**Variables Ordinales**\n",
        "\n",
        "*   education\n",
        "*   month\n",
        "\n",
        "\n",
        "\n"
      ],
      "metadata": {
        "id": "q8JKnGlQRPRq"
      }
    },
    {
      "cell_type": "code",
      "execution_count": null,
      "metadata": {
        "id": "mHNgMyyNgHrP"
      },
      "outputs": [],
      "source": [
        "df_bank.info()"
      ]
    },
    {
      "cell_type": "code",
      "execution_count": null,
      "metadata": {
        "id": "CpHO3jIfgI82"
      },
      "outputs": [],
      "source": [
        "df_bank.month.value_counts()"
      ]
    },
    {
      "cell_type": "code",
      "execution_count": null,
      "metadata": {
        "id": "-hMSsGJ2IEKs"
      },
      "outputs": [],
      "source": [
        "df_bank.campaign.value_counts()"
      ]
    },
    {
      "cell_type": "code",
      "execution_count": null,
      "metadata": {
        "id": "lAKdAZpgKtvO"
      },
      "outputs": [],
      "source": [
        "df_bank.job.value_counts()"
      ]
    },
    {
      "cell_type": "markdown",
      "source": [
        "Creamos Data Frame para preparlo"
      ],
      "metadata": {
        "id": "ijcnKY6qcTE-"
      }
    },
    {
      "cell_type": "code",
      "source": [
        "df_piv=df_bank.copy()"
      ],
      "metadata": {
        "id": "M7-29YipNQQt"
      },
      "execution_count": null,
      "outputs": []
    },
    {
      "cell_type": "markdown",
      "source": [
        "Convertimos varibales nominales "
      ],
      "metadata": {
        "id": "iMq2o-a-cYBx"
      }
    },
    {
      "cell_type": "code",
      "source": [
        "df_piv=pd.get_dummies(df_piv,columns=['job','marital','poutcome'])"
      ],
      "metadata": {
        "id": "b3ZLgcuPOD4F"
      },
      "execution_count": null,
      "outputs": []
    },
    {
      "cell_type": "code",
      "source": [
        "df_piv"
      ],
      "metadata": {
        "id": "_lVQolG7N9T0"
      },
      "execution_count": null,
      "outputs": []
    },
    {
      "cell_type": "code",
      "source": [
        "df_piv=pd.get_dummies(df_piv,columns=['default','housing','loan','contact','y'],drop_first = True)"
      ],
      "metadata": {
        "id": "tY6HyWw2ZRVW"
      },
      "execution_count": null,
      "outputs": []
    },
    {
      "cell_type": "code",
      "source": [
        "df_piv"
      ],
      "metadata": {
        "id": "VhvbdqIoZ02R"
      },
      "execution_count": null,
      "outputs": []
    },
    {
      "cell_type": "code",
      "source": [
        "df_bank.columns"
      ],
      "metadata": {
        "id": "Edzi7v3tOUlr"
      },
      "execution_count": null,
      "outputs": []
    },
    {
      "cell_type": "code",
      "source": [
        "df_piv.columns"
      ],
      "metadata": {
        "id": "VUQ_mg7lOZaQ"
      },
      "execution_count": null,
      "outputs": []
    },
    {
      "cell_type": "code",
      "source": [
        "df_piv[['y_yes']].value_counts()"
      ],
      "metadata": {
        "id": "eHFqj1EAO1oO"
      },
      "execution_count": null,
      "outputs": []
    },
    {
      "cell_type": "code",
      "source": [
        "df_piv.info()"
      ],
      "metadata": {
        "id": "f_e5tfndO5_K"
      },
      "execution_count": null,
      "outputs": []
    },
    {
      "cell_type": "markdown",
      "source": [
        "Eliminamos columna duration"
      ],
      "metadata": {
        "id": "Xwr6tjjJbuvL"
      }
    },
    {
      "cell_type": "code",
      "source": [
        "df_piv.drop(['duration'],axis=1,inplace=True)"
      ],
      "metadata": {
        "id": "l93IUiDlb9ww"
      },
      "execution_count": null,
      "outputs": []
    },
    {
      "cell_type": "code",
      "source": [
        "df_piv.info()"
      ],
      "metadata": {
        "id": "rkXo5yJwcIu-"
      },
      "execution_count": null,
      "outputs": []
    },
    {
      "cell_type": "markdown",
      "source": [
        "Convertimos variables Ordinales"
      ],
      "metadata": {
        "id": "LihgYIn_ch7_"
      }
    },
    {
      "cell_type": "code",
      "source": [
        "df_bank.education.value_counts()"
      ],
      "metadata": {
        "id": "bMu7owM9dODQ"
      },
      "execution_count": null,
      "outputs": []
    },
    {
      "cell_type": "code",
      "source": [
        "df_piv.education"
      ],
      "metadata": {
        "id": "Nsjpna8ReC5V"
      },
      "execution_count": null,
      "outputs": []
    },
    {
      "cell_type": "code",
      "source": [
        "# Variable education \n",
        "education_orden=OrdinalEncoder(categories=[[\"unknown\",\"primary\",\"secondary\",\"tertiary\"]])\n",
        "#Train la conversion\n",
        "education_orden.fit(df_piv[['education']])\n",
        "#Agregar variable convertida\n",
        "df_piv['education_orden']=education_orden.transform(df_piv[['education']])"
      ],
      "metadata": {
        "id": "Rf96bXvuPefw"
      },
      "execution_count": null,
      "outputs": []
    },
    {
      "cell_type": "code",
      "source": [
        "df_piv.columns"
      ],
      "metadata": {
        "id": "5Dp_s18EeRBG"
      },
      "execution_count": null,
      "outputs": []
    },
    {
      "cell_type": "code",
      "source": [
        "df_piv[['education','education_orden']].head(10)"
      ],
      "metadata": {
        "id": "lMGYQxkUeopA"
      },
      "execution_count": null,
      "outputs": []
    },
    {
      "cell_type": "code",
      "source": [
        "df_bank.month.value_counts()"
      ],
      "metadata": {
        "id": "-1rGGcf3fBM3"
      },
      "execution_count": null,
      "outputs": []
    },
    {
      "cell_type": "code",
      "source": [
        "# Variable Month \n",
        "month_orden=OrdinalEncoder(categories=[[\"jan\",\"feb\",\"mar\",\"apr\",\"may\",\"jun\",\"jul\",\"aug\",\"sep\",\"oct\",\"nov\",\"dec\"]])\n",
        "#Train la conversion\n",
        "month_orden.fit(df_piv[['month']])\n",
        "#Agregar variable convertida\n",
        "df_piv['month_orden']=month_orden.transform(df_piv[['month']])"
      ],
      "metadata": {
        "id": "aM9QfLYce84h"
      },
      "execution_count": null,
      "outputs": []
    },
    {
      "cell_type": "code",
      "source": [
        "df_piv.columns"
      ],
      "metadata": {
        "id": "Iv5Bm7HdfnQX"
      },
      "execution_count": null,
      "outputs": []
    },
    {
      "cell_type": "code",
      "source": [
        "df_piv[['month','month_orden']].head(10)"
      ],
      "metadata": {
        "id": "Anpq2YUFfrPP"
      },
      "execution_count": null,
      "outputs": []
    },
    {
      "cell_type": "markdown",
      "source": [
        "borramos variables ordinales puras"
      ],
      "metadata": {
        "id": "c65vimO2f2cQ"
      }
    },
    {
      "cell_type": "code",
      "source": [
        "df_piv.drop(['month','education'],axis=1,inplace=True)"
      ],
      "metadata": {
        "id": "Ybey9CGNf5Kc"
      },
      "execution_count": null,
      "outputs": []
    },
    {
      "cell_type": "code",
      "source": [
        "df_piv.columns"
      ],
      "metadata": {
        "id": "dpi8HF1DgDEs"
      },
      "execution_count": null,
      "outputs": []
    },
    {
      "cell_type": "code",
      "source": [
        "df_bank.job.value_counts()"
      ],
      "metadata": {
        "id": "lWfZPHPWgnet"
      },
      "execution_count": null,
      "outputs": []
    },
    {
      "cell_type": "code",
      "source": [
        "df_piv[['y_yes']]"
      ],
      "metadata": {
        "id": "TB6pcPIWgevL"
      },
      "execution_count": null,
      "outputs": []
    },
    {
      "cell_type": "code",
      "source": [
        "df_piv.head(3)"
      ],
      "metadata": {
        "id": "sjjUgJ4SgE-r"
      },
      "execution_count": null,
      "outputs": []
    },
    {
      "cell_type": "markdown",
      "source": [
        "Entrenamiento de red neuronal\n",
        "\n",
        "> Bloc con sangría\n",
        "\n"
      ],
      "metadata": {
        "id": "YxyY1rBuiF3h"
      }
    },
    {
      "cell_type": "code",
      "source": [
        "from sklearn.metrics import confusion_matrix\n",
        "from tabulate import tabulate\n",
        "from sklearn.neural_network import MLPClassifier\n",
        "from sklearn.preprocessing import StandardScaler\n",
        "from sklearn.model_selection import train_test_split\n",
        "from sklearn.metrics import recall_score\n",
        "from sklearn import metrics"
      ],
      "metadata": {
        "id": "msEFWglhiKiq"
      },
      "execution_count": null,
      "outputs": []
    },
    {
      "cell_type": "code",
      "source": [
        "df_piv_no_classes = df_piv.drop(columns='y_yes').copy()\n",
        "df_piv_no_classes.head()"
      ],
      "metadata": {
        "id": "gnkpTdYBjBJ-"
      },
      "execution_count": null,
      "outputs": []
    },
    {
      "cell_type": "code",
      "source": [
        "df_piv_no_classes.columns"
      ],
      "metadata": {
        "id": "Nv9CSG6ujYP7"
      },
      "execution_count": null,
      "outputs": []
    },
    {
      "cell_type": "code",
      "source": [
        "a=df_piv.hist(figsize=(20, 15))"
      ],
      "metadata": {
        "id": "oVfRWgBCjfeF"
      },
      "execution_count": null,
      "outputs": []
    },
    {
      "cell_type": "code",
      "source": [
        "#d = pd.plotting.scatter_matrix(df_piv, c=df_piv.y_yes, cmap='Set1', figsize=(15, 15))"
      ],
      "metadata": {
        "id": "xyCrVslajzRe"
      },
      "execution_count": null,
      "outputs": []
    },
    {
      "cell_type": "markdown",
      "source": [
        "Creamos la variable etiqueta"
      ],
      "metadata": {
        "id": "30FyITPckgzH"
      }
    },
    {
      "cell_type": "code",
      "source": [
        "y = df_piv[['y_yes']].values[:,0]\n",
        "y.shape"
      ],
      "metadata": {
        "id": "Xxahl8YfkgHM"
      },
      "execution_count": null,
      "outputs": []
    },
    {
      "cell_type": "code",
      "source": [
        "y[0:2]"
      ],
      "metadata": {
        "id": "HT4oI8mhB9zg"
      },
      "execution_count": null,
      "outputs": []
    },
    {
      "cell_type": "code",
      "source": [
        "y"
      ],
      "metadata": {
        "id": "lOWVE4yskpmS"
      },
      "execution_count": null,
      "outputs": []
    },
    {
      "cell_type": "code",
      "source": [
        "x=df_piv_no_classes.values\n",
        "x.shape"
      ],
      "metadata": {
        "id": "nBcnCcxNlz4E"
      },
      "execution_count": null,
      "outputs": []
    },
    {
      "cell_type": "code",
      "source": [
        "x[0]"
      ],
      "metadata": {
        "id": "LzR3Sk0KmUI8"
      },
      "execution_count": null,
      "outputs": []
    },
    {
      "cell_type": "code",
      "source": [
        "df_piv_no_classes.head(1)"
      ],
      "metadata": {
        "id": "BrvzACQAmksB"
      },
      "execution_count": null,
      "outputs": []
    },
    {
      "cell_type": "code",
      "source": [
        "x[0]"
      ],
      "metadata": {
        "id": "WnH_0zy3mOJX"
      },
      "execution_count": null,
      "outputs": []
    },
    {
      "cell_type": "code",
      "source": [
        "np.mean(x)"
      ],
      "metadata": {
        "id": "mpkM8WQGm2cg"
      },
      "execution_count": null,
      "outputs": []
    },
    {
      "cell_type": "code",
      "source": [
        "np.std(x)"
      ],
      "metadata": {
        "id": "QGC-iYnZm4p_"
      },
      "execution_count": null,
      "outputs": []
    },
    {
      "cell_type": "code",
      "source": [
        "class_names = ['no','yes']"
      ],
      "metadata": {
        "id": "PxOHSQFaMUMa"
      },
      "execution_count": null,
      "outputs": []
    },
    {
      "cell_type": "markdown",
      "source": [
        "**Tratando el desbalanceo**"
      ],
      "metadata": {
        "id": "y7SEAO9tLUfC"
      }
    },
    {
      "cell_type": "code",
      "source": [
        "from imblearn.combine import SMOTETomek\n",
        "from imblearn.ensemble import BalancedBaggingClassifier\n",
        "from collections import Counter"
      ],
      "metadata": {
        "id": "ADxnQy9dy8ye"
      },
      "execution_count": null,
      "outputs": []
    },
    {
      "cell_type": "markdown",
      "source": [
        "Combinamos resampling con Smote-Tomek"
      ],
      "metadata": {
        "id": "ue4tVL1eAB6k"
      }
    },
    {
      "cell_type": "code",
      "source": [
        "smote_tomek = SMOTETomek(random_state=12)\n",
        "X_train_smt, y_train_smt = smote_tomek.fit_resample(x,y)\n",
        " \n",
        "print (\"Distribucion Original {}\".format(Counter(y)))\n",
        "print (\"Distribution despues smote-Tomek {}\".format(Counter(y_train_smt)))"
      ],
      "metadata": {
        "id": "lhMeURajAJI_"
      },
      "execution_count": null,
      "outputs": []
    },
    {
      "cell_type": "code",
      "source": [
        "X_trainPF, X_testPF, y_trainPF, y_testPF = train_test_split(X_train_smt, y_train_smt, test_size=0.3, random_state=1, stratify=y_train_smt)\n",
        "pl.hist(y_trainPF, label=\"Train\")\n",
        "pl.hist(y_testPF, label=\"Test\")\n",
        "pl.legend()\n",
        "pl.title(\"Distribucion\")\n",
        "pl.show()"
      ],
      "metadata": {
        "id": "ugLHmb44COYx"
      },
      "execution_count": null,
      "outputs": []
    },
    {
      "cell_type": "markdown",
      "source": [
        "**Modelo  con redes Neuronales**"
      ],
      "metadata": {
        "id": "EemcmgFsCp5s"
      }
    },
    {
      "cell_type": "code",
      "source": [
        "mlp_PRO_FLA = MLPClassifier(solver='lbfgs', max_iter=200,random_state=1,hidden_layer_sizes=(2,1))\n",
        "mlp_PRO_FLA.fit(X_trainPF, y_trainPF)\n",
        "prediction_testAM = mlp_PRO_FLA.predict(X_testPF)\n",
        "cnf_matrixAM = confusion_matrix(y_testPF, prediction_testAM)\n",
        "list_cm(cnf_matrixAM,class_names)\n",
        "print('SCORE entrenamiento: {}'.format(mlp_PRO_FLA.score(X_trainPF, y_trainPF)))\n",
        "print('Error en entrenamiento: {}'.format(1-mlp_PRO_FLA.score(X_trainPF, y_trainPF)))\n",
        "print('SCORE prueba: {}'.format(mlp_PRO_FLA.score(X_testPF, y_testPF)))\n",
        "print('Error en prueba: {}'.format(1-mlp_PRO_FLA.score(X_testPF, y_testPF)))\n",
        "sensibilidad=recall_score(y_testPF,prediction_testAM)\n",
        "print(\"Sensibilidad: {}\".format(sensibilidad))"
      ],
      "metadata": {
        "id": "vT1FqparCrTY"
      },
      "execution_count": null,
      "outputs": []
    },
    {
      "cell_type": "markdown",
      "source": [
        "**Estandarizacion de datos**"
      ],
      "metadata": {
        "id": "QRU_4x0YDUJs"
      }
    },
    {
      "cell_type": "code",
      "source": [
        "x.shape"
      ],
      "metadata": {
        "id": "Y2Hl6gYjDWw0"
      },
      "execution_count": null,
      "outputs": []
    },
    {
      "cell_type": "markdown",
      "source": [
        "Datos sin estandarizar"
      ],
      "metadata": {
        "id": "WMb8LLe9RSkm"
      }
    },
    {
      "cell_type": "code",
      "source": [
        "print(np.mean(X_train_smt)) \n",
        "print(np.std(X_train_smt))"
      ],
      "metadata": {
        "id": "1gm9r9daRXHA"
      },
      "execution_count": null,
      "outputs": []
    },
    {
      "cell_type": "markdown",
      "source": [
        "Datos estandarizados"
      ],
      "metadata": {
        "id": "Sgq7sn1kRbyj"
      }
    },
    {
      "cell_type": "code",
      "source": [
        "from sklearn.preprocessing import StandardScaler\n",
        "sc_x = StandardScaler()\n",
        "sc_x.fit(X_train_smt)\n",
        "X_scaler = sc_x.transform(X_train_smt)\n",
        "print(np.mean(X_scaler)) \n",
        "print(np.std(X_scaler))"
      ],
      "metadata": {
        "id": "C4gcj8FQQMi6"
      },
      "execution_count": null,
      "outputs": []
    },
    {
      "cell_type": "code",
      "source": [
        "X_trainPF, X_testPF, y_trainPF, y_testPF = train_test_split(X_scaler, y_train_smt, test_size=0.3, random_state=123, stratify=y_train_smt)\n",
        "pl.hist(y_trainPF, label=\"Train\")\n",
        "pl.hist(y_testPF, label=\"Test\")\n",
        "pl.legend()\n",
        "pl.title(\"Distribucion\")\n",
        "pl.show()"
      ],
      "metadata": {
        "id": "VYJWICwhRKxw"
      },
      "execution_count": null,
      "outputs": []
    },
    {
      "cell_type": "markdown",
      "source": [
        "Modelo"
      ],
      "metadata": {
        "id": "fCKord-mR4QO"
      }
    },
    {
      "cell_type": "code",
      "source": [
        "mlp_PRO_FLA = MLPClassifier(solver='lbfgs', max_iter=200,random_state=1,hidden_layer_sizes=(2,1))\n",
        "mlp_PRO_FLA.fit(X_trainPF, y_trainPF)\n",
        "prediction_testAM = mlp_PRO_FLA.predict(X_testPF)\n",
        "cnf_matrixAM = confusion_matrix(y_testPF, prediction_testAM)\n",
        "list_cm(cnf_matrixAM,class_names)\n",
        "print('SCORE entrenamiento: {}'.format(mlp_PRO_FLA.score(X_trainPF, y_trainPF)))\n",
        "print('Error en entrenamiento: {}'.format(1-mlp_PRO_FLA.score(X_trainPF, y_trainPF)))\n",
        "print('SCORE prueba: {}'.format(mlp_PRO_FLA.score(X_testPF, y_testPF)))\n",
        "print('Error en prueba: {}'.format(1-mlp_PRO_FLA.score(X_testPF, y_testPF)))\n",
        "sensibilidad=recall_score(y_testPF,prediction_testAM)\n",
        "print(\"Sensibilidad: {}\".format(sensibilidad))"
      ],
      "metadata": {
        "id": "ORbuIWkMR9Gz"
      },
      "execution_count": null,
      "outputs": []
    },
    {
      "cell_type": "markdown",
      "source": [
        "Importnacia de variables"
      ],
      "metadata": {
        "id": "eo2bUrncrxcf"
      }
    },
    {
      "cell_type": "code",
      "source": [
        "from sklearn.ensemble import RandomForestClassifier"
      ],
      "metadata": {
        "id": "osISjth0NuJN"
      },
      "execution_count": null,
      "outputs": []
    },
    {
      "cell_type": "code",
      "source": [
        "clf = RandomForestClassifier(n_estimators=128, max_features=.4)\n",
        "clf.fit(X_trainPF, y_trainPF);"
      ],
      "metadata": {
        "id": "wqaP-6ktrz9S"
      },
      "execution_count": null,
      "outputs": []
    },
    {
      "cell_type": "code",
      "source": [
        "prediction_testAM = clf.predict(X_testPF)\n",
        "cnf_matrixAM = confusion_matrix(y_testPF, prediction_testAM)\n",
        "list_cm(cnf_matrixAM,class_names)\n",
        "print('SCORE entrenamiento: {}'.format(clf.score(X_trainPF, y_trainPF)))\n",
        "print('Error en entrenamiento: {}'.format(1-clf.score(X_trainPF, y_trainPF)))\n",
        "print('SCORE prueba: {}'.format(clf.score(X_testPF, y_testPF)))\n",
        "print('Error en prueba: {}'.format(1-clf.score(X_testPF, y_testPF)))\n",
        "sensibilidad=recall_score(y_testPF,prediction_testAM)\n",
        "print(\"Sensibilidad: {}\".format(sensibilidad))"
      ],
      "metadata": {
        "id": "shrqKAtP1kmv"
      },
      "execution_count": null,
      "outputs": []
    },
    {
      "cell_type": "code",
      "source": [
        "clf.feature_importances_"
      ],
      "metadata": {
        "id": "xMQQi2d6r6HN"
      },
      "execution_count": null,
      "outputs": []
    },
    {
      "cell_type": "code",
      "source": [
        "importances = clf.feature_importances_\n",
        "indices = np.argsort(importances)[::-1]\n",
        "\n",
        "print(\"Importancia de características:\")\n",
        "\n",
        "for f in range(X_trainPF.shape[1]):\n",
        "    print(\"Característica %s (%f)\" % (df_piv_no_classes.columns[int(indices[f])], importances[indices[f]]))"
      ],
      "metadata": {
        "id": "rro4HizAr-bi"
      },
      "execution_count": null,
      "outputs": []
    },
    {
      "cell_type": "code",
      "source": [
        "plt.figure(figsize=(20,5))\n",
        "plt.title(\"Importancia de las características\")\n",
        "plt.bar(range(X_trainPF.shape[1]), importances[indices],\n",
        "       color=\"r\", align=\"center\")\n",
        "xticks_labels = [df_piv_no_classes.columns[i] for i in indices]\n",
        "plt.xticks(range(X_scaler.shape[1]), xticks_labels, rotation=45)\n",
        "plt.xlim([-1, df_piv_no_classes.shape[1]])\n",
        "plt.show()"
      ],
      "metadata": {
        "id": "GFsU7o4Xst5c"
      },
      "execution_count": null,
      "outputs": []
    },
    {
      "cell_type": "markdown",
      "source": [
        "**Uso de algoritmo Genetico**"
      ],
      "metadata": {
        "id": "L7l_JbYPPnRk"
      }
    },
    {
      "cell_type": "markdown",
      "source": [
        "Instalacion de libreria"
      ],
      "metadata": {
        "id": "_lC0rSRRP4iI"
      }
    },
    {
      "cell_type": "code",
      "source": [
        "!pip install pygad"
      ],
      "metadata": {
        "id": "4vzBhI-aQzmh"
      },
      "execution_count": null,
      "outputs": []
    },
    {
      "cell_type": "code",
      "source": [
        "import pygad\n",
        "import pygad.nn\n",
        "import pygad.gann\n",
        "print(pygad.__version__)"
      ],
      "metadata": {
        "id": "PUUgPmfUPrun"
      },
      "execution_count": null,
      "outputs": []
    },
    {
      "cell_type": "code",
      "source": [
        "X_trainPF, X_testPF, y_trainPF, y_testPF = train_test_split(X_scaler, y_train_smt, test_size=0.3, random_state=123, stratify=y_train_smt)\n",
        "pl.hist(y_trainPF, label=\"Train\")\n",
        "pl.hist(y_testPF, label=\"Test\")\n",
        "pl.legend()\n",
        "pl.title(\"Distribucion\")\n",
        "pl.show()"
      ],
      "metadata": {
        "id": "xE8bPfrtjAHl"
      },
      "execution_count": null,
      "outputs": []
    },
    {
      "cell_type": "code",
      "source": [
        "num_inputs = X_scaler.shape[1]\n",
        "num_classes = 2\n",
        "num_solutions = 20"
      ],
      "metadata": {
        "id": "NpfK66OsSESt"
      },
      "execution_count": null,
      "outputs": []
    },
    {
      "cell_type": "code",
      "source": [
        "GANN_instance = pygad.gann.GANN(num_solutions=num_solutions,\n",
        "                                num_neurons_input=32,\n",
        "                                num_neurons_hidden_layers=[2],\n",
        "                                num_neurons_output=num_classes,\n",
        "                                hidden_activations=[\"relu\"],\n",
        "                                output_activation=\"softmax\")"
      ],
      "metadata": {
        "id": "fxQ8p3InSNlN"
      },
      "execution_count": null,
      "outputs": []
    },
    {
      "cell_type": "code",
      "source": [
        "def fitness_func(solution, sol_idx):\n",
        "    print(\"----------------inicio --------------------------------------------------\")\n",
        "    global GANN_instance,best_solution_fitness,best_solution,best_sensibility,cnf_matrixAM\n",
        "    print(\"solution\"+str(solution))\n",
        "    result = np.where(solution == 0)\n",
        "    x_train=X_trainPF.copy()\n",
        "    x_train=np.delete(x_train, result,axis=1)\n",
        "    x_test=X_testPF.copy()\n",
        "    x_test=np.delete(x_test, result,axis=1)\n",
        "    GANN_instance = pygad.gann.GANN(num_solutions=300,\n",
        "                                num_neurons_input=x_train.shape[1],\n",
        "                                num_neurons_hidden_layers=[2],\n",
        "                                num_neurons_output=2,\n",
        "                                hidden_activations=[\"relu\"],\n",
        "                                output_activation=\"softmax\")\n",
        "    train=pygad.nn.train(last_layer=GANN_instance.population_networks[sol_idx],data_inputs=x_train,\n",
        "                         data_outputs=y_trainPF,num_epochs=4)\n",
        "    predictions = pygad.nn.predict(last_layer=GANN_instance.population_networks[sol_idx],data_inputs=x_test)\n",
        "    solution_fitness=metrics.accuracy_score(y_testPF,predictions)\n",
        "    sensibilidad=recall_score(y_testPF,predictions)\n",
        "    if(best_solution_fitness!=0):\n",
        "      if(best_solution_fitness<solution_fitness):\n",
        "        best_solution_fitness=solution_fitness\n",
        "        best_solution=solution\n",
        "        best_sensibility=sensibilidad\n",
        "        cnf_matrixAM = confusion_matrix(y_testPF, predictions)\n",
        "    else:\n",
        "       best_solution_fitness=solution_fitness\n",
        "        best_solution=solution\n",
        "        best_sensibility=sensibilidad\n",
        "        cnf_matrixAM = confusion_matrix(y_testPF, predictions)\n",
        "    print(\"SCORE: {}\".format(solution_fitness))\n",
        "    print(\"Sensibilidad: {}\".format(sensibilidad))\n",
        "    print(\"----------------Fin --------------------------------------------------\")\n",
        "    return solution_fitness"
      ],
      "metadata": {
        "id": "wNpU-Mb4UOpE"
      },
      "execution_count": null,
      "outputs": []
    },
    {
      "cell_type": "code",
      "source": [
        "a=np.ones(64,int)\n",
        "a[31]=1\n",
        "a[63]=1"
      ],
      "metadata": {
        "id": "se2PL2CWgvDK"
      },
      "execution_count": null,
      "outputs": []
    },
    {
      "cell_type": "code",
      "source": [
        "a.reshape(2,32).shape"
      ],
      "metadata": {
        "id": "bNrp7-0Kl5FO"
      },
      "execution_count": null,
      "outputs": []
    },
    {
      "cell_type": "code",
      "source": [
        "a.reshape(2,32)"
      ],
      "metadata": {
        "id": "GYP0BnRVc44H"
      },
      "execution_count": null,
      "outputs": []
    },
    {
      "cell_type": "code",
      "source": [
        "num_parents_mating = 2\n",
        "num_generations = 20\n",
        "mutation_percent_genes = 40\n",
        "parent_selection_type = \"rank\"\n",
        "crossover_type = \"uniform\"\n",
        "mutation_type = \"random\" \n",
        "keep_parents = 1\n",
        "init_range_low = -2\n",
        "init_range_high = 5"
      ],
      "metadata": {
        "id": "WAE2Ou1-Ubo1"
      },
      "execution_count": null,
      "outputs": []
    },
    {
      "cell_type": "code",
      "source": [
        "ga_instance = pygad.GA(num_generations=num_generations, \n",
        "                       mutation_num_genes=20,\n",
        "                       num_parents_mating=num_parents_mating, \n",
        "                       initial_population=a.reshape(2,32),\n",
        "                       fitness_func=fitness_func,\n",
        "                       gene_type=int,\n",
        "                       gene_space=[0,1],\n",
        "                       mutation_percent_genes=mutation_percent_genes,\n",
        "                       init_range_low=init_range_low,\n",
        "                       init_range_high=init_range_high,\n",
        "                       parent_selection_type=parent_selection_type,\n",
        "                       crossover_type=crossover_type,\n",
        "                       mutation_type=mutation_type,\n",
        "                       keep_parents=keep_parents,\n",
        "                       save_solutions=True)"
      ],
      "metadata": {
        "id": "dDGvWk3mUwcm"
      },
      "execution_count": null,
      "outputs": []
    },
    {
      "cell_type": "code",
      "source": [
        "best_solution=0\n",
        "best_solution_fitness=0\n",
        "best_sensibility=0\n",
        "cnf_matrixAM=0\n",
        "prediction_testAM=0\n",
        "ga_instance.run()"
      ],
      "metadata": {
        "id": "Q9c75-D3VwTl"
      },
      "execution_count": null,
      "outputs": []
    },
    {
      "cell_type": "code",
      "source": [
        "def scoring_PG():\n",
        "  global best_solution_fitness,best_solution,best_sensibility,cnf_matrixAM\n",
        "  print(\"best_fitness:\"+str(best_solution_fitness))\n",
        "  print(\"\\n\")\n",
        "  print(\"best_sensibility:\"+str(best_sensibility))\n",
        "  print(\"\\n\")\n",
        "  print(\"best_solution \"+str(best_solution))\n",
        "  print(\"\\n\")\n",
        "  result = np.where(best_solution == 1)\n",
        "  print(\"Columns: \"+str(df_piv_no_classes.columns[result]))\n",
        "  print(\"\\n\")\n",
        "  list_cm(cnf_matrixAM,class_names)\n",
        "scoring_PG()"
      ],
      "metadata": {
        "id": "u8tqS3jhZ__o"
      },
      "execution_count": null,
      "outputs": []
    },
    {
      "cell_type": "code",
      "source": [
        "ga_instance.plot_fitness()"
      ],
      "metadata": {
        "id": "AHtHzOMXWCsW"
      },
      "execution_count": null,
      "outputs": []
    },
    {
      "cell_type": "code",
      "source": [
        "ga_instance.plot_genes()"
      ],
      "metadata": {
        "id": "4IsxPsurXSP8"
      },
      "execution_count": null,
      "outputs": []
    },
    {
      "cell_type": "markdown",
      "source": [
        "# **Curva AUC**"
      ],
      "metadata": {
        "id": "9ccfDWFlgLFA"
      }
    },
    {
      "cell_type": "code",
      "source": [
        "from sklearn.metrics import roc_curve\n",
        "from sklearn.metrics import roc_auc_score"
      ],
      "metadata": {
        "id": "zeh51XbQh5mk"
      },
      "execution_count": null,
      "outputs": []
    },
    {
      "cell_type": "code",
      "source": [
        "global prediction_testAM\n",
        "auc = roc_auc_score(y_testPF,prediction_testAM)\n",
        "text=\"ROC AUC=%.3f\"% (auc)\n",
        "print(text)\n",
        "print('Red Neuronal: ROC AUC=%.3f' % (auc))"
      ],
      "metadata": {
        "id": "1norDXHtlm8W"
      },
      "execution_count": null,
      "outputs": []
    },
    {
      "cell_type": "code",
      "source": [
        "def plot_roc_curve(fper, tper,auc):\n",
        "    plt.plot(fper, tper, color='red', label='ROC',)\n",
        "    plt.plot([0, 1], [0, 1], color='green', linestyle='--')\n",
        "    plt.xlabel('Falsos Positivos')\n",
        "    plt.ylabel('Verdaderos Positivos')\n",
        "    plt.title('Curva ROC')\n",
        "    plt.text(0.45, 0.8, auc, fontsize=9, color='red')\n",
        "    plt.show()"
      ],
      "metadata": {
        "id": "oFFhGDmCj8eu"
      },
      "execution_count": null,
      "outputs": []
    },
    {
      "cell_type": "code",
      "source": [
        "global prediction_testAM\n",
        "fper, tper, thresholds = roc_curve(y_testPF,prediction_testAM)\n",
        "plot_roc_curve(fper, tper,text)"
      ],
      "metadata": {
        "id": "hQYNwuPUkfyH"
      },
      "execution_count": null,
      "outputs": []
    }
  ],
  "metadata": {
    "colab": {
      "collapsed_sections": [],
      "name": "Proyecto_Final_Sistemas_Inteligentes_Fuzzy.ipynb",
      "provenance": [],
      "include_colab_link": true
    },
    "kernelspec": {
      "display_name": "Python 3",
      "name": "python3"
    },
    "language_info": {
      "name": "python"
    }
  },
  "nbformat": 4,
  "nbformat_minor": 0
}