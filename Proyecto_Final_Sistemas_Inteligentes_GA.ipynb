{
  "cells": [
    {
      "cell_type": "markdown",
      "metadata": {
        "id": "view-in-github",
        "colab_type": "text"
      },
      "source": [
        "<a href=\"https://colab.research.google.com/github/leonardo-91/sistemas-inteligentes/blob/main/Proyecto_Final_Sistemas_Inteligentes_GA.ipynb\" target=\"_parent\"><img src=\"https://colab.research.google.com/assets/colab-badge.svg\" alt=\"Open In Colab\"/></a>"
      ]
    },
    {
      "cell_type": "markdown",
      "metadata": {
        "id": "qpRXucXyd1Zk"
      },
      "source": [
        "**Pontifica Universidad Javeriana**\n",
        "\n",
        "Sistemas Inteligentes\n",
        "\n",
        "\n",
        "---\n",
        "\n",
        "\n",
        "\n",
        "**Grupo:**\n",
        "\n",
        "1.   Edison Leonardo Neira Espitia\n",
        "2.   Sergio Rairan\n",
        "3.   Sebastian Herrara\n",
        "\n",
        "\n",
        "\n",
        "\n",
        "---\n",
        "\n",
        "\n",
        "\n"
      ]
    },
    {
      "cell_type": "markdown",
      "metadata": {
        "id": "v2-nvPW_gxoS"
      },
      "source": [
        "# **Sistema inteligente para la segmentación de clientes con el fin de potencializar y optimizar la conversión de la campaña deposito financiero**\n",
        "\n",
        "\n",
        "\n",
        "---\n",
        "\n"
      ]
    },
    {
      "cell_type": "markdown",
      "metadata": {
        "id": "yZu8-o2ldNHw"
      },
      "source": [
        "# **Contexto**\n",
        "\n",
        "Una institución bancaria portuguesa, propone a través de una campaña de marketing basada en llamadas telefónica, predecir si un usuario se suscribirá a un depósito a plazos. De cada usuario intentan saber atributos como el trabajo actual, el nivel de educación, el incumplimiento financiero, etc. Actualmente, la institución realiza las llamadas sin clasificar ni priorizar clientes, como consecuencia se tiene un tiempo elevado en la labor e incomodidad en clientes que no cumplan con el perfil.\n",
        "\n"
      ]
    },
    {
      "cell_type": "markdown",
      "metadata": {
        "id": "Vc3Y0Wr8dhd5"
      },
      "source": [
        "## **Objetivo**\n",
        "\n",
        "Aumentar el número de clientes que se suscriben y al mismo tiempo eficientar la operación de la campaña de depósito financiero (CDT) a partir de estrategias orientadas a la conversión de usuarios usando cuatro técnicas de IA utilizando datos de los años 2012 - 2014 con un nivel mínimo de precisión del 80% de conversión, buscando ampliar el recaudo financiero para la compañía (Banco), posibilitando el aumento del índice de inversión y por ende el aumento de las utilidades. Esperamos analizar estos cuatro tipos de técnicas de IA por medio de Google Colabs usando Python 3.7 como leguaje de programación, y Scikit-Learn como librería de apoyo para la implementación de los diferentes algoritmos, a su vez usaremos el set de datos públicos de una institución financiera de Portugal que se encuentra alojado en Center of Machine Learning  and Intellignet system (UCI), tenemos como objetivo desarrollar este análisis en el transcurso del curso que se estima será de 3 meses.  \n",
        "\n",
        "\n",
        "\n",
        "---\n",
        "\n"
      ]
    },
    {
      "cell_type": "markdown",
      "metadata": {
        "id": "_HG2zw4VduaW"
      },
      "source": [
        "## **Desarrollo**"
      ]
    },
    {
      "cell_type": "code",
      "execution_count": 1,
      "metadata": {
        "colab": {
          "base_uri": "https://localhost:8080/"
        },
        "id": "iJMa1Sy6dBG1",
        "outputId": "bc7b1eef-4429-45b3-bcae-2f6d46d37554"
      },
      "outputs": [
        {
          "output_type": "stream",
          "name": "stdout",
          "text": [
            "Python 3.7.13\n"
          ]
        }
      ],
      "source": [
        "!python --version"
      ]
    },
    {
      "cell_type": "markdown",
      "source": [
        "Instalamos libreria para tratar el desbalanceo de datos"
      ],
      "metadata": {
        "id": "JwYeXTlTs37p"
      }
    },
    {
      "cell_type": "code",
      "source": [
        "#!pip install imbalanced-learn"
      ],
      "metadata": {
        "id": "1JEpHgD8s7tH"
      },
      "execution_count": 2,
      "outputs": []
    },
    {
      "cell_type": "code",
      "source": [
        "#!pip install -U scikit-learn"
      ],
      "metadata": {
        "id": "n9VmF1p92_zd"
      },
      "execution_count": 3,
      "outputs": []
    },
    {
      "cell_type": "markdown",
      "metadata": {
        "id": "WAUcP30ocuQy"
      },
      "source": [
        "**Librerías**"
      ]
    },
    {
      "cell_type": "code",
      "execution_count": 4,
      "metadata": {
        "id": "muHcCi_Hc3B1"
      },
      "outputs": [],
      "source": [
        "import numpy as np\n",
        "import pandas as pd\n",
        "import pylab as pl\n",
        "from matplotlib import pyplot as plt\n",
        "from sklearn import preprocessing\n",
        "from sklearn.preprocessing import OrdinalEncoder"
      ]
    },
    {
      "cell_type": "markdown",
      "source": [
        "**Matriz de confusión**"
      ],
      "metadata": {
        "id": "GPifpHBPoBO4"
      }
    },
    {
      "cell_type": "code",
      "source": [
        "def list_cm(cm,classes):     #función para generar de una forma más visual la matriz de confusión\n",
        "    if len(cm)==2:\n",
        "      cm.astype(int)\n",
        "      row_0 =['','Valor','Verdadero']\n",
        "      row_1 =['-',classes[0],classes[1]]\n",
        "      row_2 =[classes[0],cm[0,0],cm[1,0]]\n",
        "      row_3 =[classes[1],cm[0,1],cm[1,1]]\n",
        "      table = zip(row_0,row_1, row_2, row_3)\n",
        "      headers = ['', '', 'Valor', 'Predicho']  \n",
        "      return print(tabulate(table, headers=headers, floatfmt=\".0f\"))\n",
        "    else:\n",
        "      cm.astype(int)\n",
        "      row_0 =['','Valor','Verdadero','']\n",
        "      row_1 =['-',classes[0],classes[1],classes[2]]\n",
        "      row_2 =[classes[0],cm[0,0],cm[1,0],cm[2,0]]\n",
        "      row_3 =[classes[1],cm[0,1],cm[1,1],cm[2,1]]\n",
        "      row_4 =[classes[2],cm[0,2],cm[1,2],cm[2,2]]\n",
        "      table = zip(row_0,row_1, row_2, row_3, row_4)\n",
        "      headers = ['', '', 'Valor', 'Predicho', '']  \n",
        "      return print(tabulate(table, headers=headers, floatfmt=\".0f\")) "
      ],
      "metadata": {
        "id": "wrzq9imZoD3J"
      },
      "execution_count": 5,
      "outputs": []
    },
    {
      "cell_type": "markdown",
      "metadata": {
        "id": "VIheO_-Cc-gV"
      },
      "source": [
        "**Cargue de datos**"
      ]
    },
    {
      "cell_type": "code",
      "execution_count": 6,
      "metadata": {
        "colab": {
          "base_uri": "https://localhost:8080/"
        },
        "id": "5Baz1s0HfBIm",
        "outputId": "b75fb7aa-66c2-4898-de87-ffe15d889cfe"
      },
      "outputs": [
        {
          "output_type": "stream",
          "name": "stdout",
          "text": [
            "Mounted at /content/drive\n"
          ]
        }
      ],
      "source": [
        "from google.colab import drive\n",
        "drive.mount('/content/drive')"
      ]
    },
    {
      "cell_type": "code",
      "execution_count": 7,
      "metadata": {
        "id": "cIGZDtK_fHpv"
      },
      "outputs": [],
      "source": [
        "#Ruta leo : \"/content/drive/MyDrive/Maestria IA/Sistemas Inteligentes/Proyecto Final SI/Set de datos/bank-full.csv\"\n",
        "#Ruta Sergio : \"/content/drive/MyDrive/Proyecto Final/Set de datos/bank-full.csv\"\n",
        "#Ruta Sebastián: \"/content/drive/MyDrive/Proyecto Final/Set de datos/bank-full.csv\"\n",
        "\n",
        "df_bank = pd.read_csv(\"/content/drive/MyDrive/Maestria IA/Sistemas Inteligentes/Proyecto Final SI/Set de datos/bank-full.csv\", sep=\";\")"
      ]
    },
    {
      "cell_type": "code",
      "execution_count": 8,
      "metadata": {
        "colab": {
          "base_uri": "https://localhost:8080/",
          "height": 206
        },
        "id": "IzW8uO00fnnJ",
        "outputId": "bec2f316-71d2-4539-c988-7aebd4c73051"
      },
      "outputs": [
        {
          "output_type": "execute_result",
          "data": {
            "text/plain": [
              "   age           job  marital  education default  balance housing loan  \\\n",
              "0   58    management  married   tertiary      no     2143     yes   no   \n",
              "1   44    technician   single  secondary      no       29     yes   no   \n",
              "2   33  entrepreneur  married  secondary      no        2     yes  yes   \n",
              "3   47   blue-collar  married    unknown      no     1506     yes   no   \n",
              "4   33       unknown   single    unknown      no        1      no   no   \n",
              "\n",
              "   contact  day month  duration  campaign  pdays  previous poutcome   y  \n",
              "0  unknown    5   may       261         1     -1         0  unknown  no  \n",
              "1  unknown    5   may       151         1     -1         0  unknown  no  \n",
              "2  unknown    5   may        76         1     -1         0  unknown  no  \n",
              "3  unknown    5   may        92         1     -1         0  unknown  no  \n",
              "4  unknown    5   may       198         1     -1         0  unknown  no  "
            ],
            "text/html": [
              "\n",
              "  <div id=\"df-dbd5dbca-7d84-4f78-88e9-8c4ab65fe7aa\">\n",
              "    <div class=\"colab-df-container\">\n",
              "      <div>\n",
              "<style scoped>\n",
              "    .dataframe tbody tr th:only-of-type {\n",
              "        vertical-align: middle;\n",
              "    }\n",
              "\n",
              "    .dataframe tbody tr th {\n",
              "        vertical-align: top;\n",
              "    }\n",
              "\n",
              "    .dataframe thead th {\n",
              "        text-align: right;\n",
              "    }\n",
              "</style>\n",
              "<table border=\"1\" class=\"dataframe\">\n",
              "  <thead>\n",
              "    <tr style=\"text-align: right;\">\n",
              "      <th></th>\n",
              "      <th>age</th>\n",
              "      <th>job</th>\n",
              "      <th>marital</th>\n",
              "      <th>education</th>\n",
              "      <th>default</th>\n",
              "      <th>balance</th>\n",
              "      <th>housing</th>\n",
              "      <th>loan</th>\n",
              "      <th>contact</th>\n",
              "      <th>day</th>\n",
              "      <th>month</th>\n",
              "      <th>duration</th>\n",
              "      <th>campaign</th>\n",
              "      <th>pdays</th>\n",
              "      <th>previous</th>\n",
              "      <th>poutcome</th>\n",
              "      <th>y</th>\n",
              "    </tr>\n",
              "  </thead>\n",
              "  <tbody>\n",
              "    <tr>\n",
              "      <th>0</th>\n",
              "      <td>58</td>\n",
              "      <td>management</td>\n",
              "      <td>married</td>\n",
              "      <td>tertiary</td>\n",
              "      <td>no</td>\n",
              "      <td>2143</td>\n",
              "      <td>yes</td>\n",
              "      <td>no</td>\n",
              "      <td>unknown</td>\n",
              "      <td>5</td>\n",
              "      <td>may</td>\n",
              "      <td>261</td>\n",
              "      <td>1</td>\n",
              "      <td>-1</td>\n",
              "      <td>0</td>\n",
              "      <td>unknown</td>\n",
              "      <td>no</td>\n",
              "    </tr>\n",
              "    <tr>\n",
              "      <th>1</th>\n",
              "      <td>44</td>\n",
              "      <td>technician</td>\n",
              "      <td>single</td>\n",
              "      <td>secondary</td>\n",
              "      <td>no</td>\n",
              "      <td>29</td>\n",
              "      <td>yes</td>\n",
              "      <td>no</td>\n",
              "      <td>unknown</td>\n",
              "      <td>5</td>\n",
              "      <td>may</td>\n",
              "      <td>151</td>\n",
              "      <td>1</td>\n",
              "      <td>-1</td>\n",
              "      <td>0</td>\n",
              "      <td>unknown</td>\n",
              "      <td>no</td>\n",
              "    </tr>\n",
              "    <tr>\n",
              "      <th>2</th>\n",
              "      <td>33</td>\n",
              "      <td>entrepreneur</td>\n",
              "      <td>married</td>\n",
              "      <td>secondary</td>\n",
              "      <td>no</td>\n",
              "      <td>2</td>\n",
              "      <td>yes</td>\n",
              "      <td>yes</td>\n",
              "      <td>unknown</td>\n",
              "      <td>5</td>\n",
              "      <td>may</td>\n",
              "      <td>76</td>\n",
              "      <td>1</td>\n",
              "      <td>-1</td>\n",
              "      <td>0</td>\n",
              "      <td>unknown</td>\n",
              "      <td>no</td>\n",
              "    </tr>\n",
              "    <tr>\n",
              "      <th>3</th>\n",
              "      <td>47</td>\n",
              "      <td>blue-collar</td>\n",
              "      <td>married</td>\n",
              "      <td>unknown</td>\n",
              "      <td>no</td>\n",
              "      <td>1506</td>\n",
              "      <td>yes</td>\n",
              "      <td>no</td>\n",
              "      <td>unknown</td>\n",
              "      <td>5</td>\n",
              "      <td>may</td>\n",
              "      <td>92</td>\n",
              "      <td>1</td>\n",
              "      <td>-1</td>\n",
              "      <td>0</td>\n",
              "      <td>unknown</td>\n",
              "      <td>no</td>\n",
              "    </tr>\n",
              "    <tr>\n",
              "      <th>4</th>\n",
              "      <td>33</td>\n",
              "      <td>unknown</td>\n",
              "      <td>single</td>\n",
              "      <td>unknown</td>\n",
              "      <td>no</td>\n",
              "      <td>1</td>\n",
              "      <td>no</td>\n",
              "      <td>no</td>\n",
              "      <td>unknown</td>\n",
              "      <td>5</td>\n",
              "      <td>may</td>\n",
              "      <td>198</td>\n",
              "      <td>1</td>\n",
              "      <td>-1</td>\n",
              "      <td>0</td>\n",
              "      <td>unknown</td>\n",
              "      <td>no</td>\n",
              "    </tr>\n",
              "  </tbody>\n",
              "</table>\n",
              "</div>\n",
              "      <button class=\"colab-df-convert\" onclick=\"convertToInteractive('df-dbd5dbca-7d84-4f78-88e9-8c4ab65fe7aa')\"\n",
              "              title=\"Convert this dataframe to an interactive table.\"\n",
              "              style=\"display:none;\">\n",
              "        \n",
              "  <svg xmlns=\"http://www.w3.org/2000/svg\" height=\"24px\"viewBox=\"0 0 24 24\"\n",
              "       width=\"24px\">\n",
              "    <path d=\"M0 0h24v24H0V0z\" fill=\"none\"/>\n",
              "    <path d=\"M18.56 5.44l.94 2.06.94-2.06 2.06-.94-2.06-.94-.94-2.06-.94 2.06-2.06.94zm-11 1L8.5 8.5l.94-2.06 2.06-.94-2.06-.94L8.5 2.5l-.94 2.06-2.06.94zm10 10l.94 2.06.94-2.06 2.06-.94-2.06-.94-.94-2.06-.94 2.06-2.06.94z\"/><path d=\"M17.41 7.96l-1.37-1.37c-.4-.4-.92-.59-1.43-.59-.52 0-1.04.2-1.43.59L10.3 9.45l-7.72 7.72c-.78.78-.78 2.05 0 2.83L4 21.41c.39.39.9.59 1.41.59.51 0 1.02-.2 1.41-.59l7.78-7.78 2.81-2.81c.8-.78.8-2.07 0-2.86zM5.41 20L4 18.59l7.72-7.72 1.47 1.35L5.41 20z\"/>\n",
              "  </svg>\n",
              "      </button>\n",
              "      \n",
              "  <style>\n",
              "    .colab-df-container {\n",
              "      display:flex;\n",
              "      flex-wrap:wrap;\n",
              "      gap: 12px;\n",
              "    }\n",
              "\n",
              "    .colab-df-convert {\n",
              "      background-color: #E8F0FE;\n",
              "      border: none;\n",
              "      border-radius: 50%;\n",
              "      cursor: pointer;\n",
              "      display: none;\n",
              "      fill: #1967D2;\n",
              "      height: 32px;\n",
              "      padding: 0 0 0 0;\n",
              "      width: 32px;\n",
              "    }\n",
              "\n",
              "    .colab-df-convert:hover {\n",
              "      background-color: #E2EBFA;\n",
              "      box-shadow: 0px 1px 2px rgba(60, 64, 67, 0.3), 0px 1px 3px 1px rgba(60, 64, 67, 0.15);\n",
              "      fill: #174EA6;\n",
              "    }\n",
              "\n",
              "    [theme=dark] .colab-df-convert {\n",
              "      background-color: #3B4455;\n",
              "      fill: #D2E3FC;\n",
              "    }\n",
              "\n",
              "    [theme=dark] .colab-df-convert:hover {\n",
              "      background-color: #434B5C;\n",
              "      box-shadow: 0px 1px 3px 1px rgba(0, 0, 0, 0.15);\n",
              "      filter: drop-shadow(0px 1px 2px rgba(0, 0, 0, 0.3));\n",
              "      fill: #FFFFFF;\n",
              "    }\n",
              "  </style>\n",
              "\n",
              "      <script>\n",
              "        const buttonEl =\n",
              "          document.querySelector('#df-dbd5dbca-7d84-4f78-88e9-8c4ab65fe7aa button.colab-df-convert');\n",
              "        buttonEl.style.display =\n",
              "          google.colab.kernel.accessAllowed ? 'block' : 'none';\n",
              "\n",
              "        async function convertToInteractive(key) {\n",
              "          const element = document.querySelector('#df-dbd5dbca-7d84-4f78-88e9-8c4ab65fe7aa');\n",
              "          const dataTable =\n",
              "            await google.colab.kernel.invokeFunction('convertToInteractive',\n",
              "                                                     [key], {});\n",
              "          if (!dataTable) return;\n",
              "\n",
              "          const docLinkHtml = 'Like what you see? Visit the ' +\n",
              "            '<a target=\"_blank\" href=https://colab.research.google.com/notebooks/data_table.ipynb>data table notebook</a>'\n",
              "            + ' to learn more about interactive tables.';\n",
              "          element.innerHTML = '';\n",
              "          dataTable['output_type'] = 'display_data';\n",
              "          await google.colab.output.renderOutput(dataTable, element);\n",
              "          const docLink = document.createElement('div');\n",
              "          docLink.innerHTML = docLinkHtml;\n",
              "          element.appendChild(docLink);\n",
              "        }\n",
              "      </script>\n",
              "    </div>\n",
              "  </div>\n",
              "  "
            ]
          },
          "metadata": {},
          "execution_count": 8
        }
      ],
      "source": [
        "df_bank.head()"
      ]
    },
    {
      "cell_type": "code",
      "source": [
        "df_bank.y.value_counts(ascending=False)"
      ],
      "metadata": {
        "colab": {
          "base_uri": "https://localhost:8080/"
        },
        "id": "StFmCP1mRD-g",
        "outputId": "21d54c62-ba4d-4f26-fdea-c56ff6e008a4"
      },
      "execution_count": 9,
      "outputs": [
        {
          "output_type": "execute_result",
          "data": {
            "text/plain": [
              "no     39922\n",
              "yes     5289\n",
              "Name: y, dtype: int64"
            ]
          },
          "metadata": {},
          "execution_count": 9
        }
      ]
    },
    {
      "cell_type": "markdown",
      "source": [
        "**Variables Nominales**\n",
        "\n",
        "\n",
        "*   Job\n",
        "*   marital\n",
        "*   Default (1 Solo Valor)\n",
        "*   housing (1 Solo Valor)\n",
        "*   loan (1 Solo Valor)\n",
        "*   contact \n",
        "*   poutcome\n",
        "*   y (1 Solo Valor)\n",
        "\n",
        "\n",
        "**Variables Desccartadas**\n",
        "\n",
        "*   duration\t(Varible que tiene una alta relacion con la campaña por lo cual nos puede sobre ajustar el modelo, pues indica tiempo de duracion de la llamada y es 0 cuando no ha sido contacto). \n",
        "\n",
        "**Variables Ordinales**\n",
        "\n",
        "*   education\n",
        "*   month\n",
        "\n",
        "\n",
        "\n"
      ],
      "metadata": {
        "id": "q8JKnGlQRPRq"
      }
    },
    {
      "cell_type": "code",
      "execution_count": 10,
      "metadata": {
        "colab": {
          "base_uri": "https://localhost:8080/"
        },
        "id": "mHNgMyyNgHrP",
        "outputId": "8d2246a7-8ce9-4b25-a1fc-f3abd4a9d115"
      },
      "outputs": [
        {
          "output_type": "stream",
          "name": "stdout",
          "text": [
            "<class 'pandas.core.frame.DataFrame'>\n",
            "RangeIndex: 45211 entries, 0 to 45210\n",
            "Data columns (total 17 columns):\n",
            " #   Column     Non-Null Count  Dtype \n",
            "---  ------     --------------  ----- \n",
            " 0   age        45211 non-null  int64 \n",
            " 1   job        45211 non-null  object\n",
            " 2   marital    45211 non-null  object\n",
            " 3   education  45211 non-null  object\n",
            " 4   default    45211 non-null  object\n",
            " 5   balance    45211 non-null  int64 \n",
            " 6   housing    45211 non-null  object\n",
            " 7   loan       45211 non-null  object\n",
            " 8   contact    45211 non-null  object\n",
            " 9   day        45211 non-null  int64 \n",
            " 10  month      45211 non-null  object\n",
            " 11  duration   45211 non-null  int64 \n",
            " 12  campaign   45211 non-null  int64 \n",
            " 13  pdays      45211 non-null  int64 \n",
            " 14  previous   45211 non-null  int64 \n",
            " 15  poutcome   45211 non-null  object\n",
            " 16  y          45211 non-null  object\n",
            "dtypes: int64(7), object(10)\n",
            "memory usage: 5.9+ MB\n"
          ]
        }
      ],
      "source": [
        "df_bank.info()"
      ]
    },
    {
      "cell_type": "code",
      "execution_count": 11,
      "metadata": {
        "colab": {
          "base_uri": "https://localhost:8080/"
        },
        "id": "CpHO3jIfgI82",
        "outputId": "1bd99ccc-1e1e-4174-bf39-a32336f78a90"
      },
      "outputs": [
        {
          "output_type": "execute_result",
          "data": {
            "text/plain": [
              "may    13766\n",
              "jul     6895\n",
              "aug     6247\n",
              "jun     5341\n",
              "nov     3970\n",
              "apr     2932\n",
              "feb     2649\n",
              "jan     1403\n",
              "oct      738\n",
              "sep      579\n",
              "mar      477\n",
              "dec      214\n",
              "Name: month, dtype: int64"
            ]
          },
          "metadata": {},
          "execution_count": 11
        }
      ],
      "source": [
        "df_bank.month.value_counts()"
      ]
    },
    {
      "cell_type": "code",
      "execution_count": 12,
      "metadata": {
        "colab": {
          "base_uri": "https://localhost:8080/"
        },
        "id": "-hMSsGJ2IEKs",
        "outputId": "6a98cf3b-8d33-42ba-cd5d-2209690b59d2"
      },
      "outputs": [
        {
          "output_type": "execute_result",
          "data": {
            "text/plain": [
              "1     17544\n",
              "2     12505\n",
              "3      5521\n",
              "4      3522\n",
              "5      1764\n",
              "6      1291\n",
              "7       735\n",
              "8       540\n",
              "9       327\n",
              "10      266\n",
              "11      201\n",
              "12      155\n",
              "13      133\n",
              "14       93\n",
              "15       84\n",
              "16       79\n",
              "17       69\n",
              "18       51\n",
              "19       44\n",
              "20       43\n",
              "21       35\n",
              "22       23\n",
              "25       22\n",
              "23       22\n",
              "24       20\n",
              "29       16\n",
              "28       16\n",
              "26       13\n",
              "31       12\n",
              "27       10\n",
              "32        9\n",
              "30        8\n",
              "33        6\n",
              "34        5\n",
              "36        4\n",
              "35        4\n",
              "43        3\n",
              "38        3\n",
              "37        2\n",
              "50        2\n",
              "41        2\n",
              "46        1\n",
              "58        1\n",
              "55        1\n",
              "63        1\n",
              "51        1\n",
              "39        1\n",
              "44        1\n",
              "Name: campaign, dtype: int64"
            ]
          },
          "metadata": {},
          "execution_count": 12
        }
      ],
      "source": [
        "df_bank.campaign.value_counts()"
      ]
    },
    {
      "cell_type": "code",
      "execution_count": 13,
      "metadata": {
        "colab": {
          "base_uri": "https://localhost:8080/"
        },
        "id": "lAKdAZpgKtvO",
        "outputId": "8fb89222-fe1c-4594-b13f-7fc469d38d57"
      },
      "outputs": [
        {
          "output_type": "execute_result",
          "data": {
            "text/plain": [
              "blue-collar      9732\n",
              "management       9458\n",
              "technician       7597\n",
              "admin.           5171\n",
              "services         4154\n",
              "retired          2264\n",
              "self-employed    1579\n",
              "entrepreneur     1487\n",
              "unemployed       1303\n",
              "housemaid        1240\n",
              "student           938\n",
              "unknown           288\n",
              "Name: job, dtype: int64"
            ]
          },
          "metadata": {},
          "execution_count": 13
        }
      ],
      "source": [
        "df_bank.job.value_counts()"
      ]
    },
    {
      "cell_type": "markdown",
      "source": [
        "Creamos Data Frame para preparlo"
      ],
      "metadata": {
        "id": "ijcnKY6qcTE-"
      }
    },
    {
      "cell_type": "code",
      "source": [
        "df_piv=df_bank.copy()"
      ],
      "metadata": {
        "id": "M7-29YipNQQt"
      },
      "execution_count": 14,
      "outputs": []
    },
    {
      "cell_type": "markdown",
      "source": [
        "Convertimos varibales nominales "
      ],
      "metadata": {
        "id": "iMq2o-a-cYBx"
      }
    },
    {
      "cell_type": "code",
      "source": [
        "df_piv=pd.get_dummies(df_piv,columns=['job','marital','poutcome'])"
      ],
      "metadata": {
        "id": "b3ZLgcuPOD4F"
      },
      "execution_count": 15,
      "outputs": []
    },
    {
      "cell_type": "code",
      "source": [
        "df_piv"
      ],
      "metadata": {
        "colab": {
          "base_uri": "https://localhost:8080/",
          "height": 487
        },
        "id": "_lVQolG7N9T0",
        "outputId": "8ce33be1-1de5-4492-f852-aea67c633e57"
      },
      "execution_count": 16,
      "outputs": [
        {
          "output_type": "execute_result",
          "data": {
            "text/plain": [
              "       age  education default  balance housing loan    contact  day month  \\\n",
              "0       58   tertiary      no     2143     yes   no    unknown    5   may   \n",
              "1       44  secondary      no       29     yes   no    unknown    5   may   \n",
              "2       33  secondary      no        2     yes  yes    unknown    5   may   \n",
              "3       47    unknown      no     1506     yes   no    unknown    5   may   \n",
              "4       33    unknown      no        1      no   no    unknown    5   may   \n",
              "...    ...        ...     ...      ...     ...  ...        ...  ...   ...   \n",
              "45206   51   tertiary      no      825      no   no   cellular   17   nov   \n",
              "45207   71    primary      no     1729      no   no   cellular   17   nov   \n",
              "45208   72  secondary      no     5715      no   no   cellular   17   nov   \n",
              "45209   57  secondary      no      668      no   no  telephone   17   nov   \n",
              "45210   37  secondary      no     2971      no   no   cellular   17   nov   \n",
              "\n",
              "       duration  ...  job_technician  job_unemployed  job_unknown  \\\n",
              "0           261  ...               0               0            0   \n",
              "1           151  ...               1               0            0   \n",
              "2            76  ...               0               0            0   \n",
              "3            92  ...               0               0            0   \n",
              "4           198  ...               0               0            1   \n",
              "...         ...  ...             ...             ...          ...   \n",
              "45206       977  ...               1               0            0   \n",
              "45207       456  ...               0               0            0   \n",
              "45208      1127  ...               0               0            0   \n",
              "45209       508  ...               0               0            0   \n",
              "45210       361  ...               0               0            0   \n",
              "\n",
              "      marital_divorced  marital_married  marital_single  poutcome_failure  \\\n",
              "0                    0                1               0                 0   \n",
              "1                    0                0               1                 0   \n",
              "2                    0                1               0                 0   \n",
              "3                    0                1               0                 0   \n",
              "4                    0                0               1                 0   \n",
              "...                ...              ...             ...               ...   \n",
              "45206                0                1               0                 0   \n",
              "45207                1                0               0                 0   \n",
              "45208                0                1               0                 0   \n",
              "45209                0                1               0                 0   \n",
              "45210                0                1               0                 0   \n",
              "\n",
              "       poutcome_other  poutcome_success  poutcome_unknown  \n",
              "0                   0                 0                 1  \n",
              "1                   0                 0                 1  \n",
              "2                   0                 0                 1  \n",
              "3                   0                 0                 1  \n",
              "4                   0                 0                 1  \n",
              "...               ...               ...               ...  \n",
              "45206               0                 0                 1  \n",
              "45207               0                 0                 1  \n",
              "45208               0                 1                 0  \n",
              "45209               0                 0                 1  \n",
              "45210               1                 0                 0  \n",
              "\n",
              "[45211 rows x 33 columns]"
            ],
            "text/html": [
              "\n",
              "  <div id=\"df-3aa4f20e-63f2-49cd-ae53-bc53e46c061f\">\n",
              "    <div class=\"colab-df-container\">\n",
              "      <div>\n",
              "<style scoped>\n",
              "    .dataframe tbody tr th:only-of-type {\n",
              "        vertical-align: middle;\n",
              "    }\n",
              "\n",
              "    .dataframe tbody tr th {\n",
              "        vertical-align: top;\n",
              "    }\n",
              "\n",
              "    .dataframe thead th {\n",
              "        text-align: right;\n",
              "    }\n",
              "</style>\n",
              "<table border=\"1\" class=\"dataframe\">\n",
              "  <thead>\n",
              "    <tr style=\"text-align: right;\">\n",
              "      <th></th>\n",
              "      <th>age</th>\n",
              "      <th>education</th>\n",
              "      <th>default</th>\n",
              "      <th>balance</th>\n",
              "      <th>housing</th>\n",
              "      <th>loan</th>\n",
              "      <th>contact</th>\n",
              "      <th>day</th>\n",
              "      <th>month</th>\n",
              "      <th>duration</th>\n",
              "      <th>...</th>\n",
              "      <th>job_technician</th>\n",
              "      <th>job_unemployed</th>\n",
              "      <th>job_unknown</th>\n",
              "      <th>marital_divorced</th>\n",
              "      <th>marital_married</th>\n",
              "      <th>marital_single</th>\n",
              "      <th>poutcome_failure</th>\n",
              "      <th>poutcome_other</th>\n",
              "      <th>poutcome_success</th>\n",
              "      <th>poutcome_unknown</th>\n",
              "    </tr>\n",
              "  </thead>\n",
              "  <tbody>\n",
              "    <tr>\n",
              "      <th>0</th>\n",
              "      <td>58</td>\n",
              "      <td>tertiary</td>\n",
              "      <td>no</td>\n",
              "      <td>2143</td>\n",
              "      <td>yes</td>\n",
              "      <td>no</td>\n",
              "      <td>unknown</td>\n",
              "      <td>5</td>\n",
              "      <td>may</td>\n",
              "      <td>261</td>\n",
              "      <td>...</td>\n",
              "      <td>0</td>\n",
              "      <td>0</td>\n",
              "      <td>0</td>\n",
              "      <td>0</td>\n",
              "      <td>1</td>\n",
              "      <td>0</td>\n",
              "      <td>0</td>\n",
              "      <td>0</td>\n",
              "      <td>0</td>\n",
              "      <td>1</td>\n",
              "    </tr>\n",
              "    <tr>\n",
              "      <th>1</th>\n",
              "      <td>44</td>\n",
              "      <td>secondary</td>\n",
              "      <td>no</td>\n",
              "      <td>29</td>\n",
              "      <td>yes</td>\n",
              "      <td>no</td>\n",
              "      <td>unknown</td>\n",
              "      <td>5</td>\n",
              "      <td>may</td>\n",
              "      <td>151</td>\n",
              "      <td>...</td>\n",
              "      <td>1</td>\n",
              "      <td>0</td>\n",
              "      <td>0</td>\n",
              "      <td>0</td>\n",
              "      <td>0</td>\n",
              "      <td>1</td>\n",
              "      <td>0</td>\n",
              "      <td>0</td>\n",
              "      <td>0</td>\n",
              "      <td>1</td>\n",
              "    </tr>\n",
              "    <tr>\n",
              "      <th>2</th>\n",
              "      <td>33</td>\n",
              "      <td>secondary</td>\n",
              "      <td>no</td>\n",
              "      <td>2</td>\n",
              "      <td>yes</td>\n",
              "      <td>yes</td>\n",
              "      <td>unknown</td>\n",
              "      <td>5</td>\n",
              "      <td>may</td>\n",
              "      <td>76</td>\n",
              "      <td>...</td>\n",
              "      <td>0</td>\n",
              "      <td>0</td>\n",
              "      <td>0</td>\n",
              "      <td>0</td>\n",
              "      <td>1</td>\n",
              "      <td>0</td>\n",
              "      <td>0</td>\n",
              "      <td>0</td>\n",
              "      <td>0</td>\n",
              "      <td>1</td>\n",
              "    </tr>\n",
              "    <tr>\n",
              "      <th>3</th>\n",
              "      <td>47</td>\n",
              "      <td>unknown</td>\n",
              "      <td>no</td>\n",
              "      <td>1506</td>\n",
              "      <td>yes</td>\n",
              "      <td>no</td>\n",
              "      <td>unknown</td>\n",
              "      <td>5</td>\n",
              "      <td>may</td>\n",
              "      <td>92</td>\n",
              "      <td>...</td>\n",
              "      <td>0</td>\n",
              "      <td>0</td>\n",
              "      <td>0</td>\n",
              "      <td>0</td>\n",
              "      <td>1</td>\n",
              "      <td>0</td>\n",
              "      <td>0</td>\n",
              "      <td>0</td>\n",
              "      <td>0</td>\n",
              "      <td>1</td>\n",
              "    </tr>\n",
              "    <tr>\n",
              "      <th>4</th>\n",
              "      <td>33</td>\n",
              "      <td>unknown</td>\n",
              "      <td>no</td>\n",
              "      <td>1</td>\n",
              "      <td>no</td>\n",
              "      <td>no</td>\n",
              "      <td>unknown</td>\n",
              "      <td>5</td>\n",
              "      <td>may</td>\n",
              "      <td>198</td>\n",
              "      <td>...</td>\n",
              "      <td>0</td>\n",
              "      <td>0</td>\n",
              "      <td>1</td>\n",
              "      <td>0</td>\n",
              "      <td>0</td>\n",
              "      <td>1</td>\n",
              "      <td>0</td>\n",
              "      <td>0</td>\n",
              "      <td>0</td>\n",
              "      <td>1</td>\n",
              "    </tr>\n",
              "    <tr>\n",
              "      <th>...</th>\n",
              "      <td>...</td>\n",
              "      <td>...</td>\n",
              "      <td>...</td>\n",
              "      <td>...</td>\n",
              "      <td>...</td>\n",
              "      <td>...</td>\n",
              "      <td>...</td>\n",
              "      <td>...</td>\n",
              "      <td>...</td>\n",
              "      <td>...</td>\n",
              "      <td>...</td>\n",
              "      <td>...</td>\n",
              "      <td>...</td>\n",
              "      <td>...</td>\n",
              "      <td>...</td>\n",
              "      <td>...</td>\n",
              "      <td>...</td>\n",
              "      <td>...</td>\n",
              "      <td>...</td>\n",
              "      <td>...</td>\n",
              "      <td>...</td>\n",
              "    </tr>\n",
              "    <tr>\n",
              "      <th>45206</th>\n",
              "      <td>51</td>\n",
              "      <td>tertiary</td>\n",
              "      <td>no</td>\n",
              "      <td>825</td>\n",
              "      <td>no</td>\n",
              "      <td>no</td>\n",
              "      <td>cellular</td>\n",
              "      <td>17</td>\n",
              "      <td>nov</td>\n",
              "      <td>977</td>\n",
              "      <td>...</td>\n",
              "      <td>1</td>\n",
              "      <td>0</td>\n",
              "      <td>0</td>\n",
              "      <td>0</td>\n",
              "      <td>1</td>\n",
              "      <td>0</td>\n",
              "      <td>0</td>\n",
              "      <td>0</td>\n",
              "      <td>0</td>\n",
              "      <td>1</td>\n",
              "    </tr>\n",
              "    <tr>\n",
              "      <th>45207</th>\n",
              "      <td>71</td>\n",
              "      <td>primary</td>\n",
              "      <td>no</td>\n",
              "      <td>1729</td>\n",
              "      <td>no</td>\n",
              "      <td>no</td>\n",
              "      <td>cellular</td>\n",
              "      <td>17</td>\n",
              "      <td>nov</td>\n",
              "      <td>456</td>\n",
              "      <td>...</td>\n",
              "      <td>0</td>\n",
              "      <td>0</td>\n",
              "      <td>0</td>\n",
              "      <td>1</td>\n",
              "      <td>0</td>\n",
              "      <td>0</td>\n",
              "      <td>0</td>\n",
              "      <td>0</td>\n",
              "      <td>0</td>\n",
              "      <td>1</td>\n",
              "    </tr>\n",
              "    <tr>\n",
              "      <th>45208</th>\n",
              "      <td>72</td>\n",
              "      <td>secondary</td>\n",
              "      <td>no</td>\n",
              "      <td>5715</td>\n",
              "      <td>no</td>\n",
              "      <td>no</td>\n",
              "      <td>cellular</td>\n",
              "      <td>17</td>\n",
              "      <td>nov</td>\n",
              "      <td>1127</td>\n",
              "      <td>...</td>\n",
              "      <td>0</td>\n",
              "      <td>0</td>\n",
              "      <td>0</td>\n",
              "      <td>0</td>\n",
              "      <td>1</td>\n",
              "      <td>0</td>\n",
              "      <td>0</td>\n",
              "      <td>0</td>\n",
              "      <td>1</td>\n",
              "      <td>0</td>\n",
              "    </tr>\n",
              "    <tr>\n",
              "      <th>45209</th>\n",
              "      <td>57</td>\n",
              "      <td>secondary</td>\n",
              "      <td>no</td>\n",
              "      <td>668</td>\n",
              "      <td>no</td>\n",
              "      <td>no</td>\n",
              "      <td>telephone</td>\n",
              "      <td>17</td>\n",
              "      <td>nov</td>\n",
              "      <td>508</td>\n",
              "      <td>...</td>\n",
              "      <td>0</td>\n",
              "      <td>0</td>\n",
              "      <td>0</td>\n",
              "      <td>0</td>\n",
              "      <td>1</td>\n",
              "      <td>0</td>\n",
              "      <td>0</td>\n",
              "      <td>0</td>\n",
              "      <td>0</td>\n",
              "      <td>1</td>\n",
              "    </tr>\n",
              "    <tr>\n",
              "      <th>45210</th>\n",
              "      <td>37</td>\n",
              "      <td>secondary</td>\n",
              "      <td>no</td>\n",
              "      <td>2971</td>\n",
              "      <td>no</td>\n",
              "      <td>no</td>\n",
              "      <td>cellular</td>\n",
              "      <td>17</td>\n",
              "      <td>nov</td>\n",
              "      <td>361</td>\n",
              "      <td>...</td>\n",
              "      <td>0</td>\n",
              "      <td>0</td>\n",
              "      <td>0</td>\n",
              "      <td>0</td>\n",
              "      <td>1</td>\n",
              "      <td>0</td>\n",
              "      <td>0</td>\n",
              "      <td>1</td>\n",
              "      <td>0</td>\n",
              "      <td>0</td>\n",
              "    </tr>\n",
              "  </tbody>\n",
              "</table>\n",
              "<p>45211 rows × 33 columns</p>\n",
              "</div>\n",
              "      <button class=\"colab-df-convert\" onclick=\"convertToInteractive('df-3aa4f20e-63f2-49cd-ae53-bc53e46c061f')\"\n",
              "              title=\"Convert this dataframe to an interactive table.\"\n",
              "              style=\"display:none;\">\n",
              "        \n",
              "  <svg xmlns=\"http://www.w3.org/2000/svg\" height=\"24px\"viewBox=\"0 0 24 24\"\n",
              "       width=\"24px\">\n",
              "    <path d=\"M0 0h24v24H0V0z\" fill=\"none\"/>\n",
              "    <path d=\"M18.56 5.44l.94 2.06.94-2.06 2.06-.94-2.06-.94-.94-2.06-.94 2.06-2.06.94zm-11 1L8.5 8.5l.94-2.06 2.06-.94-2.06-.94L8.5 2.5l-.94 2.06-2.06.94zm10 10l.94 2.06.94-2.06 2.06-.94-2.06-.94-.94-2.06-.94 2.06-2.06.94z\"/><path d=\"M17.41 7.96l-1.37-1.37c-.4-.4-.92-.59-1.43-.59-.52 0-1.04.2-1.43.59L10.3 9.45l-7.72 7.72c-.78.78-.78 2.05 0 2.83L4 21.41c.39.39.9.59 1.41.59.51 0 1.02-.2 1.41-.59l7.78-7.78 2.81-2.81c.8-.78.8-2.07 0-2.86zM5.41 20L4 18.59l7.72-7.72 1.47 1.35L5.41 20z\"/>\n",
              "  </svg>\n",
              "      </button>\n",
              "      \n",
              "  <style>\n",
              "    .colab-df-container {\n",
              "      display:flex;\n",
              "      flex-wrap:wrap;\n",
              "      gap: 12px;\n",
              "    }\n",
              "\n",
              "    .colab-df-convert {\n",
              "      background-color: #E8F0FE;\n",
              "      border: none;\n",
              "      border-radius: 50%;\n",
              "      cursor: pointer;\n",
              "      display: none;\n",
              "      fill: #1967D2;\n",
              "      height: 32px;\n",
              "      padding: 0 0 0 0;\n",
              "      width: 32px;\n",
              "    }\n",
              "\n",
              "    .colab-df-convert:hover {\n",
              "      background-color: #E2EBFA;\n",
              "      box-shadow: 0px 1px 2px rgba(60, 64, 67, 0.3), 0px 1px 3px 1px rgba(60, 64, 67, 0.15);\n",
              "      fill: #174EA6;\n",
              "    }\n",
              "\n",
              "    [theme=dark] .colab-df-convert {\n",
              "      background-color: #3B4455;\n",
              "      fill: #D2E3FC;\n",
              "    }\n",
              "\n",
              "    [theme=dark] .colab-df-convert:hover {\n",
              "      background-color: #434B5C;\n",
              "      box-shadow: 0px 1px 3px 1px rgba(0, 0, 0, 0.15);\n",
              "      filter: drop-shadow(0px 1px 2px rgba(0, 0, 0, 0.3));\n",
              "      fill: #FFFFFF;\n",
              "    }\n",
              "  </style>\n",
              "\n",
              "      <script>\n",
              "        const buttonEl =\n",
              "          document.querySelector('#df-3aa4f20e-63f2-49cd-ae53-bc53e46c061f button.colab-df-convert');\n",
              "        buttonEl.style.display =\n",
              "          google.colab.kernel.accessAllowed ? 'block' : 'none';\n",
              "\n",
              "        async function convertToInteractive(key) {\n",
              "          const element = document.querySelector('#df-3aa4f20e-63f2-49cd-ae53-bc53e46c061f');\n",
              "          const dataTable =\n",
              "            await google.colab.kernel.invokeFunction('convertToInteractive',\n",
              "                                                     [key], {});\n",
              "          if (!dataTable) return;\n",
              "\n",
              "          const docLinkHtml = 'Like what you see? Visit the ' +\n",
              "            '<a target=\"_blank\" href=https://colab.research.google.com/notebooks/data_table.ipynb>data table notebook</a>'\n",
              "            + ' to learn more about interactive tables.';\n",
              "          element.innerHTML = '';\n",
              "          dataTable['output_type'] = 'display_data';\n",
              "          await google.colab.output.renderOutput(dataTable, element);\n",
              "          const docLink = document.createElement('div');\n",
              "          docLink.innerHTML = docLinkHtml;\n",
              "          element.appendChild(docLink);\n",
              "        }\n",
              "      </script>\n",
              "    </div>\n",
              "  </div>\n",
              "  "
            ]
          },
          "metadata": {},
          "execution_count": 16
        }
      ]
    },
    {
      "cell_type": "code",
      "source": [
        "df_piv=pd.get_dummies(df_piv,columns=['default','housing','loan','contact','y'],drop_first = True)"
      ],
      "metadata": {
        "id": "tY6HyWw2ZRVW"
      },
      "execution_count": 17,
      "outputs": []
    },
    {
      "cell_type": "code",
      "source": [
        "df_piv"
      ],
      "metadata": {
        "colab": {
          "base_uri": "https://localhost:8080/",
          "height": 487
        },
        "id": "VhvbdqIoZ02R",
        "outputId": "e3fe747b-0d43-40f6-c270-c67f659c79c9"
      },
      "execution_count": 18,
      "outputs": [
        {
          "output_type": "execute_result",
          "data": {
            "text/plain": [
              "       age  education  balance  day month  duration  campaign  pdays  \\\n",
              "0       58   tertiary     2143    5   may       261         1     -1   \n",
              "1       44  secondary       29    5   may       151         1     -1   \n",
              "2       33  secondary        2    5   may        76         1     -1   \n",
              "3       47    unknown     1506    5   may        92         1     -1   \n",
              "4       33    unknown        1    5   may       198         1     -1   \n",
              "...    ...        ...      ...  ...   ...       ...       ...    ...   \n",
              "45206   51   tertiary      825   17   nov       977         3     -1   \n",
              "45207   71    primary     1729   17   nov       456         2     -1   \n",
              "45208   72  secondary     5715   17   nov      1127         5    184   \n",
              "45209   57  secondary      668   17   nov       508         4     -1   \n",
              "45210   37  secondary     2971   17   nov       361         2    188   \n",
              "\n",
              "       previous  job_admin.  ...  poutcome_failure  poutcome_other  \\\n",
              "0             0           0  ...                 0               0   \n",
              "1             0           0  ...                 0               0   \n",
              "2             0           0  ...                 0               0   \n",
              "3             0           0  ...                 0               0   \n",
              "4             0           0  ...                 0               0   \n",
              "...         ...         ...  ...               ...             ...   \n",
              "45206         0           0  ...                 0               0   \n",
              "45207         0           0  ...                 0               0   \n",
              "45208         3           0  ...                 0               0   \n",
              "45209         0           0  ...                 0               0   \n",
              "45210        11           0  ...                 0               1   \n",
              "\n",
              "       poutcome_success  poutcome_unknown  default_yes  housing_yes  loan_yes  \\\n",
              "0                     0                 1            0            1         0   \n",
              "1                     0                 1            0            1         0   \n",
              "2                     0                 1            0            1         1   \n",
              "3                     0                 1            0            1         0   \n",
              "4                     0                 1            0            0         0   \n",
              "...                 ...               ...          ...          ...       ...   \n",
              "45206                 0                 1            0            0         0   \n",
              "45207                 0                 1            0            0         0   \n",
              "45208                 1                 0            0            0         0   \n",
              "45209                 0                 1            0            0         0   \n",
              "45210                 0                 0            0            0         0   \n",
              "\n",
              "       contact_telephone  contact_unknown  y_yes  \n",
              "0                      0                1      0  \n",
              "1                      0                1      0  \n",
              "2                      0                1      0  \n",
              "3                      0                1      0  \n",
              "4                      0                1      0  \n",
              "...                  ...              ...    ...  \n",
              "45206                  0                0      1  \n",
              "45207                  0                0      1  \n",
              "45208                  0                0      1  \n",
              "45209                  1                0      0  \n",
              "45210                  0                0      0  \n",
              "\n",
              "[45211 rows x 34 columns]"
            ],
            "text/html": [
              "\n",
              "  <div id=\"df-27d9ee05-6b2e-4b82-aa86-adfdade1d289\">\n",
              "    <div class=\"colab-df-container\">\n",
              "      <div>\n",
              "<style scoped>\n",
              "    .dataframe tbody tr th:only-of-type {\n",
              "        vertical-align: middle;\n",
              "    }\n",
              "\n",
              "    .dataframe tbody tr th {\n",
              "        vertical-align: top;\n",
              "    }\n",
              "\n",
              "    .dataframe thead th {\n",
              "        text-align: right;\n",
              "    }\n",
              "</style>\n",
              "<table border=\"1\" class=\"dataframe\">\n",
              "  <thead>\n",
              "    <tr style=\"text-align: right;\">\n",
              "      <th></th>\n",
              "      <th>age</th>\n",
              "      <th>education</th>\n",
              "      <th>balance</th>\n",
              "      <th>day</th>\n",
              "      <th>month</th>\n",
              "      <th>duration</th>\n",
              "      <th>campaign</th>\n",
              "      <th>pdays</th>\n",
              "      <th>previous</th>\n",
              "      <th>job_admin.</th>\n",
              "      <th>...</th>\n",
              "      <th>poutcome_failure</th>\n",
              "      <th>poutcome_other</th>\n",
              "      <th>poutcome_success</th>\n",
              "      <th>poutcome_unknown</th>\n",
              "      <th>default_yes</th>\n",
              "      <th>housing_yes</th>\n",
              "      <th>loan_yes</th>\n",
              "      <th>contact_telephone</th>\n",
              "      <th>contact_unknown</th>\n",
              "      <th>y_yes</th>\n",
              "    </tr>\n",
              "  </thead>\n",
              "  <tbody>\n",
              "    <tr>\n",
              "      <th>0</th>\n",
              "      <td>58</td>\n",
              "      <td>tertiary</td>\n",
              "      <td>2143</td>\n",
              "      <td>5</td>\n",
              "      <td>may</td>\n",
              "      <td>261</td>\n",
              "      <td>1</td>\n",
              "      <td>-1</td>\n",
              "      <td>0</td>\n",
              "      <td>0</td>\n",
              "      <td>...</td>\n",
              "      <td>0</td>\n",
              "      <td>0</td>\n",
              "      <td>0</td>\n",
              "      <td>1</td>\n",
              "      <td>0</td>\n",
              "      <td>1</td>\n",
              "      <td>0</td>\n",
              "      <td>0</td>\n",
              "      <td>1</td>\n",
              "      <td>0</td>\n",
              "    </tr>\n",
              "    <tr>\n",
              "      <th>1</th>\n",
              "      <td>44</td>\n",
              "      <td>secondary</td>\n",
              "      <td>29</td>\n",
              "      <td>5</td>\n",
              "      <td>may</td>\n",
              "      <td>151</td>\n",
              "      <td>1</td>\n",
              "      <td>-1</td>\n",
              "      <td>0</td>\n",
              "      <td>0</td>\n",
              "      <td>...</td>\n",
              "      <td>0</td>\n",
              "      <td>0</td>\n",
              "      <td>0</td>\n",
              "      <td>1</td>\n",
              "      <td>0</td>\n",
              "      <td>1</td>\n",
              "      <td>0</td>\n",
              "      <td>0</td>\n",
              "      <td>1</td>\n",
              "      <td>0</td>\n",
              "    </tr>\n",
              "    <tr>\n",
              "      <th>2</th>\n",
              "      <td>33</td>\n",
              "      <td>secondary</td>\n",
              "      <td>2</td>\n",
              "      <td>5</td>\n",
              "      <td>may</td>\n",
              "      <td>76</td>\n",
              "      <td>1</td>\n",
              "      <td>-1</td>\n",
              "      <td>0</td>\n",
              "      <td>0</td>\n",
              "      <td>...</td>\n",
              "      <td>0</td>\n",
              "      <td>0</td>\n",
              "      <td>0</td>\n",
              "      <td>1</td>\n",
              "      <td>0</td>\n",
              "      <td>1</td>\n",
              "      <td>1</td>\n",
              "      <td>0</td>\n",
              "      <td>1</td>\n",
              "      <td>0</td>\n",
              "    </tr>\n",
              "    <tr>\n",
              "      <th>3</th>\n",
              "      <td>47</td>\n",
              "      <td>unknown</td>\n",
              "      <td>1506</td>\n",
              "      <td>5</td>\n",
              "      <td>may</td>\n",
              "      <td>92</td>\n",
              "      <td>1</td>\n",
              "      <td>-1</td>\n",
              "      <td>0</td>\n",
              "      <td>0</td>\n",
              "      <td>...</td>\n",
              "      <td>0</td>\n",
              "      <td>0</td>\n",
              "      <td>0</td>\n",
              "      <td>1</td>\n",
              "      <td>0</td>\n",
              "      <td>1</td>\n",
              "      <td>0</td>\n",
              "      <td>0</td>\n",
              "      <td>1</td>\n",
              "      <td>0</td>\n",
              "    </tr>\n",
              "    <tr>\n",
              "      <th>4</th>\n",
              "      <td>33</td>\n",
              "      <td>unknown</td>\n",
              "      <td>1</td>\n",
              "      <td>5</td>\n",
              "      <td>may</td>\n",
              "      <td>198</td>\n",
              "      <td>1</td>\n",
              "      <td>-1</td>\n",
              "      <td>0</td>\n",
              "      <td>0</td>\n",
              "      <td>...</td>\n",
              "      <td>0</td>\n",
              "      <td>0</td>\n",
              "      <td>0</td>\n",
              "      <td>1</td>\n",
              "      <td>0</td>\n",
              "      <td>0</td>\n",
              "      <td>0</td>\n",
              "      <td>0</td>\n",
              "      <td>1</td>\n",
              "      <td>0</td>\n",
              "    </tr>\n",
              "    <tr>\n",
              "      <th>...</th>\n",
              "      <td>...</td>\n",
              "      <td>...</td>\n",
              "      <td>...</td>\n",
              "      <td>...</td>\n",
              "      <td>...</td>\n",
              "      <td>...</td>\n",
              "      <td>...</td>\n",
              "      <td>...</td>\n",
              "      <td>...</td>\n",
              "      <td>...</td>\n",
              "      <td>...</td>\n",
              "      <td>...</td>\n",
              "      <td>...</td>\n",
              "      <td>...</td>\n",
              "      <td>...</td>\n",
              "      <td>...</td>\n",
              "      <td>...</td>\n",
              "      <td>...</td>\n",
              "      <td>...</td>\n",
              "      <td>...</td>\n",
              "      <td>...</td>\n",
              "    </tr>\n",
              "    <tr>\n",
              "      <th>45206</th>\n",
              "      <td>51</td>\n",
              "      <td>tertiary</td>\n",
              "      <td>825</td>\n",
              "      <td>17</td>\n",
              "      <td>nov</td>\n",
              "      <td>977</td>\n",
              "      <td>3</td>\n",
              "      <td>-1</td>\n",
              "      <td>0</td>\n",
              "      <td>0</td>\n",
              "      <td>...</td>\n",
              "      <td>0</td>\n",
              "      <td>0</td>\n",
              "      <td>0</td>\n",
              "      <td>1</td>\n",
              "      <td>0</td>\n",
              "      <td>0</td>\n",
              "      <td>0</td>\n",
              "      <td>0</td>\n",
              "      <td>0</td>\n",
              "      <td>1</td>\n",
              "    </tr>\n",
              "    <tr>\n",
              "      <th>45207</th>\n",
              "      <td>71</td>\n",
              "      <td>primary</td>\n",
              "      <td>1729</td>\n",
              "      <td>17</td>\n",
              "      <td>nov</td>\n",
              "      <td>456</td>\n",
              "      <td>2</td>\n",
              "      <td>-1</td>\n",
              "      <td>0</td>\n",
              "      <td>0</td>\n",
              "      <td>...</td>\n",
              "      <td>0</td>\n",
              "      <td>0</td>\n",
              "      <td>0</td>\n",
              "      <td>1</td>\n",
              "      <td>0</td>\n",
              "      <td>0</td>\n",
              "      <td>0</td>\n",
              "      <td>0</td>\n",
              "      <td>0</td>\n",
              "      <td>1</td>\n",
              "    </tr>\n",
              "    <tr>\n",
              "      <th>45208</th>\n",
              "      <td>72</td>\n",
              "      <td>secondary</td>\n",
              "      <td>5715</td>\n",
              "      <td>17</td>\n",
              "      <td>nov</td>\n",
              "      <td>1127</td>\n",
              "      <td>5</td>\n",
              "      <td>184</td>\n",
              "      <td>3</td>\n",
              "      <td>0</td>\n",
              "      <td>...</td>\n",
              "      <td>0</td>\n",
              "      <td>0</td>\n",
              "      <td>1</td>\n",
              "      <td>0</td>\n",
              "      <td>0</td>\n",
              "      <td>0</td>\n",
              "      <td>0</td>\n",
              "      <td>0</td>\n",
              "      <td>0</td>\n",
              "      <td>1</td>\n",
              "    </tr>\n",
              "    <tr>\n",
              "      <th>45209</th>\n",
              "      <td>57</td>\n",
              "      <td>secondary</td>\n",
              "      <td>668</td>\n",
              "      <td>17</td>\n",
              "      <td>nov</td>\n",
              "      <td>508</td>\n",
              "      <td>4</td>\n",
              "      <td>-1</td>\n",
              "      <td>0</td>\n",
              "      <td>0</td>\n",
              "      <td>...</td>\n",
              "      <td>0</td>\n",
              "      <td>0</td>\n",
              "      <td>0</td>\n",
              "      <td>1</td>\n",
              "      <td>0</td>\n",
              "      <td>0</td>\n",
              "      <td>0</td>\n",
              "      <td>1</td>\n",
              "      <td>0</td>\n",
              "      <td>0</td>\n",
              "    </tr>\n",
              "    <tr>\n",
              "      <th>45210</th>\n",
              "      <td>37</td>\n",
              "      <td>secondary</td>\n",
              "      <td>2971</td>\n",
              "      <td>17</td>\n",
              "      <td>nov</td>\n",
              "      <td>361</td>\n",
              "      <td>2</td>\n",
              "      <td>188</td>\n",
              "      <td>11</td>\n",
              "      <td>0</td>\n",
              "      <td>...</td>\n",
              "      <td>0</td>\n",
              "      <td>1</td>\n",
              "      <td>0</td>\n",
              "      <td>0</td>\n",
              "      <td>0</td>\n",
              "      <td>0</td>\n",
              "      <td>0</td>\n",
              "      <td>0</td>\n",
              "      <td>0</td>\n",
              "      <td>0</td>\n",
              "    </tr>\n",
              "  </tbody>\n",
              "</table>\n",
              "<p>45211 rows × 34 columns</p>\n",
              "</div>\n",
              "      <button class=\"colab-df-convert\" onclick=\"convertToInteractive('df-27d9ee05-6b2e-4b82-aa86-adfdade1d289')\"\n",
              "              title=\"Convert this dataframe to an interactive table.\"\n",
              "              style=\"display:none;\">\n",
              "        \n",
              "  <svg xmlns=\"http://www.w3.org/2000/svg\" height=\"24px\"viewBox=\"0 0 24 24\"\n",
              "       width=\"24px\">\n",
              "    <path d=\"M0 0h24v24H0V0z\" fill=\"none\"/>\n",
              "    <path d=\"M18.56 5.44l.94 2.06.94-2.06 2.06-.94-2.06-.94-.94-2.06-.94 2.06-2.06.94zm-11 1L8.5 8.5l.94-2.06 2.06-.94-2.06-.94L8.5 2.5l-.94 2.06-2.06.94zm10 10l.94 2.06.94-2.06 2.06-.94-2.06-.94-.94-2.06-.94 2.06-2.06.94z\"/><path d=\"M17.41 7.96l-1.37-1.37c-.4-.4-.92-.59-1.43-.59-.52 0-1.04.2-1.43.59L10.3 9.45l-7.72 7.72c-.78.78-.78 2.05 0 2.83L4 21.41c.39.39.9.59 1.41.59.51 0 1.02-.2 1.41-.59l7.78-7.78 2.81-2.81c.8-.78.8-2.07 0-2.86zM5.41 20L4 18.59l7.72-7.72 1.47 1.35L5.41 20z\"/>\n",
              "  </svg>\n",
              "      </button>\n",
              "      \n",
              "  <style>\n",
              "    .colab-df-container {\n",
              "      display:flex;\n",
              "      flex-wrap:wrap;\n",
              "      gap: 12px;\n",
              "    }\n",
              "\n",
              "    .colab-df-convert {\n",
              "      background-color: #E8F0FE;\n",
              "      border: none;\n",
              "      border-radius: 50%;\n",
              "      cursor: pointer;\n",
              "      display: none;\n",
              "      fill: #1967D2;\n",
              "      height: 32px;\n",
              "      padding: 0 0 0 0;\n",
              "      width: 32px;\n",
              "    }\n",
              "\n",
              "    .colab-df-convert:hover {\n",
              "      background-color: #E2EBFA;\n",
              "      box-shadow: 0px 1px 2px rgba(60, 64, 67, 0.3), 0px 1px 3px 1px rgba(60, 64, 67, 0.15);\n",
              "      fill: #174EA6;\n",
              "    }\n",
              "\n",
              "    [theme=dark] .colab-df-convert {\n",
              "      background-color: #3B4455;\n",
              "      fill: #D2E3FC;\n",
              "    }\n",
              "\n",
              "    [theme=dark] .colab-df-convert:hover {\n",
              "      background-color: #434B5C;\n",
              "      box-shadow: 0px 1px 3px 1px rgba(0, 0, 0, 0.15);\n",
              "      filter: drop-shadow(0px 1px 2px rgba(0, 0, 0, 0.3));\n",
              "      fill: #FFFFFF;\n",
              "    }\n",
              "  </style>\n",
              "\n",
              "      <script>\n",
              "        const buttonEl =\n",
              "          document.querySelector('#df-27d9ee05-6b2e-4b82-aa86-adfdade1d289 button.colab-df-convert');\n",
              "        buttonEl.style.display =\n",
              "          google.colab.kernel.accessAllowed ? 'block' : 'none';\n",
              "\n",
              "        async function convertToInteractive(key) {\n",
              "          const element = document.querySelector('#df-27d9ee05-6b2e-4b82-aa86-adfdade1d289');\n",
              "          const dataTable =\n",
              "            await google.colab.kernel.invokeFunction('convertToInteractive',\n",
              "                                                     [key], {});\n",
              "          if (!dataTable) return;\n",
              "\n",
              "          const docLinkHtml = 'Like what you see? Visit the ' +\n",
              "            '<a target=\"_blank\" href=https://colab.research.google.com/notebooks/data_table.ipynb>data table notebook</a>'\n",
              "            + ' to learn more about interactive tables.';\n",
              "          element.innerHTML = '';\n",
              "          dataTable['output_type'] = 'display_data';\n",
              "          await google.colab.output.renderOutput(dataTable, element);\n",
              "          const docLink = document.createElement('div');\n",
              "          docLink.innerHTML = docLinkHtml;\n",
              "          element.appendChild(docLink);\n",
              "        }\n",
              "      </script>\n",
              "    </div>\n",
              "  </div>\n",
              "  "
            ]
          },
          "metadata": {},
          "execution_count": 18
        }
      ]
    },
    {
      "cell_type": "code",
      "source": [
        "df_bank.columns"
      ],
      "metadata": {
        "colab": {
          "base_uri": "https://localhost:8080/"
        },
        "id": "Edzi7v3tOUlr",
        "outputId": "4df84f82-6a90-4d38-d30f-42ffe0b3041f"
      },
      "execution_count": 19,
      "outputs": [
        {
          "output_type": "execute_result",
          "data": {
            "text/plain": [
              "Index(['age', 'job', 'marital', 'education', 'default', 'balance', 'housing',\n",
              "       'loan', 'contact', 'day', 'month', 'duration', 'campaign', 'pdays',\n",
              "       'previous', 'poutcome', 'y'],\n",
              "      dtype='object')"
            ]
          },
          "metadata": {},
          "execution_count": 19
        }
      ]
    },
    {
      "cell_type": "code",
      "source": [
        "df_piv.columns"
      ],
      "metadata": {
        "colab": {
          "base_uri": "https://localhost:8080/"
        },
        "id": "VUQ_mg7lOZaQ",
        "outputId": "fb8bd244-8451-4638-c1b8-d63c7594fc66"
      },
      "execution_count": 20,
      "outputs": [
        {
          "output_type": "execute_result",
          "data": {
            "text/plain": [
              "Index(['age', 'education', 'balance', 'day', 'month', 'duration', 'campaign',\n",
              "       'pdays', 'previous', 'job_admin.', 'job_blue-collar',\n",
              "       'job_entrepreneur', 'job_housemaid', 'job_management', 'job_retired',\n",
              "       'job_self-employed', 'job_services', 'job_student', 'job_technician',\n",
              "       'job_unemployed', 'job_unknown', 'marital_divorced', 'marital_married',\n",
              "       'marital_single', 'poutcome_failure', 'poutcome_other',\n",
              "       'poutcome_success', 'poutcome_unknown', 'default_yes', 'housing_yes',\n",
              "       'loan_yes', 'contact_telephone', 'contact_unknown', 'y_yes'],\n",
              "      dtype='object')"
            ]
          },
          "metadata": {},
          "execution_count": 20
        }
      ]
    },
    {
      "cell_type": "code",
      "source": [
        "df_piv[['y_yes']].value_counts()"
      ],
      "metadata": {
        "colab": {
          "base_uri": "https://localhost:8080/"
        },
        "id": "eHFqj1EAO1oO",
        "outputId": "48932e8d-5dea-4127-9dbb-b6401b5283f1"
      },
      "execution_count": 21,
      "outputs": [
        {
          "output_type": "execute_result",
          "data": {
            "text/plain": [
              "y_yes\n",
              "0        39922\n",
              "1         5289\n",
              "dtype: int64"
            ]
          },
          "metadata": {},
          "execution_count": 21
        }
      ]
    },
    {
      "cell_type": "code",
      "source": [
        "df_piv.info()"
      ],
      "metadata": {
        "colab": {
          "base_uri": "https://localhost:8080/"
        },
        "id": "f_e5tfndO5_K",
        "outputId": "d30a8a23-5503-4bea-ca70-b5b182426d02"
      },
      "execution_count": 22,
      "outputs": [
        {
          "output_type": "stream",
          "name": "stdout",
          "text": [
            "<class 'pandas.core.frame.DataFrame'>\n",
            "RangeIndex: 45211 entries, 0 to 45210\n",
            "Data columns (total 34 columns):\n",
            " #   Column             Non-Null Count  Dtype \n",
            "---  ------             --------------  ----- \n",
            " 0   age                45211 non-null  int64 \n",
            " 1   education          45211 non-null  object\n",
            " 2   balance            45211 non-null  int64 \n",
            " 3   day                45211 non-null  int64 \n",
            " 4   month              45211 non-null  object\n",
            " 5   duration           45211 non-null  int64 \n",
            " 6   campaign           45211 non-null  int64 \n",
            " 7   pdays              45211 non-null  int64 \n",
            " 8   previous           45211 non-null  int64 \n",
            " 9   job_admin.         45211 non-null  uint8 \n",
            " 10  job_blue-collar    45211 non-null  uint8 \n",
            " 11  job_entrepreneur   45211 non-null  uint8 \n",
            " 12  job_housemaid      45211 non-null  uint8 \n",
            " 13  job_management     45211 non-null  uint8 \n",
            " 14  job_retired        45211 non-null  uint8 \n",
            " 15  job_self-employed  45211 non-null  uint8 \n",
            " 16  job_services       45211 non-null  uint8 \n",
            " 17  job_student        45211 non-null  uint8 \n",
            " 18  job_technician     45211 non-null  uint8 \n",
            " 19  job_unemployed     45211 non-null  uint8 \n",
            " 20  job_unknown        45211 non-null  uint8 \n",
            " 21  marital_divorced   45211 non-null  uint8 \n",
            " 22  marital_married    45211 non-null  uint8 \n",
            " 23  marital_single     45211 non-null  uint8 \n",
            " 24  poutcome_failure   45211 non-null  uint8 \n",
            " 25  poutcome_other     45211 non-null  uint8 \n",
            " 26  poutcome_success   45211 non-null  uint8 \n",
            " 27  poutcome_unknown   45211 non-null  uint8 \n",
            " 28  default_yes        45211 non-null  uint8 \n",
            " 29  housing_yes        45211 non-null  uint8 \n",
            " 30  loan_yes           45211 non-null  uint8 \n",
            " 31  contact_telephone  45211 non-null  uint8 \n",
            " 32  contact_unknown    45211 non-null  uint8 \n",
            " 33  y_yes              45211 non-null  uint8 \n",
            "dtypes: int64(7), object(2), uint8(25)\n",
            "memory usage: 4.2+ MB\n"
          ]
        }
      ]
    },
    {
      "cell_type": "markdown",
      "source": [
        "Eliminamos columna duration"
      ],
      "metadata": {
        "id": "Xwr6tjjJbuvL"
      }
    },
    {
      "cell_type": "code",
      "source": [
        "df_piv.drop(['duration'],axis=1,inplace=True)"
      ],
      "metadata": {
        "id": "l93IUiDlb9ww"
      },
      "execution_count": 23,
      "outputs": []
    },
    {
      "cell_type": "code",
      "source": [
        "df_piv.info()"
      ],
      "metadata": {
        "colab": {
          "base_uri": "https://localhost:8080/"
        },
        "id": "rkXo5yJwcIu-",
        "outputId": "98b66c55-7f20-484e-8e06-7ed4bb20f8b8"
      },
      "execution_count": 24,
      "outputs": [
        {
          "output_type": "stream",
          "name": "stdout",
          "text": [
            "<class 'pandas.core.frame.DataFrame'>\n",
            "RangeIndex: 45211 entries, 0 to 45210\n",
            "Data columns (total 33 columns):\n",
            " #   Column             Non-Null Count  Dtype \n",
            "---  ------             --------------  ----- \n",
            " 0   age                45211 non-null  int64 \n",
            " 1   education          45211 non-null  object\n",
            " 2   balance            45211 non-null  int64 \n",
            " 3   day                45211 non-null  int64 \n",
            " 4   month              45211 non-null  object\n",
            " 5   campaign           45211 non-null  int64 \n",
            " 6   pdays              45211 non-null  int64 \n",
            " 7   previous           45211 non-null  int64 \n",
            " 8   job_admin.         45211 non-null  uint8 \n",
            " 9   job_blue-collar    45211 non-null  uint8 \n",
            " 10  job_entrepreneur   45211 non-null  uint8 \n",
            " 11  job_housemaid      45211 non-null  uint8 \n",
            " 12  job_management     45211 non-null  uint8 \n",
            " 13  job_retired        45211 non-null  uint8 \n",
            " 14  job_self-employed  45211 non-null  uint8 \n",
            " 15  job_services       45211 non-null  uint8 \n",
            " 16  job_student        45211 non-null  uint8 \n",
            " 17  job_technician     45211 non-null  uint8 \n",
            " 18  job_unemployed     45211 non-null  uint8 \n",
            " 19  job_unknown        45211 non-null  uint8 \n",
            " 20  marital_divorced   45211 non-null  uint8 \n",
            " 21  marital_married    45211 non-null  uint8 \n",
            " 22  marital_single     45211 non-null  uint8 \n",
            " 23  poutcome_failure   45211 non-null  uint8 \n",
            " 24  poutcome_other     45211 non-null  uint8 \n",
            " 25  poutcome_success   45211 non-null  uint8 \n",
            " 26  poutcome_unknown   45211 non-null  uint8 \n",
            " 27  default_yes        45211 non-null  uint8 \n",
            " 28  housing_yes        45211 non-null  uint8 \n",
            " 29  loan_yes           45211 non-null  uint8 \n",
            " 30  contact_telephone  45211 non-null  uint8 \n",
            " 31  contact_unknown    45211 non-null  uint8 \n",
            " 32  y_yes              45211 non-null  uint8 \n",
            "dtypes: int64(6), object(2), uint8(25)\n",
            "memory usage: 3.8+ MB\n"
          ]
        }
      ]
    },
    {
      "cell_type": "markdown",
      "source": [
        "Convertimos variables Ordinales"
      ],
      "metadata": {
        "id": "LihgYIn_ch7_"
      }
    },
    {
      "cell_type": "code",
      "source": [
        "df_bank.education.value_counts()"
      ],
      "metadata": {
        "colab": {
          "base_uri": "https://localhost:8080/"
        },
        "id": "bMu7owM9dODQ",
        "outputId": "c01337e0-6f1e-427f-da81-0a288b60f0fd"
      },
      "execution_count": 25,
      "outputs": [
        {
          "output_type": "execute_result",
          "data": {
            "text/plain": [
              "secondary    23202\n",
              "tertiary     13301\n",
              "primary       6851\n",
              "unknown       1857\n",
              "Name: education, dtype: int64"
            ]
          },
          "metadata": {},
          "execution_count": 25
        }
      ]
    },
    {
      "cell_type": "code",
      "source": [
        "df_piv.education"
      ],
      "metadata": {
        "colab": {
          "base_uri": "https://localhost:8080/"
        },
        "id": "Nsjpna8ReC5V",
        "outputId": "948bda9f-5d85-447a-c52f-312b7c5c083a"
      },
      "execution_count": 26,
      "outputs": [
        {
          "output_type": "execute_result",
          "data": {
            "text/plain": [
              "0         tertiary\n",
              "1        secondary\n",
              "2        secondary\n",
              "3          unknown\n",
              "4          unknown\n",
              "           ...    \n",
              "45206     tertiary\n",
              "45207      primary\n",
              "45208    secondary\n",
              "45209    secondary\n",
              "45210    secondary\n",
              "Name: education, Length: 45211, dtype: object"
            ]
          },
          "metadata": {},
          "execution_count": 26
        }
      ]
    },
    {
      "cell_type": "code",
      "source": [
        "# Variable education \n",
        "education_orden=OrdinalEncoder(categories=[[\"unknown\",\"primary\",\"secondary\",\"tertiary\"]])\n",
        "#Train la conversion\n",
        "education_orden.fit(df_piv[['education']])\n",
        "#Agregar variable convertida\n",
        "df_piv['education_orden']=education_orden.transform(df_piv[['education']])"
      ],
      "metadata": {
        "id": "Rf96bXvuPefw"
      },
      "execution_count": 27,
      "outputs": []
    },
    {
      "cell_type": "code",
      "source": [
        "df_piv.columns"
      ],
      "metadata": {
        "colab": {
          "base_uri": "https://localhost:8080/"
        },
        "id": "5Dp_s18EeRBG",
        "outputId": "6f334e60-a6b5-43ed-d516-d19472521b5f"
      },
      "execution_count": 28,
      "outputs": [
        {
          "output_type": "execute_result",
          "data": {
            "text/plain": [
              "Index(['age', 'education', 'balance', 'day', 'month', 'campaign', 'pdays',\n",
              "       'previous', 'job_admin.', 'job_blue-collar', 'job_entrepreneur',\n",
              "       'job_housemaid', 'job_management', 'job_retired', 'job_self-employed',\n",
              "       'job_services', 'job_student', 'job_technician', 'job_unemployed',\n",
              "       'job_unknown', 'marital_divorced', 'marital_married', 'marital_single',\n",
              "       'poutcome_failure', 'poutcome_other', 'poutcome_success',\n",
              "       'poutcome_unknown', 'default_yes', 'housing_yes', 'loan_yes',\n",
              "       'contact_telephone', 'contact_unknown', 'y_yes', 'education_orden'],\n",
              "      dtype='object')"
            ]
          },
          "metadata": {},
          "execution_count": 28
        }
      ]
    },
    {
      "cell_type": "code",
      "source": [
        "df_piv[['education','education_orden']].head(10)"
      ],
      "metadata": {
        "colab": {
          "base_uri": "https://localhost:8080/",
          "height": 363
        },
        "id": "lMGYQxkUeopA",
        "outputId": "5e0db368-ab3d-459e-b2c5-fc20c676c62c"
      },
      "execution_count": 29,
      "outputs": [
        {
          "output_type": "execute_result",
          "data": {
            "text/plain": [
              "   education  education_orden\n",
              "0   tertiary              3.0\n",
              "1  secondary              2.0\n",
              "2  secondary              2.0\n",
              "3    unknown              0.0\n",
              "4    unknown              0.0\n",
              "5   tertiary              3.0\n",
              "6   tertiary              3.0\n",
              "7   tertiary              3.0\n",
              "8    primary              1.0\n",
              "9  secondary              2.0"
            ],
            "text/html": [
              "\n",
              "  <div id=\"df-05b4cc7c-2573-4709-bc2c-c246b3ea214c\">\n",
              "    <div class=\"colab-df-container\">\n",
              "      <div>\n",
              "<style scoped>\n",
              "    .dataframe tbody tr th:only-of-type {\n",
              "        vertical-align: middle;\n",
              "    }\n",
              "\n",
              "    .dataframe tbody tr th {\n",
              "        vertical-align: top;\n",
              "    }\n",
              "\n",
              "    .dataframe thead th {\n",
              "        text-align: right;\n",
              "    }\n",
              "</style>\n",
              "<table border=\"1\" class=\"dataframe\">\n",
              "  <thead>\n",
              "    <tr style=\"text-align: right;\">\n",
              "      <th></th>\n",
              "      <th>education</th>\n",
              "      <th>education_orden</th>\n",
              "    </tr>\n",
              "  </thead>\n",
              "  <tbody>\n",
              "    <tr>\n",
              "      <th>0</th>\n",
              "      <td>tertiary</td>\n",
              "      <td>3.0</td>\n",
              "    </tr>\n",
              "    <tr>\n",
              "      <th>1</th>\n",
              "      <td>secondary</td>\n",
              "      <td>2.0</td>\n",
              "    </tr>\n",
              "    <tr>\n",
              "      <th>2</th>\n",
              "      <td>secondary</td>\n",
              "      <td>2.0</td>\n",
              "    </tr>\n",
              "    <tr>\n",
              "      <th>3</th>\n",
              "      <td>unknown</td>\n",
              "      <td>0.0</td>\n",
              "    </tr>\n",
              "    <tr>\n",
              "      <th>4</th>\n",
              "      <td>unknown</td>\n",
              "      <td>0.0</td>\n",
              "    </tr>\n",
              "    <tr>\n",
              "      <th>5</th>\n",
              "      <td>tertiary</td>\n",
              "      <td>3.0</td>\n",
              "    </tr>\n",
              "    <tr>\n",
              "      <th>6</th>\n",
              "      <td>tertiary</td>\n",
              "      <td>3.0</td>\n",
              "    </tr>\n",
              "    <tr>\n",
              "      <th>7</th>\n",
              "      <td>tertiary</td>\n",
              "      <td>3.0</td>\n",
              "    </tr>\n",
              "    <tr>\n",
              "      <th>8</th>\n",
              "      <td>primary</td>\n",
              "      <td>1.0</td>\n",
              "    </tr>\n",
              "    <tr>\n",
              "      <th>9</th>\n",
              "      <td>secondary</td>\n",
              "      <td>2.0</td>\n",
              "    </tr>\n",
              "  </tbody>\n",
              "</table>\n",
              "</div>\n",
              "      <button class=\"colab-df-convert\" onclick=\"convertToInteractive('df-05b4cc7c-2573-4709-bc2c-c246b3ea214c')\"\n",
              "              title=\"Convert this dataframe to an interactive table.\"\n",
              "              style=\"display:none;\">\n",
              "        \n",
              "  <svg xmlns=\"http://www.w3.org/2000/svg\" height=\"24px\"viewBox=\"0 0 24 24\"\n",
              "       width=\"24px\">\n",
              "    <path d=\"M0 0h24v24H0V0z\" fill=\"none\"/>\n",
              "    <path d=\"M18.56 5.44l.94 2.06.94-2.06 2.06-.94-2.06-.94-.94-2.06-.94 2.06-2.06.94zm-11 1L8.5 8.5l.94-2.06 2.06-.94-2.06-.94L8.5 2.5l-.94 2.06-2.06.94zm10 10l.94 2.06.94-2.06 2.06-.94-2.06-.94-.94-2.06-.94 2.06-2.06.94z\"/><path d=\"M17.41 7.96l-1.37-1.37c-.4-.4-.92-.59-1.43-.59-.52 0-1.04.2-1.43.59L10.3 9.45l-7.72 7.72c-.78.78-.78 2.05 0 2.83L4 21.41c.39.39.9.59 1.41.59.51 0 1.02-.2 1.41-.59l7.78-7.78 2.81-2.81c.8-.78.8-2.07 0-2.86zM5.41 20L4 18.59l7.72-7.72 1.47 1.35L5.41 20z\"/>\n",
              "  </svg>\n",
              "      </button>\n",
              "      \n",
              "  <style>\n",
              "    .colab-df-container {\n",
              "      display:flex;\n",
              "      flex-wrap:wrap;\n",
              "      gap: 12px;\n",
              "    }\n",
              "\n",
              "    .colab-df-convert {\n",
              "      background-color: #E8F0FE;\n",
              "      border: none;\n",
              "      border-radius: 50%;\n",
              "      cursor: pointer;\n",
              "      display: none;\n",
              "      fill: #1967D2;\n",
              "      height: 32px;\n",
              "      padding: 0 0 0 0;\n",
              "      width: 32px;\n",
              "    }\n",
              "\n",
              "    .colab-df-convert:hover {\n",
              "      background-color: #E2EBFA;\n",
              "      box-shadow: 0px 1px 2px rgba(60, 64, 67, 0.3), 0px 1px 3px 1px rgba(60, 64, 67, 0.15);\n",
              "      fill: #174EA6;\n",
              "    }\n",
              "\n",
              "    [theme=dark] .colab-df-convert {\n",
              "      background-color: #3B4455;\n",
              "      fill: #D2E3FC;\n",
              "    }\n",
              "\n",
              "    [theme=dark] .colab-df-convert:hover {\n",
              "      background-color: #434B5C;\n",
              "      box-shadow: 0px 1px 3px 1px rgba(0, 0, 0, 0.15);\n",
              "      filter: drop-shadow(0px 1px 2px rgba(0, 0, 0, 0.3));\n",
              "      fill: #FFFFFF;\n",
              "    }\n",
              "  </style>\n",
              "\n",
              "      <script>\n",
              "        const buttonEl =\n",
              "          document.querySelector('#df-05b4cc7c-2573-4709-bc2c-c246b3ea214c button.colab-df-convert');\n",
              "        buttonEl.style.display =\n",
              "          google.colab.kernel.accessAllowed ? 'block' : 'none';\n",
              "\n",
              "        async function convertToInteractive(key) {\n",
              "          const element = document.querySelector('#df-05b4cc7c-2573-4709-bc2c-c246b3ea214c');\n",
              "          const dataTable =\n",
              "            await google.colab.kernel.invokeFunction('convertToInteractive',\n",
              "                                                     [key], {});\n",
              "          if (!dataTable) return;\n",
              "\n",
              "          const docLinkHtml = 'Like what you see? Visit the ' +\n",
              "            '<a target=\"_blank\" href=https://colab.research.google.com/notebooks/data_table.ipynb>data table notebook</a>'\n",
              "            + ' to learn more about interactive tables.';\n",
              "          element.innerHTML = '';\n",
              "          dataTable['output_type'] = 'display_data';\n",
              "          await google.colab.output.renderOutput(dataTable, element);\n",
              "          const docLink = document.createElement('div');\n",
              "          docLink.innerHTML = docLinkHtml;\n",
              "          element.appendChild(docLink);\n",
              "        }\n",
              "      </script>\n",
              "    </div>\n",
              "  </div>\n",
              "  "
            ]
          },
          "metadata": {},
          "execution_count": 29
        }
      ]
    },
    {
      "cell_type": "code",
      "source": [
        "df_bank.month.value_counts()"
      ],
      "metadata": {
        "colab": {
          "base_uri": "https://localhost:8080/"
        },
        "id": "-1rGGcf3fBM3",
        "outputId": "0a4ffc78-e83c-44d8-9c97-aef2e8faee4b"
      },
      "execution_count": 30,
      "outputs": [
        {
          "output_type": "execute_result",
          "data": {
            "text/plain": [
              "may    13766\n",
              "jul     6895\n",
              "aug     6247\n",
              "jun     5341\n",
              "nov     3970\n",
              "apr     2932\n",
              "feb     2649\n",
              "jan     1403\n",
              "oct      738\n",
              "sep      579\n",
              "mar      477\n",
              "dec      214\n",
              "Name: month, dtype: int64"
            ]
          },
          "metadata": {},
          "execution_count": 30
        }
      ]
    },
    {
      "cell_type": "code",
      "source": [
        "# Variable Month \n",
        "month_orden=OrdinalEncoder(categories=[[\"jan\",\"feb\",\"mar\",\"apr\",\"may\",\"jun\",\"jul\",\"aug\",\"sep\",\"oct\",\"nov\",\"dec\"]])\n",
        "#Train la conversion\n",
        "month_orden.fit(df_piv[['month']])\n",
        "#Agregar variable convertida\n",
        "df_piv['month_orden']=month_orden.transform(df_piv[['month']])"
      ],
      "metadata": {
        "id": "aM9QfLYce84h"
      },
      "execution_count": 31,
      "outputs": []
    },
    {
      "cell_type": "code",
      "source": [
        "df_piv.columns"
      ],
      "metadata": {
        "colab": {
          "base_uri": "https://localhost:8080/"
        },
        "id": "Iv5Bm7HdfnQX",
        "outputId": "76765b79-1ee4-41f6-de34-3e62d11b8d72"
      },
      "execution_count": 32,
      "outputs": [
        {
          "output_type": "execute_result",
          "data": {
            "text/plain": [
              "Index(['age', 'education', 'balance', 'day', 'month', 'campaign', 'pdays',\n",
              "       'previous', 'job_admin.', 'job_blue-collar', 'job_entrepreneur',\n",
              "       'job_housemaid', 'job_management', 'job_retired', 'job_self-employed',\n",
              "       'job_services', 'job_student', 'job_technician', 'job_unemployed',\n",
              "       'job_unknown', 'marital_divorced', 'marital_married', 'marital_single',\n",
              "       'poutcome_failure', 'poutcome_other', 'poutcome_success',\n",
              "       'poutcome_unknown', 'default_yes', 'housing_yes', 'loan_yes',\n",
              "       'contact_telephone', 'contact_unknown', 'y_yes', 'education_orden',\n",
              "       'month_orden'],\n",
              "      dtype='object')"
            ]
          },
          "metadata": {},
          "execution_count": 32
        }
      ]
    },
    {
      "cell_type": "code",
      "source": [
        "df_piv[['month','month_orden']].head(10)"
      ],
      "metadata": {
        "colab": {
          "base_uri": "https://localhost:8080/",
          "height": 363
        },
        "id": "Anpq2YUFfrPP",
        "outputId": "72a0b9e7-c9c2-4f5a-d403-960f9b6f3a73"
      },
      "execution_count": 33,
      "outputs": [
        {
          "output_type": "execute_result",
          "data": {
            "text/plain": [
              "  month  month_orden\n",
              "0   may          4.0\n",
              "1   may          4.0\n",
              "2   may          4.0\n",
              "3   may          4.0\n",
              "4   may          4.0\n",
              "5   may          4.0\n",
              "6   may          4.0\n",
              "7   may          4.0\n",
              "8   may          4.0\n",
              "9   may          4.0"
            ],
            "text/html": [
              "\n",
              "  <div id=\"df-c83d9528-825f-4da4-88df-8f15dfb35025\">\n",
              "    <div class=\"colab-df-container\">\n",
              "      <div>\n",
              "<style scoped>\n",
              "    .dataframe tbody tr th:only-of-type {\n",
              "        vertical-align: middle;\n",
              "    }\n",
              "\n",
              "    .dataframe tbody tr th {\n",
              "        vertical-align: top;\n",
              "    }\n",
              "\n",
              "    .dataframe thead th {\n",
              "        text-align: right;\n",
              "    }\n",
              "</style>\n",
              "<table border=\"1\" class=\"dataframe\">\n",
              "  <thead>\n",
              "    <tr style=\"text-align: right;\">\n",
              "      <th></th>\n",
              "      <th>month</th>\n",
              "      <th>month_orden</th>\n",
              "    </tr>\n",
              "  </thead>\n",
              "  <tbody>\n",
              "    <tr>\n",
              "      <th>0</th>\n",
              "      <td>may</td>\n",
              "      <td>4.0</td>\n",
              "    </tr>\n",
              "    <tr>\n",
              "      <th>1</th>\n",
              "      <td>may</td>\n",
              "      <td>4.0</td>\n",
              "    </tr>\n",
              "    <tr>\n",
              "      <th>2</th>\n",
              "      <td>may</td>\n",
              "      <td>4.0</td>\n",
              "    </tr>\n",
              "    <tr>\n",
              "      <th>3</th>\n",
              "      <td>may</td>\n",
              "      <td>4.0</td>\n",
              "    </tr>\n",
              "    <tr>\n",
              "      <th>4</th>\n",
              "      <td>may</td>\n",
              "      <td>4.0</td>\n",
              "    </tr>\n",
              "    <tr>\n",
              "      <th>5</th>\n",
              "      <td>may</td>\n",
              "      <td>4.0</td>\n",
              "    </tr>\n",
              "    <tr>\n",
              "      <th>6</th>\n",
              "      <td>may</td>\n",
              "      <td>4.0</td>\n",
              "    </tr>\n",
              "    <tr>\n",
              "      <th>7</th>\n",
              "      <td>may</td>\n",
              "      <td>4.0</td>\n",
              "    </tr>\n",
              "    <tr>\n",
              "      <th>8</th>\n",
              "      <td>may</td>\n",
              "      <td>4.0</td>\n",
              "    </tr>\n",
              "    <tr>\n",
              "      <th>9</th>\n",
              "      <td>may</td>\n",
              "      <td>4.0</td>\n",
              "    </tr>\n",
              "  </tbody>\n",
              "</table>\n",
              "</div>\n",
              "      <button class=\"colab-df-convert\" onclick=\"convertToInteractive('df-c83d9528-825f-4da4-88df-8f15dfb35025')\"\n",
              "              title=\"Convert this dataframe to an interactive table.\"\n",
              "              style=\"display:none;\">\n",
              "        \n",
              "  <svg xmlns=\"http://www.w3.org/2000/svg\" height=\"24px\"viewBox=\"0 0 24 24\"\n",
              "       width=\"24px\">\n",
              "    <path d=\"M0 0h24v24H0V0z\" fill=\"none\"/>\n",
              "    <path d=\"M18.56 5.44l.94 2.06.94-2.06 2.06-.94-2.06-.94-.94-2.06-.94 2.06-2.06.94zm-11 1L8.5 8.5l.94-2.06 2.06-.94-2.06-.94L8.5 2.5l-.94 2.06-2.06.94zm10 10l.94 2.06.94-2.06 2.06-.94-2.06-.94-.94-2.06-.94 2.06-2.06.94z\"/><path d=\"M17.41 7.96l-1.37-1.37c-.4-.4-.92-.59-1.43-.59-.52 0-1.04.2-1.43.59L10.3 9.45l-7.72 7.72c-.78.78-.78 2.05 0 2.83L4 21.41c.39.39.9.59 1.41.59.51 0 1.02-.2 1.41-.59l7.78-7.78 2.81-2.81c.8-.78.8-2.07 0-2.86zM5.41 20L4 18.59l7.72-7.72 1.47 1.35L5.41 20z\"/>\n",
              "  </svg>\n",
              "      </button>\n",
              "      \n",
              "  <style>\n",
              "    .colab-df-container {\n",
              "      display:flex;\n",
              "      flex-wrap:wrap;\n",
              "      gap: 12px;\n",
              "    }\n",
              "\n",
              "    .colab-df-convert {\n",
              "      background-color: #E8F0FE;\n",
              "      border: none;\n",
              "      border-radius: 50%;\n",
              "      cursor: pointer;\n",
              "      display: none;\n",
              "      fill: #1967D2;\n",
              "      height: 32px;\n",
              "      padding: 0 0 0 0;\n",
              "      width: 32px;\n",
              "    }\n",
              "\n",
              "    .colab-df-convert:hover {\n",
              "      background-color: #E2EBFA;\n",
              "      box-shadow: 0px 1px 2px rgba(60, 64, 67, 0.3), 0px 1px 3px 1px rgba(60, 64, 67, 0.15);\n",
              "      fill: #174EA6;\n",
              "    }\n",
              "\n",
              "    [theme=dark] .colab-df-convert {\n",
              "      background-color: #3B4455;\n",
              "      fill: #D2E3FC;\n",
              "    }\n",
              "\n",
              "    [theme=dark] .colab-df-convert:hover {\n",
              "      background-color: #434B5C;\n",
              "      box-shadow: 0px 1px 3px 1px rgba(0, 0, 0, 0.15);\n",
              "      filter: drop-shadow(0px 1px 2px rgba(0, 0, 0, 0.3));\n",
              "      fill: #FFFFFF;\n",
              "    }\n",
              "  </style>\n",
              "\n",
              "      <script>\n",
              "        const buttonEl =\n",
              "          document.querySelector('#df-c83d9528-825f-4da4-88df-8f15dfb35025 button.colab-df-convert');\n",
              "        buttonEl.style.display =\n",
              "          google.colab.kernel.accessAllowed ? 'block' : 'none';\n",
              "\n",
              "        async function convertToInteractive(key) {\n",
              "          const element = document.querySelector('#df-c83d9528-825f-4da4-88df-8f15dfb35025');\n",
              "          const dataTable =\n",
              "            await google.colab.kernel.invokeFunction('convertToInteractive',\n",
              "                                                     [key], {});\n",
              "          if (!dataTable) return;\n",
              "\n",
              "          const docLinkHtml = 'Like what you see? Visit the ' +\n",
              "            '<a target=\"_blank\" href=https://colab.research.google.com/notebooks/data_table.ipynb>data table notebook</a>'\n",
              "            + ' to learn more about interactive tables.';\n",
              "          element.innerHTML = '';\n",
              "          dataTable['output_type'] = 'display_data';\n",
              "          await google.colab.output.renderOutput(dataTable, element);\n",
              "          const docLink = document.createElement('div');\n",
              "          docLink.innerHTML = docLinkHtml;\n",
              "          element.appendChild(docLink);\n",
              "        }\n",
              "      </script>\n",
              "    </div>\n",
              "  </div>\n",
              "  "
            ]
          },
          "metadata": {},
          "execution_count": 33
        }
      ]
    },
    {
      "cell_type": "markdown",
      "source": [
        "borramos variables ordinales puras"
      ],
      "metadata": {
        "id": "c65vimO2f2cQ"
      }
    },
    {
      "cell_type": "code",
      "source": [
        "df_piv.drop(['month','education'],axis=1,inplace=True)"
      ],
      "metadata": {
        "id": "Ybey9CGNf5Kc"
      },
      "execution_count": 34,
      "outputs": []
    },
    {
      "cell_type": "code",
      "source": [
        "df_piv.columns"
      ],
      "metadata": {
        "colab": {
          "base_uri": "https://localhost:8080/"
        },
        "id": "dpi8HF1DgDEs",
        "outputId": "cd6726b3-e7e8-4a46-a485-3de5c31b6ebc"
      },
      "execution_count": 35,
      "outputs": [
        {
          "output_type": "execute_result",
          "data": {
            "text/plain": [
              "Index(['age', 'balance', 'day', 'campaign', 'pdays', 'previous', 'job_admin.',\n",
              "       'job_blue-collar', 'job_entrepreneur', 'job_housemaid',\n",
              "       'job_management', 'job_retired', 'job_self-employed', 'job_services',\n",
              "       'job_student', 'job_technician', 'job_unemployed', 'job_unknown',\n",
              "       'marital_divorced', 'marital_married', 'marital_single',\n",
              "       'poutcome_failure', 'poutcome_other', 'poutcome_success',\n",
              "       'poutcome_unknown', 'default_yes', 'housing_yes', 'loan_yes',\n",
              "       'contact_telephone', 'contact_unknown', 'y_yes', 'education_orden',\n",
              "       'month_orden'],\n",
              "      dtype='object')"
            ]
          },
          "metadata": {},
          "execution_count": 35
        }
      ]
    },
    {
      "cell_type": "code",
      "source": [
        "df_bank.job.value_counts()"
      ],
      "metadata": {
        "colab": {
          "base_uri": "https://localhost:8080/"
        },
        "id": "lWfZPHPWgnet",
        "outputId": "ee2805a7-1352-4ab6-a21b-b018a85eab57"
      },
      "execution_count": 36,
      "outputs": [
        {
          "output_type": "execute_result",
          "data": {
            "text/plain": [
              "blue-collar      9732\n",
              "management       9458\n",
              "technician       7597\n",
              "admin.           5171\n",
              "services         4154\n",
              "retired          2264\n",
              "self-employed    1579\n",
              "entrepreneur     1487\n",
              "unemployed       1303\n",
              "housemaid        1240\n",
              "student           938\n",
              "unknown           288\n",
              "Name: job, dtype: int64"
            ]
          },
          "metadata": {},
          "execution_count": 36
        }
      ]
    },
    {
      "cell_type": "code",
      "source": [
        "df_piv[['y_yes']]"
      ],
      "metadata": {
        "colab": {
          "base_uri": "https://localhost:8080/",
          "height": 423
        },
        "id": "TB6pcPIWgevL",
        "outputId": "68de5503-93e4-4d52-edf2-db67a9f5d678"
      },
      "execution_count": 37,
      "outputs": [
        {
          "output_type": "execute_result",
          "data": {
            "text/plain": [
              "       y_yes\n",
              "0          0\n",
              "1          0\n",
              "2          0\n",
              "3          0\n",
              "4          0\n",
              "...      ...\n",
              "45206      1\n",
              "45207      1\n",
              "45208      1\n",
              "45209      0\n",
              "45210      0\n",
              "\n",
              "[45211 rows x 1 columns]"
            ],
            "text/html": [
              "\n",
              "  <div id=\"df-2ef1b1f1-c0c3-4437-a807-4c1894d40469\">\n",
              "    <div class=\"colab-df-container\">\n",
              "      <div>\n",
              "<style scoped>\n",
              "    .dataframe tbody tr th:only-of-type {\n",
              "        vertical-align: middle;\n",
              "    }\n",
              "\n",
              "    .dataframe tbody tr th {\n",
              "        vertical-align: top;\n",
              "    }\n",
              "\n",
              "    .dataframe thead th {\n",
              "        text-align: right;\n",
              "    }\n",
              "</style>\n",
              "<table border=\"1\" class=\"dataframe\">\n",
              "  <thead>\n",
              "    <tr style=\"text-align: right;\">\n",
              "      <th></th>\n",
              "      <th>y_yes</th>\n",
              "    </tr>\n",
              "  </thead>\n",
              "  <tbody>\n",
              "    <tr>\n",
              "      <th>0</th>\n",
              "      <td>0</td>\n",
              "    </tr>\n",
              "    <tr>\n",
              "      <th>1</th>\n",
              "      <td>0</td>\n",
              "    </tr>\n",
              "    <tr>\n",
              "      <th>2</th>\n",
              "      <td>0</td>\n",
              "    </tr>\n",
              "    <tr>\n",
              "      <th>3</th>\n",
              "      <td>0</td>\n",
              "    </tr>\n",
              "    <tr>\n",
              "      <th>4</th>\n",
              "      <td>0</td>\n",
              "    </tr>\n",
              "    <tr>\n",
              "      <th>...</th>\n",
              "      <td>...</td>\n",
              "    </tr>\n",
              "    <tr>\n",
              "      <th>45206</th>\n",
              "      <td>1</td>\n",
              "    </tr>\n",
              "    <tr>\n",
              "      <th>45207</th>\n",
              "      <td>1</td>\n",
              "    </tr>\n",
              "    <tr>\n",
              "      <th>45208</th>\n",
              "      <td>1</td>\n",
              "    </tr>\n",
              "    <tr>\n",
              "      <th>45209</th>\n",
              "      <td>0</td>\n",
              "    </tr>\n",
              "    <tr>\n",
              "      <th>45210</th>\n",
              "      <td>0</td>\n",
              "    </tr>\n",
              "  </tbody>\n",
              "</table>\n",
              "<p>45211 rows × 1 columns</p>\n",
              "</div>\n",
              "      <button class=\"colab-df-convert\" onclick=\"convertToInteractive('df-2ef1b1f1-c0c3-4437-a807-4c1894d40469')\"\n",
              "              title=\"Convert this dataframe to an interactive table.\"\n",
              "              style=\"display:none;\">\n",
              "        \n",
              "  <svg xmlns=\"http://www.w3.org/2000/svg\" height=\"24px\"viewBox=\"0 0 24 24\"\n",
              "       width=\"24px\">\n",
              "    <path d=\"M0 0h24v24H0V0z\" fill=\"none\"/>\n",
              "    <path d=\"M18.56 5.44l.94 2.06.94-2.06 2.06-.94-2.06-.94-.94-2.06-.94 2.06-2.06.94zm-11 1L8.5 8.5l.94-2.06 2.06-.94-2.06-.94L8.5 2.5l-.94 2.06-2.06.94zm10 10l.94 2.06.94-2.06 2.06-.94-2.06-.94-.94-2.06-.94 2.06-2.06.94z\"/><path d=\"M17.41 7.96l-1.37-1.37c-.4-.4-.92-.59-1.43-.59-.52 0-1.04.2-1.43.59L10.3 9.45l-7.72 7.72c-.78.78-.78 2.05 0 2.83L4 21.41c.39.39.9.59 1.41.59.51 0 1.02-.2 1.41-.59l7.78-7.78 2.81-2.81c.8-.78.8-2.07 0-2.86zM5.41 20L4 18.59l7.72-7.72 1.47 1.35L5.41 20z\"/>\n",
              "  </svg>\n",
              "      </button>\n",
              "      \n",
              "  <style>\n",
              "    .colab-df-container {\n",
              "      display:flex;\n",
              "      flex-wrap:wrap;\n",
              "      gap: 12px;\n",
              "    }\n",
              "\n",
              "    .colab-df-convert {\n",
              "      background-color: #E8F0FE;\n",
              "      border: none;\n",
              "      border-radius: 50%;\n",
              "      cursor: pointer;\n",
              "      display: none;\n",
              "      fill: #1967D2;\n",
              "      height: 32px;\n",
              "      padding: 0 0 0 0;\n",
              "      width: 32px;\n",
              "    }\n",
              "\n",
              "    .colab-df-convert:hover {\n",
              "      background-color: #E2EBFA;\n",
              "      box-shadow: 0px 1px 2px rgba(60, 64, 67, 0.3), 0px 1px 3px 1px rgba(60, 64, 67, 0.15);\n",
              "      fill: #174EA6;\n",
              "    }\n",
              "\n",
              "    [theme=dark] .colab-df-convert {\n",
              "      background-color: #3B4455;\n",
              "      fill: #D2E3FC;\n",
              "    }\n",
              "\n",
              "    [theme=dark] .colab-df-convert:hover {\n",
              "      background-color: #434B5C;\n",
              "      box-shadow: 0px 1px 3px 1px rgba(0, 0, 0, 0.15);\n",
              "      filter: drop-shadow(0px 1px 2px rgba(0, 0, 0, 0.3));\n",
              "      fill: #FFFFFF;\n",
              "    }\n",
              "  </style>\n",
              "\n",
              "      <script>\n",
              "        const buttonEl =\n",
              "          document.querySelector('#df-2ef1b1f1-c0c3-4437-a807-4c1894d40469 button.colab-df-convert');\n",
              "        buttonEl.style.display =\n",
              "          google.colab.kernel.accessAllowed ? 'block' : 'none';\n",
              "\n",
              "        async function convertToInteractive(key) {\n",
              "          const element = document.querySelector('#df-2ef1b1f1-c0c3-4437-a807-4c1894d40469');\n",
              "          const dataTable =\n",
              "            await google.colab.kernel.invokeFunction('convertToInteractive',\n",
              "                                                     [key], {});\n",
              "          if (!dataTable) return;\n",
              "\n",
              "          const docLinkHtml = 'Like what you see? Visit the ' +\n",
              "            '<a target=\"_blank\" href=https://colab.research.google.com/notebooks/data_table.ipynb>data table notebook</a>'\n",
              "            + ' to learn more about interactive tables.';\n",
              "          element.innerHTML = '';\n",
              "          dataTable['output_type'] = 'display_data';\n",
              "          await google.colab.output.renderOutput(dataTable, element);\n",
              "          const docLink = document.createElement('div');\n",
              "          docLink.innerHTML = docLinkHtml;\n",
              "          element.appendChild(docLink);\n",
              "        }\n",
              "      </script>\n",
              "    </div>\n",
              "  </div>\n",
              "  "
            ]
          },
          "metadata": {},
          "execution_count": 37
        }
      ]
    },
    {
      "cell_type": "code",
      "source": [
        "df_piv.head(3)"
      ],
      "metadata": {
        "colab": {
          "base_uri": "https://localhost:8080/",
          "height": 254
        },
        "id": "sjjUgJ4SgE-r",
        "outputId": "0250fab5-0008-4be3-89f2-33354a3d8279"
      },
      "execution_count": 38,
      "outputs": [
        {
          "output_type": "execute_result",
          "data": {
            "text/plain": [
              "   age  balance  day  campaign  pdays  previous  job_admin.  job_blue-collar  \\\n",
              "0   58     2143    5         1     -1         0           0                0   \n",
              "1   44       29    5         1     -1         0           0                0   \n",
              "2   33        2    5         1     -1         0           0                0   \n",
              "\n",
              "   job_entrepreneur  job_housemaid  ...  poutcome_success  poutcome_unknown  \\\n",
              "0                 0              0  ...                 0                 1   \n",
              "1                 0              0  ...                 0                 1   \n",
              "2                 1              0  ...                 0                 1   \n",
              "\n",
              "   default_yes  housing_yes  loan_yes  contact_telephone  contact_unknown  \\\n",
              "0            0            1         0                  0                1   \n",
              "1            0            1         0                  0                1   \n",
              "2            0            1         1                  0                1   \n",
              "\n",
              "   y_yes  education_orden  month_orden  \n",
              "0      0              3.0          4.0  \n",
              "1      0              2.0          4.0  \n",
              "2      0              2.0          4.0  \n",
              "\n",
              "[3 rows x 33 columns]"
            ],
            "text/html": [
              "\n",
              "  <div id=\"df-12d2b02f-7dcc-46a3-9875-bc8ada7c3f08\">\n",
              "    <div class=\"colab-df-container\">\n",
              "      <div>\n",
              "<style scoped>\n",
              "    .dataframe tbody tr th:only-of-type {\n",
              "        vertical-align: middle;\n",
              "    }\n",
              "\n",
              "    .dataframe tbody tr th {\n",
              "        vertical-align: top;\n",
              "    }\n",
              "\n",
              "    .dataframe thead th {\n",
              "        text-align: right;\n",
              "    }\n",
              "</style>\n",
              "<table border=\"1\" class=\"dataframe\">\n",
              "  <thead>\n",
              "    <tr style=\"text-align: right;\">\n",
              "      <th></th>\n",
              "      <th>age</th>\n",
              "      <th>balance</th>\n",
              "      <th>day</th>\n",
              "      <th>campaign</th>\n",
              "      <th>pdays</th>\n",
              "      <th>previous</th>\n",
              "      <th>job_admin.</th>\n",
              "      <th>job_blue-collar</th>\n",
              "      <th>job_entrepreneur</th>\n",
              "      <th>job_housemaid</th>\n",
              "      <th>...</th>\n",
              "      <th>poutcome_success</th>\n",
              "      <th>poutcome_unknown</th>\n",
              "      <th>default_yes</th>\n",
              "      <th>housing_yes</th>\n",
              "      <th>loan_yes</th>\n",
              "      <th>contact_telephone</th>\n",
              "      <th>contact_unknown</th>\n",
              "      <th>y_yes</th>\n",
              "      <th>education_orden</th>\n",
              "      <th>month_orden</th>\n",
              "    </tr>\n",
              "  </thead>\n",
              "  <tbody>\n",
              "    <tr>\n",
              "      <th>0</th>\n",
              "      <td>58</td>\n",
              "      <td>2143</td>\n",
              "      <td>5</td>\n",
              "      <td>1</td>\n",
              "      <td>-1</td>\n",
              "      <td>0</td>\n",
              "      <td>0</td>\n",
              "      <td>0</td>\n",
              "      <td>0</td>\n",
              "      <td>0</td>\n",
              "      <td>...</td>\n",
              "      <td>0</td>\n",
              "      <td>1</td>\n",
              "      <td>0</td>\n",
              "      <td>1</td>\n",
              "      <td>0</td>\n",
              "      <td>0</td>\n",
              "      <td>1</td>\n",
              "      <td>0</td>\n",
              "      <td>3.0</td>\n",
              "      <td>4.0</td>\n",
              "    </tr>\n",
              "    <tr>\n",
              "      <th>1</th>\n",
              "      <td>44</td>\n",
              "      <td>29</td>\n",
              "      <td>5</td>\n",
              "      <td>1</td>\n",
              "      <td>-1</td>\n",
              "      <td>0</td>\n",
              "      <td>0</td>\n",
              "      <td>0</td>\n",
              "      <td>0</td>\n",
              "      <td>0</td>\n",
              "      <td>...</td>\n",
              "      <td>0</td>\n",
              "      <td>1</td>\n",
              "      <td>0</td>\n",
              "      <td>1</td>\n",
              "      <td>0</td>\n",
              "      <td>0</td>\n",
              "      <td>1</td>\n",
              "      <td>0</td>\n",
              "      <td>2.0</td>\n",
              "      <td>4.0</td>\n",
              "    </tr>\n",
              "    <tr>\n",
              "      <th>2</th>\n",
              "      <td>33</td>\n",
              "      <td>2</td>\n",
              "      <td>5</td>\n",
              "      <td>1</td>\n",
              "      <td>-1</td>\n",
              "      <td>0</td>\n",
              "      <td>0</td>\n",
              "      <td>0</td>\n",
              "      <td>1</td>\n",
              "      <td>0</td>\n",
              "      <td>...</td>\n",
              "      <td>0</td>\n",
              "      <td>1</td>\n",
              "      <td>0</td>\n",
              "      <td>1</td>\n",
              "      <td>1</td>\n",
              "      <td>0</td>\n",
              "      <td>1</td>\n",
              "      <td>0</td>\n",
              "      <td>2.0</td>\n",
              "      <td>4.0</td>\n",
              "    </tr>\n",
              "  </tbody>\n",
              "</table>\n",
              "<p>3 rows × 33 columns</p>\n",
              "</div>\n",
              "      <button class=\"colab-df-convert\" onclick=\"convertToInteractive('df-12d2b02f-7dcc-46a3-9875-bc8ada7c3f08')\"\n",
              "              title=\"Convert this dataframe to an interactive table.\"\n",
              "              style=\"display:none;\">\n",
              "        \n",
              "  <svg xmlns=\"http://www.w3.org/2000/svg\" height=\"24px\"viewBox=\"0 0 24 24\"\n",
              "       width=\"24px\">\n",
              "    <path d=\"M0 0h24v24H0V0z\" fill=\"none\"/>\n",
              "    <path d=\"M18.56 5.44l.94 2.06.94-2.06 2.06-.94-2.06-.94-.94-2.06-.94 2.06-2.06.94zm-11 1L8.5 8.5l.94-2.06 2.06-.94-2.06-.94L8.5 2.5l-.94 2.06-2.06.94zm10 10l.94 2.06.94-2.06 2.06-.94-2.06-.94-.94-2.06-.94 2.06-2.06.94z\"/><path d=\"M17.41 7.96l-1.37-1.37c-.4-.4-.92-.59-1.43-.59-.52 0-1.04.2-1.43.59L10.3 9.45l-7.72 7.72c-.78.78-.78 2.05 0 2.83L4 21.41c.39.39.9.59 1.41.59.51 0 1.02-.2 1.41-.59l7.78-7.78 2.81-2.81c.8-.78.8-2.07 0-2.86zM5.41 20L4 18.59l7.72-7.72 1.47 1.35L5.41 20z\"/>\n",
              "  </svg>\n",
              "      </button>\n",
              "      \n",
              "  <style>\n",
              "    .colab-df-container {\n",
              "      display:flex;\n",
              "      flex-wrap:wrap;\n",
              "      gap: 12px;\n",
              "    }\n",
              "\n",
              "    .colab-df-convert {\n",
              "      background-color: #E8F0FE;\n",
              "      border: none;\n",
              "      border-radius: 50%;\n",
              "      cursor: pointer;\n",
              "      display: none;\n",
              "      fill: #1967D2;\n",
              "      height: 32px;\n",
              "      padding: 0 0 0 0;\n",
              "      width: 32px;\n",
              "    }\n",
              "\n",
              "    .colab-df-convert:hover {\n",
              "      background-color: #E2EBFA;\n",
              "      box-shadow: 0px 1px 2px rgba(60, 64, 67, 0.3), 0px 1px 3px 1px rgba(60, 64, 67, 0.15);\n",
              "      fill: #174EA6;\n",
              "    }\n",
              "\n",
              "    [theme=dark] .colab-df-convert {\n",
              "      background-color: #3B4455;\n",
              "      fill: #D2E3FC;\n",
              "    }\n",
              "\n",
              "    [theme=dark] .colab-df-convert:hover {\n",
              "      background-color: #434B5C;\n",
              "      box-shadow: 0px 1px 3px 1px rgba(0, 0, 0, 0.15);\n",
              "      filter: drop-shadow(0px 1px 2px rgba(0, 0, 0, 0.3));\n",
              "      fill: #FFFFFF;\n",
              "    }\n",
              "  </style>\n",
              "\n",
              "      <script>\n",
              "        const buttonEl =\n",
              "          document.querySelector('#df-12d2b02f-7dcc-46a3-9875-bc8ada7c3f08 button.colab-df-convert');\n",
              "        buttonEl.style.display =\n",
              "          google.colab.kernel.accessAllowed ? 'block' : 'none';\n",
              "\n",
              "        async function convertToInteractive(key) {\n",
              "          const element = document.querySelector('#df-12d2b02f-7dcc-46a3-9875-bc8ada7c3f08');\n",
              "          const dataTable =\n",
              "            await google.colab.kernel.invokeFunction('convertToInteractive',\n",
              "                                                     [key], {});\n",
              "          if (!dataTable) return;\n",
              "\n",
              "          const docLinkHtml = 'Like what you see? Visit the ' +\n",
              "            '<a target=\"_blank\" href=https://colab.research.google.com/notebooks/data_table.ipynb>data table notebook</a>'\n",
              "            + ' to learn more about interactive tables.';\n",
              "          element.innerHTML = '';\n",
              "          dataTable['output_type'] = 'display_data';\n",
              "          await google.colab.output.renderOutput(dataTable, element);\n",
              "          const docLink = document.createElement('div');\n",
              "          docLink.innerHTML = docLinkHtml;\n",
              "          element.appendChild(docLink);\n",
              "        }\n",
              "      </script>\n",
              "    </div>\n",
              "  </div>\n",
              "  "
            ]
          },
          "metadata": {},
          "execution_count": 38
        }
      ]
    },
    {
      "cell_type": "markdown",
      "source": [
        "Entrenamiento de red neuronal\n",
        "\n",
        "> Bloc con sangría\n",
        "\n"
      ],
      "metadata": {
        "id": "YxyY1rBuiF3h"
      }
    },
    {
      "cell_type": "code",
      "source": [
        "from sklearn.metrics import confusion_matrix\n",
        "from tabulate import tabulate\n",
        "from sklearn.neural_network import MLPClassifier\n",
        "from sklearn.preprocessing import StandardScaler\n",
        "from sklearn.model_selection import train_test_split\n",
        "from sklearn.metrics import recall_score\n",
        "from sklearn import metrics"
      ],
      "metadata": {
        "id": "msEFWglhiKiq"
      },
      "execution_count": 39,
      "outputs": []
    },
    {
      "cell_type": "code",
      "source": [
        "df_piv_no_classes = df_piv.drop(columns='y_yes').copy()\n",
        "df_piv_no_classes.head()"
      ],
      "metadata": {
        "colab": {
          "base_uri": "https://localhost:8080/",
          "height": 317
        },
        "id": "gnkpTdYBjBJ-",
        "outputId": "d15ccbaa-388b-4e07-aa1e-c9b119c43dbb"
      },
      "execution_count": 40,
      "outputs": [
        {
          "output_type": "execute_result",
          "data": {
            "text/plain": [
              "   age  balance  day  campaign  pdays  previous  job_admin.  job_blue-collar  \\\n",
              "0   58     2143    5         1     -1         0           0                0   \n",
              "1   44       29    5         1     -1         0           0                0   \n",
              "2   33        2    5         1     -1         0           0                0   \n",
              "3   47     1506    5         1     -1         0           0                1   \n",
              "4   33        1    5         1     -1         0           0                0   \n",
              "\n",
              "   job_entrepreneur  job_housemaid  ...  poutcome_other  poutcome_success  \\\n",
              "0                 0              0  ...               0                 0   \n",
              "1                 0              0  ...               0                 0   \n",
              "2                 1              0  ...               0                 0   \n",
              "3                 0              0  ...               0                 0   \n",
              "4                 0              0  ...               0                 0   \n",
              "\n",
              "   poutcome_unknown  default_yes  housing_yes  loan_yes  contact_telephone  \\\n",
              "0                 1            0            1         0                  0   \n",
              "1                 1            0            1         0                  0   \n",
              "2                 1            0            1         1                  0   \n",
              "3                 1            0            1         0                  0   \n",
              "4                 1            0            0         0                  0   \n",
              "\n",
              "   contact_unknown  education_orden  month_orden  \n",
              "0                1              3.0          4.0  \n",
              "1                1              2.0          4.0  \n",
              "2                1              2.0          4.0  \n",
              "3                1              0.0          4.0  \n",
              "4                1              0.0          4.0  \n",
              "\n",
              "[5 rows x 32 columns]"
            ],
            "text/html": [
              "\n",
              "  <div id=\"df-35ae936f-a63a-4dfa-bfa0-aa9b36cb3849\">\n",
              "    <div class=\"colab-df-container\">\n",
              "      <div>\n",
              "<style scoped>\n",
              "    .dataframe tbody tr th:only-of-type {\n",
              "        vertical-align: middle;\n",
              "    }\n",
              "\n",
              "    .dataframe tbody tr th {\n",
              "        vertical-align: top;\n",
              "    }\n",
              "\n",
              "    .dataframe thead th {\n",
              "        text-align: right;\n",
              "    }\n",
              "</style>\n",
              "<table border=\"1\" class=\"dataframe\">\n",
              "  <thead>\n",
              "    <tr style=\"text-align: right;\">\n",
              "      <th></th>\n",
              "      <th>age</th>\n",
              "      <th>balance</th>\n",
              "      <th>day</th>\n",
              "      <th>campaign</th>\n",
              "      <th>pdays</th>\n",
              "      <th>previous</th>\n",
              "      <th>job_admin.</th>\n",
              "      <th>job_blue-collar</th>\n",
              "      <th>job_entrepreneur</th>\n",
              "      <th>job_housemaid</th>\n",
              "      <th>...</th>\n",
              "      <th>poutcome_other</th>\n",
              "      <th>poutcome_success</th>\n",
              "      <th>poutcome_unknown</th>\n",
              "      <th>default_yes</th>\n",
              "      <th>housing_yes</th>\n",
              "      <th>loan_yes</th>\n",
              "      <th>contact_telephone</th>\n",
              "      <th>contact_unknown</th>\n",
              "      <th>education_orden</th>\n",
              "      <th>month_orden</th>\n",
              "    </tr>\n",
              "  </thead>\n",
              "  <tbody>\n",
              "    <tr>\n",
              "      <th>0</th>\n",
              "      <td>58</td>\n",
              "      <td>2143</td>\n",
              "      <td>5</td>\n",
              "      <td>1</td>\n",
              "      <td>-1</td>\n",
              "      <td>0</td>\n",
              "      <td>0</td>\n",
              "      <td>0</td>\n",
              "      <td>0</td>\n",
              "      <td>0</td>\n",
              "      <td>...</td>\n",
              "      <td>0</td>\n",
              "      <td>0</td>\n",
              "      <td>1</td>\n",
              "      <td>0</td>\n",
              "      <td>1</td>\n",
              "      <td>0</td>\n",
              "      <td>0</td>\n",
              "      <td>1</td>\n",
              "      <td>3.0</td>\n",
              "      <td>4.0</td>\n",
              "    </tr>\n",
              "    <tr>\n",
              "      <th>1</th>\n",
              "      <td>44</td>\n",
              "      <td>29</td>\n",
              "      <td>5</td>\n",
              "      <td>1</td>\n",
              "      <td>-1</td>\n",
              "      <td>0</td>\n",
              "      <td>0</td>\n",
              "      <td>0</td>\n",
              "      <td>0</td>\n",
              "      <td>0</td>\n",
              "      <td>...</td>\n",
              "      <td>0</td>\n",
              "      <td>0</td>\n",
              "      <td>1</td>\n",
              "      <td>0</td>\n",
              "      <td>1</td>\n",
              "      <td>0</td>\n",
              "      <td>0</td>\n",
              "      <td>1</td>\n",
              "      <td>2.0</td>\n",
              "      <td>4.0</td>\n",
              "    </tr>\n",
              "    <tr>\n",
              "      <th>2</th>\n",
              "      <td>33</td>\n",
              "      <td>2</td>\n",
              "      <td>5</td>\n",
              "      <td>1</td>\n",
              "      <td>-1</td>\n",
              "      <td>0</td>\n",
              "      <td>0</td>\n",
              "      <td>0</td>\n",
              "      <td>1</td>\n",
              "      <td>0</td>\n",
              "      <td>...</td>\n",
              "      <td>0</td>\n",
              "      <td>0</td>\n",
              "      <td>1</td>\n",
              "      <td>0</td>\n",
              "      <td>1</td>\n",
              "      <td>1</td>\n",
              "      <td>0</td>\n",
              "      <td>1</td>\n",
              "      <td>2.0</td>\n",
              "      <td>4.0</td>\n",
              "    </tr>\n",
              "    <tr>\n",
              "      <th>3</th>\n",
              "      <td>47</td>\n",
              "      <td>1506</td>\n",
              "      <td>5</td>\n",
              "      <td>1</td>\n",
              "      <td>-1</td>\n",
              "      <td>0</td>\n",
              "      <td>0</td>\n",
              "      <td>1</td>\n",
              "      <td>0</td>\n",
              "      <td>0</td>\n",
              "      <td>...</td>\n",
              "      <td>0</td>\n",
              "      <td>0</td>\n",
              "      <td>1</td>\n",
              "      <td>0</td>\n",
              "      <td>1</td>\n",
              "      <td>0</td>\n",
              "      <td>0</td>\n",
              "      <td>1</td>\n",
              "      <td>0.0</td>\n",
              "      <td>4.0</td>\n",
              "    </tr>\n",
              "    <tr>\n",
              "      <th>4</th>\n",
              "      <td>33</td>\n",
              "      <td>1</td>\n",
              "      <td>5</td>\n",
              "      <td>1</td>\n",
              "      <td>-1</td>\n",
              "      <td>0</td>\n",
              "      <td>0</td>\n",
              "      <td>0</td>\n",
              "      <td>0</td>\n",
              "      <td>0</td>\n",
              "      <td>...</td>\n",
              "      <td>0</td>\n",
              "      <td>0</td>\n",
              "      <td>1</td>\n",
              "      <td>0</td>\n",
              "      <td>0</td>\n",
              "      <td>0</td>\n",
              "      <td>0</td>\n",
              "      <td>1</td>\n",
              "      <td>0.0</td>\n",
              "      <td>4.0</td>\n",
              "    </tr>\n",
              "  </tbody>\n",
              "</table>\n",
              "<p>5 rows × 32 columns</p>\n",
              "</div>\n",
              "      <button class=\"colab-df-convert\" onclick=\"convertToInteractive('df-35ae936f-a63a-4dfa-bfa0-aa9b36cb3849')\"\n",
              "              title=\"Convert this dataframe to an interactive table.\"\n",
              "              style=\"display:none;\">\n",
              "        \n",
              "  <svg xmlns=\"http://www.w3.org/2000/svg\" height=\"24px\"viewBox=\"0 0 24 24\"\n",
              "       width=\"24px\">\n",
              "    <path d=\"M0 0h24v24H0V0z\" fill=\"none\"/>\n",
              "    <path d=\"M18.56 5.44l.94 2.06.94-2.06 2.06-.94-2.06-.94-.94-2.06-.94 2.06-2.06.94zm-11 1L8.5 8.5l.94-2.06 2.06-.94-2.06-.94L8.5 2.5l-.94 2.06-2.06.94zm10 10l.94 2.06.94-2.06 2.06-.94-2.06-.94-.94-2.06-.94 2.06-2.06.94z\"/><path d=\"M17.41 7.96l-1.37-1.37c-.4-.4-.92-.59-1.43-.59-.52 0-1.04.2-1.43.59L10.3 9.45l-7.72 7.72c-.78.78-.78 2.05 0 2.83L4 21.41c.39.39.9.59 1.41.59.51 0 1.02-.2 1.41-.59l7.78-7.78 2.81-2.81c.8-.78.8-2.07 0-2.86zM5.41 20L4 18.59l7.72-7.72 1.47 1.35L5.41 20z\"/>\n",
              "  </svg>\n",
              "      </button>\n",
              "      \n",
              "  <style>\n",
              "    .colab-df-container {\n",
              "      display:flex;\n",
              "      flex-wrap:wrap;\n",
              "      gap: 12px;\n",
              "    }\n",
              "\n",
              "    .colab-df-convert {\n",
              "      background-color: #E8F0FE;\n",
              "      border: none;\n",
              "      border-radius: 50%;\n",
              "      cursor: pointer;\n",
              "      display: none;\n",
              "      fill: #1967D2;\n",
              "      height: 32px;\n",
              "      padding: 0 0 0 0;\n",
              "      width: 32px;\n",
              "    }\n",
              "\n",
              "    .colab-df-convert:hover {\n",
              "      background-color: #E2EBFA;\n",
              "      box-shadow: 0px 1px 2px rgba(60, 64, 67, 0.3), 0px 1px 3px 1px rgba(60, 64, 67, 0.15);\n",
              "      fill: #174EA6;\n",
              "    }\n",
              "\n",
              "    [theme=dark] .colab-df-convert {\n",
              "      background-color: #3B4455;\n",
              "      fill: #D2E3FC;\n",
              "    }\n",
              "\n",
              "    [theme=dark] .colab-df-convert:hover {\n",
              "      background-color: #434B5C;\n",
              "      box-shadow: 0px 1px 3px 1px rgba(0, 0, 0, 0.15);\n",
              "      filter: drop-shadow(0px 1px 2px rgba(0, 0, 0, 0.3));\n",
              "      fill: #FFFFFF;\n",
              "    }\n",
              "  </style>\n",
              "\n",
              "      <script>\n",
              "        const buttonEl =\n",
              "          document.querySelector('#df-35ae936f-a63a-4dfa-bfa0-aa9b36cb3849 button.colab-df-convert');\n",
              "        buttonEl.style.display =\n",
              "          google.colab.kernel.accessAllowed ? 'block' : 'none';\n",
              "\n",
              "        async function convertToInteractive(key) {\n",
              "          const element = document.querySelector('#df-35ae936f-a63a-4dfa-bfa0-aa9b36cb3849');\n",
              "          const dataTable =\n",
              "            await google.colab.kernel.invokeFunction('convertToInteractive',\n",
              "                                                     [key], {});\n",
              "          if (!dataTable) return;\n",
              "\n",
              "          const docLinkHtml = 'Like what you see? Visit the ' +\n",
              "            '<a target=\"_blank\" href=https://colab.research.google.com/notebooks/data_table.ipynb>data table notebook</a>'\n",
              "            + ' to learn more about interactive tables.';\n",
              "          element.innerHTML = '';\n",
              "          dataTable['output_type'] = 'display_data';\n",
              "          await google.colab.output.renderOutput(dataTable, element);\n",
              "          const docLink = document.createElement('div');\n",
              "          docLink.innerHTML = docLinkHtml;\n",
              "          element.appendChild(docLink);\n",
              "        }\n",
              "      </script>\n",
              "    </div>\n",
              "  </div>\n",
              "  "
            ]
          },
          "metadata": {},
          "execution_count": 40
        }
      ]
    },
    {
      "cell_type": "code",
      "source": [
        "df_piv_no_classes.columns"
      ],
      "metadata": {
        "colab": {
          "base_uri": "https://localhost:8080/"
        },
        "id": "Nv9CSG6ujYP7",
        "outputId": "75595296-e4f1-4068-d74e-0ad0ea4194c4"
      },
      "execution_count": 41,
      "outputs": [
        {
          "output_type": "execute_result",
          "data": {
            "text/plain": [
              "Index(['age', 'balance', 'day', 'campaign', 'pdays', 'previous', 'job_admin.',\n",
              "       'job_blue-collar', 'job_entrepreneur', 'job_housemaid',\n",
              "       'job_management', 'job_retired', 'job_self-employed', 'job_services',\n",
              "       'job_student', 'job_technician', 'job_unemployed', 'job_unknown',\n",
              "       'marital_divorced', 'marital_married', 'marital_single',\n",
              "       'poutcome_failure', 'poutcome_other', 'poutcome_success',\n",
              "       'poutcome_unknown', 'default_yes', 'housing_yes', 'loan_yes',\n",
              "       'contact_telephone', 'contact_unknown', 'education_orden',\n",
              "       'month_orden'],\n",
              "      dtype='object')"
            ]
          },
          "metadata": {},
          "execution_count": 41
        }
      ]
    },
    {
      "cell_type": "code",
      "source": [
        "a=df_piv.hist(figsize=(20, 15))"
      ],
      "metadata": {
        "colab": {
          "base_uri": "https://localhost:8080/",
          "height": 879
        },
        "id": "oVfRWgBCjfeF",
        "outputId": "b785ddf9-d0c6-4b65-e60c-e91f00332ca2"
      },
      "execution_count": 42,
      "outputs": [
        {
          "output_type": "display_data",
          "data": {
            "text/plain": [
              "<Figure size 1440x1080 with 36 Axes>"
            ],
            "image/png": "[encoded data removed]"
          },
          "metadata": {
            "needs_background": "light"
          }
        }
      ]
    },
    {
      "cell_type": "code",
      "source": [
        "#d = pd.plotting.scatter_matrix(df_piv, c=df_piv.y_yes, cmap='Set1', figsize=(15, 15))"
      ],
      "metadata": {
        "id": "xyCrVslajzRe"
      },
      "execution_count": 43,
      "outputs": []
    },
    {
      "cell_type": "markdown",
      "source": [
        "Creamos la variable etiqueta"
      ],
      "metadata": {
        "id": "30FyITPckgzH"
      }
    },
    {
      "cell_type": "code",
      "source": [
        "y = df_piv[['y_yes']].values[:,0]\n",
        "y.shape"
      ],
      "metadata": {
        "colab": {
          "base_uri": "https://localhost:8080/"
        },
        "id": "Xxahl8YfkgHM",
        "outputId": "7672ee77-2601-48da-a4ff-3d4a8bb46bef"
      },
      "execution_count": 44,
      "outputs": [
        {
          "output_type": "execute_result",
          "data": {
            "text/plain": [
              "(45211,)"
            ]
          },
          "metadata": {},
          "execution_count": 44
        }
      ]
    },
    {
      "cell_type": "code",
      "source": [
        "y[0:2]"
      ],
      "metadata": {
        "colab": {
          "base_uri": "https://localhost:8080/"
        },
        "id": "HT4oI8mhB9zg",
        "outputId": "a9ce3587-7991-4dee-8bfd-019052855538"
      },
      "execution_count": 45,
      "outputs": [
        {
          "output_type": "execute_result",
          "data": {
            "text/plain": [
              "array([0, 0], dtype=uint8)"
            ]
          },
          "metadata": {},
          "execution_count": 45
        }
      ]
    },
    {
      "cell_type": "code",
      "source": [
        "y"
      ],
      "metadata": {
        "colab": {
          "base_uri": "https://localhost:8080/"
        },
        "id": "lOWVE4yskpmS",
        "outputId": "d1c1ae72-9055-47f1-9191-b51bcc03a1f3"
      },
      "execution_count": 46,
      "outputs": [
        {
          "output_type": "execute_result",
          "data": {
            "text/plain": [
              "array([0, 0, 0, ..., 1, 0, 0], dtype=uint8)"
            ]
          },
          "metadata": {},
          "execution_count": 46
        }
      ]
    },
    {
      "cell_type": "code",
      "source": [
        "x=df_piv_no_classes.values\n",
        "x.shape"
      ],
      "metadata": {
        "colab": {
          "base_uri": "https://localhost:8080/"
        },
        "id": "nBcnCcxNlz4E",
        "outputId": "7f071d70-b503-4c24-a51e-ecac3d2b35b2"
      },
      "execution_count": 47,
      "outputs": [
        {
          "output_type": "execute_result",
          "data": {
            "text/plain": [
              "(45211, 32)"
            ]
          },
          "metadata": {},
          "execution_count": 47
        }
      ]
    },
    {
      "cell_type": "code",
      "source": [
        "x[0]"
      ],
      "metadata": {
        "colab": {
          "base_uri": "https://localhost:8080/"
        },
        "id": "LzR3Sk0KmUI8",
        "outputId": "84ea194f-683f-41db-cdb1-6d26d1c1d31d"
      },
      "execution_count": 48,
      "outputs": [
        {
          "output_type": "execute_result",
          "data": {
            "text/plain": [
              "array([ 5.800e+01,  2.143e+03,  5.000e+00,  1.000e+00, -1.000e+00,\n",
              "        0.000e+00,  0.000e+00,  0.000e+00,  0.000e+00,  0.000e+00,\n",
              "        1.000e+00,  0.000e+00,  0.000e+00,  0.000e+00,  0.000e+00,\n",
              "        0.000e+00,  0.000e+00,  0.000e+00,  0.000e+00,  1.000e+00,\n",
              "        0.000e+00,  0.000e+00,  0.000e+00,  0.000e+00,  1.000e+00,\n",
              "        0.000e+00,  1.000e+00,  0.000e+00,  0.000e+00,  1.000e+00,\n",
              "        3.000e+00,  4.000e+00])"
            ]
          },
          "metadata": {},
          "execution_count": 48
        }
      ]
    },
    {
      "cell_type": "code",
      "source": [
        "df_piv_no_classes.head(1)"
      ],
      "metadata": {
        "colab": {
          "base_uri": "https://localhost:8080/",
          "height": 191
        },
        "id": "BrvzACQAmksB",
        "outputId": "3a28b7a5-6517-4897-f705-527f81b43c72"
      },
      "execution_count": 49,
      "outputs": [
        {
          "output_type": "execute_result",
          "data": {
            "text/plain": [
              "   age  balance  day  campaign  pdays  previous  job_admin.  job_blue-collar  \\\n",
              "0   58     2143    5         1     -1         0           0                0   \n",
              "\n",
              "   job_entrepreneur  job_housemaid  ...  poutcome_other  poutcome_success  \\\n",
              "0                 0              0  ...               0                 0   \n",
              "\n",
              "   poutcome_unknown  default_yes  housing_yes  loan_yes  contact_telephone  \\\n",
              "0                 1            0            1         0                  0   \n",
              "\n",
              "   contact_unknown  education_orden  month_orden  \n",
              "0                1              3.0          4.0  \n",
              "\n",
              "[1 rows x 32 columns]"
            ],
            "text/html": [
              "\n",
              "  <div id=\"df-4b53713b-a4a6-40cd-9efa-a7b507198603\">\n",
              "    <div class=\"colab-df-container\">\n",
              "      <div>\n",
              "<style scoped>\n",
              "    .dataframe tbody tr th:only-of-type {\n",
              "        vertical-align: middle;\n",
              "    }\n",
              "\n",
              "    .dataframe tbody tr th {\n",
              "        vertical-align: top;\n",
              "    }\n",
              "\n",
              "    .dataframe thead th {\n",
              "        text-align: right;\n",
              "    }\n",
              "</style>\n",
              "<table border=\"1\" class=\"dataframe\">\n",
              "  <thead>\n",
              "    <tr style=\"text-align: right;\">\n",
              "      <th></th>\n",
              "      <th>age</th>\n",
              "      <th>balance</th>\n",
              "      <th>day</th>\n",
              "      <th>campaign</th>\n",
              "      <th>pdays</th>\n",
              "      <th>previous</th>\n",
              "      <th>job_admin.</th>\n",
              "      <th>job_blue-collar</th>\n",
              "      <th>job_entrepreneur</th>\n",
              "      <th>job_housemaid</th>\n",
              "      <th>...</th>\n",
              "      <th>poutcome_other</th>\n",
              "      <th>poutcome_success</th>\n",
              "      <th>poutcome_unknown</th>\n",
              "      <th>default_yes</th>\n",
              "      <th>housing_yes</th>\n",
              "      <th>loan_yes</th>\n",
              "      <th>contact_telephone</th>\n",
              "      <th>contact_unknown</th>\n",
              "      <th>education_orden</th>\n",
              "      <th>month_orden</th>\n",
              "    </tr>\n",
              "  </thead>\n",
              "  <tbody>\n",
              "    <tr>\n",
              "      <th>0</th>\n",
              "      <td>58</td>\n",
              "      <td>2143</td>\n",
              "      <td>5</td>\n",
              "      <td>1</td>\n",
              "      <td>-1</td>\n",
              "      <td>0</td>\n",
              "      <td>0</td>\n",
              "      <td>0</td>\n",
              "      <td>0</td>\n",
              "      <td>0</td>\n",
              "      <td>...</td>\n",
              "      <td>0</td>\n",
              "      <td>0</td>\n",
              "      <td>1</td>\n",
              "      <td>0</td>\n",
              "      <td>1</td>\n",
              "      <td>0</td>\n",
              "      <td>0</td>\n",
              "      <td>1</td>\n",
              "      <td>3.0</td>\n",
              "      <td>4.0</td>\n",
              "    </tr>\n",
              "  </tbody>\n",
              "</table>\n",
              "<p>1 rows × 32 columns</p>\n",
              "</div>\n",
              "      <button class=\"colab-df-convert\" onclick=\"convertToInteractive('df-4b53713b-a4a6-40cd-9efa-a7b507198603')\"\n",
              "              title=\"Convert this dataframe to an interactive table.\"\n",
              "              style=\"display:none;\">\n",
              "        \n",
              "  <svg xmlns=\"http://www.w3.org/2000/svg\" height=\"24px\"viewBox=\"0 0 24 24\"\n",
              "       width=\"24px\">\n",
              "    <path d=\"M0 0h24v24H0V0z\" fill=\"none\"/>\n",
              "    <path d=\"M18.56 5.44l.94 2.06.94-2.06 2.06-.94-2.06-.94-.94-2.06-.94 2.06-2.06.94zm-11 1L8.5 8.5l.94-2.06 2.06-.94-2.06-.94L8.5 2.5l-.94 2.06-2.06.94zm10 10l.94 2.06.94-2.06 2.06-.94-2.06-.94-.94-2.06-.94 2.06-2.06.94z\"/><path d=\"M17.41 7.96l-1.37-1.37c-.4-.4-.92-.59-1.43-.59-.52 0-1.04.2-1.43.59L10.3 9.45l-7.72 7.72c-.78.78-.78 2.05 0 2.83L4 21.41c.39.39.9.59 1.41.59.51 0 1.02-.2 1.41-.59l7.78-7.78 2.81-2.81c.8-.78.8-2.07 0-2.86zM5.41 20L4 18.59l7.72-7.72 1.47 1.35L5.41 20z\"/>\n",
              "  </svg>\n",
              "      </button>\n",
              "      \n",
              "  <style>\n",
              "    .colab-df-container {\n",
              "      display:flex;\n",
              "      flex-wrap:wrap;\n",
              "      gap: 12px;\n",
              "    }\n",
              "\n",
              "    .colab-df-convert {\n",
              "      background-color: #E8F0FE;\n",
              "      border: none;\n",
              "      border-radius: 50%;\n",
              "      cursor: pointer;\n",
              "      display: none;\n",
              "      fill: #1967D2;\n",
              "      height: 32px;\n",
              "      padding: 0 0 0 0;\n",
              "      width: 32px;\n",
              "    }\n",
              "\n",
              "    .colab-df-convert:hover {\n",
              "      background-color: #E2EBFA;\n",
              "      box-shadow: 0px 1px 2px rgba(60, 64, 67, 0.3), 0px 1px 3px 1px rgba(60, 64, 67, 0.15);\n",
              "      fill: #174EA6;\n",
              "    }\n",
              "\n",
              "    [theme=dark] .colab-df-convert {\n",
              "      background-color: #3B4455;\n",
              "      fill: #D2E3FC;\n",
              "    }\n",
              "\n",
              "    [theme=dark] .colab-df-convert:hover {\n",
              "      background-color: #434B5C;\n",
              "      box-shadow: 0px 1px 3px 1px rgba(0, 0, 0, 0.15);\n",
              "      filter: drop-shadow(0px 1px 2px rgba(0, 0, 0, 0.3));\n",
              "      fill: #FFFFFF;\n",
              "    }\n",
              "  </style>\n",
              "\n",
              "      <script>\n",
              "        const buttonEl =\n",
              "          document.querySelector('#df-4b53713b-a4a6-40cd-9efa-a7b507198603 button.colab-df-convert');\n",
              "        buttonEl.style.display =\n",
              "          google.colab.kernel.accessAllowed ? 'block' : 'none';\n",
              "\n",
              "        async function convertToInteractive(key) {\n",
              "          const element = document.querySelector('#df-4b53713b-a4a6-40cd-9efa-a7b507198603');\n",
              "          const dataTable =\n",
              "            await google.colab.kernel.invokeFunction('convertToInteractive',\n",
              "                                                     [key], {});\n",
              "          if (!dataTable) return;\n",
              "\n",
              "          const docLinkHtml = 'Like what you see? Visit the ' +\n",
              "            '<a target=\"_blank\" href=https://colab.research.google.com/notebooks/data_table.ipynb>data table notebook</a>'\n",
              "            + ' to learn more about interactive tables.';\n",
              "          element.innerHTML = '';\n",
              "          dataTable['output_type'] = 'display_data';\n",
              "          await google.colab.output.renderOutput(dataTable, element);\n",
              "          const docLink = document.createElement('div');\n",
              "          docLink.innerHTML = docLinkHtml;\n",
              "          element.appendChild(docLink);\n",
              "        }\n",
              "      </script>\n",
              "    </div>\n",
              "  </div>\n",
              "  "
            ]
          },
          "metadata": {},
          "execution_count": 49
        }
      ]
    },
    {
      "cell_type": "code",
      "source": [
        "x[0]"
      ],
      "metadata": {
        "colab": {
          "base_uri": "https://localhost:8080/"
        },
        "id": "WnH_0zy3mOJX",
        "outputId": "c696ffba-2c3c-4a3a-bd73-647e1bde877c"
      },
      "execution_count": 50,
      "outputs": [
        {
          "output_type": "execute_result",
          "data": {
            "text/plain": [
              "array([ 5.800e+01,  2.143e+03,  5.000e+00,  1.000e+00, -1.000e+00,\n",
              "        0.000e+00,  0.000e+00,  0.000e+00,  0.000e+00,  0.000e+00,\n",
              "        1.000e+00,  0.000e+00,  0.000e+00,  0.000e+00,  0.000e+00,\n",
              "        0.000e+00,  0.000e+00,  0.000e+00,  0.000e+00,  1.000e+00,\n",
              "        0.000e+00,  0.000e+00,  0.000e+00,  0.000e+00,  1.000e+00,\n",
              "        0.000e+00,  1.000e+00,  0.000e+00,  0.000e+00,  1.000e+00,\n",
              "        3.000e+00,  4.000e+00])"
            ]
          },
          "metadata": {},
          "execution_count": 50
        }
      ]
    },
    {
      "cell_type": "code",
      "source": [
        "np.mean(x)"
      ],
      "metadata": {
        "colab": {
          "base_uri": "https://localhost:8080/"
        },
        "id": "mpkM8WQGm2cg",
        "outputId": "0f434835-29c5-4061-91da-93ffe3329b01"
      },
      "execution_count": 51,
      "outputs": [
        {
          "output_type": "execute_result",
          "data": {
            "text/plain": [
              "46.057756270597864"
            ]
          },
          "metadata": {},
          "execution_count": 51
        }
      ]
    },
    {
      "cell_type": "code",
      "source": [
        "np.std(x)"
      ],
      "metadata": {
        "colab": {
          "base_uri": "https://localhost:8080/"
        },
        "id": "QGC-iYnZm4p_",
        "outputId": "49af7271-5956-4c4a-94b2-17b4b1a1367f"
      },
      "execution_count": 52,
      "outputs": [
        {
          "output_type": "execute_result",
          "data": {
            "text/plain": [
              "588.2205700003472"
            ]
          },
          "metadata": {},
          "execution_count": 52
        }
      ]
    },
    {
      "cell_type": "code",
      "source": [
        "class_names = ['no','yes']"
      ],
      "metadata": {
        "id": "PxOHSQFaMUMa"
      },
      "execution_count": 53,
      "outputs": []
    },
    {
      "cell_type": "markdown",
      "source": [
        "**Tratando el desbalanceo**"
      ],
      "metadata": {
        "id": "y7SEAO9tLUfC"
      }
    },
    {
      "cell_type": "code",
      "source": [
        "from imblearn.combine import SMOTETomek\n",
        "from imblearn.ensemble import BalancedBaggingClassifier\n",
        "from collections import Counter"
      ],
      "metadata": {
        "id": "ADxnQy9dy8ye"
      },
      "execution_count": 54,
      "outputs": []
    },
    {
      "cell_type": "markdown",
      "source": [
        "Combinamos resampling con Smote-Tomek"
      ],
      "metadata": {
        "id": "ue4tVL1eAB6k"
      }
    },
    {
      "cell_type": "code",
      "source": [
        "smote_tomek = SMOTETomek(random_state=12)\n",
        "X_train_smt, y_train_smt = smote_tomek.fit_resample(x,y)\n",
        " \n",
        "print (\"Distribucion Original {}\".format(Counter(y)))\n",
        "print (\"Distribution despues smote-Tomek {}\".format(Counter(y_train_smt)))"
      ],
      "metadata": {
        "colab": {
          "base_uri": "https://localhost:8080/"
        },
        "id": "lhMeURajAJI_",
        "outputId": "3ee6ab91-aaf3-4cb6-a71f-bcb4871148db"
      },
      "execution_count": 55,
      "outputs": [
        {
          "output_type": "stream",
          "name": "stdout",
          "text": [
            "Distribucion Original Counter({0: 39922, 1: 5289})\n",
            "Distribution despues smote-Tomek Counter({0: 38900, 1: 38900})\n"
          ]
        }
      ]
    },
    {
      "cell_type": "code",
      "source": [
        "X_trainPF, X_testPF, y_trainPF, y_testPF = train_test_split(X_train_smt, y_train_smt, test_size=0.3, random_state=1, stratify=y_train_smt)\n",
        "pl.hist(y_trainPF, label=\"Train\")\n",
        "pl.hist(y_testPF, label=\"Test\")\n",
        "pl.legend()\n",
        "pl.title(\"Distribucion\")\n",
        "pl.show()"
      ],
      "metadata": {
        "colab": {
          "base_uri": "https://localhost:8080/",
          "height": 281
        },
        "id": "ugLHmb44COYx",
        "outputId": "5124ed68-fd5a-4096-8d10-e99f97e690ec"
      },
      "execution_count": 56,
      "outputs": [
        {
          "output_type": "display_data",
          "data": {
            "text/plain": [
              "<Figure size 432x288 with 1 Axes>"
            ],
            "image/png": "[encoded data removed]"
          },
          "metadata": {
            "needs_background": "light"
          }
        }
      ]
    },
    {
      "cell_type": "markdown",
      "source": [
        "**Modelo  con redes Neuronales**"
      ],
      "metadata": {
        "id": "EemcmgFsCp5s"
      }
    },
    {
      "cell_type": "code",
      "source": [
        "mlp_PRO_FLA = MLPClassifier(solver='lbfgs', max_iter=200,random_state=1,hidden_layer_sizes=(2,1))\n",
        "mlp_PRO_FLA.fit(X_trainPF, y_trainPF)\n",
        "prediction_testAM = mlp_PRO_FLA.predict(X_testPF)\n",
        "cnf_matrixAM = confusion_matrix(y_testPF, prediction_testAM)\n",
        "list_cm(cnf_matrixAM,class_names)\n",
        "print('SCORE entrenamiento: {}'.format(mlp_PRO_FLA.score(X_trainPF, y_trainPF)))\n",
        "print('Error en entrenamiento: {}'.format(1-mlp_PRO_FLA.score(X_trainPF, y_trainPF)))\n",
        "print('SCORE prueba: {}'.format(mlp_PRO_FLA.score(X_testPF, y_testPF)))\n",
        "print('Error en prueba: {}'.format(1-mlp_PRO_FLA.score(X_testPF, y_testPF)))\n",
        "sensibilidad=recall_score(y_testPF,prediction_testAM)\n",
        "print(\"Sensibilidad: {}\".format(sensibilidad))"
      ],
      "metadata": {
        "colab": {
          "base_uri": "https://localhost:8080/"
        },
        "id": "vT1FqparCrTY",
        "outputId": "63e2d7e5-da29-481e-d397-f0d14f12185e"
      },
      "execution_count": 57,
      "outputs": [
        {
          "output_type": "stream",
          "name": "stdout",
          "text": [
            "                Valor    Predicho\n",
            "---------  ---  -------  ----------\n",
            "           -    no       yes\n",
            "Valor      no   7703     3967\n",
            "Verdadero  yes  5112     6558\n",
            "SCORE entrenamiento: 0.6128167462357694\n",
            "Error en entrenamiento: 0.3871832537642306\n",
            "SCORE prueba: 0.6110111396743787\n",
            "Error en prueba: 0.3889888603256213\n",
            "Sensibilidad: 0.5619537275064267\n"
          ]
        }
      ]
    },
    {
      "cell_type": "markdown",
      "source": [
        "**Estandarizacion de datos**"
      ],
      "metadata": {
        "id": "QRU_4x0YDUJs"
      }
    },
    {
      "cell_type": "code",
      "source": [
        "x.shape"
      ],
      "metadata": {
        "colab": {
          "base_uri": "https://localhost:8080/"
        },
        "id": "Y2Hl6gYjDWw0",
        "outputId": "5d5978f3-4002-406d-9c1b-26cdffa42fb8"
      },
      "execution_count": 58,
      "outputs": [
        {
          "output_type": "execute_result",
          "data": {
            "text/plain": [
              "(45211, 32)"
            ]
          },
          "metadata": {},
          "execution_count": 58
        }
      ]
    },
    {
      "cell_type": "markdown",
      "source": [
        "Datos sin estandarizar"
      ],
      "metadata": {
        "id": "WMb8LLe9RSkm"
      }
    },
    {
      "cell_type": "code",
      "source": [
        "print(np.mean(X_train_smt)) \n",
        "print(np.std(X_train_smt))"
      ],
      "metadata": {
        "colab": {
          "base_uri": "https://localhost:8080/"
        },
        "id": "1gm9r9daRXHA",
        "outputId": "d6803f62-cef8-46db-c806-29d3d1639216"
      },
      "execution_count": 59,
      "outputs": [
        {
          "output_type": "stream",
          "name": "stdout",
          "text": [
            "50.376802312044404\n",
            "591.901700503802\n"
          ]
        }
      ]
    },
    {
      "cell_type": "markdown",
      "source": [
        "Datos estandarizados"
      ],
      "metadata": {
        "id": "Sgq7sn1kRbyj"
      }
    },
    {
      "cell_type": "code",
      "source": [
        "from sklearn.preprocessing import StandardScaler\n",
        "sc_x = StandardScaler()\n",
        "sc_x.fit(X_train_smt)\n",
        "X_scaler = sc_x.transform(X_train_smt)\n",
        "print(np.mean(X_scaler)) \n",
        "print(np.std(X_scaler))"
      ],
      "metadata": {
        "colab": {
          "base_uri": "https://localhost:8080/"
        },
        "id": "C4gcj8FQQMi6",
        "outputId": "48a8ca4d-3dfa-4686-a4a7-cb882a3f2eb3"
      },
      "execution_count": 60,
      "outputs": [
        {
          "output_type": "stream",
          "name": "stdout",
          "text": [
            "1.121296714433757e-16\n",
            "0.9999999999999396\n"
          ]
        }
      ]
    },
    {
      "cell_type": "code",
      "source": [
        "X_trainPF, X_testPF, y_trainPF, y_testPF = train_test_split(X_scaler, y_train_smt, test_size=0.3, random_state=123, stratify=y_train_smt)\n",
        "pl.hist(y_trainPF, label=\"Train\")\n",
        "pl.hist(y_testPF, label=\"Test\")\n",
        "pl.legend()\n",
        "pl.title(\"Distribucion\")\n",
        "pl.show()"
      ],
      "metadata": {
        "colab": {
          "base_uri": "https://localhost:8080/",
          "height": 281
        },
        "id": "VYJWICwhRKxw",
        "outputId": "d60a8fc1-ce05-4750-9f3e-abf9f3fa65d0"
      },
      "execution_count": 61,
      "outputs": [
        {
          "output_type": "display_data",
          "data": {
            "text/plain": [
              "<Figure size 432x288 with 1 Axes>"
            ],
            "image/png": "[encoded data removed]"
          },
          "metadata": {
            "needs_background": "light"
          }
        }
      ]
    },
    {
      "cell_type": "markdown",
      "source": [
        "Modelo"
      ],
      "metadata": {
        "id": "fCKord-mR4QO"
      }
    },
    {
      "cell_type": "code",
      "source": [
        "mlp_PRO_FLA = MLPClassifier(solver='lbfgs', max_iter=200,random_state=1,hidden_layer_sizes=(2,1))\n",
        "mlp_PRO_FLA.fit(X_trainPF, y_trainPF)\n",
        "prediction_testAM = mlp_PRO_FLA.predict(X_testPF)\n",
        "cnf_matrixAM = confusion_matrix(y_testPF, prediction_testAM)\n",
        "list_cm(cnf_matrixAM,class_names)\n",
        "print('SCORE entrenamiento: {}'.format(mlp_PRO_FLA.score(X_trainPF, y_trainPF)))\n",
        "print('Error en entrenamiento: {}'.format(1-mlp_PRO_FLA.score(X_trainPF, y_trainPF)))\n",
        "print('SCORE prueba: {}'.format(mlp_PRO_FLA.score(X_testPF, y_testPF)))\n",
        "print('Error en prueba: {}'.format(1-mlp_PRO_FLA.score(X_testPF, y_testPF)))\n",
        "sensibilidad=recall_score(y_testPF,prediction_testAM)\n",
        "print(\"Sensibilidad: {}\".format(sensibilidad))"
      ],
      "metadata": {
        "colab": {
          "base_uri": "https://localhost:8080/"
        },
        "id": "ORbuIWkMR9Gz",
        "outputId": "c815d014-2547-4020-cc07-05872eff8505"
      },
      "execution_count": 62,
      "outputs": [
        {
          "output_type": "stream",
          "name": "stdout",
          "text": [
            "                Valor    Predicho\n",
            "---------  ---  -------  ----------\n",
            "           -    no       yes\n",
            "Valor      no   8585     3085\n",
            "Verdadero  yes  4141     7529\n",
            "SCORE entrenamiento: 0.690213000367242\n",
            "Error en entrenamiento: 0.309786999632758\n",
            "SCORE prueba: 0.6904027420736932\n",
            "Error en prueba: 0.30959725792630677\n",
            "Sensibilidad: 0.6451585261353899\n"
          ]
        },
        {
          "output_type": "stream",
          "name": "stderr",
          "text": [
            "/usr/local/lib/python3.7/dist-packages/sklearn/neural_network/_multilayer_perceptron.py:549: ConvergenceWarning: lbfgs failed to converge (status=1):\n",
            "STOP: TOTAL NO. of ITERATIONS REACHED LIMIT.\n",
            "\n",
            "Increase the number of iterations (max_iter) or scale the data as shown in:\n",
            "    https://scikit-learn.org/stable/modules/preprocessing.html\n",
            "  self.n_iter_ = _check_optimize_result(\"lbfgs\", opt_res, self.max_iter)\n"
          ]
        }
      ]
    },
    {
      "cell_type": "markdown",
      "source": [
        "Importnacia de variables"
      ],
      "metadata": {
        "id": "eo2bUrncrxcf"
      }
    },
    {
      "cell_type": "code",
      "source": [
        "from sklearn.ensemble import RandomForestClassifier"
      ],
      "metadata": {
        "id": "osISjth0NuJN"
      },
      "execution_count": 63,
      "outputs": []
    },
    {
      "cell_type": "code",
      "source": [
        "clf = RandomForestClassifier(n_estimators=128, max_features=.4)\n",
        "clf.fit(X_trainPF, y_trainPF);"
      ],
      "metadata": {
        "id": "wqaP-6ktrz9S"
      },
      "execution_count": 64,
      "outputs": []
    },
    {
      "cell_type": "code",
      "source": [
        "prediction_testAM = clf.predict(X_testPF)\n",
        "cnf_matrixAM = confusion_matrix(y_testPF, prediction_testAM)\n",
        "list_cm(cnf_matrixAM,class_names)\n",
        "print('SCORE entrenamiento: {}'.format(clf.score(X_trainPF, y_trainPF)))\n",
        "print('Error en entrenamiento: {}'.format(1-clf.score(X_trainPF, y_trainPF)))\n",
        "print('SCORE prueba: {}'.format(clf.score(X_testPF, y_testPF)))\n",
        "print('Error en prueba: {}'.format(1-clf.score(X_testPF, y_testPF)))\n",
        "sensibilidad=recall_score(y_testPF,prediction_testAM)\n",
        "print(\"Sensibilidad: {}\".format(sensibilidad))"
      ],
      "metadata": {
        "id": "shrqKAtP1kmv",
        "colab": {
          "base_uri": "https://localhost:8080/"
        },
        "outputId": "b3bd94a0-7771-4f76-a289-ee11ef294402"
      },
      "execution_count": 65,
      "outputs": [
        {
          "output_type": "stream",
          "name": "stdout",
          "text": [
            "                Valor    Predicho\n",
            "---------  ---  -------  ----------\n",
            "           -    no       yes\n",
            "Valor      no   11350    320\n",
            "Verdadero  yes  1091     10579\n",
            "SCORE entrenamiento: 0.9999816378993757\n",
            "Error en entrenamiento: 1.8362100624336186e-05\n",
            "SCORE prueba: 0.9395458440445587\n",
            "Error en prueba: 0.06045415595544135\n",
            "Sensibilidad: 0.9065124250214225\n"
          ]
        }
      ]
    },
    {
      "cell_type": "code",
      "source": [
        "clf.feature_importances_"
      ],
      "metadata": {
        "id": "xMQQi2d6r6HN",
        "colab": {
          "base_uri": "https://localhost:8080/"
        },
        "outputId": "bcc4d839-0cf2-4de3-c1ea-120b434f320a"
      },
      "execution_count": 66,
      "outputs": [
        {
          "output_type": "execute_result",
          "data": {
            "text/plain": [
              "array([0.04921475, 0.05859549, 0.04458047, 0.03688888, 0.01846669,\n",
              "       0.01567997, 0.01149009, 0.03376248, 0.00209481, 0.00160973,\n",
              "       0.01961857, 0.00610961, 0.00286087, 0.00451479, 0.00503253,\n",
              "       0.01606044, 0.0034054 , 0.00049725, 0.01695672, 0.08753887,\n",
              "       0.03206142, 0.00716624, 0.00457344, 0.0735558 , 0.00624997,\n",
              "       0.00141791, 0.19280435, 0.02288506, 0.0060548 , 0.10474357,\n",
              "       0.035624  , 0.07788505])"
            ]
          },
          "metadata": {},
          "execution_count": 66
        }
      ]
    },
    {
      "cell_type": "code",
      "source": [
        "importances = clf.feature_importances_\n",
        "indices = np.argsort(importances)[::-1]\n",
        "\n",
        "print(\"Importancia de características:\")\n",
        "\n",
        "for f in range(X_trainPF.shape[1]):\n",
        "    print(\"Característica %s (%f)\" % (df_piv_no_classes.columns[int(indices[f])], importances[indices[f]]))"
      ],
      "metadata": {
        "id": "rro4HizAr-bi",
        "colab": {
          "base_uri": "https://localhost:8080/"
        },
        "outputId": "aaf0bcfc-7020-451a-9b05-d03cb376c9aa"
      },
      "execution_count": 67,
      "outputs": [
        {
          "output_type": "stream",
          "name": "stdout",
          "text": [
            "Importancia de características:\n",
            "Característica housing_yes (0.192804)\n",
            "Característica contact_unknown (0.104744)\n",
            "Característica marital_married (0.087539)\n",
            "Característica month_orden (0.077885)\n",
            "Característica poutcome_success (0.073556)\n",
            "Característica balance (0.058595)\n",
            "Característica age (0.049215)\n",
            "Característica day (0.044580)\n",
            "Característica campaign (0.036889)\n",
            "Característica education_orden (0.035624)\n",
            "Característica job_blue-collar (0.033762)\n",
            "Característica marital_single (0.032061)\n",
            "Característica loan_yes (0.022885)\n",
            "Característica job_management (0.019619)\n",
            "Característica pdays (0.018467)\n",
            "Característica marital_divorced (0.016957)\n",
            "Característica job_technician (0.016060)\n",
            "Característica previous (0.015680)\n",
            "Característica job_admin. (0.011490)\n",
            "Característica poutcome_failure (0.007166)\n",
            "Característica poutcome_unknown (0.006250)\n",
            "Característica job_retired (0.006110)\n",
            "Característica contact_telephone (0.006055)\n",
            "Característica job_student (0.005033)\n",
            "Característica poutcome_other (0.004573)\n",
            "Característica job_services (0.004515)\n",
            "Característica job_unemployed (0.003405)\n",
            "Característica job_self-employed (0.002861)\n",
            "Característica job_entrepreneur (0.002095)\n",
            "Característica job_housemaid (0.001610)\n",
            "Característica default_yes (0.001418)\n",
            "Característica job_unknown (0.000497)\n"
          ]
        }
      ]
    },
    {
      "cell_type": "code",
      "source": [
        "plt.figure(figsize=(20,5))\n",
        "plt.title(\"Importancia de las características\")\n",
        "plt.bar(range(X_trainPF.shape[1]), importances[indices],\n",
        "       color=\"r\", align=\"center\")\n",
        "xticks_labels = [df_piv_no_classes.columns[i] for i in indices]\n",
        "plt.xticks(range(X_scaler.shape[1]), xticks_labels, rotation=45)\n",
        "plt.xlim([-1, df_piv_no_classes.shape[1]])\n",
        "plt.show()"
      ],
      "metadata": {
        "id": "GFsU7o4Xst5c",
        "colab": {
          "base_uri": "https://localhost:8080/",
          "height": 404
        },
        "outputId": "61838556-95ad-4abe-c885-bb0316e6ad9c"
      },
      "execution_count": 68,
      "outputs": [
        {
          "output_type": "display_data",
          "data": {
            "text/plain": [
              "<Figure size 1440x360 with 1 Axes>"
            ],
            "image/png": "[encoded data removed]"
          },
          "metadata": {
            "needs_background": "light"
          }
        }
      ]
    },
    {
      "cell_type": "markdown",
      "source": [
        "**Analisis de PCA**"
      ],
      "metadata": {
        "id": "DTNEoyNEuXHz"
      }
    },
    {
      "cell_type": "code",
      "source": [
        "from sklearn.decomposition import PCA"
      ],
      "metadata": {
        "id": "JvMLAJ2muzk6"
      },
      "execution_count": 69,
      "outputs": []
    },
    {
      "cell_type": "code",
      "source": [
        "sklearn_pca = PCA(n_components=None)\n",
        "sklearn_transf = sklearn_pca.fit_transform(X_scaler)\n",
        "varianza_expl = sklearn_pca.explained_variance_ratio_\n",
        "varianza_expl"
      ],
      "metadata": {
        "id": "AGYOMQHDuc6A",
        "colab": {
          "base_uri": "https://localhost:8080/"
        },
        "outputId": "09dd6373-1508-4da8-efc5-e57d93877780"
      },
      "execution_count": 70,
      "outputs": [
        {
          "output_type": "execute_result",
          "data": {
            "text/plain": [
              "array([1.05988826e-01, 7.92300831e-02, 6.13409994e-02, 4.93421960e-02,\n",
              "       4.32175835e-02, 3.90921158e-02, 3.65665504e-02, 3.58718361e-02,\n",
              "       3.48017466e-02, 3.39893391e-02, 3.37447786e-02, 3.29881981e-02,\n",
              "       3.28116005e-02, 3.21141823e-02, 3.18444136e-02, 3.17139758e-02,\n",
              "       3.10448530e-02, 2.96806825e-02, 2.86155084e-02, 2.75582016e-02,\n",
              "       2.69405456e-02, 2.62825432e-02, 2.48422001e-02, 2.33540380e-02,\n",
              "       1.93458644e-02, 1.65867986e-02, 1.51162174e-02, 1.05592314e-02,\n",
              "       5.41489051e-03, 4.27376729e-28, 2.09026104e-32, 2.48356781e-33])"
            ]
          },
          "metadata": {},
          "execution_count": 70
        }
      ]
    },
    {
      "cell_type": "code",
      "source": [
        "cum_var_exp = np.cumsum(varianza_expl)\n",
        "plt.figure(figsize = (10, 6))\n",
        "plt.xlabel('Número de componentes principales')\n",
        "plt.ylabel('Varianza explicada acumulativa')\n",
        "plt.title('Curva acumulativa de la varianza explicada versus número de componentes principales')\n",
        "nc = np.arange(1, varianza_expl.shape[0] + 1)\n",
        "plt.plot(nc, cum_var_exp, 'g^')\n",
        "plt.plot(nc, cum_var_exp, '--r')\n",
        "plt.show()\n",
        "print(np.sum(varianza_expl[0:10]), np.sum(varianza_expl[0:19]), np.sum(varianza_expl[0:31]))"
      ],
      "metadata": {
        "id": "woSoMt79u-Z9",
        "colab": {
          "base_uri": "https://localhost:8080/",
          "height": 423
        },
        "outputId": "7b698076-9f68-48d8-bab7-59d419e6d19d"
      },
      "execution_count": 71,
      "outputs": [
        {
          "output_type": "display_data",
          "data": {
            "text/plain": [
              "<Figure size 720x432 with 1 Axes>"
            ],
            "image/png": "[encoded data removed]"
          },
          "metadata": {
            "needs_background": "light"
          }
        },
        {
          "output_type": "stream",
          "name": "stdout",
          "text": [
            "0.5194412763925594 0.8039994692414486 0.9999999999999998\n"
          ]
        }
      ]
    },
    {
      "cell_type": "code",
      "source": [
        "pca = PCA(n_components=19)\n",
        "Xp = pca.fit_transform(X_scaler)"
      ],
      "metadata": {
        "id": "B0nRBBI006zR"
      },
      "execution_count": 72,
      "outputs": []
    },
    {
      "cell_type": "code",
      "source": [
        "Xp[0]"
      ],
      "metadata": {
        "id": "ZneISJ-G-9It",
        "colab": {
          "base_uri": "https://localhost:8080/"
        },
        "outputId": "00268f0f-047c-4b1d-bbb5-0fa98570b869"
      },
      "execution_count": 73,
      "outputs": [
        {
          "output_type": "execute_result",
          "data": {
            "text/plain": [
              "array([-1.12466982,  0.75061548, -0.47855825,  2.25858288,  0.50143815,\n",
              "       -2.30591065, -0.88602775,  0.51142338, -0.03668509, -0.23073224,\n",
              "       -0.38372304,  0.09095521, -0.51837758, -0.11729881,  0.50517708,\n",
              "        0.30063576,  0.53991414, -0.53479757,  0.16408676])"
            ]
          },
          "metadata": {},
          "execution_count": 73
        }
      ]
    },
    {
      "cell_type": "code",
      "source": [
        "X_scaler[0:2]"
      ],
      "metadata": {
        "id": "M73HWhtn6T3z",
        "colab": {
          "base_uri": "https://localhost:8080/"
        },
        "outputId": "66438ade-2833-4ae3-ec34-fe6fa40af4ae"
      },
      "execution_count": 74,
      "outputs": [
        {
          "output_type": "execute_result",
          "data": {
            "text/plain": [
              "array([[ 1.50649597,  0.21713174, -1.30645943, -0.57728328, -0.49070624,\n",
              "        -0.36390435, -0.3929622 , -0.5002843 , -0.18304769, -0.16752657,\n",
              "         1.99246035, -0.28280569, -0.20713484, -0.32074447, -0.20204116,\n",
              "        -0.47600815, -0.20198455, -0.08711175, -0.39256039,  0.93834703,\n",
              "        -0.72634522, -0.37221635, -0.23991112, -0.35735676,  0.58958389,\n",
              "        -0.12683537,  1.11270551, -0.40849897, -0.28587716,  2.02216384,\n",
              "         1.20314777, -0.50834981],\n",
              "       [ 0.26289265, -0.48529996, -1.30645943, -0.57728328, -0.49070624,\n",
              "        -0.36390435, -0.3929622 , -0.5002843 , -0.18304769, -0.16752657,\n",
              "        -0.58832841, -0.28280569, -0.20713484, -0.32074447, -0.20204116,\n",
              "         2.42186316, -0.20198455, -0.08711175, -0.39256039, -1.21911572,\n",
              "         1.56165512, -0.37221635, -0.23991112, -0.35735676,  0.58958389,\n",
              "        -0.12683537,  1.11270551, -0.40849897, -0.28587716,  2.02216384,\n",
              "        -0.15745252, -0.50834981]])"
            ]
          },
          "metadata": {},
          "execution_count": 74
        }
      ]
    },
    {
      "cell_type": "code",
      "source": [
        "Xp[0]"
      ],
      "metadata": {
        "id": "NgWyV5-X6OEX",
        "colab": {
          "base_uri": "https://localhost:8080/"
        },
        "outputId": "e419919e-9498-4c4e-a6fa-36cbd4ac8979"
      },
      "execution_count": 75,
      "outputs": [
        {
          "output_type": "execute_result",
          "data": {
            "text/plain": [
              "array([-1.12466982,  0.75061548, -0.47855825,  2.25858288,  0.50143815,\n",
              "       -2.30591065, -0.88602775,  0.51142338, -0.03668509, -0.23073224,\n",
              "       -0.38372304,  0.09095521, -0.51837758, -0.11729881,  0.50517708,\n",
              "        0.30063576,  0.53991414, -0.53479757,  0.16408676])"
            ]
          },
          "metadata": {},
          "execution_count": 75
        }
      ]
    },
    {
      "cell_type": "code",
      "source": [
        "Xp.shape"
      ],
      "metadata": {
        "id": "P-eKAL0I3jhl",
        "colab": {
          "base_uri": "https://localhost:8080/"
        },
        "outputId": "0c63fbe5-9200-4e4a-bc82-ade2a69588a7"
      },
      "execution_count": 76,
      "outputs": [
        {
          "output_type": "execute_result",
          "data": {
            "text/plain": [
              "(77800, 19)"
            ]
          },
          "metadata": {},
          "execution_count": 76
        }
      ]
    },
    {
      "cell_type": "code",
      "source": [
        "y_train_smt.shape"
      ],
      "metadata": {
        "id": "uUo10VXl3ng6",
        "colab": {
          "base_uri": "https://localhost:8080/"
        },
        "outputId": "2f803087-0567-4c9a-bc32-701c14903516"
      },
      "execution_count": 77,
      "outputs": [
        {
          "output_type": "execute_result",
          "data": {
            "text/plain": [
              "(77800,)"
            ]
          },
          "metadata": {},
          "execution_count": 77
        }
      ]
    },
    {
      "cell_type": "code",
      "source": [
        "X_trainPF, X_testPF, y_trainPF, y_testPF = train_test_split(Xp, y_train_smt, test_size=0.3, random_state=123, stratify=y_train_smt)\n",
        "pl.hist(y_trainPF, label=\"Train\")\n",
        "pl.hist(y_testPF, label=\"Test\")\n",
        "pl.legend()\n",
        "pl.title(\"Distribucion\")\n",
        "pl.show()"
      ],
      "metadata": {
        "id": "eCqrucbB3qk6",
        "colab": {
          "base_uri": "https://localhost:8080/",
          "height": 281
        },
        "outputId": "d0c88789-4bc6-4f28-ff42-86c0044e9bf5"
      },
      "execution_count": 78,
      "outputs": [
        {
          "output_type": "display_data",
          "data": {
            "text/plain": [
              "<Figure size 432x288 with 1 Axes>"
            ],
            "image/png": "[encoded data removed]"
          },
          "metadata": {
            "needs_background": "light"
          }
        }
      ]
    },
    {
      "cell_type": "code",
      "source": [
        "#mlp_PRO_FLA = MLPClassifier(solver='sgd', max_iter=2000,random_state=1,hidden_layer_sizes=(10,10),activation=\"relu\")\n",
        "mlp_PRO_FLA = MLPClassifier(solver= 'sgd',\n",
        "activation= 'relu',\n",
        " alpha= 1.0,\n",
        " hidden_layer_sizes= (10, 12),\n",
        " learning_rate_init= 0.01,\n",
        " )\n",
        "mlp_PRO_FLA.fit(X_trainPF, y_trainPF)\n",
        "prediction_testAM = mlp_PRO_FLA.predict(X_testPF)\n",
        "cnf_matrixAM = confusion_matrix(y_testPF, prediction_testAM)\n",
        "list_cm(cnf_matrixAM,class_names)\n",
        "print('SCORE entrenamiento: {}'.format(mlp_PRO_FLA.score(X_trainPF, y_trainPF)))\n",
        "print('Error en entrenamiento: {}'.format(1-mlp_PRO_FLA.score(X_trainPF, y_trainPF)))\n",
        "print('SCORE prueba: {}'.format(mlp_PRO_FLA.score(X_testPF, y_testPF)))\n",
        "print('Error en prueba: {}'.format(1-mlp_PRO_FLA.score(X_testPF, y_testPF)))\n",
        "sensibilidad=recall_score(y_testPF,prediction_testAM)\n",
        "print(\"Sensibilidad: {}\".format(sensibilidad))"
      ],
      "metadata": {
        "id": "PCDUZIfy33oU",
        "colab": {
          "base_uri": "https://localhost:8080/"
        },
        "outputId": "ddf9f033-2626-4d96-dd18-7dd91d3cbd86"
      },
      "execution_count": 79,
      "outputs": [
        {
          "output_type": "stream",
          "name": "stdout",
          "text": [
            "                Valor    Predicho\n",
            "---------  ---  -------  ----------\n",
            "           -    no       yes\n",
            "Valor      no   10739    931\n",
            "Verdadero  yes  3061     8609\n",
            "SCORE entrenamiento: 0.8312339331619537\n",
            "Error en entrenamiento: 0.1687660668380463\n",
            "SCORE prueba: 0.8289631533847472\n",
            "Error en prueba: 0.17103684661525276\n",
            "Sensibilidad: 0.7377035132819194\n"
          ]
        }
      ]
    },
    {
      "cell_type": "markdown",
      "source": [
        "**Uso de algoritmo Genetico**"
      ],
      "metadata": {
        "id": "L7l_JbYPPnRk"
      }
    },
    {
      "cell_type": "markdown",
      "source": [
        "Instalacion de libreria"
      ],
      "metadata": {
        "id": "_lC0rSRRP4iI"
      }
    },
    {
      "cell_type": "code",
      "source": [
        "!pip install pygad"
      ],
      "metadata": {
        "colab": {
          "base_uri": "https://localhost:8080/"
        },
        "id": "4vzBhI-aQzmh",
        "outputId": "55940552-f66b-44c0-a4a4-003965141a24"
      },
      "execution_count": 80,
      "outputs": [
        {
          "output_type": "stream",
          "name": "stdout",
          "text": [
            "Collecting pygad\n",
            "  Downloading pygad-2.16.3-py3-none-any.whl (53 kB)\n",
            "\u001b[K     |████████████████████████████████| 53 kB 605 kB/s \n",
            "\u001b[?25hRequirement already satisfied: matplotlib in /usr/local/lib/python3.7/dist-packages (from pygad) (3.2.2)\n",
            "Requirement already satisfied: numpy in /usr/local/lib/python3.7/dist-packages (from pygad) (1.21.5)\n",
            "Requirement already satisfied: pyparsing!=2.0.4,!=2.1.2,!=2.1.6,>=2.0.1 in /usr/local/lib/python3.7/dist-packages (from matplotlib->pygad) (3.0.8)\n",
            "Requirement already satisfied: kiwisolver>=1.0.1 in /usr/local/lib/python3.7/dist-packages (from matplotlib->pygad) (1.4.2)\n",
            "Requirement already satisfied: cycler>=0.10 in /usr/local/lib/python3.7/dist-packages (from matplotlib->pygad) (0.11.0)\n",
            "Requirement already satisfied: python-dateutil>=2.1 in /usr/local/lib/python3.7/dist-packages (from matplotlib->pygad) (2.8.2)\n",
            "Requirement already satisfied: typing-extensions in /usr/local/lib/python3.7/dist-packages (from kiwisolver>=1.0.1->matplotlib->pygad) (4.1.1)\n",
            "Requirement already satisfied: six>=1.5 in /usr/local/lib/python3.7/dist-packages (from python-dateutil>=2.1->matplotlib->pygad) (1.15.0)\n",
            "Installing collected packages: pygad\n",
            "Successfully installed pygad-2.16.3\n"
          ]
        }
      ]
    },
    {
      "cell_type": "code",
      "source": [
        "import pygad\n",
        "import pygad.nn\n",
        "import pygad.gann\n",
        "print(pygad.__version__)"
      ],
      "metadata": {
        "colab": {
          "base_uri": "https://localhost:8080/"
        },
        "id": "PUUgPmfUPrun",
        "outputId": "a7570162-49a0-4bd5-a749-31bea353bb74"
      },
      "execution_count": 81,
      "outputs": [
        {
          "output_type": "stream",
          "name": "stdout",
          "text": [
            "2.16.3\n"
          ]
        }
      ]
    },
    {
      "cell_type": "code",
      "source": [
        "data_outputs =y_train_smt"
      ],
      "metadata": {
        "id": "AXpjBfL3bKMp"
      },
      "execution_count": 84,
      "outputs": []
    },
    {
      "cell_type": "code",
      "source": [
        "data_inputs=X_scaler"
      ],
      "metadata": {
        "id": "htnedq3McwLi"
      },
      "execution_count": 85,
      "outputs": []
    },
    {
      "cell_type": "code",
      "source": [
        "X_scaler.shape"
      ],
      "metadata": {
        "colab": {
          "base_uri": "https://localhost:8080/"
        },
        "id": "a58tcEQszlTx",
        "outputId": "160e3098-9bc1-4293-e898-773dd2478fa7"
      },
      "execution_count": 232,
      "outputs": [
        {
          "output_type": "execute_result",
          "data": {
            "text/plain": [
              "(77800, 32)"
            ]
          },
          "metadata": {},
          "execution_count": 232
        }
      ]
    },
    {
      "cell_type": "code",
      "source": [
        "num_inputs = X_scaler.shape[1]\n",
        "num_classes = 2\n",
        "num_solutions = 20"
      ],
      "metadata": {
        "id": "NpfK66OsSESt"
      },
      "execution_count": 116,
      "outputs": []
    },
    {
      "cell_type": "code",
      "source": [
        "num_inputs"
      ],
      "metadata": {
        "colab": {
          "base_uri": "https://localhost:8080/"
        },
        "id": "osqgjY_4a173",
        "outputId": "b8005c3c-ba8e-4a4c-c17e-f02bd1f5dd79"
      },
      "execution_count": 87,
      "outputs": [
        {
          "output_type": "execute_result",
          "data": {
            "text/plain": [
              "32"
            ]
          },
          "metadata": {},
          "execution_count": 87
        }
      ]
    },
    {
      "cell_type": "code",
      "source": [
        "data_outputs.shape"
      ],
      "metadata": {
        "colab": {
          "base_uri": "https://localhost:8080/"
        },
        "id": "9StaHef0bNEJ",
        "outputId": "56041904-6406-480f-be02-360060154137"
      },
      "execution_count": 88,
      "outputs": [
        {
          "output_type": "execute_result",
          "data": {
            "text/plain": [
              "(77800,)"
            ]
          },
          "metadata": {},
          "execution_count": 88
        }
      ]
    },
    {
      "cell_type": "code",
      "source": [
        "data_inputs.shape[1]"
      ],
      "metadata": {
        "colab": {
          "base_uri": "https://localhost:8080/"
        },
        "id": "Hjcld1Xbhr-r",
        "outputId": "e34b9d04-689b-497c-c966-b4108208e8a1"
      },
      "execution_count": 89,
      "outputs": [
        {
          "output_type": "execute_result",
          "data": {
            "text/plain": [
              "32"
            ]
          },
          "metadata": {},
          "execution_count": 89
        }
      ]
    },
    {
      "cell_type": "code",
      "source": [
        "X_scaler.shape"
      ],
      "metadata": {
        "colab": {
          "base_uri": "https://localhost:8080/"
        },
        "id": "vLMHVtXLjEo2",
        "outputId": "9becdf96-6e1c-406c-af1f-0ecff4fc8e0d"
      },
      "execution_count": 91,
      "outputs": [
        {
          "output_type": "execute_result",
          "data": {
            "text/plain": [
              "(77800, 32)"
            ]
          },
          "metadata": {},
          "execution_count": 91
        }
      ]
    },
    {
      "cell_type": "code",
      "source": [
        "X_trainPF, X_testPF, y_trainPF, y_testPF = train_test_split(X_scaler, y_train_smt, test_size=0.3, random_state=123, stratify=y_train_smt)\n",
        "pl.hist(y_trainPF, label=\"Train\")\n",
        "pl.hist(y_testPF, label=\"Test\")\n",
        "pl.legend()\n",
        "pl.title(\"Distribucion\")\n",
        "pl.show()"
      ],
      "metadata": {
        "colab": {
          "base_uri": "https://localhost:8080/",
          "height": 281
        },
        "id": "xE8bPfrtjAHl",
        "outputId": "1c70489a-dcd5-4153-88f9-dac2fee8549c"
      },
      "execution_count": 151,
      "outputs": [
        {
          "output_type": "display_data",
          "data": {
            "text/plain": [
              "<Figure size 432x288 with 1 Axes>"
            ],
            "image/png": "[encoded data removed]"
          },
          "metadata": {
            "needs_background": "light"
          }
        }
      ]
    },
    {
      "cell_type": "code",
      "source": [
        "GANN_instance = pygad.gann.GANN(num_solutions=num_solutions,\n",
        "                                num_neurons_input=32,\n",
        "                                num_neurons_hidden_layers=[2],\n",
        "                                num_neurons_output=num_classes,\n",
        "                                hidden_activations=[\"relu\"],\n",
        "                                output_activation=\"softmax\")"
      ],
      "metadata": {
        "id": "fxQ8p3InSNlN"
      },
      "execution_count": 254,
      "outputs": []
    },
    {
      "cell_type": "code",
      "source": [
        "x_scaler_copy=X_scaler.copy()"
      ],
      "metadata": {
        "id": "bUlTTMQglVYx"
      },
      "execution_count": 154,
      "outputs": []
    },
    {
      "cell_type": "code",
      "source": [
        "np.delete(x_scaler_copy, 1,axis=1).shape\n"
      ],
      "metadata": {
        "colab": {
          "base_uri": "https://localhost:8080/"
        },
        "id": "pZvdbZWNldNR",
        "outputId": "ad9e38c2-869e-461d-ba17-8153547c70da"
      },
      "execution_count": 160,
      "outputs": [
        {
          "output_type": "execute_result",
          "data": {
            "text/plain": [
              "(77800, 31)"
            ]
          },
          "metadata": {},
          "execution_count": 160
        }
      ]
    },
    {
      "cell_type": "code",
      "source": [
        "x_scaler_copy.shape"
      ],
      "metadata": {
        "colab": {
          "base_uri": "https://localhost:8080/"
        },
        "id": "lInJdgallpvf",
        "outputId": "3fc2c53b-f06f-4fb0-bfd7-facf546c73bc"
      },
      "execution_count": 157,
      "outputs": [
        {
          "output_type": "execute_result",
          "data": {
            "text/plain": [
              "(77800, 32)"
            ]
          },
          "metadata": {},
          "execution_count": 157
        }
      ]
    },
    {
      "cell_type": "code",
      "source": [
        "#np.delete(x_scaler_copy, result,axis=1).shape[1]"
      ],
      "metadata": {
        "id": "Bld9LI9R7Z8C"
      },
      "execution_count": null,
      "outputs": []
    },
    {
      "cell_type": "code",
      "source": [
        "def fitness_func(solution, sol_idx):\n",
        "  \n",
        "    #X_trainPF, X_testPF, y_trainPF, y_testPF\n",
        "\n",
        "    print(\"----------------inicio --------------------------------------------------\")\n",
        "    global GANN_instance, data_inputs, data_outputs\n",
        "    print(\"----------------inicio --------------------------------------------------\")\n",
        "    #print(\"initial_population \"+str(initial_population))\n",
        "    #print(\"data_outputs \"+str(data_outputs))\n",
        "    print(\"sol_idx \"+str(sol_idx))\n",
        "    print(\"solution\"+str(solution))\n",
        "    result = np.where(solution == 0)\n",
        "    print(\"result \"+str(result))\n",
        "    x_scaler_copy=X_scaler.copy()\n",
        "    ga=GANN_instance.population_networks[sol_idx]\n",
        "    ga.num_neurons_input=np.delete(x_scaler_copy, result,axis=1).shape[1]\n",
        "    print(\"predictions \"+str(np.delete(x_scaler_copy, result,axis=1).shape))\n",
        "    x_scaler_copy=np.delete(x_scaler_copy, result,axis=1)\n",
        "    predictions = pygad.nn.predict(last_layer=ga,data_inputs=X_scaler)\n",
        "    #print(\"predictions \"+str(predictions))\n",
        "    correct_predictions = np.where(predictions == data_outputs)[0].size\n",
        "    print(\"correct_predictions \"+str(correct_predictions))\n",
        "    solution_fitness = (correct_predictions/data_outputs.size)*100\n",
        "    #print(\"data_outputs \"+str(data_outputs.size))\n",
        "    print(\"solution_fitness \"+str(solution_fitness))\n",
        "    print(\"----------------Fin --------------------------------------------------\")\n",
        "    \n",
        "    return solution_fitness"
      ],
      "metadata": {
        "id": "wNpU-Mb4UOpE"
      },
      "execution_count": 259,
      "outputs": []
    },
    {
      "cell_type": "code",
      "source": [
        "data_inputs.shape"
      ],
      "metadata": {
        "colab": {
          "base_uri": "https://localhost:8080/"
        },
        "id": "mO-NdW9cfTxx",
        "outputId": "e0c4dceb-535b-4c1b-8e65-8f86278d13ac"
      },
      "execution_count": 94,
      "outputs": [
        {
          "output_type": "execute_result",
          "data": {
            "text/plain": [
              "(77800, 32)"
            ]
          },
          "metadata": {},
          "execution_count": 94
        }
      ]
    },
    {
      "cell_type": "code",
      "source": [
        "a=np.ones(64,int)"
      ],
      "metadata": {
        "id": "se2PL2CWgvDK"
      },
      "execution_count": 146,
      "outputs": []
    },
    {
      "cell_type": "code",
      "source": [
        "a"
      ],
      "metadata": {
        "colab": {
          "base_uri": "https://localhost:8080/"
        },
        "id": "nY_bT0kHi202",
        "outputId": "e0b5fc87-b4cd-4eed-847e-976135b73669"
      },
      "execution_count": 233,
      "outputs": [
        {
          "output_type": "execute_result",
          "data": {
            "text/plain": [
              "array([1, 1, 1, 1, 1, 1, 1, 1, 1, 1, 1, 1, 1, 1, 1, 1, 1, 1, 1, 1, 1, 1,\n",
              "       1, 1, 1, 1, 1, 1, 1, 1, 1, 1, 1, 1, 1, 1, 1, 1, 1, 1, 1, 1, 1, 1,\n",
              "       1, 1, 1, 1, 1, 1, 1, 1, 1, 1, 1, 1, 1, 1, 1, 1, 1, 1, 1, 1])"
            ]
          },
          "metadata": {},
          "execution_count": 233
        }
      ]
    },
    {
      "cell_type": "code",
      "source": [
        "a.shape"
      ],
      "metadata": {
        "colab": {
          "base_uri": "https://localhost:8080/"
        },
        "id": "0c27lFTbka-S",
        "outputId": "1049c1b4-22d2-4b55-8fae-ba0daad458bf"
      },
      "execution_count": 234,
      "outputs": [
        {
          "output_type": "execute_result",
          "data": {
            "text/plain": [
              "(64,)"
            ]
          },
          "metadata": {},
          "execution_count": 234
        }
      ]
    },
    {
      "cell_type": "code",
      "source": [
        "a.reshape(2,32).shape"
      ],
      "metadata": {
        "colab": {
          "base_uri": "https://localhost:8080/"
        },
        "id": "bNrp7-0Kl5FO",
        "outputId": "31c5e62e-d349-48ea-87ab-0dc8603c4f0d"
      },
      "execution_count": 236,
      "outputs": [
        {
          "output_type": "execute_result",
          "data": {
            "text/plain": [
              "(2, 32)"
            ]
          },
          "metadata": {},
          "execution_count": 236
        }
      ]
    },
    {
      "cell_type": "code",
      "source": [
        "a.reshape(2,32)"
      ],
      "metadata": {
        "colab": {
          "base_uri": "https://localhost:8080/"
        },
        "id": "GYP0BnRVc44H",
        "outputId": "579f43df-3470-4606-ad0f-5137fb05b703"
      },
      "execution_count": 237,
      "outputs": [
        {
          "output_type": "execute_result",
          "data": {
            "text/plain": [
              "array([[1, 1, 1, 1, 1, 1, 1, 1, 1, 1, 1, 1, 1, 1, 1, 1, 1, 1, 1, 1, 1, 1,\n",
              "        1, 1, 1, 1, 1, 1, 1, 1, 1, 1],\n",
              "       [1, 1, 1, 1, 1, 1, 1, 1, 1, 1, 1, 1, 1, 1, 1, 1, 1, 1, 1, 1, 1, 1,\n",
              "        1, 1, 1, 1, 1, 1, 1, 1, 1, 1]])"
            ]
          },
          "metadata": {},
          "execution_count": 237
        }
      ]
    },
    {
      "cell_type": "code",
      "source": [
        "#population_vectors = pygad.gann.population_as_vectors(population_networks=GANN_instance.population_networks)\n",
        "print(\"----------------inicio 2--------------------------------------------------\")\n",
        "#initial_population = population_vectors.copy()\n",
        "#print(\"initial_population \"+str(initial_population))\n",
        "num_parents_mating = 1\n",
        "\n",
        "num_generations = 3\n",
        "\n",
        "mutation_percent_genes = 4\n",
        "\n",
        "parent_selection_type = \"rws\"\n",
        "\n",
        "crossover_type = \"uniform\"\n",
        "\n",
        "mutation_type = \"random\" \n",
        "\n",
        "keep_parents = -1\n",
        "\n",
        "init_range_low = -2\n",
        "init_range_high = 5"
      ],
      "metadata": {
        "colab": {
          "base_uri": "https://localhost:8080/"
        },
        "id": "WAE2Ou1-Ubo1",
        "outputId": "e4d229d9-87a5-44bc-d522-84146aea9dd9"
      },
      "execution_count": 260,
      "outputs": [
        {
          "output_type": "stream",
          "name": "stdout",
          "text": [
            "----------------inicio 2--------------------------------------------------\n"
          ]
        }
      ]
    },
    {
      "cell_type": "code",
      "source": [
        "\n",
        "ga_instance = pygad.GA(num_generations=num_generations, \n",
        "                       mutation_num_genes=4,\n",
        "                       num_parents_mating=num_parents_mating, \n",
        "                       initial_population=a.reshape(2,32),\n",
        "                       fitness_func=fitness_func,\n",
        "                       gene_type=int,\n",
        "                       gene_space=[0,1],\n",
        "                       mutation_percent_genes=mutation_percent_genes,\n",
        "                       init_range_low=init_range_low,\n",
        "                       init_range_high=init_range_high,\n",
        "                       parent_selection_type=parent_selection_type,\n",
        "                       crossover_type=crossover_type,\n",
        "                       mutation_type=mutation_type,\n",
        "                       keep_parents=keep_parents,\n",
        "                       save_solutions=True)"
      ],
      "metadata": {
        "colab": {
          "base_uri": "https://localhost:8080/"
        },
        "id": "dDGvWk3mUwcm",
        "outputId": "99a14d0e-224e-4042-80ed-994959bb81f2"
      },
      "execution_count": 261,
      "outputs": [
        {
          "output_type": "stream",
          "name": "stderr",
          "text": [
            "/usr/local/lib/python3.7/dist-packages/pygad/pygad.py:795: UserWarning: Use the 'save_solutions' parameter with caution as it may cause memory overflow when either the number of generations, number of genes, or number of solutions in population is large.\n",
            "  if not self.suppress_warnings: warnings.warn(\"Use the 'save_solutions' parameter with caution as it may cause memory overflow when either the number of generations, number of genes, or number of solutions in population is large.\")\n"
          ]
        }
      ]
    },
    {
      "cell_type": "code",
      "source": [
        "ga_instance.run()"
      ],
      "metadata": {
        "colab": {
          "base_uri": "https://localhost:8080/"
        },
        "id": "Q9c75-D3VwTl",
        "outputId": "bfb3bda0-ac4d-47d0-e112-5be373bfb830"
      },
      "execution_count": 262,
      "outputs": [
        {
          "output_type": "stream",
          "name": "stdout",
          "text": [
            "----------------inicio --------------------------------------------------\n",
            "----------------inicio --------------------------------------------------\n",
            "sol_idx 0\n",
            "solution[1 1 1 1 1 1 1 1 1 1 1 1 1 1 1 1 1 1 1 1 1 1 1 1 1 1 1 1 1 1 1 1]\n",
            "result (array([], dtype=int64),)\n",
            "predictions (77800, 32)\n",
            "correct_predictions 35464\n",
            "solution_fitness 45.58354755784062\n",
            "----------------Fin --------------------------------------------------\n",
            "----------------inicio --------------------------------------------------\n",
            "----------------inicio --------------------------------------------------\n",
            "sol_idx 1\n",
            "solution[1 1 1 1 1 1 1 1 1 1 1 1 1 1 1 1 1 1 1 1 1 1 1 1 1 1 1 1 1 1 1 1]\n",
            "result (array([], dtype=int64),)\n",
            "predictions (77800, 32)\n",
            "correct_predictions 39165\n",
            "solution_fitness 50.340616966580974\n",
            "----------------Fin --------------------------------------------------\n",
            "----------------inicio --------------------------------------------------\n",
            "----------------inicio --------------------------------------------------\n",
            "sol_idx 1\n",
            "solution[1 1 1 1 1 1 1 1 1 1 1 0 1 1 1 0 1 0 1 1 1 1 1 1 1 0 1 1 1 1 1 1]\n",
            "result (array([11, 15, 17, 25]),)\n",
            "predictions (77800, 28)\n",
            "correct_predictions 39165\n",
            "solution_fitness 50.340616966580974\n",
            "----------------Fin --------------------------------------------------\n",
            "----------------inicio --------------------------------------------------\n",
            "----------------inicio --------------------------------------------------\n",
            "sol_idx 1\n",
            "solution[1 1 1 1 1 1 1 1 1 1 1 1 0 1 0 1 1 1 0 1 1 1 1 1 1 1 0 1 1 1 1 1]\n",
            "result (array([12, 14, 18, 26]),)\n",
            "predictions (77800, 28)\n",
            "correct_predictions 39165\n",
            "solution_fitness 50.340616966580974\n",
            "----------------Fin --------------------------------------------------\n",
            "----------------inicio --------------------------------------------------\n",
            "----------------inicio --------------------------------------------------\n",
            "sol_idx 1\n",
            "solution[1 1 0 1 1 1 1 0 1 1 1 0 1 1 1 1 1 1 1 1 1 0 1 1 1 1 1 1 1 1 1 1]\n",
            "result (array([ 2,  7, 11, 21]),)\n",
            "predictions (77800, 28)\n",
            "correct_predictions 39165\n",
            "solution_fitness 50.340616966580974\n",
            "----------------Fin --------------------------------------------------\n"
          ]
        }
      ]
    },
    {
      "cell_type": "code",
      "source": [
        "solution, solution_fitness, solution_idx = ga_instance.best_solution()\n",
        "print(\"Parameters of the best solution : {solution}\".format(solution=solution))\n",
        "print(\"Fitness value of the best solution = {solution_fitness}\".format(solution_fitness=solution_fitness))\n",
        "print(\"Index of the best solution : {solution_idx}\".format(solution_idx=solution_idx))"
      ],
      "metadata": {
        "colab": {
          "base_uri": "https://localhost:8080/"
        },
        "id": "EE-WeXBTrIJt",
        "outputId": "bf49a043-bc42-4e80-d157-b1819e493565"
      },
      "execution_count": 263,
      "outputs": [
        {
          "output_type": "stream",
          "name": "stdout",
          "text": [
            "----------------inicio --------------------------------------------------\n",
            "----------------inicio --------------------------------------------------\n",
            "sol_idx 1\n",
            "solution[1 1 0 1 1 1 1 0 1 1 1 0 1 1 1 1 1 1 1 1 1 0 1 1 1 1 1 1 1 1 1 1]\n",
            "result (array([ 2,  7, 11, 21]),)\n",
            "predictions (77800, 28)\n",
            "correct_predictions 39165\n",
            "solution_fitness 50.340616966580974\n",
            "----------------Fin --------------------------------------------------\n",
            "Parameters of the best solution : [1 1 0 1 1 1 1 0 1 1 1 0 1 1 1 1 1 1 1 1 1 0 1 1 1 1 1 1 1 1 1 1]\n",
            "Fitness value of the best solution = 50.340616966580974\n",
            "Index of the best solution : 1\n"
          ]
        }
      ]
    },
    {
      "cell_type": "code",
      "source": [
        "ga_instance.plot_fitness()"
      ],
      "metadata": {
        "colab": {
          "base_uri": "https://localhost:8080/",
          "height": 583
        },
        "id": "AHtHzOMXWCsW",
        "outputId": "bc792b5e-58a3-414b-8297-45f0f9db97d6"
      },
      "execution_count": 239,
      "outputs": [
        {
          "output_type": "display_data",
          "data": {
            "text/plain": [
              "<Figure size 432x288 with 1 Axes>"
            ],
            "image/png": "[encoded data removed]"
          },
          "metadata": {
            "needs_background": "light"
          }
        },
        {
          "output_type": "execute_result",
          "data": {
            "text/plain": [
              "<Figure size 432x288 with 1 Axes>"
            ],
            "image/png": "[encoded data removed]"
          },
          "metadata": {},
          "execution_count": 239
        }
      ]
    },
    {
      "cell_type": "code",
      "source": [
        "ga_instance.plot_genes()"
      ],
      "metadata": {
        "colab": {
          "base_uri": "https://localhost:8080/",
          "height": 1000
        },
        "id": "4IsxPsurXSP8",
        "outputId": "be5ee08c-124c-428c-84e8-e0cd65a861f4"
      },
      "execution_count": 230,
      "outputs": [
        {
          "output_type": "display_data",
          "data": {
            "text/plain": [
              "<Figure size 1800x2016 with 35 Axes>"
            ],
            "image/png": "[encoded data removed]"
          },
          "metadata": {
            "needs_background": "light"
          }
        },
        {
          "output_type": "execute_result",
          "data": {
            "text/plain": [
              "<Figure size 1800x2016 with 35 Axes>"
            ],
            "image/png": "[encoded data removed]"
          },
          "metadata": {},
          "execution_count": 230
        }
      ]
    },
    {
      "cell_type": "code",
      "source": [
        "ga_instance.plot_new_solution_rate()"
      ],
      "metadata": {
        "colab": {
          "base_uri": "https://localhost:8080/",
          "height": 583
        },
        "id": "hqeoN9frXZHZ",
        "outputId": "db0740e6-26b8-4736-d0ab-b6ae208250f2"
      },
      "execution_count": 240,
      "outputs": [
        {
          "output_type": "display_data",
          "data": {
            "text/plain": [
              "<Figure size 432x288 with 1 Axes>"
            ],
            "image/png": "[encoded data removed]"
          },
          "metadata": {
            "needs_background": "light"
          }
        },
        {
          "output_type": "execute_result",
          "data": {
            "text/plain": [
              "<Figure size 432x288 with 1 Axes>"
            ],
            "image/png": "[encoded data removed]"
          },
          "metadata": {},
          "execution_count": 240
        }
      ]
    },
    {
      "cell_type": "code",
      "source": [
        "ga_instance.best_solution()"
      ],
      "metadata": {
        "colab": {
          "base_uri": "https://localhost:8080/"
        },
        "id": "fuWTpmHZZ2O1",
        "outputId": "b340ca76-e5c0-4d77-c853-fd3f9572bf13"
      },
      "execution_count": 133,
      "outputs": [
        {
          "output_type": "stream",
          "name": "stdout",
          "text": [
            "----------------inicio --------------------------------------------------\n",
            "----------------inicio --------------------------------------------------\n",
            "GANN_instance <pygad.nn.nn.DenseLayer object at 0x7ffae28441d0>\n",
            "sol_idx 1\n",
            "GANN_instance 20\n",
            "correct_predictions 35322\n",
            "solution_fitness 45.401028277634964\n",
            "----------------Fin --------------------------------------------------\n",
            "----------------inicio --------------------------------------------------\n",
            "----------------inicio --------------------------------------------------\n",
            "GANN_instance <pygad.nn.nn.DenseLayer object at 0x7ffae3a34710>\n",
            "sol_idx 2\n",
            "GANN_instance 20\n",
            "correct_predictions 39552\n",
            "solution_fitness 50.83804627249358\n",
            "----------------Fin --------------------------------------------------\n",
            "----------------inicio --------------------------------------------------\n",
            "----------------inicio --------------------------------------------------\n",
            "GANN_instance <pygad.nn.nn.DenseLayer object at 0x7ffae37b07d0>\n",
            "sol_idx 3\n",
            "GANN_instance 20\n",
            "correct_predictions 39305\n",
            "solution_fitness 50.520565552699225\n",
            "----------------Fin --------------------------------------------------\n",
            "----------------inicio --------------------------------------------------\n",
            "----------------inicio --------------------------------------------------\n",
            "GANN_instance <pygad.nn.nn.DenseLayer object at 0x7ffae3780a50>\n",
            "sol_idx 4\n",
            "GANN_instance 20\n",
            "correct_predictions 38195\n",
            "solution_fitness 49.09383033419023\n",
            "----------------Fin --------------------------------------------------\n",
            "----------------inicio --------------------------------------------------\n",
            "----------------inicio --------------------------------------------------\n",
            "GANN_instance <pygad.nn.nn.DenseLayer object at 0x7ffae2e51590>\n",
            "sol_idx 5\n",
            "GANN_instance 20\n",
            "correct_predictions 39015\n",
            "solution_fitness 50.147814910025716\n",
            "----------------Fin --------------------------------------------------\n",
            "----------------inicio --------------------------------------------------\n",
            "----------------inicio --------------------------------------------------\n",
            "GANN_instance <pygad.nn.nn.DenseLayer object at 0x7ffae39e0510>\n",
            "sol_idx 6\n",
            "GANN_instance 20\n",
            "correct_predictions 40268\n",
            "solution_fitness 51.75835475578406\n",
            "----------------Fin --------------------------------------------------\n",
            "----------------inicio --------------------------------------------------\n",
            "----------------inicio --------------------------------------------------\n",
            "GANN_instance <pygad.nn.nn.DenseLayer object at 0x7ffadd310f90>\n",
            "sol_idx 7\n",
            "GANN_instance 20\n",
            "correct_predictions 36772\n",
            "solution_fitness 47.26478149100257\n",
            "----------------Fin --------------------------------------------------\n",
            "----------------inicio --------------------------------------------------\n",
            "----------------inicio --------------------------------------------------\n",
            "GANN_instance <pygad.nn.nn.DenseLayer object at 0x7ffae2df4890>\n",
            "sol_idx 8\n",
            "GANN_instance 20\n",
            "correct_predictions 42924\n",
            "solution_fitness 55.17223650385604\n",
            "----------------Fin --------------------------------------------------\n",
            "----------------inicio --------------------------------------------------\n",
            "----------------inicio --------------------------------------------------\n",
            "GANN_instance <pygad.nn.nn.DenseLayer object at 0x7ffae370b450>\n",
            "sol_idx 9\n",
            "GANN_instance 20\n",
            "correct_predictions 38421\n",
            "solution_fitness 49.38431876606684\n",
            "----------------Fin --------------------------------------------------\n",
            "----------------inicio --------------------------------------------------\n",
            "----------------inicio --------------------------------------------------\n",
            "GANN_instance <pygad.nn.nn.DenseLayer object at 0x7ffadd2a0610>\n",
            "sol_idx 10\n",
            "GANN_instance 20\n",
            "correct_predictions 39352\n",
            "solution_fitness 50.580976863753214\n",
            "----------------Fin --------------------------------------------------\n",
            "----------------inicio --------------------------------------------------\n",
            "----------------inicio --------------------------------------------------\n",
            "GANN_instance <pygad.nn.nn.DenseLayer object at 0x7ffada9d1f10>\n",
            "sol_idx 11\n",
            "GANN_instance 20\n",
            "correct_predictions 39482\n",
            "solution_fitness 50.74807197943445\n",
            "----------------Fin --------------------------------------------------\n",
            "----------------inicio --------------------------------------------------\n",
            "----------------inicio --------------------------------------------------\n",
            "GANN_instance <pygad.nn.nn.DenseLayer object at 0x7ffada9d1b50>\n",
            "sol_idx 12\n",
            "GANN_instance 20\n",
            "correct_predictions 41922\n",
            "solution_fitness 53.88431876606684\n",
            "----------------Fin --------------------------------------------------\n",
            "----------------inicio --------------------------------------------------\n",
            "----------------inicio --------------------------------------------------\n",
            "GANN_instance <pygad.nn.nn.DenseLayer object at 0x7ffada9d1450>\n",
            "sol_idx 13\n",
            "GANN_instance 20\n",
            "correct_predictions 38669\n",
            "solution_fitness 49.703084832904885\n",
            "----------------Fin --------------------------------------------------\n",
            "----------------inicio --------------------------------------------------\n",
            "----------------inicio --------------------------------------------------\n",
            "GANN_instance <pygad.nn.nn.DenseLayer object at 0x7ffada9d14d0>\n",
            "sol_idx 14\n",
            "GANN_instance 20\n",
            "correct_predictions 37324\n",
            "solution_fitness 47.97429305912597\n",
            "----------------Fin --------------------------------------------------\n",
            "----------------inicio --------------------------------------------------\n",
            "----------------inicio --------------------------------------------------\n",
            "GANN_instance <pygad.nn.nn.DenseLayer object at 0x7ffae3fb5a90>\n",
            "sol_idx 15\n",
            "GANN_instance 20\n",
            "correct_predictions 38185\n",
            "solution_fitness 49.080976863753214\n",
            "----------------Fin --------------------------------------------------\n"
          ]
        },
        {
          "output_type": "execute_result",
          "data": {
            "text/plain": [
              "(array([0, 0]), 55.17223650385604, 8)"
            ]
          },
          "metadata": {},
          "execution_count": 133
        }
      ]
    },
    {
      "cell_type": "markdown",
      "source": [
        "# **Entrenamiento con todas las variables y mejores hiperparametros**"
      ],
      "metadata": {
        "id": "9ccfDWFlgLFA"
      }
    },
    {
      "cell_type": "code",
      "source": [
        "from sklearn.metrics import roc_curve\n",
        "from sklearn.metrics import roc_auc_score"
      ],
      "metadata": {
        "id": "zeh51XbQh5mk"
      },
      "execution_count": null,
      "outputs": []
    },
    {
      "cell_type": "code",
      "source": [
        "auc = roc_auc_score(y_testPF,prediction_testAM)\n",
        "text=\"ROC AUC=%.3f\"% (auc)\n",
        "print(text)\n",
        "print('Red Neuronal: ROC AUC=%.3f' % (auc))"
      ],
      "metadata": {
        "id": "1norDXHtlm8W"
      },
      "execution_count": null,
      "outputs": []
    },
    {
      "cell_type": "code",
      "source": [
        "def plot_roc_curve(fper, tper,auc):\n",
        "    plt.plot(fper, tper, color='red', label='ROC',)\n",
        "    plt.plot([0, 1], [0, 1], color='green', linestyle='--')\n",
        "    plt.xlabel('Falsos Positivos')\n",
        "    plt.ylabel('Verdaderos Positivos')\n",
        "    plt.title('Curva ROC')\n",
        "    plt.text(0.45, 0.8, auc, fontsize=9, color='red')\n",
        "    plt.show()"
      ],
      "metadata": {
        "id": "oFFhGDmCj8eu"
      },
      "execution_count": null,
      "outputs": []
    },
    {
      "cell_type": "code",
      "source": [
        "fper, tper, thresholds = roc_curve(y_testPF,prediction_testAM)\n",
        "plot_roc_curve(fper, tper,text)"
      ],
      "metadata": {
        "id": "hQYNwuPUkfyH"
      },
      "execution_count": null,
      "outputs": []
    },
    {
      "cell_type": "markdown",
      "source": [
        "Realizamos cross validation para garantizar la efectividad del moddelo"
      ],
      "metadata": {
        "id": "bl0y7mDHpHTn"
      }
    },
    {
      "cell_type": "markdown",
      "source": [
        "**Cross Validation K-Folds**"
      ],
      "metadata": {
        "id": "vWSnTG2uVolB"
      }
    },
    {
      "cell_type": "code",
      "source": [
        "from sklearn.model_selection import cross_val_score\n",
        "from sklearn.model_selection import KFold"
      ],
      "metadata": {
        "id": "OpczhKnpVw8T"
      },
      "execution_count": null,
      "outputs": []
    },
    {
      "cell_type": "code",
      "source": [
        "kf = KFold(n_splits=3)\n",
        "scores = cross_val_score(mlp_PRO_FLA, X_trainPF, y_trainPF, cv=kf, scoring=\"accuracy\",n_jobs=-1)\n",
        "sensibilidades = cross_val_score(mlp_PRO_FLA, X_trainPF, y_trainPF, cv=kf, scoring=\"recall\",n_jobs=-1)"
      ],
      "metadata": {
        "id": "dYU1yetub2OA"
      },
      "execution_count": null,
      "outputs": []
    },
    {
      "cell_type": "code",
      "source": [
        "print(\"Metricas scores\", scores)\n",
        "print(\"Metricas sensibilidades\", sensibilidades)"
      ],
      "metadata": {
        "id": "SIZRmIGHdGxm"
      },
      "execution_count": null,
      "outputs": []
    },
    {
      "cell_type": "markdown",
      "source": [
        "Test de cross validation\n",
        "\n",
        "\n",
        "\n",
        "```\n",
        "for train_indices, test_indices in kf.split(X_trainPF):\n",
        "  print('Train: %s | test: %s' % (train_indices, test_indices))\n",
        "  print('score: %s' % (mlp_PRO_FLA.fit(X_trainPF[train_indices], y_trainPF[train_indices]).score(X_trainPF[test_indices], y_trainPF[test_indices])))\n",
        "  print('sensibilidad: %s' % (recall_score(y_trainPF[test_indices],mlp_PRO_FLA.predict(X_trainPF[test_indices]))))\n",
        "```\n",
        "resultado\n",
        "\n",
        "\n",
        "\n",
        "```\n",
        "Train: [2468 2469 2470 ... 7401 7402 7403] | test: [   0    1    2 ... 2465 2466 2467]\n",
        "score: 0.7264991896272285\n",
        "sensibilidad: 0.7093023255813954\n",
        "Train: [   0    1    2 ... 7401 7402 7403] | test: [2468 2469 2470 ... 4933 4934 4935]\n",
        "score: 0.7455429497568882\n",
        "sensibilidad: 0.7043824701195219\n",
        "Train: [   0    1    2 ... 4933 4934 4935] | test: [4936 4937 4938 ... 7401 7402 7403]\n",
        "score: 0.7431118314424635\n",
        "sensibilidad: 0.7103781174577635\n",
        "```\n",
        "\n",
        "\n",
        "\n"
      ],
      "metadata": {
        "id": "eGI4qt_A2AWT"
      }
    },
    {
      "cell_type": "code",
      "source": [
        "print(\"Media de cross_validation\", scores.mean())"
      ],
      "metadata": {
        "id": "cgpoXfEsgOXi"
      },
      "execution_count": null,
      "outputs": []
    },
    {
      "cell_type": "markdown",
      "source": [
        "**Cross Validation Stratified K-Fold**"
      ],
      "metadata": {
        "id": "TLMy1m7F4YTV"
      }
    },
    {
      "cell_type": "code",
      "source": [
        "from sklearn.model_selection import StratifiedKFold"
      ],
      "metadata": {
        "id": "FuHNhbvz4iTu"
      },
      "execution_count": null,
      "outputs": []
    },
    {
      "cell_type": "code",
      "source": [
        "skf = StratifiedKFold(n_splits=5, shuffle=True, random_state=1)\n",
        "lista_accuracy = []\n",
        "lista_sensibilidad =[]\n",
        "for train_index, test_index in skf.split(X_trainPF, y_trainPF):\n",
        "    x_train_fold, x_test_fold = X_scaler[train_index], X_scaler[test_index]\n",
        "    y_train_fold, y_test_fold = y_train_smt[train_index], y_train_smt[test_index]\n",
        "    mlp_PRO_FLA.fit(x_train_fold, y_train_fold)\n",
        "    lista_accuracy.append(mlp_PRO_FLA.score(x_test_fold, y_test_fold))\n",
        "    lista_sensibilidad.append(recall_score(y_test_fold,mlp_PRO_FLA.predict(x_test_fold)))"
      ],
      "metadata": {
        "id": "3-Q-2CAZ461p"
      },
      "execution_count": null,
      "outputs": []
    },
    {
      "cell_type": "code",
      "source": [
        "from statistics import mean, stdev\n",
        "print('Lista de socres:', lista_accuracy)\n",
        "print('El Maximo accuracy del modelo es:',\n",
        "      max(lista_accuracy)*100, '%')\n",
        "print('El Minimo accuracy del modelo es',\n",
        "      min(lista_accuracy)*100, '%')\n",
        "print('El Promedio accuracy del modelo es:',\n",
        "      mean(lista_accuracy)*100, '%')\n",
        "print('La desviacion estandar del accuracy del modelo es:', stdev(lista_accuracy))\n",
        "print('Lista de sensibilidades:', lista_sensibilidad)\n",
        "print('La Maxima sensibilidades del modelo es:',\n",
        "      max(lista_sensibilidad)*100, '%')\n",
        "print('La Minima sensibilidad del modelo es',\n",
        "      min(lista_sensibilidad)*100, '%')\n",
        "print('El Promedio de sensibilidad del modelo es:',\n",
        "      mean(lista_sensibilidad)*100, '%')\n",
        "print('La desviacion estandar de la sensibilidad del modelo es:', stdev(lista_sensibilidad))"
      ],
      "metadata": {
        "id": "VsX9xoif62uY"
      },
      "execution_count": null,
      "outputs": []
    },
    {
      "cell_type": "markdown",
      "source": [
        "Probamos nuestro modelo"
      ],
      "metadata": {
        "id": "F_QEQjHBHoss"
      }
    },
    {
      "cell_type": "code",
      "source": [
        "prediction_testAM = mlp_PRO_FLA.predict(X_testPF)\n",
        "cnf_matrixAM = confusion_matrix(y_testPF, prediction_testAM)\n",
        "list_cm(cnf_matrixAM,class_names)\n",
        "print('SCORE prueba: {}'.format(mlp_PRO_FLA.score(X_testPF, y_testPF)))\n",
        "print('Error en prueba: {}'.format(1-mlp_PRO_FLA.score(X_testPF, y_testPF)))\n",
        "sensibilidad=recall_score(y_testPF,prediction_testAM)\n",
        "print(\"Sensibilidad: {}\".format(sensibilidad))\n",
        "precision=precision_score(y_testPF,prediction_testAM)\n",
        "print(\"precision: {}\".format(precision))"
      ],
      "metadata": {
        "id": "JcGmifFVIETL"
      },
      "execution_count": null,
      "outputs": []
    },
    {
      "cell_type": "code",
      "source": [
        "auc = roc_auc_score(y_testPF,prediction_testAM)\n",
        "text=\"ROC AUC=%.3f\"% (auc)\n",
        "print(text)\n",
        "print('Red Neuronal: ROC AUC=%.3f' % (auc))\n",
        "fper, tper, thresholds = roc_curve(y_testPF,prediction_testAM)\n",
        "plot_roc_curve(fper, tper,text)"
      ],
      "metadata": {
        "id": "ucwI-qk-rjuX"
      },
      "execution_count": null,
      "outputs": []
    }
  ],
  "metadata": {
    "colab": {
      "collapsed_sections": [],
      "name": "Proyecto_Final_Sistemas_Inteligentes_GA.ipynb",
      "provenance": [],
      "include_colab_link": true
    },
    "kernelspec": {
      "display_name": "Python 3",
      "name": "python3"
    },
    "language_info": {
      "name": "python"
    }
  },
  "nbformat": 4,
  "nbformat_minor": 0
}