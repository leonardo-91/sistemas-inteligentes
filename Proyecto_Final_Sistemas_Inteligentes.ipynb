{
  "cells": [
    {
      "cell_type": "markdown",
      "metadata": {
        "id": "view-in-github",
        "colab_type": "text"
      },
      "source": [
        "<a href=\"https://colab.research.google.com/github/leonardo-91/sistemas-inteligentes/blob/main/Proyecto_Final_Sistemas_Inteligentes.ipynb\" target=\"_parent\"><img src=\"https://colab.research.google.com/assets/colab-badge.svg\" alt=\"Open In Colab\"/></a>"
      ]
    },
    {
      "cell_type": "markdown",
      "metadata": {
        "id": "qpRXucXyd1Zk"
      },
      "source": [
        "**Pontifica Universidad Javeriana**\n",
        "\n",
        "Sistemas Inteligentes\n",
        "\n",
        "\n",
        "---\n",
        "\n",
        "\n",
        "\n",
        "**Grupo:**\n",
        "\n",
        "1.   Edison Leonardo Neira Espitia\n",
        "2.   Sergio Rairan\n",
        "3.   Sebastian Herrara\n",
        "\n",
        "\n",
        "\n",
        "\n",
        "---\n",
        "\n",
        "\n",
        "\n"
      ]
    },
    {
      "cell_type": "markdown",
      "metadata": {
        "id": "v2-nvPW_gxoS"
      },
      "source": [
        "# **Sistema inteligente para la segmentación de clientes con el fin de potencializar y optimizar la conversión de la campaña deposito financiero**\n",
        "\n",
        "\n",
        "\n",
        "---\n",
        "\n"
      ]
    },
    {
      "cell_type": "markdown",
      "metadata": {
        "id": "yZu8-o2ldNHw"
      },
      "source": [
        "# **Contexto**\n",
        "\n",
        "Una institución bancaria portuguesa, propone a través de una campaña de marketing basada en llamadas telefónica, predecir si un usuario se suscribirá a un depósito a plazos. De cada usuario intentan saber atributos como el trabajo actual, el nivel de educación, el incumplimiento financiero, etc. Actualmente, la institución realiza las llamadas sin clasificar ni priorizar clientes, como consecuencia se tiene un tiempo elevado en la labor e incomodidad en clientes que no cumplan con el perfil.\n",
        "\n"
      ]
    },
    {
      "cell_type": "markdown",
      "metadata": {
        "id": "Vc3Y0Wr8dhd5"
      },
      "source": [
        "## **Objetivo**\n",
        "\n",
        "Aumentar el número de clientes que se suscriben y al mismo tiempo eficientar la operación de la campaña de depósito financiero (CDT) a partir de estrategias orientadas a la conversión de usuarios usando cuatro técnicas de IA utilizando datos de los años 2012 - 2014 con un nivel mínimo de precisión del 80% de conversión, buscando ampliar el recaudo financiero para la compañía (Banco), posibilitando el aumento del índice de inversión y por ende el aumento de las utilidades. Esperamos analizar estos cuatro tipos de técnicas de IA por medio de Google Colabs usando Python 3.7 como leguaje de programación, y Scikit-Learn como librería de apoyo para la implementación de los diferentes algoritmos, a su vez usaremos el set de datos públicos de una institución financiera de Portugal que se encuentra alojado en Center of Machine Learning  and Intellignet system (UCI), tenemos como objetivo desarrollar este análisis en el transcurso del curso que se estima será de 3 meses.  \n",
        "\n",
        "\n",
        "\n",
        "---\n",
        "\n"
      ]
    },
    {
      "cell_type": "markdown",
      "metadata": {
        "id": "_HG2zw4VduaW"
      },
      "source": [
        "## **Desarrollo**"
      ]
    },
    {
      "cell_type": "code",
      "execution_count": 1,
      "metadata": {
        "colab": {
          "base_uri": "https://localhost:8080/"
        },
        "id": "iJMa1Sy6dBG1",
        "outputId": "367a6270-7a57-4d23-ad8e-7a722a74f999"
      },
      "outputs": [
        {
          "output_type": "stream",
          "name": "stdout",
          "text": [
            "Python 3.7.12\n"
          ]
        }
      ],
      "source": [
        "!python --version"
      ]
    },
    {
      "cell_type": "markdown",
      "source": [
        "Instalamos libreria para tratar el desbalanceo de datos"
      ],
      "metadata": {
        "id": "JwYeXTlTs37p"
      }
    },
    {
      "cell_type": "code",
      "source": [
        "#!pip install imbalanced-learn"
      ],
      "metadata": {
        "id": "1JEpHgD8s7tH"
      },
      "execution_count": 2,
      "outputs": []
    },
    {
      "cell_type": "code",
      "source": [
        "#!pip install -U scikit-learn"
      ],
      "metadata": {
        "id": "n9VmF1p92_zd"
      },
      "execution_count": 3,
      "outputs": []
    },
    {
      "cell_type": "markdown",
      "metadata": {
        "id": "WAUcP30ocuQy"
      },
      "source": [
        "**Librerias**"
      ]
    },
    {
      "cell_type": "code",
      "execution_count": 4,
      "metadata": {
        "id": "muHcCi_Hc3B1"
      },
      "outputs": [],
      "source": [
        "import numpy as np\n",
        "import pandas as pd\n",
        "import pylab as pl\n",
        "from matplotlib import pyplot as plt\n",
        "from sklearn import preprocessing\n",
        "from sklearn.preprocessing import OrdinalEncoder"
      ]
    },
    {
      "cell_type": "markdown",
      "source": [
        "**Matriz de confusion**"
      ],
      "metadata": {
        "id": "GPifpHBPoBO4"
      }
    },
    {
      "cell_type": "code",
      "source": [
        "def list_cm(cm,classes):     #función para generar de una forma más visual la matriz de confusión\n",
        "    if len(cm)==2:\n",
        "      cm.astype(int)\n",
        "      row_0 =['','Valor','Verdadero']\n",
        "      row_1 =['-',classes[0],classes[1]]\n",
        "      row_2 =[classes[0],cm[0,0],cm[1,0]]\n",
        "      row_3 =[classes[1],cm[0,1],cm[1,1]]\n",
        "      table = zip(row_0,row_1, row_2, row_3)\n",
        "      headers = ['', '', 'Valor', 'Predicho']  \n",
        "      return print(tabulate(table, headers=headers, floatfmt=\".0f\"))\n",
        "    else:\n",
        "      cm.astype(int)\n",
        "      row_0 =['','Valor','Verdadero','']\n",
        "      row_1 =['-',classes[0],classes[1],classes[2]]\n",
        "      row_2 =[classes[0],cm[0,0],cm[1,0],cm[2,0]]\n",
        "      row_3 =[classes[1],cm[0,1],cm[1,1],cm[2,1]]\n",
        "      row_4 =[classes[2],cm[0,2],cm[1,2],cm[2,2]]\n",
        "      table = zip(row_0,row_1, row_2, row_3, row_4)\n",
        "      headers = ['', '', 'Valor', 'Predicho', '']  \n",
        "      return print(tabulate(table, headers=headers, floatfmt=\".0f\")) "
      ],
      "metadata": {
        "id": "wrzq9imZoD3J"
      },
      "execution_count": 5,
      "outputs": []
    },
    {
      "cell_type": "markdown",
      "metadata": {
        "id": "VIheO_-Cc-gV"
      },
      "source": [
        "**Cargue de datos**"
      ]
    },
    {
      "cell_type": "code",
      "execution_count": 6,
      "metadata": {
        "colab": {
          "base_uri": "https://localhost:8080/"
        },
        "id": "5Baz1s0HfBIm",
        "outputId": "637b1451-2c5f-4e1e-ccae-f32cde198b1e"
      },
      "outputs": [
        {
          "output_type": "stream",
          "name": "stdout",
          "text": [
            "Mounted at /content/drive\n"
          ]
        }
      ],
      "source": [
        "from google.colab import drive\n",
        "drive.mount('/content/drive')"
      ]
    },
    {
      "cell_type": "code",
      "execution_count": 7,
      "metadata": {
        "id": "cIGZDtK_fHpv"
      },
      "outputs": [],
      "source": [
        "#Ruta leo : \"/content/drive/MyDrive/Maestria IA/Sistemas Inteligentes/Proyecto Final SI/Set de datos/bank-full.csv\"\n",
        "#Ruta Sergio : \"/content/drive/MyDrive/Proyecto Final/Set de datos/bank-full.csv\"\n",
        "#Ruta Sebastián: \"/content/drive/MyDrive/Proyecto Final/Set de datos/bank-full.csv\"\n",
        "\n",
        "df_bank = pd.read_csv(\"/content/drive/MyDrive/Maestria IA/Sistemas Inteligentes/Proyecto Final SI/Set de datos/bank-full.csv\", sep=\";\")"
      ]
    },
    {
      "cell_type": "code",
      "execution_count": 8,
      "metadata": {
        "colab": {
          "base_uri": "https://localhost:8080/",
          "height": 270
        },
        "id": "IzW8uO00fnnJ",
        "outputId": "da1d230d-c69d-4e91-d869-3a4de8a91dbc"
      },
      "outputs": [
        {
          "output_type": "execute_result",
          "data": {
            "text/plain": [
              "   age           job  marital  education default  balance housing loan  \\\n",
              "0   58    management  married   tertiary      no     2143     yes   no   \n",
              "1   44    technician   single  secondary      no       29     yes   no   \n",
              "2   33  entrepreneur  married  secondary      no        2     yes  yes   \n",
              "3   47   blue-collar  married    unknown      no     1506     yes   no   \n",
              "4   33       unknown   single    unknown      no        1      no   no   \n",
              "\n",
              "   contact  day month  duration  campaign  pdays  previous poutcome   y  \n",
              "0  unknown    5   may       261         1     -1         0  unknown  no  \n",
              "1  unknown    5   may       151         1     -1         0  unknown  no  \n",
              "2  unknown    5   may        76         1     -1         0  unknown  no  \n",
              "3  unknown    5   may        92         1     -1         0  unknown  no  \n",
              "4  unknown    5   may       198         1     -1         0  unknown  no  "
            ],
            "text/html": [
              "\n",
              "  <div id=\"df-a55e20d9-0098-4020-b3e2-690159f7dcbc\">\n",
              "    <div class=\"colab-df-container\">\n",
              "      <div>\n",
              "<style scoped>\n",
              "    .dataframe tbody tr th:only-of-type {\n",
              "        vertical-align: middle;\n",
              "    }\n",
              "\n",
              "    .dataframe tbody tr th {\n",
              "        vertical-align: top;\n",
              "    }\n",
              "\n",
              "    .dataframe thead th {\n",
              "        text-align: right;\n",
              "    }\n",
              "</style>\n",
              "<table border=\"1\" class=\"dataframe\">\n",
              "  <thead>\n",
              "    <tr style=\"text-align: right;\">\n",
              "      <th></th>\n",
              "      <th>age</th>\n",
              "      <th>job</th>\n",
              "      <th>marital</th>\n",
              "      <th>education</th>\n",
              "      <th>default</th>\n",
              "      <th>balance</th>\n",
              "      <th>housing</th>\n",
              "      <th>loan</th>\n",
              "      <th>contact</th>\n",
              "      <th>day</th>\n",
              "      <th>month</th>\n",
              "      <th>duration</th>\n",
              "      <th>campaign</th>\n",
              "      <th>pdays</th>\n",
              "      <th>previous</th>\n",
              "      <th>poutcome</th>\n",
              "      <th>y</th>\n",
              "    </tr>\n",
              "  </thead>\n",
              "  <tbody>\n",
              "    <tr>\n",
              "      <th>0</th>\n",
              "      <td>58</td>\n",
              "      <td>management</td>\n",
              "      <td>married</td>\n",
              "      <td>tertiary</td>\n",
              "      <td>no</td>\n",
              "      <td>2143</td>\n",
              "      <td>yes</td>\n",
              "      <td>no</td>\n",
              "      <td>unknown</td>\n",
              "      <td>5</td>\n",
              "      <td>may</td>\n",
              "      <td>261</td>\n",
              "      <td>1</td>\n",
              "      <td>-1</td>\n",
              "      <td>0</td>\n",
              "      <td>unknown</td>\n",
              "      <td>no</td>\n",
              "    </tr>\n",
              "    <tr>\n",
              "      <th>1</th>\n",
              "      <td>44</td>\n",
              "      <td>technician</td>\n",
              "      <td>single</td>\n",
              "      <td>secondary</td>\n",
              "      <td>no</td>\n",
              "      <td>29</td>\n",
              "      <td>yes</td>\n",
              "      <td>no</td>\n",
              "      <td>unknown</td>\n",
              "      <td>5</td>\n",
              "      <td>may</td>\n",
              "      <td>151</td>\n",
              "      <td>1</td>\n",
              "      <td>-1</td>\n",
              "      <td>0</td>\n",
              "      <td>unknown</td>\n",
              "      <td>no</td>\n",
              "    </tr>\n",
              "    <tr>\n",
              "      <th>2</th>\n",
              "      <td>33</td>\n",
              "      <td>entrepreneur</td>\n",
              "      <td>married</td>\n",
              "      <td>secondary</td>\n",
              "      <td>no</td>\n",
              "      <td>2</td>\n",
              "      <td>yes</td>\n",
              "      <td>yes</td>\n",
              "      <td>unknown</td>\n",
              "      <td>5</td>\n",
              "      <td>may</td>\n",
              "      <td>76</td>\n",
              "      <td>1</td>\n",
              "      <td>-1</td>\n",
              "      <td>0</td>\n",
              "      <td>unknown</td>\n",
              "      <td>no</td>\n",
              "    </tr>\n",
              "    <tr>\n",
              "      <th>3</th>\n",
              "      <td>47</td>\n",
              "      <td>blue-collar</td>\n",
              "      <td>married</td>\n",
              "      <td>unknown</td>\n",
              "      <td>no</td>\n",
              "      <td>1506</td>\n",
              "      <td>yes</td>\n",
              "      <td>no</td>\n",
              "      <td>unknown</td>\n",
              "      <td>5</td>\n",
              "      <td>may</td>\n",
              "      <td>92</td>\n",
              "      <td>1</td>\n",
              "      <td>-1</td>\n",
              "      <td>0</td>\n",
              "      <td>unknown</td>\n",
              "      <td>no</td>\n",
              "    </tr>\n",
              "    <tr>\n",
              "      <th>4</th>\n",
              "      <td>33</td>\n",
              "      <td>unknown</td>\n",
              "      <td>single</td>\n",
              "      <td>unknown</td>\n",
              "      <td>no</td>\n",
              "      <td>1</td>\n",
              "      <td>no</td>\n",
              "      <td>no</td>\n",
              "      <td>unknown</td>\n",
              "      <td>5</td>\n",
              "      <td>may</td>\n",
              "      <td>198</td>\n",
              "      <td>1</td>\n",
              "      <td>-1</td>\n",
              "      <td>0</td>\n",
              "      <td>unknown</td>\n",
              "      <td>no</td>\n",
              "    </tr>\n",
              "  </tbody>\n",
              "</table>\n",
              "</div>\n",
              "      <button class=\"colab-df-convert\" onclick=\"convertToInteractive('df-a55e20d9-0098-4020-b3e2-690159f7dcbc')\"\n",
              "              title=\"Convert this dataframe to an interactive table.\"\n",
              "              style=\"display:none;\">\n",
              "        \n",
              "  <svg xmlns=\"http://www.w3.org/2000/svg\" height=\"24px\"viewBox=\"0 0 24 24\"\n",
              "       width=\"24px\">\n",
              "    <path d=\"M0 0h24v24H0V0z\" fill=\"none\"/>\n",
              "    <path d=\"M18.56 5.44l.94 2.06.94-2.06 2.06-.94-2.06-.94-.94-2.06-.94 2.06-2.06.94zm-11 1L8.5 8.5l.94-2.06 2.06-.94-2.06-.94L8.5 2.5l-.94 2.06-2.06.94zm10 10l.94 2.06.94-2.06 2.06-.94-2.06-.94-.94-2.06-.94 2.06-2.06.94z\"/><path d=\"M17.41 7.96l-1.37-1.37c-.4-.4-.92-.59-1.43-.59-.52 0-1.04.2-1.43.59L10.3 9.45l-7.72 7.72c-.78.78-.78 2.05 0 2.83L4 21.41c.39.39.9.59 1.41.59.51 0 1.02-.2 1.41-.59l7.78-7.78 2.81-2.81c.8-.78.8-2.07 0-2.86zM5.41 20L4 18.59l7.72-7.72 1.47 1.35L5.41 20z\"/>\n",
              "  </svg>\n",
              "      </button>\n",
              "      \n",
              "  <style>\n",
              "    .colab-df-container {\n",
              "      display:flex;\n",
              "      flex-wrap:wrap;\n",
              "      gap: 12px;\n",
              "    }\n",
              "\n",
              "    .colab-df-convert {\n",
              "      background-color: #E8F0FE;\n",
              "      border: none;\n",
              "      border-radius: 50%;\n",
              "      cursor: pointer;\n",
              "      display: none;\n",
              "      fill: #1967D2;\n",
              "      height: 32px;\n",
              "      padding: 0 0 0 0;\n",
              "      width: 32px;\n",
              "    }\n",
              "\n",
              "    .colab-df-convert:hover {\n",
              "      background-color: #E2EBFA;\n",
              "      box-shadow: 0px 1px 2px rgba(60, 64, 67, 0.3), 0px 1px 3px 1px rgba(60, 64, 67, 0.15);\n",
              "      fill: #174EA6;\n",
              "    }\n",
              "\n",
              "    [theme=dark] .colab-df-convert {\n",
              "      background-color: #3B4455;\n",
              "      fill: #D2E3FC;\n",
              "    }\n",
              "\n",
              "    [theme=dark] .colab-df-convert:hover {\n",
              "      background-color: #434B5C;\n",
              "      box-shadow: 0px 1px 3px 1px rgba(0, 0, 0, 0.15);\n",
              "      filter: drop-shadow(0px 1px 2px rgba(0, 0, 0, 0.3));\n",
              "      fill: #FFFFFF;\n",
              "    }\n",
              "  </style>\n",
              "\n",
              "      <script>\n",
              "        const buttonEl =\n",
              "          document.querySelector('#df-a55e20d9-0098-4020-b3e2-690159f7dcbc button.colab-df-convert');\n",
              "        buttonEl.style.display =\n",
              "          google.colab.kernel.accessAllowed ? 'block' : 'none';\n",
              "\n",
              "        async function convertToInteractive(key) {\n",
              "          const element = document.querySelector('#df-a55e20d9-0098-4020-b3e2-690159f7dcbc');\n",
              "          const dataTable =\n",
              "            await google.colab.kernel.invokeFunction('convertToInteractive',\n",
              "                                                     [key], {});\n",
              "          if (!dataTable) return;\n",
              "\n",
              "          const docLinkHtml = 'Like what you see? Visit the ' +\n",
              "            '<a target=\"_blank\" href=https://colab.research.google.com/notebooks/data_table.ipynb>data table notebook</a>'\n",
              "            + ' to learn more about interactive tables.';\n",
              "          element.innerHTML = '';\n",
              "          dataTable['output_type'] = 'display_data';\n",
              "          await google.colab.output.renderOutput(dataTable, element);\n",
              "          const docLink = document.createElement('div');\n",
              "          docLink.innerHTML = docLinkHtml;\n",
              "          element.appendChild(docLink);\n",
              "        }\n",
              "      </script>\n",
              "    </div>\n",
              "  </div>\n",
              "  "
            ]
          },
          "metadata": {},
          "execution_count": 8
        }
      ],
      "source": [
        "df_bank.head()"
      ]
    },
    {
      "cell_type": "code",
      "source": [
        "df_bank.y.value_counts(ascending=False)"
      ],
      "metadata": {
        "colab": {
          "base_uri": "https://localhost:8080/"
        },
        "id": "StFmCP1mRD-g",
        "outputId": "29caf0fe-f737-4f63-f660-3e02ecefc5c2"
      },
      "execution_count": 9,
      "outputs": [
        {
          "output_type": "execute_result",
          "data": {
            "text/plain": [
              "no     39922\n",
              "yes     5289\n",
              "Name: y, dtype: int64"
            ]
          },
          "metadata": {},
          "execution_count": 9
        }
      ]
    },
    {
      "cell_type": "markdown",
      "source": [
        "**Variables Nominales**\n",
        "\n",
        "\n",
        "*   Job\n",
        "*   marital\n",
        "*   Default (1 Solo Valor)\n",
        "*   housing (1 Solo Valor)\n",
        "*   loan (1 Solo Valor)\n",
        "*   contact \n",
        "*   poutcome\n",
        "*   y (1 Solo Valor)\n",
        "\n",
        "\n",
        "**Variables Desccartadas**\n",
        "\n",
        "*   duration\t(Varible que tiene una alta relacion con la campaña por lo cual nos puede sobre ajustar el modelo, pues indica tiempo de duracion de la llamada y es 0 cuando no ha sido contacto). \n",
        "\n",
        "**Variables Ordinales**\n",
        "\n",
        "*   education\n",
        "*   month\n",
        "\n",
        "\n",
        "\n"
      ],
      "metadata": {
        "id": "q8JKnGlQRPRq"
      }
    },
    {
      "cell_type": "code",
      "execution_count": 10,
      "metadata": {
        "colab": {
          "base_uri": "https://localhost:8080/"
        },
        "id": "mHNgMyyNgHrP",
        "outputId": "5cf15ec7-684f-4e4f-9063-3796025fc6d0"
      },
      "outputs": [
        {
          "output_type": "stream",
          "name": "stdout",
          "text": [
            "<class 'pandas.core.frame.DataFrame'>\n",
            "RangeIndex: 45211 entries, 0 to 45210\n",
            "Data columns (total 17 columns):\n",
            " #   Column     Non-Null Count  Dtype \n",
            "---  ------     --------------  ----- \n",
            " 0   age        45211 non-null  int64 \n",
            " 1   job        45211 non-null  object\n",
            " 2   marital    45211 non-null  object\n",
            " 3   education  45211 non-null  object\n",
            " 4   default    45211 non-null  object\n",
            " 5   balance    45211 non-null  int64 \n",
            " 6   housing    45211 non-null  object\n",
            " 7   loan       45211 non-null  object\n",
            " 8   contact    45211 non-null  object\n",
            " 9   day        45211 non-null  int64 \n",
            " 10  month      45211 non-null  object\n",
            " 11  duration   45211 non-null  int64 \n",
            " 12  campaign   45211 non-null  int64 \n",
            " 13  pdays      45211 non-null  int64 \n",
            " 14  previous   45211 non-null  int64 \n",
            " 15  poutcome   45211 non-null  object\n",
            " 16  y          45211 non-null  object\n",
            "dtypes: int64(7), object(10)\n",
            "memory usage: 5.9+ MB\n"
          ]
        }
      ],
      "source": [
        "df_bank.info()"
      ]
    },
    {
      "cell_type": "code",
      "execution_count": 11,
      "metadata": {
        "colab": {
          "base_uri": "https://localhost:8080/"
        },
        "id": "CpHO3jIfgI82",
        "outputId": "c0567818-2f36-46ad-e0d3-7f9cd5906d3a"
      },
      "outputs": [
        {
          "output_type": "execute_result",
          "data": {
            "text/plain": [
              "may    13766\n",
              "jul     6895\n",
              "aug     6247\n",
              "jun     5341\n",
              "nov     3970\n",
              "apr     2932\n",
              "feb     2649\n",
              "jan     1403\n",
              "oct      738\n",
              "sep      579\n",
              "mar      477\n",
              "dec      214\n",
              "Name: month, dtype: int64"
            ]
          },
          "metadata": {},
          "execution_count": 11
        }
      ],
      "source": [
        "df_bank.month.value_counts()"
      ]
    },
    {
      "cell_type": "code",
      "execution_count": 12,
      "metadata": {
        "colab": {
          "base_uri": "https://localhost:8080/"
        },
        "id": "-hMSsGJ2IEKs",
        "outputId": "d2ed8fb0-d132-4e98-c67f-ae7163e7c162"
      },
      "outputs": [
        {
          "output_type": "execute_result",
          "data": {
            "text/plain": [
              "1     17544\n",
              "2     12505\n",
              "3      5521\n",
              "4      3522\n",
              "5      1764\n",
              "6      1291\n",
              "7       735\n",
              "8       540\n",
              "9       327\n",
              "10      266\n",
              "11      201\n",
              "12      155\n",
              "13      133\n",
              "14       93\n",
              "15       84\n",
              "16       79\n",
              "17       69\n",
              "18       51\n",
              "19       44\n",
              "20       43\n",
              "21       35\n",
              "22       23\n",
              "25       22\n",
              "23       22\n",
              "24       20\n",
              "29       16\n",
              "28       16\n",
              "26       13\n",
              "31       12\n",
              "27       10\n",
              "32        9\n",
              "30        8\n",
              "33        6\n",
              "34        5\n",
              "36        4\n",
              "35        4\n",
              "43        3\n",
              "38        3\n",
              "37        2\n",
              "50        2\n",
              "41        2\n",
              "46        1\n",
              "58        1\n",
              "55        1\n",
              "63        1\n",
              "51        1\n",
              "39        1\n",
              "44        1\n",
              "Name: campaign, dtype: int64"
            ]
          },
          "metadata": {},
          "execution_count": 12
        }
      ],
      "source": [
        "df_bank.campaign.value_counts()"
      ]
    },
    {
      "cell_type": "code",
      "execution_count": 12,
      "metadata": {
        "id": "ZKju3XsEJuwO"
      },
      "outputs": [],
      "source": [
        ""
      ]
    },
    {
      "cell_type": "code",
      "execution_count": 13,
      "metadata": {
        "colab": {
          "base_uri": "https://localhost:8080/"
        },
        "id": "lAKdAZpgKtvO",
        "outputId": "15be211f-6321-4981-983d-e22275f60d63"
      },
      "outputs": [
        {
          "output_type": "execute_result",
          "data": {
            "text/plain": [
              "blue-collar      9732\n",
              "management       9458\n",
              "technician       7597\n",
              "admin.           5171\n",
              "services         4154\n",
              "retired          2264\n",
              "self-employed    1579\n",
              "entrepreneur     1487\n",
              "unemployed       1303\n",
              "housemaid        1240\n",
              "student           938\n",
              "unknown           288\n",
              "Name: job, dtype: int64"
            ]
          },
          "metadata": {},
          "execution_count": 13
        }
      ],
      "source": [
        "df_bank.job.value_counts()"
      ]
    },
    {
      "cell_type": "markdown",
      "source": [
        "Creamos Data Frame para preparlo"
      ],
      "metadata": {
        "id": "ijcnKY6qcTE-"
      }
    },
    {
      "cell_type": "code",
      "source": [
        "df_piv=df_bank.copy()"
      ],
      "metadata": {
        "id": "M7-29YipNQQt"
      },
      "execution_count": 14,
      "outputs": []
    },
    {
      "cell_type": "markdown",
      "source": [
        "Convertimos varibales nominales "
      ],
      "metadata": {
        "id": "iMq2o-a-cYBx"
      }
    },
    {
      "cell_type": "code",
      "source": [
        "df_piv=pd.get_dummies(df_piv,columns=['job','marital','poutcome'])"
      ],
      "metadata": {
        "id": "b3ZLgcuPOD4F"
      },
      "execution_count": 15,
      "outputs": []
    },
    {
      "cell_type": "code",
      "source": [
        "df_piv"
      ],
      "metadata": {
        "colab": {
          "base_uri": "https://localhost:8080/",
          "height": 487
        },
        "id": "_lVQolG7N9T0",
        "outputId": "0e5ca7b3-4eb3-494d-e8fd-4a3ffa95c2c4"
      },
      "execution_count": 16,
      "outputs": [
        {
          "output_type": "execute_result",
          "data": {
            "text/plain": [
              "       age  education default  balance housing loan    contact  day month  \\\n",
              "0       58   tertiary      no     2143     yes   no    unknown    5   may   \n",
              "1       44  secondary      no       29     yes   no    unknown    5   may   \n",
              "2       33  secondary      no        2     yes  yes    unknown    5   may   \n",
              "3       47    unknown      no     1506     yes   no    unknown    5   may   \n",
              "4       33    unknown      no        1      no   no    unknown    5   may   \n",
              "...    ...        ...     ...      ...     ...  ...        ...  ...   ...   \n",
              "45206   51   tertiary      no      825      no   no   cellular   17   nov   \n",
              "45207   71    primary      no     1729      no   no   cellular   17   nov   \n",
              "45208   72  secondary      no     5715      no   no   cellular   17   nov   \n",
              "45209   57  secondary      no      668      no   no  telephone   17   nov   \n",
              "45210   37  secondary      no     2971      no   no   cellular   17   nov   \n",
              "\n",
              "       duration  ...  job_technician  job_unemployed  job_unknown  \\\n",
              "0           261  ...               0               0            0   \n",
              "1           151  ...               1               0            0   \n",
              "2            76  ...               0               0            0   \n",
              "3            92  ...               0               0            0   \n",
              "4           198  ...               0               0            1   \n",
              "...         ...  ...             ...             ...          ...   \n",
              "45206       977  ...               1               0            0   \n",
              "45207       456  ...               0               0            0   \n",
              "45208      1127  ...               0               0            0   \n",
              "45209       508  ...               0               0            0   \n",
              "45210       361  ...               0               0            0   \n",
              "\n",
              "      marital_divorced  marital_married  marital_single  poutcome_failure  \\\n",
              "0                    0                1               0                 0   \n",
              "1                    0                0               1                 0   \n",
              "2                    0                1               0                 0   \n",
              "3                    0                1               0                 0   \n",
              "4                    0                0               1                 0   \n",
              "...                ...              ...             ...               ...   \n",
              "45206                0                1               0                 0   \n",
              "45207                1                0               0                 0   \n",
              "45208                0                1               0                 0   \n",
              "45209                0                1               0                 0   \n",
              "45210                0                1               0                 0   \n",
              "\n",
              "       poutcome_other  poutcome_success  poutcome_unknown  \n",
              "0                   0                 0                 1  \n",
              "1                   0                 0                 1  \n",
              "2                   0                 0                 1  \n",
              "3                   0                 0                 1  \n",
              "4                   0                 0                 1  \n",
              "...               ...               ...               ...  \n",
              "45206               0                 0                 1  \n",
              "45207               0                 0                 1  \n",
              "45208               0                 1                 0  \n",
              "45209               0                 0                 1  \n",
              "45210               1                 0                 0  \n",
              "\n",
              "[45211 rows x 33 columns]"
            ],
            "text/html": [
              "\n",
              "  <div id=\"df-6cd603a8-a488-4c67-a208-b1e0fe76a071\">\n",
              "    <div class=\"colab-df-container\">\n",
              "      <div>\n",
              "<style scoped>\n",
              "    .dataframe tbody tr th:only-of-type {\n",
              "        vertical-align: middle;\n",
              "    }\n",
              "\n",
              "    .dataframe tbody tr th {\n",
              "        vertical-align: top;\n",
              "    }\n",
              "\n",
              "    .dataframe thead th {\n",
              "        text-align: right;\n",
              "    }\n",
              "</style>\n",
              "<table border=\"1\" class=\"dataframe\">\n",
              "  <thead>\n",
              "    <tr style=\"text-align: right;\">\n",
              "      <th></th>\n",
              "      <th>age</th>\n",
              "      <th>education</th>\n",
              "      <th>default</th>\n",
              "      <th>balance</th>\n",
              "      <th>housing</th>\n",
              "      <th>loan</th>\n",
              "      <th>contact</th>\n",
              "      <th>day</th>\n",
              "      <th>month</th>\n",
              "      <th>duration</th>\n",
              "      <th>...</th>\n",
              "      <th>job_technician</th>\n",
              "      <th>job_unemployed</th>\n",
              "      <th>job_unknown</th>\n",
              "      <th>marital_divorced</th>\n",
              "      <th>marital_married</th>\n",
              "      <th>marital_single</th>\n",
              "      <th>poutcome_failure</th>\n",
              "      <th>poutcome_other</th>\n",
              "      <th>poutcome_success</th>\n",
              "      <th>poutcome_unknown</th>\n",
              "    </tr>\n",
              "  </thead>\n",
              "  <tbody>\n",
              "    <tr>\n",
              "      <th>0</th>\n",
              "      <td>58</td>\n",
              "      <td>tertiary</td>\n",
              "      <td>no</td>\n",
              "      <td>2143</td>\n",
              "      <td>yes</td>\n",
              "      <td>no</td>\n",
              "      <td>unknown</td>\n",
              "      <td>5</td>\n",
              "      <td>may</td>\n",
              "      <td>261</td>\n",
              "      <td>...</td>\n",
              "      <td>0</td>\n",
              "      <td>0</td>\n",
              "      <td>0</td>\n",
              "      <td>0</td>\n",
              "      <td>1</td>\n",
              "      <td>0</td>\n",
              "      <td>0</td>\n",
              "      <td>0</td>\n",
              "      <td>0</td>\n",
              "      <td>1</td>\n",
              "    </tr>\n",
              "    <tr>\n",
              "      <th>1</th>\n",
              "      <td>44</td>\n",
              "      <td>secondary</td>\n",
              "      <td>no</td>\n",
              "      <td>29</td>\n",
              "      <td>yes</td>\n",
              "      <td>no</td>\n",
              "      <td>unknown</td>\n",
              "      <td>5</td>\n",
              "      <td>may</td>\n",
              "      <td>151</td>\n",
              "      <td>...</td>\n",
              "      <td>1</td>\n",
              "      <td>0</td>\n",
              "      <td>0</td>\n",
              "      <td>0</td>\n",
              "      <td>0</td>\n",
              "      <td>1</td>\n",
              "      <td>0</td>\n",
              "      <td>0</td>\n",
              "      <td>0</td>\n",
              "      <td>1</td>\n",
              "    </tr>\n",
              "    <tr>\n",
              "      <th>2</th>\n",
              "      <td>33</td>\n",
              "      <td>secondary</td>\n",
              "      <td>no</td>\n",
              "      <td>2</td>\n",
              "      <td>yes</td>\n",
              "      <td>yes</td>\n",
              "      <td>unknown</td>\n",
              "      <td>5</td>\n",
              "      <td>may</td>\n",
              "      <td>76</td>\n",
              "      <td>...</td>\n",
              "      <td>0</td>\n",
              "      <td>0</td>\n",
              "      <td>0</td>\n",
              "      <td>0</td>\n",
              "      <td>1</td>\n",
              "      <td>0</td>\n",
              "      <td>0</td>\n",
              "      <td>0</td>\n",
              "      <td>0</td>\n",
              "      <td>1</td>\n",
              "    </tr>\n",
              "    <tr>\n",
              "      <th>3</th>\n",
              "      <td>47</td>\n",
              "      <td>unknown</td>\n",
              "      <td>no</td>\n",
              "      <td>1506</td>\n",
              "      <td>yes</td>\n",
              "      <td>no</td>\n",
              "      <td>unknown</td>\n",
              "      <td>5</td>\n",
              "      <td>may</td>\n",
              "      <td>92</td>\n",
              "      <td>...</td>\n",
              "      <td>0</td>\n",
              "      <td>0</td>\n",
              "      <td>0</td>\n",
              "      <td>0</td>\n",
              "      <td>1</td>\n",
              "      <td>0</td>\n",
              "      <td>0</td>\n",
              "      <td>0</td>\n",
              "      <td>0</td>\n",
              "      <td>1</td>\n",
              "    </tr>\n",
              "    <tr>\n",
              "      <th>4</th>\n",
              "      <td>33</td>\n",
              "      <td>unknown</td>\n",
              "      <td>no</td>\n",
              "      <td>1</td>\n",
              "      <td>no</td>\n",
              "      <td>no</td>\n",
              "      <td>unknown</td>\n",
              "      <td>5</td>\n",
              "      <td>may</td>\n",
              "      <td>198</td>\n",
              "      <td>...</td>\n",
              "      <td>0</td>\n",
              "      <td>0</td>\n",
              "      <td>1</td>\n",
              "      <td>0</td>\n",
              "      <td>0</td>\n",
              "      <td>1</td>\n",
              "      <td>0</td>\n",
              "      <td>0</td>\n",
              "      <td>0</td>\n",
              "      <td>1</td>\n",
              "    </tr>\n",
              "    <tr>\n",
              "      <th>...</th>\n",
              "      <td>...</td>\n",
              "      <td>...</td>\n",
              "      <td>...</td>\n",
              "      <td>...</td>\n",
              "      <td>...</td>\n",
              "      <td>...</td>\n",
              "      <td>...</td>\n",
              "      <td>...</td>\n",
              "      <td>...</td>\n",
              "      <td>...</td>\n",
              "      <td>...</td>\n",
              "      <td>...</td>\n",
              "      <td>...</td>\n",
              "      <td>...</td>\n",
              "      <td>...</td>\n",
              "      <td>...</td>\n",
              "      <td>...</td>\n",
              "      <td>...</td>\n",
              "      <td>...</td>\n",
              "      <td>...</td>\n",
              "      <td>...</td>\n",
              "    </tr>\n",
              "    <tr>\n",
              "      <th>45206</th>\n",
              "      <td>51</td>\n",
              "      <td>tertiary</td>\n",
              "      <td>no</td>\n",
              "      <td>825</td>\n",
              "      <td>no</td>\n",
              "      <td>no</td>\n",
              "      <td>cellular</td>\n",
              "      <td>17</td>\n",
              "      <td>nov</td>\n",
              "      <td>977</td>\n",
              "      <td>...</td>\n",
              "      <td>1</td>\n",
              "      <td>0</td>\n",
              "      <td>0</td>\n",
              "      <td>0</td>\n",
              "      <td>1</td>\n",
              "      <td>0</td>\n",
              "      <td>0</td>\n",
              "      <td>0</td>\n",
              "      <td>0</td>\n",
              "      <td>1</td>\n",
              "    </tr>\n",
              "    <tr>\n",
              "      <th>45207</th>\n",
              "      <td>71</td>\n",
              "      <td>primary</td>\n",
              "      <td>no</td>\n",
              "      <td>1729</td>\n",
              "      <td>no</td>\n",
              "      <td>no</td>\n",
              "      <td>cellular</td>\n",
              "      <td>17</td>\n",
              "      <td>nov</td>\n",
              "      <td>456</td>\n",
              "      <td>...</td>\n",
              "      <td>0</td>\n",
              "      <td>0</td>\n",
              "      <td>0</td>\n",
              "      <td>1</td>\n",
              "      <td>0</td>\n",
              "      <td>0</td>\n",
              "      <td>0</td>\n",
              "      <td>0</td>\n",
              "      <td>0</td>\n",
              "      <td>1</td>\n",
              "    </tr>\n",
              "    <tr>\n",
              "      <th>45208</th>\n",
              "      <td>72</td>\n",
              "      <td>secondary</td>\n",
              "      <td>no</td>\n",
              "      <td>5715</td>\n",
              "      <td>no</td>\n",
              "      <td>no</td>\n",
              "      <td>cellular</td>\n",
              "      <td>17</td>\n",
              "      <td>nov</td>\n",
              "      <td>1127</td>\n",
              "      <td>...</td>\n",
              "      <td>0</td>\n",
              "      <td>0</td>\n",
              "      <td>0</td>\n",
              "      <td>0</td>\n",
              "      <td>1</td>\n",
              "      <td>0</td>\n",
              "      <td>0</td>\n",
              "      <td>0</td>\n",
              "      <td>1</td>\n",
              "      <td>0</td>\n",
              "    </tr>\n",
              "    <tr>\n",
              "      <th>45209</th>\n",
              "      <td>57</td>\n",
              "      <td>secondary</td>\n",
              "      <td>no</td>\n",
              "      <td>668</td>\n",
              "      <td>no</td>\n",
              "      <td>no</td>\n",
              "      <td>telephone</td>\n",
              "      <td>17</td>\n",
              "      <td>nov</td>\n",
              "      <td>508</td>\n",
              "      <td>...</td>\n",
              "      <td>0</td>\n",
              "      <td>0</td>\n",
              "      <td>0</td>\n",
              "      <td>0</td>\n",
              "      <td>1</td>\n",
              "      <td>0</td>\n",
              "      <td>0</td>\n",
              "      <td>0</td>\n",
              "      <td>0</td>\n",
              "      <td>1</td>\n",
              "    </tr>\n",
              "    <tr>\n",
              "      <th>45210</th>\n",
              "      <td>37</td>\n",
              "      <td>secondary</td>\n",
              "      <td>no</td>\n",
              "      <td>2971</td>\n",
              "      <td>no</td>\n",
              "      <td>no</td>\n",
              "      <td>cellular</td>\n",
              "      <td>17</td>\n",
              "      <td>nov</td>\n",
              "      <td>361</td>\n",
              "      <td>...</td>\n",
              "      <td>0</td>\n",
              "      <td>0</td>\n",
              "      <td>0</td>\n",
              "      <td>0</td>\n",
              "      <td>1</td>\n",
              "      <td>0</td>\n",
              "      <td>0</td>\n",
              "      <td>1</td>\n",
              "      <td>0</td>\n",
              "      <td>0</td>\n",
              "    </tr>\n",
              "  </tbody>\n",
              "</table>\n",
              "<p>45211 rows × 33 columns</p>\n",
              "</div>\n",
              "      <button class=\"colab-df-convert\" onclick=\"convertToInteractive('df-6cd603a8-a488-4c67-a208-b1e0fe76a071')\"\n",
              "              title=\"Convert this dataframe to an interactive table.\"\n",
              "              style=\"display:none;\">\n",
              "        \n",
              "  <svg xmlns=\"http://www.w3.org/2000/svg\" height=\"24px\"viewBox=\"0 0 24 24\"\n",
              "       width=\"24px\">\n",
              "    <path d=\"M0 0h24v24H0V0z\" fill=\"none\"/>\n",
              "    <path d=\"M18.56 5.44l.94 2.06.94-2.06 2.06-.94-2.06-.94-.94-2.06-.94 2.06-2.06.94zm-11 1L8.5 8.5l.94-2.06 2.06-.94-2.06-.94L8.5 2.5l-.94 2.06-2.06.94zm10 10l.94 2.06.94-2.06 2.06-.94-2.06-.94-.94-2.06-.94 2.06-2.06.94z\"/><path d=\"M17.41 7.96l-1.37-1.37c-.4-.4-.92-.59-1.43-.59-.52 0-1.04.2-1.43.59L10.3 9.45l-7.72 7.72c-.78.78-.78 2.05 0 2.83L4 21.41c.39.39.9.59 1.41.59.51 0 1.02-.2 1.41-.59l7.78-7.78 2.81-2.81c.8-.78.8-2.07 0-2.86zM5.41 20L4 18.59l7.72-7.72 1.47 1.35L5.41 20z\"/>\n",
              "  </svg>\n",
              "      </button>\n",
              "      \n",
              "  <style>\n",
              "    .colab-df-container {\n",
              "      display:flex;\n",
              "      flex-wrap:wrap;\n",
              "      gap: 12px;\n",
              "    }\n",
              "\n",
              "    .colab-df-convert {\n",
              "      background-color: #E8F0FE;\n",
              "      border: none;\n",
              "      border-radius: 50%;\n",
              "      cursor: pointer;\n",
              "      display: none;\n",
              "      fill: #1967D2;\n",
              "      height: 32px;\n",
              "      padding: 0 0 0 0;\n",
              "      width: 32px;\n",
              "    }\n",
              "\n",
              "    .colab-df-convert:hover {\n",
              "      background-color: #E2EBFA;\n",
              "      box-shadow: 0px 1px 2px rgba(60, 64, 67, 0.3), 0px 1px 3px 1px rgba(60, 64, 67, 0.15);\n",
              "      fill: #174EA6;\n",
              "    }\n",
              "\n",
              "    [theme=dark] .colab-df-convert {\n",
              "      background-color: #3B4455;\n",
              "      fill: #D2E3FC;\n",
              "    }\n",
              "\n",
              "    [theme=dark] .colab-df-convert:hover {\n",
              "      background-color: #434B5C;\n",
              "      box-shadow: 0px 1px 3px 1px rgba(0, 0, 0, 0.15);\n",
              "      filter: drop-shadow(0px 1px 2px rgba(0, 0, 0, 0.3));\n",
              "      fill: #FFFFFF;\n",
              "    }\n",
              "  </style>\n",
              "\n",
              "      <script>\n",
              "        const buttonEl =\n",
              "          document.querySelector('#df-6cd603a8-a488-4c67-a208-b1e0fe76a071 button.colab-df-convert');\n",
              "        buttonEl.style.display =\n",
              "          google.colab.kernel.accessAllowed ? 'block' : 'none';\n",
              "\n",
              "        async function convertToInteractive(key) {\n",
              "          const element = document.querySelector('#df-6cd603a8-a488-4c67-a208-b1e0fe76a071');\n",
              "          const dataTable =\n",
              "            await google.colab.kernel.invokeFunction('convertToInteractive',\n",
              "                                                     [key], {});\n",
              "          if (!dataTable) return;\n",
              "\n",
              "          const docLinkHtml = 'Like what you see? Visit the ' +\n",
              "            '<a target=\"_blank\" href=https://colab.research.google.com/notebooks/data_table.ipynb>data table notebook</a>'\n",
              "            + ' to learn more about interactive tables.';\n",
              "          element.innerHTML = '';\n",
              "          dataTable['output_type'] = 'display_data';\n",
              "          await google.colab.output.renderOutput(dataTable, element);\n",
              "          const docLink = document.createElement('div');\n",
              "          docLink.innerHTML = docLinkHtml;\n",
              "          element.appendChild(docLink);\n",
              "        }\n",
              "      </script>\n",
              "    </div>\n",
              "  </div>\n",
              "  "
            ]
          },
          "metadata": {},
          "execution_count": 16
        }
      ]
    },
    {
      "cell_type": "code",
      "source": [
        "df_piv=pd.get_dummies(df_piv,columns=['default','housing','loan','contact','y'],drop_first = True)"
      ],
      "metadata": {
        "id": "tY6HyWw2ZRVW"
      },
      "execution_count": 17,
      "outputs": []
    },
    {
      "cell_type": "code",
      "source": [
        "df_piv"
      ],
      "metadata": {
        "colab": {
          "base_uri": "https://localhost:8080/",
          "height": 487
        },
        "id": "VhvbdqIoZ02R",
        "outputId": "8f10816c-4473-4e04-814b-e59882e17e6c"
      },
      "execution_count": 18,
      "outputs": [
        {
          "output_type": "execute_result",
          "data": {
            "text/plain": [
              "       age  education  balance  day month  duration  campaign  pdays  \\\n",
              "0       58   tertiary     2143    5   may       261         1     -1   \n",
              "1       44  secondary       29    5   may       151         1     -1   \n",
              "2       33  secondary        2    5   may        76         1     -1   \n",
              "3       47    unknown     1506    5   may        92         1     -1   \n",
              "4       33    unknown        1    5   may       198         1     -1   \n",
              "...    ...        ...      ...  ...   ...       ...       ...    ...   \n",
              "45206   51   tertiary      825   17   nov       977         3     -1   \n",
              "45207   71    primary     1729   17   nov       456         2     -1   \n",
              "45208   72  secondary     5715   17   nov      1127         5    184   \n",
              "45209   57  secondary      668   17   nov       508         4     -1   \n",
              "45210   37  secondary     2971   17   nov       361         2    188   \n",
              "\n",
              "       previous  job_admin.  ...  poutcome_failure  poutcome_other  \\\n",
              "0             0           0  ...                 0               0   \n",
              "1             0           0  ...                 0               0   \n",
              "2             0           0  ...                 0               0   \n",
              "3             0           0  ...                 0               0   \n",
              "4             0           0  ...                 0               0   \n",
              "...         ...         ...  ...               ...             ...   \n",
              "45206         0           0  ...                 0               0   \n",
              "45207         0           0  ...                 0               0   \n",
              "45208         3           0  ...                 0               0   \n",
              "45209         0           0  ...                 0               0   \n",
              "45210        11           0  ...                 0               1   \n",
              "\n",
              "       poutcome_success  poutcome_unknown  default_yes  housing_yes  loan_yes  \\\n",
              "0                     0                 1            0            1         0   \n",
              "1                     0                 1            0            1         0   \n",
              "2                     0                 1            0            1         1   \n",
              "3                     0                 1            0            1         0   \n",
              "4                     0                 1            0            0         0   \n",
              "...                 ...               ...          ...          ...       ...   \n",
              "45206                 0                 1            0            0         0   \n",
              "45207                 0                 1            0            0         0   \n",
              "45208                 1                 0            0            0         0   \n",
              "45209                 0                 1            0            0         0   \n",
              "45210                 0                 0            0            0         0   \n",
              "\n",
              "       contact_telephone  contact_unknown  y_yes  \n",
              "0                      0                1      0  \n",
              "1                      0                1      0  \n",
              "2                      0                1      0  \n",
              "3                      0                1      0  \n",
              "4                      0                1      0  \n",
              "...                  ...              ...    ...  \n",
              "45206                  0                0      1  \n",
              "45207                  0                0      1  \n",
              "45208                  0                0      1  \n",
              "45209                  1                0      0  \n",
              "45210                  0                0      0  \n",
              "\n",
              "[45211 rows x 34 columns]"
            ],
            "text/html": [
              "\n",
              "  <div id=\"df-866c7589-a271-4a69-b2ee-2feb2c0cb783\">\n",
              "    <div class=\"colab-df-container\">\n",
              "      <div>\n",
              "<style scoped>\n",
              "    .dataframe tbody tr th:only-of-type {\n",
              "        vertical-align: middle;\n",
              "    }\n",
              "\n",
              "    .dataframe tbody tr th {\n",
              "        vertical-align: top;\n",
              "    }\n",
              "\n",
              "    .dataframe thead th {\n",
              "        text-align: right;\n",
              "    }\n",
              "</style>\n",
              "<table border=\"1\" class=\"dataframe\">\n",
              "  <thead>\n",
              "    <tr style=\"text-align: right;\">\n",
              "      <th></th>\n",
              "      <th>age</th>\n",
              "      <th>education</th>\n",
              "      <th>balance</th>\n",
              "      <th>day</th>\n",
              "      <th>month</th>\n",
              "      <th>duration</th>\n",
              "      <th>campaign</th>\n",
              "      <th>pdays</th>\n",
              "      <th>previous</th>\n",
              "      <th>job_admin.</th>\n",
              "      <th>...</th>\n",
              "      <th>poutcome_failure</th>\n",
              "      <th>poutcome_other</th>\n",
              "      <th>poutcome_success</th>\n",
              "      <th>poutcome_unknown</th>\n",
              "      <th>default_yes</th>\n",
              "      <th>housing_yes</th>\n",
              "      <th>loan_yes</th>\n",
              "      <th>contact_telephone</th>\n",
              "      <th>contact_unknown</th>\n",
              "      <th>y_yes</th>\n",
              "    </tr>\n",
              "  </thead>\n",
              "  <tbody>\n",
              "    <tr>\n",
              "      <th>0</th>\n",
              "      <td>58</td>\n",
              "      <td>tertiary</td>\n",
              "      <td>2143</td>\n",
              "      <td>5</td>\n",
              "      <td>may</td>\n",
              "      <td>261</td>\n",
              "      <td>1</td>\n",
              "      <td>-1</td>\n",
              "      <td>0</td>\n",
              "      <td>0</td>\n",
              "      <td>...</td>\n",
              "      <td>0</td>\n",
              "      <td>0</td>\n",
              "      <td>0</td>\n",
              "      <td>1</td>\n",
              "      <td>0</td>\n",
              "      <td>1</td>\n",
              "      <td>0</td>\n",
              "      <td>0</td>\n",
              "      <td>1</td>\n",
              "      <td>0</td>\n",
              "    </tr>\n",
              "    <tr>\n",
              "      <th>1</th>\n",
              "      <td>44</td>\n",
              "      <td>secondary</td>\n",
              "      <td>29</td>\n",
              "      <td>5</td>\n",
              "      <td>may</td>\n",
              "      <td>151</td>\n",
              "      <td>1</td>\n",
              "      <td>-1</td>\n",
              "      <td>0</td>\n",
              "      <td>0</td>\n",
              "      <td>...</td>\n",
              "      <td>0</td>\n",
              "      <td>0</td>\n",
              "      <td>0</td>\n",
              "      <td>1</td>\n",
              "      <td>0</td>\n",
              "      <td>1</td>\n",
              "      <td>0</td>\n",
              "      <td>0</td>\n",
              "      <td>1</td>\n",
              "      <td>0</td>\n",
              "    </tr>\n",
              "    <tr>\n",
              "      <th>2</th>\n",
              "      <td>33</td>\n",
              "      <td>secondary</td>\n",
              "      <td>2</td>\n",
              "      <td>5</td>\n",
              "      <td>may</td>\n",
              "      <td>76</td>\n",
              "      <td>1</td>\n",
              "      <td>-1</td>\n",
              "      <td>0</td>\n",
              "      <td>0</td>\n",
              "      <td>...</td>\n",
              "      <td>0</td>\n",
              "      <td>0</td>\n",
              "      <td>0</td>\n",
              "      <td>1</td>\n",
              "      <td>0</td>\n",
              "      <td>1</td>\n",
              "      <td>1</td>\n",
              "      <td>0</td>\n",
              "      <td>1</td>\n",
              "      <td>0</td>\n",
              "    </tr>\n",
              "    <tr>\n",
              "      <th>3</th>\n",
              "      <td>47</td>\n",
              "      <td>unknown</td>\n",
              "      <td>1506</td>\n",
              "      <td>5</td>\n",
              "      <td>may</td>\n",
              "      <td>92</td>\n",
              "      <td>1</td>\n",
              "      <td>-1</td>\n",
              "      <td>0</td>\n",
              "      <td>0</td>\n",
              "      <td>...</td>\n",
              "      <td>0</td>\n",
              "      <td>0</td>\n",
              "      <td>0</td>\n",
              "      <td>1</td>\n",
              "      <td>0</td>\n",
              "      <td>1</td>\n",
              "      <td>0</td>\n",
              "      <td>0</td>\n",
              "      <td>1</td>\n",
              "      <td>0</td>\n",
              "    </tr>\n",
              "    <tr>\n",
              "      <th>4</th>\n",
              "      <td>33</td>\n",
              "      <td>unknown</td>\n",
              "      <td>1</td>\n",
              "      <td>5</td>\n",
              "      <td>may</td>\n",
              "      <td>198</td>\n",
              "      <td>1</td>\n",
              "      <td>-1</td>\n",
              "      <td>0</td>\n",
              "      <td>0</td>\n",
              "      <td>...</td>\n",
              "      <td>0</td>\n",
              "      <td>0</td>\n",
              "      <td>0</td>\n",
              "      <td>1</td>\n",
              "      <td>0</td>\n",
              "      <td>0</td>\n",
              "      <td>0</td>\n",
              "      <td>0</td>\n",
              "      <td>1</td>\n",
              "      <td>0</td>\n",
              "    </tr>\n",
              "    <tr>\n",
              "      <th>...</th>\n",
              "      <td>...</td>\n",
              "      <td>...</td>\n",
              "      <td>...</td>\n",
              "      <td>...</td>\n",
              "      <td>...</td>\n",
              "      <td>...</td>\n",
              "      <td>...</td>\n",
              "      <td>...</td>\n",
              "      <td>...</td>\n",
              "      <td>...</td>\n",
              "      <td>...</td>\n",
              "      <td>...</td>\n",
              "      <td>...</td>\n",
              "      <td>...</td>\n",
              "      <td>...</td>\n",
              "      <td>...</td>\n",
              "      <td>...</td>\n",
              "      <td>...</td>\n",
              "      <td>...</td>\n",
              "      <td>...</td>\n",
              "      <td>...</td>\n",
              "    </tr>\n",
              "    <tr>\n",
              "      <th>45206</th>\n",
              "      <td>51</td>\n",
              "      <td>tertiary</td>\n",
              "      <td>825</td>\n",
              "      <td>17</td>\n",
              "      <td>nov</td>\n",
              "      <td>977</td>\n",
              "      <td>3</td>\n",
              "      <td>-1</td>\n",
              "      <td>0</td>\n",
              "      <td>0</td>\n",
              "      <td>...</td>\n",
              "      <td>0</td>\n",
              "      <td>0</td>\n",
              "      <td>0</td>\n",
              "      <td>1</td>\n",
              "      <td>0</td>\n",
              "      <td>0</td>\n",
              "      <td>0</td>\n",
              "      <td>0</td>\n",
              "      <td>0</td>\n",
              "      <td>1</td>\n",
              "    </tr>\n",
              "    <tr>\n",
              "      <th>45207</th>\n",
              "      <td>71</td>\n",
              "      <td>primary</td>\n",
              "      <td>1729</td>\n",
              "      <td>17</td>\n",
              "      <td>nov</td>\n",
              "      <td>456</td>\n",
              "      <td>2</td>\n",
              "      <td>-1</td>\n",
              "      <td>0</td>\n",
              "      <td>0</td>\n",
              "      <td>...</td>\n",
              "      <td>0</td>\n",
              "      <td>0</td>\n",
              "      <td>0</td>\n",
              "      <td>1</td>\n",
              "      <td>0</td>\n",
              "      <td>0</td>\n",
              "      <td>0</td>\n",
              "      <td>0</td>\n",
              "      <td>0</td>\n",
              "      <td>1</td>\n",
              "    </tr>\n",
              "    <tr>\n",
              "      <th>45208</th>\n",
              "      <td>72</td>\n",
              "      <td>secondary</td>\n",
              "      <td>5715</td>\n",
              "      <td>17</td>\n",
              "      <td>nov</td>\n",
              "      <td>1127</td>\n",
              "      <td>5</td>\n",
              "      <td>184</td>\n",
              "      <td>3</td>\n",
              "      <td>0</td>\n",
              "      <td>...</td>\n",
              "      <td>0</td>\n",
              "      <td>0</td>\n",
              "      <td>1</td>\n",
              "      <td>0</td>\n",
              "      <td>0</td>\n",
              "      <td>0</td>\n",
              "      <td>0</td>\n",
              "      <td>0</td>\n",
              "      <td>0</td>\n",
              "      <td>1</td>\n",
              "    </tr>\n",
              "    <tr>\n",
              "      <th>45209</th>\n",
              "      <td>57</td>\n",
              "      <td>secondary</td>\n",
              "      <td>668</td>\n",
              "      <td>17</td>\n",
              "      <td>nov</td>\n",
              "      <td>508</td>\n",
              "      <td>4</td>\n",
              "      <td>-1</td>\n",
              "      <td>0</td>\n",
              "      <td>0</td>\n",
              "      <td>...</td>\n",
              "      <td>0</td>\n",
              "      <td>0</td>\n",
              "      <td>0</td>\n",
              "      <td>1</td>\n",
              "      <td>0</td>\n",
              "      <td>0</td>\n",
              "      <td>0</td>\n",
              "      <td>1</td>\n",
              "      <td>0</td>\n",
              "      <td>0</td>\n",
              "    </tr>\n",
              "    <tr>\n",
              "      <th>45210</th>\n",
              "      <td>37</td>\n",
              "      <td>secondary</td>\n",
              "      <td>2971</td>\n",
              "      <td>17</td>\n",
              "      <td>nov</td>\n",
              "      <td>361</td>\n",
              "      <td>2</td>\n",
              "      <td>188</td>\n",
              "      <td>11</td>\n",
              "      <td>0</td>\n",
              "      <td>...</td>\n",
              "      <td>0</td>\n",
              "      <td>1</td>\n",
              "      <td>0</td>\n",
              "      <td>0</td>\n",
              "      <td>0</td>\n",
              "      <td>0</td>\n",
              "      <td>0</td>\n",
              "      <td>0</td>\n",
              "      <td>0</td>\n",
              "      <td>0</td>\n",
              "    </tr>\n",
              "  </tbody>\n",
              "</table>\n",
              "<p>45211 rows × 34 columns</p>\n",
              "</div>\n",
              "      <button class=\"colab-df-convert\" onclick=\"convertToInteractive('df-866c7589-a271-4a69-b2ee-2feb2c0cb783')\"\n",
              "              title=\"Convert this dataframe to an interactive table.\"\n",
              "              style=\"display:none;\">\n",
              "        \n",
              "  <svg xmlns=\"http://www.w3.org/2000/svg\" height=\"24px\"viewBox=\"0 0 24 24\"\n",
              "       width=\"24px\">\n",
              "    <path d=\"M0 0h24v24H0V0z\" fill=\"none\"/>\n",
              "    <path d=\"M18.56 5.44l.94 2.06.94-2.06 2.06-.94-2.06-.94-.94-2.06-.94 2.06-2.06.94zm-11 1L8.5 8.5l.94-2.06 2.06-.94-2.06-.94L8.5 2.5l-.94 2.06-2.06.94zm10 10l.94 2.06.94-2.06 2.06-.94-2.06-.94-.94-2.06-.94 2.06-2.06.94z\"/><path d=\"M17.41 7.96l-1.37-1.37c-.4-.4-.92-.59-1.43-.59-.52 0-1.04.2-1.43.59L10.3 9.45l-7.72 7.72c-.78.78-.78 2.05 0 2.83L4 21.41c.39.39.9.59 1.41.59.51 0 1.02-.2 1.41-.59l7.78-7.78 2.81-2.81c.8-.78.8-2.07 0-2.86zM5.41 20L4 18.59l7.72-7.72 1.47 1.35L5.41 20z\"/>\n",
              "  </svg>\n",
              "      </button>\n",
              "      \n",
              "  <style>\n",
              "    .colab-df-container {\n",
              "      display:flex;\n",
              "      flex-wrap:wrap;\n",
              "      gap: 12px;\n",
              "    }\n",
              "\n",
              "    .colab-df-convert {\n",
              "      background-color: #E8F0FE;\n",
              "      border: none;\n",
              "      border-radius: 50%;\n",
              "      cursor: pointer;\n",
              "      display: none;\n",
              "      fill: #1967D2;\n",
              "      height: 32px;\n",
              "      padding: 0 0 0 0;\n",
              "      width: 32px;\n",
              "    }\n",
              "\n",
              "    .colab-df-convert:hover {\n",
              "      background-color: #E2EBFA;\n",
              "      box-shadow: 0px 1px 2px rgba(60, 64, 67, 0.3), 0px 1px 3px 1px rgba(60, 64, 67, 0.15);\n",
              "      fill: #174EA6;\n",
              "    }\n",
              "\n",
              "    [theme=dark] .colab-df-convert {\n",
              "      background-color: #3B4455;\n",
              "      fill: #D2E3FC;\n",
              "    }\n",
              "\n",
              "    [theme=dark] .colab-df-convert:hover {\n",
              "      background-color: #434B5C;\n",
              "      box-shadow: 0px 1px 3px 1px rgba(0, 0, 0, 0.15);\n",
              "      filter: drop-shadow(0px 1px 2px rgba(0, 0, 0, 0.3));\n",
              "      fill: #FFFFFF;\n",
              "    }\n",
              "  </style>\n",
              "\n",
              "      <script>\n",
              "        const buttonEl =\n",
              "          document.querySelector('#df-866c7589-a271-4a69-b2ee-2feb2c0cb783 button.colab-df-convert');\n",
              "        buttonEl.style.display =\n",
              "          google.colab.kernel.accessAllowed ? 'block' : 'none';\n",
              "\n",
              "        async function convertToInteractive(key) {\n",
              "          const element = document.querySelector('#df-866c7589-a271-4a69-b2ee-2feb2c0cb783');\n",
              "          const dataTable =\n",
              "            await google.colab.kernel.invokeFunction('convertToInteractive',\n",
              "                                                     [key], {});\n",
              "          if (!dataTable) return;\n",
              "\n",
              "          const docLinkHtml = 'Like what you see? Visit the ' +\n",
              "            '<a target=\"_blank\" href=https://colab.research.google.com/notebooks/data_table.ipynb>data table notebook</a>'\n",
              "            + ' to learn more about interactive tables.';\n",
              "          element.innerHTML = '';\n",
              "          dataTable['output_type'] = 'display_data';\n",
              "          await google.colab.output.renderOutput(dataTable, element);\n",
              "          const docLink = document.createElement('div');\n",
              "          docLink.innerHTML = docLinkHtml;\n",
              "          element.appendChild(docLink);\n",
              "        }\n",
              "      </script>\n",
              "    </div>\n",
              "  </div>\n",
              "  "
            ]
          },
          "metadata": {},
          "execution_count": 18
        }
      ]
    },
    {
      "cell_type": "code",
      "source": [
        "df_bank.columns"
      ],
      "metadata": {
        "colab": {
          "base_uri": "https://localhost:8080/"
        },
        "id": "Edzi7v3tOUlr",
        "outputId": "206be8fe-ca04-4149-aac2-fd19ce51f86c"
      },
      "execution_count": 19,
      "outputs": [
        {
          "output_type": "execute_result",
          "data": {
            "text/plain": [
              "Index(['age', 'job', 'marital', 'education', 'default', 'balance', 'housing',\n",
              "       'loan', 'contact', 'day', 'month', 'duration', 'campaign', 'pdays',\n",
              "       'previous', 'poutcome', 'y'],\n",
              "      dtype='object')"
            ]
          },
          "metadata": {},
          "execution_count": 19
        }
      ]
    },
    {
      "cell_type": "code",
      "source": [
        "df_piv.columns"
      ],
      "metadata": {
        "colab": {
          "base_uri": "https://localhost:8080/"
        },
        "id": "VUQ_mg7lOZaQ",
        "outputId": "b915463c-6a97-41d8-a5bd-650807de4012"
      },
      "execution_count": 20,
      "outputs": [
        {
          "output_type": "execute_result",
          "data": {
            "text/plain": [
              "Index(['age', 'education', 'balance', 'day', 'month', 'duration', 'campaign',\n",
              "       'pdays', 'previous', 'job_admin.', 'job_blue-collar',\n",
              "       'job_entrepreneur', 'job_housemaid', 'job_management', 'job_retired',\n",
              "       'job_self-employed', 'job_services', 'job_student', 'job_technician',\n",
              "       'job_unemployed', 'job_unknown', 'marital_divorced', 'marital_married',\n",
              "       'marital_single', 'poutcome_failure', 'poutcome_other',\n",
              "       'poutcome_success', 'poutcome_unknown', 'default_yes', 'housing_yes',\n",
              "       'loan_yes', 'contact_telephone', 'contact_unknown', 'y_yes'],\n",
              "      dtype='object')"
            ]
          },
          "metadata": {},
          "execution_count": 20
        }
      ]
    },
    {
      "cell_type": "code",
      "source": [
        "df_piv[['y_yes']].value_counts()"
      ],
      "metadata": {
        "colab": {
          "base_uri": "https://localhost:8080/"
        },
        "id": "eHFqj1EAO1oO",
        "outputId": "fdc92e7c-fec7-4eaa-d1f4-d9060786e460"
      },
      "execution_count": 21,
      "outputs": [
        {
          "output_type": "execute_result",
          "data": {
            "text/plain": [
              "y_yes\n",
              "0        39922\n",
              "1         5289\n",
              "dtype: int64"
            ]
          },
          "metadata": {},
          "execution_count": 21
        }
      ]
    },
    {
      "cell_type": "code",
      "source": [
        "df_piv.info()"
      ],
      "metadata": {
        "colab": {
          "base_uri": "https://localhost:8080/"
        },
        "id": "f_e5tfndO5_K",
        "outputId": "29ee6f9b-cd52-49ed-bb54-483fe75e3e4a"
      },
      "execution_count": 22,
      "outputs": [
        {
          "output_type": "stream",
          "name": "stdout",
          "text": [
            "<class 'pandas.core.frame.DataFrame'>\n",
            "RangeIndex: 45211 entries, 0 to 45210\n",
            "Data columns (total 34 columns):\n",
            " #   Column             Non-Null Count  Dtype \n",
            "---  ------             --------------  ----- \n",
            " 0   age                45211 non-null  int64 \n",
            " 1   education          45211 non-null  object\n",
            " 2   balance            45211 non-null  int64 \n",
            " 3   day                45211 non-null  int64 \n",
            " 4   month              45211 non-null  object\n",
            " 5   duration           45211 non-null  int64 \n",
            " 6   campaign           45211 non-null  int64 \n",
            " 7   pdays              45211 non-null  int64 \n",
            " 8   previous           45211 non-null  int64 \n",
            " 9   job_admin.         45211 non-null  uint8 \n",
            " 10  job_blue-collar    45211 non-null  uint8 \n",
            " 11  job_entrepreneur   45211 non-null  uint8 \n",
            " 12  job_housemaid      45211 non-null  uint8 \n",
            " 13  job_management     45211 non-null  uint8 \n",
            " 14  job_retired        45211 non-null  uint8 \n",
            " 15  job_self-employed  45211 non-null  uint8 \n",
            " 16  job_services       45211 non-null  uint8 \n",
            " 17  job_student        45211 non-null  uint8 \n",
            " 18  job_technician     45211 non-null  uint8 \n",
            " 19  job_unemployed     45211 non-null  uint8 \n",
            " 20  job_unknown        45211 non-null  uint8 \n",
            " 21  marital_divorced   45211 non-null  uint8 \n",
            " 22  marital_married    45211 non-null  uint8 \n",
            " 23  marital_single     45211 non-null  uint8 \n",
            " 24  poutcome_failure   45211 non-null  uint8 \n",
            " 25  poutcome_other     45211 non-null  uint8 \n",
            " 26  poutcome_success   45211 non-null  uint8 \n",
            " 27  poutcome_unknown   45211 non-null  uint8 \n",
            " 28  default_yes        45211 non-null  uint8 \n",
            " 29  housing_yes        45211 non-null  uint8 \n",
            " 30  loan_yes           45211 non-null  uint8 \n",
            " 31  contact_telephone  45211 non-null  uint8 \n",
            " 32  contact_unknown    45211 non-null  uint8 \n",
            " 33  y_yes              45211 non-null  uint8 \n",
            "dtypes: int64(7), object(2), uint8(25)\n",
            "memory usage: 4.2+ MB\n"
          ]
        }
      ]
    },
    {
      "cell_type": "markdown",
      "source": [
        "Eliminamos columna duration"
      ],
      "metadata": {
        "id": "Xwr6tjjJbuvL"
      }
    },
    {
      "cell_type": "code",
      "source": [
        "df_piv.drop(['duration'],axis=1,inplace=True)"
      ],
      "metadata": {
        "id": "l93IUiDlb9ww"
      },
      "execution_count": 23,
      "outputs": []
    },
    {
      "cell_type": "code",
      "source": [
        "df_piv.info()"
      ],
      "metadata": {
        "colab": {
          "base_uri": "https://localhost:8080/"
        },
        "id": "rkXo5yJwcIu-",
        "outputId": "c92514b8-c5f5-498e-9f8a-a83767ff02c6"
      },
      "execution_count": 24,
      "outputs": [
        {
          "output_type": "stream",
          "name": "stdout",
          "text": [
            "<class 'pandas.core.frame.DataFrame'>\n",
            "RangeIndex: 45211 entries, 0 to 45210\n",
            "Data columns (total 33 columns):\n",
            " #   Column             Non-Null Count  Dtype \n",
            "---  ------             --------------  ----- \n",
            " 0   age                45211 non-null  int64 \n",
            " 1   education          45211 non-null  object\n",
            " 2   balance            45211 non-null  int64 \n",
            " 3   day                45211 non-null  int64 \n",
            " 4   month              45211 non-null  object\n",
            " 5   campaign           45211 non-null  int64 \n",
            " 6   pdays              45211 non-null  int64 \n",
            " 7   previous           45211 non-null  int64 \n",
            " 8   job_admin.         45211 non-null  uint8 \n",
            " 9   job_blue-collar    45211 non-null  uint8 \n",
            " 10  job_entrepreneur   45211 non-null  uint8 \n",
            " 11  job_housemaid      45211 non-null  uint8 \n",
            " 12  job_management     45211 non-null  uint8 \n",
            " 13  job_retired        45211 non-null  uint8 \n",
            " 14  job_self-employed  45211 non-null  uint8 \n",
            " 15  job_services       45211 non-null  uint8 \n",
            " 16  job_student        45211 non-null  uint8 \n",
            " 17  job_technician     45211 non-null  uint8 \n",
            " 18  job_unemployed     45211 non-null  uint8 \n",
            " 19  job_unknown        45211 non-null  uint8 \n",
            " 20  marital_divorced   45211 non-null  uint8 \n",
            " 21  marital_married    45211 non-null  uint8 \n",
            " 22  marital_single     45211 non-null  uint8 \n",
            " 23  poutcome_failure   45211 non-null  uint8 \n",
            " 24  poutcome_other     45211 non-null  uint8 \n",
            " 25  poutcome_success   45211 non-null  uint8 \n",
            " 26  poutcome_unknown   45211 non-null  uint8 \n",
            " 27  default_yes        45211 non-null  uint8 \n",
            " 28  housing_yes        45211 non-null  uint8 \n",
            " 29  loan_yes           45211 non-null  uint8 \n",
            " 30  contact_telephone  45211 non-null  uint8 \n",
            " 31  contact_unknown    45211 non-null  uint8 \n",
            " 32  y_yes              45211 non-null  uint8 \n",
            "dtypes: int64(6), object(2), uint8(25)\n",
            "memory usage: 3.8+ MB\n"
          ]
        }
      ]
    },
    {
      "cell_type": "markdown",
      "source": [
        "Convertimos variables Ordinales"
      ],
      "metadata": {
        "id": "LihgYIn_ch7_"
      }
    },
    {
      "cell_type": "code",
      "source": [
        "df_bank.education.value_counts()"
      ],
      "metadata": {
        "colab": {
          "base_uri": "https://localhost:8080/"
        },
        "id": "bMu7owM9dODQ",
        "outputId": "998114b7-eda5-4180-a917-51fb4ee5dc87"
      },
      "execution_count": 25,
      "outputs": [
        {
          "output_type": "execute_result",
          "data": {
            "text/plain": [
              "secondary    23202\n",
              "tertiary     13301\n",
              "primary       6851\n",
              "unknown       1857\n",
              "Name: education, dtype: int64"
            ]
          },
          "metadata": {},
          "execution_count": 25
        }
      ]
    },
    {
      "cell_type": "code",
      "source": [
        "df_piv.education"
      ],
      "metadata": {
        "colab": {
          "base_uri": "https://localhost:8080/"
        },
        "id": "Nsjpna8ReC5V",
        "outputId": "2a4eb703-ef01-4f02-930a-56e913e3a879"
      },
      "execution_count": 26,
      "outputs": [
        {
          "output_type": "execute_result",
          "data": {
            "text/plain": [
              "0         tertiary\n",
              "1        secondary\n",
              "2        secondary\n",
              "3          unknown\n",
              "4          unknown\n",
              "           ...    \n",
              "45206     tertiary\n",
              "45207      primary\n",
              "45208    secondary\n",
              "45209    secondary\n",
              "45210    secondary\n",
              "Name: education, Length: 45211, dtype: object"
            ]
          },
          "metadata": {},
          "execution_count": 26
        }
      ]
    },
    {
      "cell_type": "code",
      "source": [
        "# Variable education \n",
        "education_orden=OrdinalEncoder(categories=[[\"unknown\",\"primary\",\"secondary\",\"tertiary\"]])\n",
        "#Train la conversion\n",
        "education_orden.fit(df_piv[['education']])\n",
        "#Agregar variable convertida\n",
        "df_piv['education_orden']=education_orden.transform(df_piv[['education']])"
      ],
      "metadata": {
        "id": "Rf96bXvuPefw"
      },
      "execution_count": 27,
      "outputs": []
    },
    {
      "cell_type": "code",
      "source": [
        "df_piv.columns"
      ],
      "metadata": {
        "colab": {
          "base_uri": "https://localhost:8080/"
        },
        "id": "5Dp_s18EeRBG",
        "outputId": "003191e7-e833-4d92-d4ea-bd2ca69cdaaf"
      },
      "execution_count": 28,
      "outputs": [
        {
          "output_type": "execute_result",
          "data": {
            "text/plain": [
              "Index(['age', 'education', 'balance', 'day', 'month', 'campaign', 'pdays',\n",
              "       'previous', 'job_admin.', 'job_blue-collar', 'job_entrepreneur',\n",
              "       'job_housemaid', 'job_management', 'job_retired', 'job_self-employed',\n",
              "       'job_services', 'job_student', 'job_technician', 'job_unemployed',\n",
              "       'job_unknown', 'marital_divorced', 'marital_married', 'marital_single',\n",
              "       'poutcome_failure', 'poutcome_other', 'poutcome_success',\n",
              "       'poutcome_unknown', 'default_yes', 'housing_yes', 'loan_yes',\n",
              "       'contact_telephone', 'contact_unknown', 'y_yes', 'education_orden'],\n",
              "      dtype='object')"
            ]
          },
          "metadata": {},
          "execution_count": 28
        }
      ]
    },
    {
      "cell_type": "code",
      "source": [
        "df_piv[['education','education_orden']].head(10)"
      ],
      "metadata": {
        "colab": {
          "base_uri": "https://localhost:8080/",
          "height": 363
        },
        "id": "lMGYQxkUeopA",
        "outputId": "c13b842d-9348-40bc-ef32-a8a8b3db3505"
      },
      "execution_count": 29,
      "outputs": [
        {
          "output_type": "execute_result",
          "data": {
            "text/plain": [
              "   education  education_orden\n",
              "0   tertiary              3.0\n",
              "1  secondary              2.0\n",
              "2  secondary              2.0\n",
              "3    unknown              0.0\n",
              "4    unknown              0.0\n",
              "5   tertiary              3.0\n",
              "6   tertiary              3.0\n",
              "7   tertiary              3.0\n",
              "8    primary              1.0\n",
              "9  secondary              2.0"
            ],
            "text/html": [
              "\n",
              "  <div id=\"df-7abd9f93-1ae4-4917-bc07-ded0ab35e912\">\n",
              "    <div class=\"colab-df-container\">\n",
              "      <div>\n",
              "<style scoped>\n",
              "    .dataframe tbody tr th:only-of-type {\n",
              "        vertical-align: middle;\n",
              "    }\n",
              "\n",
              "    .dataframe tbody tr th {\n",
              "        vertical-align: top;\n",
              "    }\n",
              "\n",
              "    .dataframe thead th {\n",
              "        text-align: right;\n",
              "    }\n",
              "</style>\n",
              "<table border=\"1\" class=\"dataframe\">\n",
              "  <thead>\n",
              "    <tr style=\"text-align: right;\">\n",
              "      <th></th>\n",
              "      <th>education</th>\n",
              "      <th>education_orden</th>\n",
              "    </tr>\n",
              "  </thead>\n",
              "  <tbody>\n",
              "    <tr>\n",
              "      <th>0</th>\n",
              "      <td>tertiary</td>\n",
              "      <td>3.0</td>\n",
              "    </tr>\n",
              "    <tr>\n",
              "      <th>1</th>\n",
              "      <td>secondary</td>\n",
              "      <td>2.0</td>\n",
              "    </tr>\n",
              "    <tr>\n",
              "      <th>2</th>\n",
              "      <td>secondary</td>\n",
              "      <td>2.0</td>\n",
              "    </tr>\n",
              "    <tr>\n",
              "      <th>3</th>\n",
              "      <td>unknown</td>\n",
              "      <td>0.0</td>\n",
              "    </tr>\n",
              "    <tr>\n",
              "      <th>4</th>\n",
              "      <td>unknown</td>\n",
              "      <td>0.0</td>\n",
              "    </tr>\n",
              "    <tr>\n",
              "      <th>5</th>\n",
              "      <td>tertiary</td>\n",
              "      <td>3.0</td>\n",
              "    </tr>\n",
              "    <tr>\n",
              "      <th>6</th>\n",
              "      <td>tertiary</td>\n",
              "      <td>3.0</td>\n",
              "    </tr>\n",
              "    <tr>\n",
              "      <th>7</th>\n",
              "      <td>tertiary</td>\n",
              "      <td>3.0</td>\n",
              "    </tr>\n",
              "    <tr>\n",
              "      <th>8</th>\n",
              "      <td>primary</td>\n",
              "      <td>1.0</td>\n",
              "    </tr>\n",
              "    <tr>\n",
              "      <th>9</th>\n",
              "      <td>secondary</td>\n",
              "      <td>2.0</td>\n",
              "    </tr>\n",
              "  </tbody>\n",
              "</table>\n",
              "</div>\n",
              "      <button class=\"colab-df-convert\" onclick=\"convertToInteractive('df-7abd9f93-1ae4-4917-bc07-ded0ab35e912')\"\n",
              "              title=\"Convert this dataframe to an interactive table.\"\n",
              "              style=\"display:none;\">\n",
              "        \n",
              "  <svg xmlns=\"http://www.w3.org/2000/svg\" height=\"24px\"viewBox=\"0 0 24 24\"\n",
              "       width=\"24px\">\n",
              "    <path d=\"M0 0h24v24H0V0z\" fill=\"none\"/>\n",
              "    <path d=\"M18.56 5.44l.94 2.06.94-2.06 2.06-.94-2.06-.94-.94-2.06-.94 2.06-2.06.94zm-11 1L8.5 8.5l.94-2.06 2.06-.94-2.06-.94L8.5 2.5l-.94 2.06-2.06.94zm10 10l.94 2.06.94-2.06 2.06-.94-2.06-.94-.94-2.06-.94 2.06-2.06.94z\"/><path d=\"M17.41 7.96l-1.37-1.37c-.4-.4-.92-.59-1.43-.59-.52 0-1.04.2-1.43.59L10.3 9.45l-7.72 7.72c-.78.78-.78 2.05 0 2.83L4 21.41c.39.39.9.59 1.41.59.51 0 1.02-.2 1.41-.59l7.78-7.78 2.81-2.81c.8-.78.8-2.07 0-2.86zM5.41 20L4 18.59l7.72-7.72 1.47 1.35L5.41 20z\"/>\n",
              "  </svg>\n",
              "      </button>\n",
              "      \n",
              "  <style>\n",
              "    .colab-df-container {\n",
              "      display:flex;\n",
              "      flex-wrap:wrap;\n",
              "      gap: 12px;\n",
              "    }\n",
              "\n",
              "    .colab-df-convert {\n",
              "      background-color: #E8F0FE;\n",
              "      border: none;\n",
              "      border-radius: 50%;\n",
              "      cursor: pointer;\n",
              "      display: none;\n",
              "      fill: #1967D2;\n",
              "      height: 32px;\n",
              "      padding: 0 0 0 0;\n",
              "      width: 32px;\n",
              "    }\n",
              "\n",
              "    .colab-df-convert:hover {\n",
              "      background-color: #E2EBFA;\n",
              "      box-shadow: 0px 1px 2px rgba(60, 64, 67, 0.3), 0px 1px 3px 1px rgba(60, 64, 67, 0.15);\n",
              "      fill: #174EA6;\n",
              "    }\n",
              "\n",
              "    [theme=dark] .colab-df-convert {\n",
              "      background-color: #3B4455;\n",
              "      fill: #D2E3FC;\n",
              "    }\n",
              "\n",
              "    [theme=dark] .colab-df-convert:hover {\n",
              "      background-color: #434B5C;\n",
              "      box-shadow: 0px 1px 3px 1px rgba(0, 0, 0, 0.15);\n",
              "      filter: drop-shadow(0px 1px 2px rgba(0, 0, 0, 0.3));\n",
              "      fill: #FFFFFF;\n",
              "    }\n",
              "  </style>\n",
              "\n",
              "      <script>\n",
              "        const buttonEl =\n",
              "          document.querySelector('#df-7abd9f93-1ae4-4917-bc07-ded0ab35e912 button.colab-df-convert');\n",
              "        buttonEl.style.display =\n",
              "          google.colab.kernel.accessAllowed ? 'block' : 'none';\n",
              "\n",
              "        async function convertToInteractive(key) {\n",
              "          const element = document.querySelector('#df-7abd9f93-1ae4-4917-bc07-ded0ab35e912');\n",
              "          const dataTable =\n",
              "            await google.colab.kernel.invokeFunction('convertToInteractive',\n",
              "                                                     [key], {});\n",
              "          if (!dataTable) return;\n",
              "\n",
              "          const docLinkHtml = 'Like what you see? Visit the ' +\n",
              "            '<a target=\"_blank\" href=https://colab.research.google.com/notebooks/data_table.ipynb>data table notebook</a>'\n",
              "            + ' to learn more about interactive tables.';\n",
              "          element.innerHTML = '';\n",
              "          dataTable['output_type'] = 'display_data';\n",
              "          await google.colab.output.renderOutput(dataTable, element);\n",
              "          const docLink = document.createElement('div');\n",
              "          docLink.innerHTML = docLinkHtml;\n",
              "          element.appendChild(docLink);\n",
              "        }\n",
              "      </script>\n",
              "    </div>\n",
              "  </div>\n",
              "  "
            ]
          },
          "metadata": {},
          "execution_count": 29
        }
      ]
    },
    {
      "cell_type": "code",
      "source": [
        "df_bank.month.value_counts()"
      ],
      "metadata": {
        "colab": {
          "base_uri": "https://localhost:8080/"
        },
        "id": "-1rGGcf3fBM3",
        "outputId": "a8f9d985-1375-4335-e013-1f8fe8e70d93"
      },
      "execution_count": 30,
      "outputs": [
        {
          "output_type": "execute_result",
          "data": {
            "text/plain": [
              "may    13766\n",
              "jul     6895\n",
              "aug     6247\n",
              "jun     5341\n",
              "nov     3970\n",
              "apr     2932\n",
              "feb     2649\n",
              "jan     1403\n",
              "oct      738\n",
              "sep      579\n",
              "mar      477\n",
              "dec      214\n",
              "Name: month, dtype: int64"
            ]
          },
          "metadata": {},
          "execution_count": 30
        }
      ]
    },
    {
      "cell_type": "code",
      "source": [
        "# Variable Month \n",
        "month_orden=OrdinalEncoder(categories=[[\"jan\",\"feb\",\"mar\",\"apr\",\"may\",\"jun\",\"jul\",\"aug\",\"sep\",\"oct\",\"nov\",\"dec\"]])\n",
        "#Train la conversion\n",
        "month_orden.fit(df_piv[['month']])\n",
        "#Agregar variable convertida\n",
        "df_piv['month_orden']=month_orden.transform(df_piv[['month']])"
      ],
      "metadata": {
        "id": "aM9QfLYce84h"
      },
      "execution_count": 31,
      "outputs": []
    },
    {
      "cell_type": "code",
      "source": [
        "df_piv.columns"
      ],
      "metadata": {
        "colab": {
          "base_uri": "https://localhost:8080/"
        },
        "id": "Iv5Bm7HdfnQX",
        "outputId": "b2ee44c0-2456-4478-9bed-aa33c8ce88fa"
      },
      "execution_count": 32,
      "outputs": [
        {
          "output_type": "execute_result",
          "data": {
            "text/plain": [
              "Index(['age', 'education', 'balance', 'day', 'month', 'campaign', 'pdays',\n",
              "       'previous', 'job_admin.', 'job_blue-collar', 'job_entrepreneur',\n",
              "       'job_housemaid', 'job_management', 'job_retired', 'job_self-employed',\n",
              "       'job_services', 'job_student', 'job_technician', 'job_unemployed',\n",
              "       'job_unknown', 'marital_divorced', 'marital_married', 'marital_single',\n",
              "       'poutcome_failure', 'poutcome_other', 'poutcome_success',\n",
              "       'poutcome_unknown', 'default_yes', 'housing_yes', 'loan_yes',\n",
              "       'contact_telephone', 'contact_unknown', 'y_yes', 'education_orden',\n",
              "       'month_orden'],\n",
              "      dtype='object')"
            ]
          },
          "metadata": {},
          "execution_count": 32
        }
      ]
    },
    {
      "cell_type": "code",
      "source": [
        "df_piv[['month','month_orden']].head(10)"
      ],
      "metadata": {
        "colab": {
          "base_uri": "https://localhost:8080/",
          "height": 363
        },
        "id": "Anpq2YUFfrPP",
        "outputId": "b6115490-5c91-4a2b-d8fb-aa192c4db5f1"
      },
      "execution_count": 33,
      "outputs": [
        {
          "output_type": "execute_result",
          "data": {
            "text/plain": [
              "  month  month_orden\n",
              "0   may          4.0\n",
              "1   may          4.0\n",
              "2   may          4.0\n",
              "3   may          4.0\n",
              "4   may          4.0\n",
              "5   may          4.0\n",
              "6   may          4.0\n",
              "7   may          4.0\n",
              "8   may          4.0\n",
              "9   may          4.0"
            ],
            "text/html": [
              "\n",
              "  <div id=\"df-0c7b7fbe-75aa-42f7-8e26-831cfa99623e\">\n",
              "    <div class=\"colab-df-container\">\n",
              "      <div>\n",
              "<style scoped>\n",
              "    .dataframe tbody tr th:only-of-type {\n",
              "        vertical-align: middle;\n",
              "    }\n",
              "\n",
              "    .dataframe tbody tr th {\n",
              "        vertical-align: top;\n",
              "    }\n",
              "\n",
              "    .dataframe thead th {\n",
              "        text-align: right;\n",
              "    }\n",
              "</style>\n",
              "<table border=\"1\" class=\"dataframe\">\n",
              "  <thead>\n",
              "    <tr style=\"text-align: right;\">\n",
              "      <th></th>\n",
              "      <th>month</th>\n",
              "      <th>month_orden</th>\n",
              "    </tr>\n",
              "  </thead>\n",
              "  <tbody>\n",
              "    <tr>\n",
              "      <th>0</th>\n",
              "      <td>may</td>\n",
              "      <td>4.0</td>\n",
              "    </tr>\n",
              "    <tr>\n",
              "      <th>1</th>\n",
              "      <td>may</td>\n",
              "      <td>4.0</td>\n",
              "    </tr>\n",
              "    <tr>\n",
              "      <th>2</th>\n",
              "      <td>may</td>\n",
              "      <td>4.0</td>\n",
              "    </tr>\n",
              "    <tr>\n",
              "      <th>3</th>\n",
              "      <td>may</td>\n",
              "      <td>4.0</td>\n",
              "    </tr>\n",
              "    <tr>\n",
              "      <th>4</th>\n",
              "      <td>may</td>\n",
              "      <td>4.0</td>\n",
              "    </tr>\n",
              "    <tr>\n",
              "      <th>5</th>\n",
              "      <td>may</td>\n",
              "      <td>4.0</td>\n",
              "    </tr>\n",
              "    <tr>\n",
              "      <th>6</th>\n",
              "      <td>may</td>\n",
              "      <td>4.0</td>\n",
              "    </tr>\n",
              "    <tr>\n",
              "      <th>7</th>\n",
              "      <td>may</td>\n",
              "      <td>4.0</td>\n",
              "    </tr>\n",
              "    <tr>\n",
              "      <th>8</th>\n",
              "      <td>may</td>\n",
              "      <td>4.0</td>\n",
              "    </tr>\n",
              "    <tr>\n",
              "      <th>9</th>\n",
              "      <td>may</td>\n",
              "      <td>4.0</td>\n",
              "    </tr>\n",
              "  </tbody>\n",
              "</table>\n",
              "</div>\n",
              "      <button class=\"colab-df-convert\" onclick=\"convertToInteractive('df-0c7b7fbe-75aa-42f7-8e26-831cfa99623e')\"\n",
              "              title=\"Convert this dataframe to an interactive table.\"\n",
              "              style=\"display:none;\">\n",
              "        \n",
              "  <svg xmlns=\"http://www.w3.org/2000/svg\" height=\"24px\"viewBox=\"0 0 24 24\"\n",
              "       width=\"24px\">\n",
              "    <path d=\"M0 0h24v24H0V0z\" fill=\"none\"/>\n",
              "    <path d=\"M18.56 5.44l.94 2.06.94-2.06 2.06-.94-2.06-.94-.94-2.06-.94 2.06-2.06.94zm-11 1L8.5 8.5l.94-2.06 2.06-.94-2.06-.94L8.5 2.5l-.94 2.06-2.06.94zm10 10l.94 2.06.94-2.06 2.06-.94-2.06-.94-.94-2.06-.94 2.06-2.06.94z\"/><path d=\"M17.41 7.96l-1.37-1.37c-.4-.4-.92-.59-1.43-.59-.52 0-1.04.2-1.43.59L10.3 9.45l-7.72 7.72c-.78.78-.78 2.05 0 2.83L4 21.41c.39.39.9.59 1.41.59.51 0 1.02-.2 1.41-.59l7.78-7.78 2.81-2.81c.8-.78.8-2.07 0-2.86zM5.41 20L4 18.59l7.72-7.72 1.47 1.35L5.41 20z\"/>\n",
              "  </svg>\n",
              "      </button>\n",
              "      \n",
              "  <style>\n",
              "    .colab-df-container {\n",
              "      display:flex;\n",
              "      flex-wrap:wrap;\n",
              "      gap: 12px;\n",
              "    }\n",
              "\n",
              "    .colab-df-convert {\n",
              "      background-color: #E8F0FE;\n",
              "      border: none;\n",
              "      border-radius: 50%;\n",
              "      cursor: pointer;\n",
              "      display: none;\n",
              "      fill: #1967D2;\n",
              "      height: 32px;\n",
              "      padding: 0 0 0 0;\n",
              "      width: 32px;\n",
              "    }\n",
              "\n",
              "    .colab-df-convert:hover {\n",
              "      background-color: #E2EBFA;\n",
              "      box-shadow: 0px 1px 2px rgba(60, 64, 67, 0.3), 0px 1px 3px 1px rgba(60, 64, 67, 0.15);\n",
              "      fill: #174EA6;\n",
              "    }\n",
              "\n",
              "    [theme=dark] .colab-df-convert {\n",
              "      background-color: #3B4455;\n",
              "      fill: #D2E3FC;\n",
              "    }\n",
              "\n",
              "    [theme=dark] .colab-df-convert:hover {\n",
              "      background-color: #434B5C;\n",
              "      box-shadow: 0px 1px 3px 1px rgba(0, 0, 0, 0.15);\n",
              "      filter: drop-shadow(0px 1px 2px rgba(0, 0, 0, 0.3));\n",
              "      fill: #FFFFFF;\n",
              "    }\n",
              "  </style>\n",
              "\n",
              "      <script>\n",
              "        const buttonEl =\n",
              "          document.querySelector('#df-0c7b7fbe-75aa-42f7-8e26-831cfa99623e button.colab-df-convert');\n",
              "        buttonEl.style.display =\n",
              "          google.colab.kernel.accessAllowed ? 'block' : 'none';\n",
              "\n",
              "        async function convertToInteractive(key) {\n",
              "          const element = document.querySelector('#df-0c7b7fbe-75aa-42f7-8e26-831cfa99623e');\n",
              "          const dataTable =\n",
              "            await google.colab.kernel.invokeFunction('convertToInteractive',\n",
              "                                                     [key], {});\n",
              "          if (!dataTable) return;\n",
              "\n",
              "          const docLinkHtml = 'Like what you see? Visit the ' +\n",
              "            '<a target=\"_blank\" href=https://colab.research.google.com/notebooks/data_table.ipynb>data table notebook</a>'\n",
              "            + ' to learn more about interactive tables.';\n",
              "          element.innerHTML = '';\n",
              "          dataTable['output_type'] = 'display_data';\n",
              "          await google.colab.output.renderOutput(dataTable, element);\n",
              "          const docLink = document.createElement('div');\n",
              "          docLink.innerHTML = docLinkHtml;\n",
              "          element.appendChild(docLink);\n",
              "        }\n",
              "      </script>\n",
              "    </div>\n",
              "  </div>\n",
              "  "
            ]
          },
          "metadata": {},
          "execution_count": 33
        }
      ]
    },
    {
      "cell_type": "markdown",
      "source": [
        "borramos variables ordinales puras"
      ],
      "metadata": {
        "id": "c65vimO2f2cQ"
      }
    },
    {
      "cell_type": "code",
      "source": [
        "df_piv.drop(['month','education'],axis=1,inplace=True)"
      ],
      "metadata": {
        "id": "Ybey9CGNf5Kc"
      },
      "execution_count": 34,
      "outputs": []
    },
    {
      "cell_type": "code",
      "source": [
        "df_piv.columns"
      ],
      "metadata": {
        "colab": {
          "base_uri": "https://localhost:8080/"
        },
        "id": "dpi8HF1DgDEs",
        "outputId": "8454faf1-b799-4b70-9612-46539be8c0f9"
      },
      "execution_count": 35,
      "outputs": [
        {
          "output_type": "execute_result",
          "data": {
            "text/plain": [
              "Index(['age', 'balance', 'day', 'campaign', 'pdays', 'previous', 'job_admin.',\n",
              "       'job_blue-collar', 'job_entrepreneur', 'job_housemaid',\n",
              "       'job_management', 'job_retired', 'job_self-employed', 'job_services',\n",
              "       'job_student', 'job_technician', 'job_unemployed', 'job_unknown',\n",
              "       'marital_divorced', 'marital_married', 'marital_single',\n",
              "       'poutcome_failure', 'poutcome_other', 'poutcome_success',\n",
              "       'poutcome_unknown', 'default_yes', 'housing_yes', 'loan_yes',\n",
              "       'contact_telephone', 'contact_unknown', 'y_yes', 'education_orden',\n",
              "       'month_orden'],\n",
              "      dtype='object')"
            ]
          },
          "metadata": {},
          "execution_count": 35
        }
      ]
    },
    {
      "cell_type": "code",
      "source": [
        "df_bank.job.value_counts()"
      ],
      "metadata": {
        "colab": {
          "base_uri": "https://localhost:8080/"
        },
        "id": "lWfZPHPWgnet",
        "outputId": "b36b687b-715d-4aa8-f764-28961cca9e4e"
      },
      "execution_count": 36,
      "outputs": [
        {
          "output_type": "execute_result",
          "data": {
            "text/plain": [
              "blue-collar      9732\n",
              "management       9458\n",
              "technician       7597\n",
              "admin.           5171\n",
              "services         4154\n",
              "retired          2264\n",
              "self-employed    1579\n",
              "entrepreneur     1487\n",
              "unemployed       1303\n",
              "housemaid        1240\n",
              "student           938\n",
              "unknown           288\n",
              "Name: job, dtype: int64"
            ]
          },
          "metadata": {},
          "execution_count": 36
        }
      ]
    },
    {
      "cell_type": "code",
      "source": [
        "df_piv[['y_yes']]"
      ],
      "metadata": {
        "colab": {
          "base_uri": "https://localhost:8080/",
          "height": 423
        },
        "id": "TB6pcPIWgevL",
        "outputId": "126e66d1-3218-4abc-d93e-6abe92b2a0bc"
      },
      "execution_count": 37,
      "outputs": [
        {
          "output_type": "execute_result",
          "data": {
            "text/plain": [
              "       y_yes\n",
              "0          0\n",
              "1          0\n",
              "2          0\n",
              "3          0\n",
              "4          0\n",
              "...      ...\n",
              "45206      1\n",
              "45207      1\n",
              "45208      1\n",
              "45209      0\n",
              "45210      0\n",
              "\n",
              "[45211 rows x 1 columns]"
            ],
            "text/html": [
              "\n",
              "  <div id=\"df-308a355f-6423-4aac-91a0-59ec5093fd62\">\n",
              "    <div class=\"colab-df-container\">\n",
              "      <div>\n",
              "<style scoped>\n",
              "    .dataframe tbody tr th:only-of-type {\n",
              "        vertical-align: middle;\n",
              "    }\n",
              "\n",
              "    .dataframe tbody tr th {\n",
              "        vertical-align: top;\n",
              "    }\n",
              "\n",
              "    .dataframe thead th {\n",
              "        text-align: right;\n",
              "    }\n",
              "</style>\n",
              "<table border=\"1\" class=\"dataframe\">\n",
              "  <thead>\n",
              "    <tr style=\"text-align: right;\">\n",
              "      <th></th>\n",
              "      <th>y_yes</th>\n",
              "    </tr>\n",
              "  </thead>\n",
              "  <tbody>\n",
              "    <tr>\n",
              "      <th>0</th>\n",
              "      <td>0</td>\n",
              "    </tr>\n",
              "    <tr>\n",
              "      <th>1</th>\n",
              "      <td>0</td>\n",
              "    </tr>\n",
              "    <tr>\n",
              "      <th>2</th>\n",
              "      <td>0</td>\n",
              "    </tr>\n",
              "    <tr>\n",
              "      <th>3</th>\n",
              "      <td>0</td>\n",
              "    </tr>\n",
              "    <tr>\n",
              "      <th>4</th>\n",
              "      <td>0</td>\n",
              "    </tr>\n",
              "    <tr>\n",
              "      <th>...</th>\n",
              "      <td>...</td>\n",
              "    </tr>\n",
              "    <tr>\n",
              "      <th>45206</th>\n",
              "      <td>1</td>\n",
              "    </tr>\n",
              "    <tr>\n",
              "      <th>45207</th>\n",
              "      <td>1</td>\n",
              "    </tr>\n",
              "    <tr>\n",
              "      <th>45208</th>\n",
              "      <td>1</td>\n",
              "    </tr>\n",
              "    <tr>\n",
              "      <th>45209</th>\n",
              "      <td>0</td>\n",
              "    </tr>\n",
              "    <tr>\n",
              "      <th>45210</th>\n",
              "      <td>0</td>\n",
              "    </tr>\n",
              "  </tbody>\n",
              "</table>\n",
              "<p>45211 rows × 1 columns</p>\n",
              "</div>\n",
              "      <button class=\"colab-df-convert\" onclick=\"convertToInteractive('df-308a355f-6423-4aac-91a0-59ec5093fd62')\"\n",
              "              title=\"Convert this dataframe to an interactive table.\"\n",
              "              style=\"display:none;\">\n",
              "        \n",
              "  <svg xmlns=\"http://www.w3.org/2000/svg\" height=\"24px\"viewBox=\"0 0 24 24\"\n",
              "       width=\"24px\">\n",
              "    <path d=\"M0 0h24v24H0V0z\" fill=\"none\"/>\n",
              "    <path d=\"M18.56 5.44l.94 2.06.94-2.06 2.06-.94-2.06-.94-.94-2.06-.94 2.06-2.06.94zm-11 1L8.5 8.5l.94-2.06 2.06-.94-2.06-.94L8.5 2.5l-.94 2.06-2.06.94zm10 10l.94 2.06.94-2.06 2.06-.94-2.06-.94-.94-2.06-.94 2.06-2.06.94z\"/><path d=\"M17.41 7.96l-1.37-1.37c-.4-.4-.92-.59-1.43-.59-.52 0-1.04.2-1.43.59L10.3 9.45l-7.72 7.72c-.78.78-.78 2.05 0 2.83L4 21.41c.39.39.9.59 1.41.59.51 0 1.02-.2 1.41-.59l7.78-7.78 2.81-2.81c.8-.78.8-2.07 0-2.86zM5.41 20L4 18.59l7.72-7.72 1.47 1.35L5.41 20z\"/>\n",
              "  </svg>\n",
              "      </button>\n",
              "      \n",
              "  <style>\n",
              "    .colab-df-container {\n",
              "      display:flex;\n",
              "      flex-wrap:wrap;\n",
              "      gap: 12px;\n",
              "    }\n",
              "\n",
              "    .colab-df-convert {\n",
              "      background-color: #E8F0FE;\n",
              "      border: none;\n",
              "      border-radius: 50%;\n",
              "      cursor: pointer;\n",
              "      display: none;\n",
              "      fill: #1967D2;\n",
              "      height: 32px;\n",
              "      padding: 0 0 0 0;\n",
              "      width: 32px;\n",
              "    }\n",
              "\n",
              "    .colab-df-convert:hover {\n",
              "      background-color: #E2EBFA;\n",
              "      box-shadow: 0px 1px 2px rgba(60, 64, 67, 0.3), 0px 1px 3px 1px rgba(60, 64, 67, 0.15);\n",
              "      fill: #174EA6;\n",
              "    }\n",
              "\n",
              "    [theme=dark] .colab-df-convert {\n",
              "      background-color: #3B4455;\n",
              "      fill: #D2E3FC;\n",
              "    }\n",
              "\n",
              "    [theme=dark] .colab-df-convert:hover {\n",
              "      background-color: #434B5C;\n",
              "      box-shadow: 0px 1px 3px 1px rgba(0, 0, 0, 0.15);\n",
              "      filter: drop-shadow(0px 1px 2px rgba(0, 0, 0, 0.3));\n",
              "      fill: #FFFFFF;\n",
              "    }\n",
              "  </style>\n",
              "\n",
              "      <script>\n",
              "        const buttonEl =\n",
              "          document.querySelector('#df-308a355f-6423-4aac-91a0-59ec5093fd62 button.colab-df-convert');\n",
              "        buttonEl.style.display =\n",
              "          google.colab.kernel.accessAllowed ? 'block' : 'none';\n",
              "\n",
              "        async function convertToInteractive(key) {\n",
              "          const element = document.querySelector('#df-308a355f-6423-4aac-91a0-59ec5093fd62');\n",
              "          const dataTable =\n",
              "            await google.colab.kernel.invokeFunction('convertToInteractive',\n",
              "                                                     [key], {});\n",
              "          if (!dataTable) return;\n",
              "\n",
              "          const docLinkHtml = 'Like what you see? Visit the ' +\n",
              "            '<a target=\"_blank\" href=https://colab.research.google.com/notebooks/data_table.ipynb>data table notebook</a>'\n",
              "            + ' to learn more about interactive tables.';\n",
              "          element.innerHTML = '';\n",
              "          dataTable['output_type'] = 'display_data';\n",
              "          await google.colab.output.renderOutput(dataTable, element);\n",
              "          const docLink = document.createElement('div');\n",
              "          docLink.innerHTML = docLinkHtml;\n",
              "          element.appendChild(docLink);\n",
              "        }\n",
              "      </script>\n",
              "    </div>\n",
              "  </div>\n",
              "  "
            ]
          },
          "metadata": {},
          "execution_count": 37
        }
      ]
    },
    {
      "cell_type": "code",
      "source": [
        "df_piv.head(3)"
      ],
      "metadata": {
        "colab": {
          "base_uri": "https://localhost:8080/",
          "height": 254
        },
        "id": "sjjUgJ4SgE-r",
        "outputId": "1f50b747-789d-4934-c8d4-fc55bd728501"
      },
      "execution_count": 38,
      "outputs": [
        {
          "output_type": "execute_result",
          "data": {
            "text/plain": [
              "   age  balance  day  campaign  pdays  previous  job_admin.  job_blue-collar  \\\n",
              "0   58     2143    5         1     -1         0           0                0   \n",
              "1   44       29    5         1     -1         0           0                0   \n",
              "2   33        2    5         1     -1         0           0                0   \n",
              "\n",
              "   job_entrepreneur  job_housemaid  ...  poutcome_success  poutcome_unknown  \\\n",
              "0                 0              0  ...                 0                 1   \n",
              "1                 0              0  ...                 0                 1   \n",
              "2                 1              0  ...                 0                 1   \n",
              "\n",
              "   default_yes  housing_yes  loan_yes  contact_telephone  contact_unknown  \\\n",
              "0            0            1         0                  0                1   \n",
              "1            0            1         0                  0                1   \n",
              "2            0            1         1                  0                1   \n",
              "\n",
              "   y_yes  education_orden  month_orden  \n",
              "0      0              3.0          4.0  \n",
              "1      0              2.0          4.0  \n",
              "2      0              2.0          4.0  \n",
              "\n",
              "[3 rows x 33 columns]"
            ],
            "text/html": [
              "\n",
              "  <div id=\"df-9699f5e9-71af-4ab1-8c70-7b39c8e0b733\">\n",
              "    <div class=\"colab-df-container\">\n",
              "      <div>\n",
              "<style scoped>\n",
              "    .dataframe tbody tr th:only-of-type {\n",
              "        vertical-align: middle;\n",
              "    }\n",
              "\n",
              "    .dataframe tbody tr th {\n",
              "        vertical-align: top;\n",
              "    }\n",
              "\n",
              "    .dataframe thead th {\n",
              "        text-align: right;\n",
              "    }\n",
              "</style>\n",
              "<table border=\"1\" class=\"dataframe\">\n",
              "  <thead>\n",
              "    <tr style=\"text-align: right;\">\n",
              "      <th></th>\n",
              "      <th>age</th>\n",
              "      <th>balance</th>\n",
              "      <th>day</th>\n",
              "      <th>campaign</th>\n",
              "      <th>pdays</th>\n",
              "      <th>previous</th>\n",
              "      <th>job_admin.</th>\n",
              "      <th>job_blue-collar</th>\n",
              "      <th>job_entrepreneur</th>\n",
              "      <th>job_housemaid</th>\n",
              "      <th>...</th>\n",
              "      <th>poutcome_success</th>\n",
              "      <th>poutcome_unknown</th>\n",
              "      <th>default_yes</th>\n",
              "      <th>housing_yes</th>\n",
              "      <th>loan_yes</th>\n",
              "      <th>contact_telephone</th>\n",
              "      <th>contact_unknown</th>\n",
              "      <th>y_yes</th>\n",
              "      <th>education_orden</th>\n",
              "      <th>month_orden</th>\n",
              "    </tr>\n",
              "  </thead>\n",
              "  <tbody>\n",
              "    <tr>\n",
              "      <th>0</th>\n",
              "      <td>58</td>\n",
              "      <td>2143</td>\n",
              "      <td>5</td>\n",
              "      <td>1</td>\n",
              "      <td>-1</td>\n",
              "      <td>0</td>\n",
              "      <td>0</td>\n",
              "      <td>0</td>\n",
              "      <td>0</td>\n",
              "      <td>0</td>\n",
              "      <td>...</td>\n",
              "      <td>0</td>\n",
              "      <td>1</td>\n",
              "      <td>0</td>\n",
              "      <td>1</td>\n",
              "      <td>0</td>\n",
              "      <td>0</td>\n",
              "      <td>1</td>\n",
              "      <td>0</td>\n",
              "      <td>3.0</td>\n",
              "      <td>4.0</td>\n",
              "    </tr>\n",
              "    <tr>\n",
              "      <th>1</th>\n",
              "      <td>44</td>\n",
              "      <td>29</td>\n",
              "      <td>5</td>\n",
              "      <td>1</td>\n",
              "      <td>-1</td>\n",
              "      <td>0</td>\n",
              "      <td>0</td>\n",
              "      <td>0</td>\n",
              "      <td>0</td>\n",
              "      <td>0</td>\n",
              "      <td>...</td>\n",
              "      <td>0</td>\n",
              "      <td>1</td>\n",
              "      <td>0</td>\n",
              "      <td>1</td>\n",
              "      <td>0</td>\n",
              "      <td>0</td>\n",
              "      <td>1</td>\n",
              "      <td>0</td>\n",
              "      <td>2.0</td>\n",
              "      <td>4.0</td>\n",
              "    </tr>\n",
              "    <tr>\n",
              "      <th>2</th>\n",
              "      <td>33</td>\n",
              "      <td>2</td>\n",
              "      <td>5</td>\n",
              "      <td>1</td>\n",
              "      <td>-1</td>\n",
              "      <td>0</td>\n",
              "      <td>0</td>\n",
              "      <td>0</td>\n",
              "      <td>1</td>\n",
              "      <td>0</td>\n",
              "      <td>...</td>\n",
              "      <td>0</td>\n",
              "      <td>1</td>\n",
              "      <td>0</td>\n",
              "      <td>1</td>\n",
              "      <td>1</td>\n",
              "      <td>0</td>\n",
              "      <td>1</td>\n",
              "      <td>0</td>\n",
              "      <td>2.0</td>\n",
              "      <td>4.0</td>\n",
              "    </tr>\n",
              "  </tbody>\n",
              "</table>\n",
              "<p>3 rows × 33 columns</p>\n",
              "</div>\n",
              "      <button class=\"colab-df-convert\" onclick=\"convertToInteractive('df-9699f5e9-71af-4ab1-8c70-7b39c8e0b733')\"\n",
              "              title=\"Convert this dataframe to an interactive table.\"\n",
              "              style=\"display:none;\">\n",
              "        \n",
              "  <svg xmlns=\"http://www.w3.org/2000/svg\" height=\"24px\"viewBox=\"0 0 24 24\"\n",
              "       width=\"24px\">\n",
              "    <path d=\"M0 0h24v24H0V0z\" fill=\"none\"/>\n",
              "    <path d=\"M18.56 5.44l.94 2.06.94-2.06 2.06-.94-2.06-.94-.94-2.06-.94 2.06-2.06.94zm-11 1L8.5 8.5l.94-2.06 2.06-.94-2.06-.94L8.5 2.5l-.94 2.06-2.06.94zm10 10l.94 2.06.94-2.06 2.06-.94-2.06-.94-.94-2.06-.94 2.06-2.06.94z\"/><path d=\"M17.41 7.96l-1.37-1.37c-.4-.4-.92-.59-1.43-.59-.52 0-1.04.2-1.43.59L10.3 9.45l-7.72 7.72c-.78.78-.78 2.05 0 2.83L4 21.41c.39.39.9.59 1.41.59.51 0 1.02-.2 1.41-.59l7.78-7.78 2.81-2.81c.8-.78.8-2.07 0-2.86zM5.41 20L4 18.59l7.72-7.72 1.47 1.35L5.41 20z\"/>\n",
              "  </svg>\n",
              "      </button>\n",
              "      \n",
              "  <style>\n",
              "    .colab-df-container {\n",
              "      display:flex;\n",
              "      flex-wrap:wrap;\n",
              "      gap: 12px;\n",
              "    }\n",
              "\n",
              "    .colab-df-convert {\n",
              "      background-color: #E8F0FE;\n",
              "      border: none;\n",
              "      border-radius: 50%;\n",
              "      cursor: pointer;\n",
              "      display: none;\n",
              "      fill: #1967D2;\n",
              "      height: 32px;\n",
              "      padding: 0 0 0 0;\n",
              "      width: 32px;\n",
              "    }\n",
              "\n",
              "    .colab-df-convert:hover {\n",
              "      background-color: #E2EBFA;\n",
              "      box-shadow: 0px 1px 2px rgba(60, 64, 67, 0.3), 0px 1px 3px 1px rgba(60, 64, 67, 0.15);\n",
              "      fill: #174EA6;\n",
              "    }\n",
              "\n",
              "    [theme=dark] .colab-df-convert {\n",
              "      background-color: #3B4455;\n",
              "      fill: #D2E3FC;\n",
              "    }\n",
              "\n",
              "    [theme=dark] .colab-df-convert:hover {\n",
              "      background-color: #434B5C;\n",
              "      box-shadow: 0px 1px 3px 1px rgba(0, 0, 0, 0.15);\n",
              "      filter: drop-shadow(0px 1px 2px rgba(0, 0, 0, 0.3));\n",
              "      fill: #FFFFFF;\n",
              "    }\n",
              "  </style>\n",
              "\n",
              "      <script>\n",
              "        const buttonEl =\n",
              "          document.querySelector('#df-9699f5e9-71af-4ab1-8c70-7b39c8e0b733 button.colab-df-convert');\n",
              "        buttonEl.style.display =\n",
              "          google.colab.kernel.accessAllowed ? 'block' : 'none';\n",
              "\n",
              "        async function convertToInteractive(key) {\n",
              "          const element = document.querySelector('#df-9699f5e9-71af-4ab1-8c70-7b39c8e0b733');\n",
              "          const dataTable =\n",
              "            await google.colab.kernel.invokeFunction('convertToInteractive',\n",
              "                                                     [key], {});\n",
              "          if (!dataTable) return;\n",
              "\n",
              "          const docLinkHtml = 'Like what you see? Visit the ' +\n",
              "            '<a target=\"_blank\" href=https://colab.research.google.com/notebooks/data_table.ipynb>data table notebook</a>'\n",
              "            + ' to learn more about interactive tables.';\n",
              "          element.innerHTML = '';\n",
              "          dataTable['output_type'] = 'display_data';\n",
              "          await google.colab.output.renderOutput(dataTable, element);\n",
              "          const docLink = document.createElement('div');\n",
              "          docLink.innerHTML = docLinkHtml;\n",
              "          element.appendChild(docLink);\n",
              "        }\n",
              "      </script>\n",
              "    </div>\n",
              "  </div>\n",
              "  "
            ]
          },
          "metadata": {},
          "execution_count": 38
        }
      ]
    },
    {
      "cell_type": "markdown",
      "source": [
        "Entrenamiento de red neuronal"
      ],
      "metadata": {
        "id": "YxyY1rBuiF3h"
      }
    },
    {
      "cell_type": "code",
      "source": [
        "from sklearn.metrics import confusion_matrix\n",
        "from tabulate import tabulate\n",
        "from sklearn.neural_network import MLPClassifier\n",
        "from sklearn.preprocessing import StandardScaler\n",
        "from sklearn.model_selection import train_test_split\n",
        "from sklearn import metrics"
      ],
      "metadata": {
        "id": "msEFWglhiKiq"
      },
      "execution_count": 39,
      "outputs": []
    },
    {
      "cell_type": "code",
      "source": [
        "df_piv_no_classes = df_piv.drop(columns='y_yes').copy()\n",
        "df_piv_no_classes.head()"
      ],
      "metadata": {
        "colab": {
          "base_uri": "https://localhost:8080/",
          "height": 317
        },
        "id": "gnkpTdYBjBJ-",
        "outputId": "d1072386-cfaf-4c77-8f37-4cd561a02cd7"
      },
      "execution_count": 40,
      "outputs": [
        {
          "output_type": "execute_result",
          "data": {
            "text/plain": [
              "   age  balance  day  campaign  pdays  previous  job_admin.  job_blue-collar  \\\n",
              "0   58     2143    5         1     -1         0           0                0   \n",
              "1   44       29    5         1     -1         0           0                0   \n",
              "2   33        2    5         1     -1         0           0                0   \n",
              "3   47     1506    5         1     -1         0           0                1   \n",
              "4   33        1    5         1     -1         0           0                0   \n",
              "\n",
              "   job_entrepreneur  job_housemaid  ...  poutcome_other  poutcome_success  \\\n",
              "0                 0              0  ...               0                 0   \n",
              "1                 0              0  ...               0                 0   \n",
              "2                 1              0  ...               0                 0   \n",
              "3                 0              0  ...               0                 0   \n",
              "4                 0              0  ...               0                 0   \n",
              "\n",
              "   poutcome_unknown  default_yes  housing_yes  loan_yes  contact_telephone  \\\n",
              "0                 1            0            1         0                  0   \n",
              "1                 1            0            1         0                  0   \n",
              "2                 1            0            1         1                  0   \n",
              "3                 1            0            1         0                  0   \n",
              "4                 1            0            0         0                  0   \n",
              "\n",
              "   contact_unknown  education_orden  month_orden  \n",
              "0                1              3.0          4.0  \n",
              "1                1              2.0          4.0  \n",
              "2                1              2.0          4.0  \n",
              "3                1              0.0          4.0  \n",
              "4                1              0.0          4.0  \n",
              "\n",
              "[5 rows x 32 columns]"
            ],
            "text/html": [
              "\n",
              "  <div id=\"df-196e6781-5d91-41d5-bbee-c84abfc8de46\">\n",
              "    <div class=\"colab-df-container\">\n",
              "      <div>\n",
              "<style scoped>\n",
              "    .dataframe tbody tr th:only-of-type {\n",
              "        vertical-align: middle;\n",
              "    }\n",
              "\n",
              "    .dataframe tbody tr th {\n",
              "        vertical-align: top;\n",
              "    }\n",
              "\n",
              "    .dataframe thead th {\n",
              "        text-align: right;\n",
              "    }\n",
              "</style>\n",
              "<table border=\"1\" class=\"dataframe\">\n",
              "  <thead>\n",
              "    <tr style=\"text-align: right;\">\n",
              "      <th></th>\n",
              "      <th>age</th>\n",
              "      <th>balance</th>\n",
              "      <th>day</th>\n",
              "      <th>campaign</th>\n",
              "      <th>pdays</th>\n",
              "      <th>previous</th>\n",
              "      <th>job_admin.</th>\n",
              "      <th>job_blue-collar</th>\n",
              "      <th>job_entrepreneur</th>\n",
              "      <th>job_housemaid</th>\n",
              "      <th>...</th>\n",
              "      <th>poutcome_other</th>\n",
              "      <th>poutcome_success</th>\n",
              "      <th>poutcome_unknown</th>\n",
              "      <th>default_yes</th>\n",
              "      <th>housing_yes</th>\n",
              "      <th>loan_yes</th>\n",
              "      <th>contact_telephone</th>\n",
              "      <th>contact_unknown</th>\n",
              "      <th>education_orden</th>\n",
              "      <th>month_orden</th>\n",
              "    </tr>\n",
              "  </thead>\n",
              "  <tbody>\n",
              "    <tr>\n",
              "      <th>0</th>\n",
              "      <td>58</td>\n",
              "      <td>2143</td>\n",
              "      <td>5</td>\n",
              "      <td>1</td>\n",
              "      <td>-1</td>\n",
              "      <td>0</td>\n",
              "      <td>0</td>\n",
              "      <td>0</td>\n",
              "      <td>0</td>\n",
              "      <td>0</td>\n",
              "      <td>...</td>\n",
              "      <td>0</td>\n",
              "      <td>0</td>\n",
              "      <td>1</td>\n",
              "      <td>0</td>\n",
              "      <td>1</td>\n",
              "      <td>0</td>\n",
              "      <td>0</td>\n",
              "      <td>1</td>\n",
              "      <td>3.0</td>\n",
              "      <td>4.0</td>\n",
              "    </tr>\n",
              "    <tr>\n",
              "      <th>1</th>\n",
              "      <td>44</td>\n",
              "      <td>29</td>\n",
              "      <td>5</td>\n",
              "      <td>1</td>\n",
              "      <td>-1</td>\n",
              "      <td>0</td>\n",
              "      <td>0</td>\n",
              "      <td>0</td>\n",
              "      <td>0</td>\n",
              "      <td>0</td>\n",
              "      <td>...</td>\n",
              "      <td>0</td>\n",
              "      <td>0</td>\n",
              "      <td>1</td>\n",
              "      <td>0</td>\n",
              "      <td>1</td>\n",
              "      <td>0</td>\n",
              "      <td>0</td>\n",
              "      <td>1</td>\n",
              "      <td>2.0</td>\n",
              "      <td>4.0</td>\n",
              "    </tr>\n",
              "    <tr>\n",
              "      <th>2</th>\n",
              "      <td>33</td>\n",
              "      <td>2</td>\n",
              "      <td>5</td>\n",
              "      <td>1</td>\n",
              "      <td>-1</td>\n",
              "      <td>0</td>\n",
              "      <td>0</td>\n",
              "      <td>0</td>\n",
              "      <td>1</td>\n",
              "      <td>0</td>\n",
              "      <td>...</td>\n",
              "      <td>0</td>\n",
              "      <td>0</td>\n",
              "      <td>1</td>\n",
              "      <td>0</td>\n",
              "      <td>1</td>\n",
              "      <td>1</td>\n",
              "      <td>0</td>\n",
              "      <td>1</td>\n",
              "      <td>2.0</td>\n",
              "      <td>4.0</td>\n",
              "    </tr>\n",
              "    <tr>\n",
              "      <th>3</th>\n",
              "      <td>47</td>\n",
              "      <td>1506</td>\n",
              "      <td>5</td>\n",
              "      <td>1</td>\n",
              "      <td>-1</td>\n",
              "      <td>0</td>\n",
              "      <td>0</td>\n",
              "      <td>1</td>\n",
              "      <td>0</td>\n",
              "      <td>0</td>\n",
              "      <td>...</td>\n",
              "      <td>0</td>\n",
              "      <td>0</td>\n",
              "      <td>1</td>\n",
              "      <td>0</td>\n",
              "      <td>1</td>\n",
              "      <td>0</td>\n",
              "      <td>0</td>\n",
              "      <td>1</td>\n",
              "      <td>0.0</td>\n",
              "      <td>4.0</td>\n",
              "    </tr>\n",
              "    <tr>\n",
              "      <th>4</th>\n",
              "      <td>33</td>\n",
              "      <td>1</td>\n",
              "      <td>5</td>\n",
              "      <td>1</td>\n",
              "      <td>-1</td>\n",
              "      <td>0</td>\n",
              "      <td>0</td>\n",
              "      <td>0</td>\n",
              "      <td>0</td>\n",
              "      <td>0</td>\n",
              "      <td>...</td>\n",
              "      <td>0</td>\n",
              "      <td>0</td>\n",
              "      <td>1</td>\n",
              "      <td>0</td>\n",
              "      <td>0</td>\n",
              "      <td>0</td>\n",
              "      <td>0</td>\n",
              "      <td>1</td>\n",
              "      <td>0.0</td>\n",
              "      <td>4.0</td>\n",
              "    </tr>\n",
              "  </tbody>\n",
              "</table>\n",
              "<p>5 rows × 32 columns</p>\n",
              "</div>\n",
              "      <button class=\"colab-df-convert\" onclick=\"convertToInteractive('df-196e6781-5d91-41d5-bbee-c84abfc8de46')\"\n",
              "              title=\"Convert this dataframe to an interactive table.\"\n",
              "              style=\"display:none;\">\n",
              "        \n",
              "  <svg xmlns=\"http://www.w3.org/2000/svg\" height=\"24px\"viewBox=\"0 0 24 24\"\n",
              "       width=\"24px\">\n",
              "    <path d=\"M0 0h24v24H0V0z\" fill=\"none\"/>\n",
              "    <path d=\"M18.56 5.44l.94 2.06.94-2.06 2.06-.94-2.06-.94-.94-2.06-.94 2.06-2.06.94zm-11 1L8.5 8.5l.94-2.06 2.06-.94-2.06-.94L8.5 2.5l-.94 2.06-2.06.94zm10 10l.94 2.06.94-2.06 2.06-.94-2.06-.94-.94-2.06-.94 2.06-2.06.94z\"/><path d=\"M17.41 7.96l-1.37-1.37c-.4-.4-.92-.59-1.43-.59-.52 0-1.04.2-1.43.59L10.3 9.45l-7.72 7.72c-.78.78-.78 2.05 0 2.83L4 21.41c.39.39.9.59 1.41.59.51 0 1.02-.2 1.41-.59l7.78-7.78 2.81-2.81c.8-.78.8-2.07 0-2.86zM5.41 20L4 18.59l7.72-7.72 1.47 1.35L5.41 20z\"/>\n",
              "  </svg>\n",
              "      </button>\n",
              "      \n",
              "  <style>\n",
              "    .colab-df-container {\n",
              "      display:flex;\n",
              "      flex-wrap:wrap;\n",
              "      gap: 12px;\n",
              "    }\n",
              "\n",
              "    .colab-df-convert {\n",
              "      background-color: #E8F0FE;\n",
              "      border: none;\n",
              "      border-radius: 50%;\n",
              "      cursor: pointer;\n",
              "      display: none;\n",
              "      fill: #1967D2;\n",
              "      height: 32px;\n",
              "      padding: 0 0 0 0;\n",
              "      width: 32px;\n",
              "    }\n",
              "\n",
              "    .colab-df-convert:hover {\n",
              "      background-color: #E2EBFA;\n",
              "      box-shadow: 0px 1px 2px rgba(60, 64, 67, 0.3), 0px 1px 3px 1px rgba(60, 64, 67, 0.15);\n",
              "      fill: #174EA6;\n",
              "    }\n",
              "\n",
              "    [theme=dark] .colab-df-convert {\n",
              "      background-color: #3B4455;\n",
              "      fill: #D2E3FC;\n",
              "    }\n",
              "\n",
              "    [theme=dark] .colab-df-convert:hover {\n",
              "      background-color: #434B5C;\n",
              "      box-shadow: 0px 1px 3px 1px rgba(0, 0, 0, 0.15);\n",
              "      filter: drop-shadow(0px 1px 2px rgba(0, 0, 0, 0.3));\n",
              "      fill: #FFFFFF;\n",
              "    }\n",
              "  </style>\n",
              "\n",
              "      <script>\n",
              "        const buttonEl =\n",
              "          document.querySelector('#df-196e6781-5d91-41d5-bbee-c84abfc8de46 button.colab-df-convert');\n",
              "        buttonEl.style.display =\n",
              "          google.colab.kernel.accessAllowed ? 'block' : 'none';\n",
              "\n",
              "        async function convertToInteractive(key) {\n",
              "          const element = document.querySelector('#df-196e6781-5d91-41d5-bbee-c84abfc8de46');\n",
              "          const dataTable =\n",
              "            await google.colab.kernel.invokeFunction('convertToInteractive',\n",
              "                                                     [key], {});\n",
              "          if (!dataTable) return;\n",
              "\n",
              "          const docLinkHtml = 'Like what you see? Visit the ' +\n",
              "            '<a target=\"_blank\" href=https://colab.research.google.com/notebooks/data_table.ipynb>data table notebook</a>'\n",
              "            + ' to learn more about interactive tables.';\n",
              "          element.innerHTML = '';\n",
              "          dataTable['output_type'] = 'display_data';\n",
              "          await google.colab.output.renderOutput(dataTable, element);\n",
              "          const docLink = document.createElement('div');\n",
              "          docLink.innerHTML = docLinkHtml;\n",
              "          element.appendChild(docLink);\n",
              "        }\n",
              "      </script>\n",
              "    </div>\n",
              "  </div>\n",
              "  "
            ]
          },
          "metadata": {},
          "execution_count": 40
        }
      ]
    },
    {
      "cell_type": "code",
      "source": [
        "df_piv_no_classes.columns"
      ],
      "metadata": {
        "colab": {
          "base_uri": "https://localhost:8080/"
        },
        "id": "Nv9CSG6ujYP7",
        "outputId": "3441ec4e-9d9b-4767-d3d8-d1a7588cb16f"
      },
      "execution_count": 41,
      "outputs": [
        {
          "output_type": "execute_result",
          "data": {
            "text/plain": [
              "Index(['age', 'balance', 'day', 'campaign', 'pdays', 'previous', 'job_admin.',\n",
              "       'job_blue-collar', 'job_entrepreneur', 'job_housemaid',\n",
              "       'job_management', 'job_retired', 'job_self-employed', 'job_services',\n",
              "       'job_student', 'job_technician', 'job_unemployed', 'job_unknown',\n",
              "       'marital_divorced', 'marital_married', 'marital_single',\n",
              "       'poutcome_failure', 'poutcome_other', 'poutcome_success',\n",
              "       'poutcome_unknown', 'default_yes', 'housing_yes', 'loan_yes',\n",
              "       'contact_telephone', 'contact_unknown', 'education_orden',\n",
              "       'month_orden'],\n",
              "      dtype='object')"
            ]
          },
          "metadata": {},
          "execution_count": 41
        }
      ]
    },
    {
      "cell_type": "code",
      "source": [
        "a=df_piv.hist(figsize=(20, 15))"
      ],
      "metadata": {
        "colab": {
          "base_uri": "https://localhost:8080/",
          "height": 616
        },
        "id": "oVfRWgBCjfeF",
        "outputId": "7fa381dc-9e69-477d-c23a-54a2891fccda"
      },
      "execution_count": 42,
      "outputs": [
        {
          "output_type": "display_data",
          "data": {
            "text/plain": [
              "<Figure size 1440x1080 with 36 Axes>"
            ],
            "image/png": "[encoded data removed]"
          },
          "metadata": {
            "needs_background": "light"
          }
        }
      ]
    },
    {
      "cell_type": "code",
      "source": [
        "#d = pd.plotting.scatter_matrix(df_piv, c=df_piv.y_yes, cmap='Set1', figsize=(15, 15))"
      ],
      "metadata": {
        "id": "xyCrVslajzRe"
      },
      "execution_count": 43,
      "outputs": []
    },
    {
      "cell_type": "markdown",
      "source": [
        "Creamos la variable etiqueta"
      ],
      "metadata": {
        "id": "30FyITPckgzH"
      }
    },
    {
      "cell_type": "code",
      "source": [
        "y = df_piv[['y_yes']].values[:,0]\n",
        "y.shape"
      ],
      "metadata": {
        "colab": {
          "base_uri": "https://localhost:8080/"
        },
        "id": "Xxahl8YfkgHM",
        "outputId": "14046054-4b47-4460-97f7-1ca640160048"
      },
      "execution_count": 44,
      "outputs": [
        {
          "output_type": "execute_result",
          "data": {
            "text/plain": [
              "(45211,)"
            ]
          },
          "metadata": {},
          "execution_count": 44
        }
      ]
    },
    {
      "cell_type": "code",
      "source": [
        "y"
      ],
      "metadata": {
        "colab": {
          "base_uri": "https://localhost:8080/"
        },
        "id": "lOWVE4yskpmS",
        "outputId": "3bdb1263-48ca-4412-bf79-c663c25006cc"
      },
      "execution_count": 45,
      "outputs": [
        {
          "output_type": "execute_result",
          "data": {
            "text/plain": [
              "array([0, 0, 0, ..., 1, 0, 0], dtype=uint8)"
            ]
          },
          "metadata": {},
          "execution_count": 45
        }
      ]
    },
    {
      "cell_type": "code",
      "source": [
        "x=df_piv_no_classes.values\n",
        "x.shape"
      ],
      "metadata": {
        "colab": {
          "base_uri": "https://localhost:8080/"
        },
        "id": "nBcnCcxNlz4E",
        "outputId": "2e113469-9123-432d-c9e0-810248a2dffb"
      },
      "execution_count": 46,
      "outputs": [
        {
          "output_type": "execute_result",
          "data": {
            "text/plain": [
              "(45211, 32)"
            ]
          },
          "metadata": {},
          "execution_count": 46
        }
      ]
    },
    {
      "cell_type": "code",
      "source": [
        "x"
      ],
      "metadata": {
        "colab": {
          "base_uri": "https://localhost:8080/"
        },
        "id": "LzR3Sk0KmUI8",
        "outputId": "b2afe453-9b96-4e47-bf27-02cae46aafef"
      },
      "execution_count": 47,
      "outputs": [
        {
          "output_type": "execute_result",
          "data": {
            "text/plain": [
              "array([[5.800e+01, 2.143e+03, 5.000e+00, ..., 1.000e+00, 3.000e+00,\n",
              "        4.000e+00],\n",
              "       [4.400e+01, 2.900e+01, 5.000e+00, ..., 1.000e+00, 2.000e+00,\n",
              "        4.000e+00],\n",
              "       [3.300e+01, 2.000e+00, 5.000e+00, ..., 1.000e+00, 2.000e+00,\n",
              "        4.000e+00],\n",
              "       ...,\n",
              "       [7.200e+01, 5.715e+03, 1.700e+01, ..., 0.000e+00, 2.000e+00,\n",
              "        1.000e+01],\n",
              "       [5.700e+01, 6.680e+02, 1.700e+01, ..., 0.000e+00, 2.000e+00,\n",
              "        1.000e+01],\n",
              "       [3.700e+01, 2.971e+03, 1.700e+01, ..., 0.000e+00, 2.000e+00,\n",
              "        1.000e+01]])"
            ]
          },
          "metadata": {},
          "execution_count": 47
        }
      ]
    },
    {
      "cell_type": "code",
      "source": [
        "df_piv_no_classes.head(1)"
      ],
      "metadata": {
        "colab": {
          "base_uri": "https://localhost:8080/",
          "height": 191
        },
        "id": "BrvzACQAmksB",
        "outputId": "aba3bea8-782b-4504-b87e-47d6328b03a8"
      },
      "execution_count": 48,
      "outputs": [
        {
          "output_type": "execute_result",
          "data": {
            "text/plain": [
              "   age  balance  day  campaign  pdays  previous  job_admin.  job_blue-collar  \\\n",
              "0   58     2143    5         1     -1         0           0                0   \n",
              "\n",
              "   job_entrepreneur  job_housemaid  ...  poutcome_other  poutcome_success  \\\n",
              "0                 0              0  ...               0                 0   \n",
              "\n",
              "   poutcome_unknown  default_yes  housing_yes  loan_yes  contact_telephone  \\\n",
              "0                 1            0            1         0                  0   \n",
              "\n",
              "   contact_unknown  education_orden  month_orden  \n",
              "0                1              3.0          4.0  \n",
              "\n",
              "[1 rows x 32 columns]"
            ],
            "text/html": [
              "\n",
              "  <div id=\"df-ed5a8cca-193b-4cae-b304-70e91f35c513\">\n",
              "    <div class=\"colab-df-container\">\n",
              "      <div>\n",
              "<style scoped>\n",
              "    .dataframe tbody tr th:only-of-type {\n",
              "        vertical-align: middle;\n",
              "    }\n",
              "\n",
              "    .dataframe tbody tr th {\n",
              "        vertical-align: top;\n",
              "    }\n",
              "\n",
              "    .dataframe thead th {\n",
              "        text-align: right;\n",
              "    }\n",
              "</style>\n",
              "<table border=\"1\" class=\"dataframe\">\n",
              "  <thead>\n",
              "    <tr style=\"text-align: right;\">\n",
              "      <th></th>\n",
              "      <th>age</th>\n",
              "      <th>balance</th>\n",
              "      <th>day</th>\n",
              "      <th>campaign</th>\n",
              "      <th>pdays</th>\n",
              "      <th>previous</th>\n",
              "      <th>job_admin.</th>\n",
              "      <th>job_blue-collar</th>\n",
              "      <th>job_entrepreneur</th>\n",
              "      <th>job_housemaid</th>\n",
              "      <th>...</th>\n",
              "      <th>poutcome_other</th>\n",
              "      <th>poutcome_success</th>\n",
              "      <th>poutcome_unknown</th>\n",
              "      <th>default_yes</th>\n",
              "      <th>housing_yes</th>\n",
              "      <th>loan_yes</th>\n",
              "      <th>contact_telephone</th>\n",
              "      <th>contact_unknown</th>\n",
              "      <th>education_orden</th>\n",
              "      <th>month_orden</th>\n",
              "    </tr>\n",
              "  </thead>\n",
              "  <tbody>\n",
              "    <tr>\n",
              "      <th>0</th>\n",
              "      <td>58</td>\n",
              "      <td>2143</td>\n",
              "      <td>5</td>\n",
              "      <td>1</td>\n",
              "      <td>-1</td>\n",
              "      <td>0</td>\n",
              "      <td>0</td>\n",
              "      <td>0</td>\n",
              "      <td>0</td>\n",
              "      <td>0</td>\n",
              "      <td>...</td>\n",
              "      <td>0</td>\n",
              "      <td>0</td>\n",
              "      <td>1</td>\n",
              "      <td>0</td>\n",
              "      <td>1</td>\n",
              "      <td>0</td>\n",
              "      <td>0</td>\n",
              "      <td>1</td>\n",
              "      <td>3.0</td>\n",
              "      <td>4.0</td>\n",
              "    </tr>\n",
              "  </tbody>\n",
              "</table>\n",
              "<p>1 rows × 32 columns</p>\n",
              "</div>\n",
              "      <button class=\"colab-df-convert\" onclick=\"convertToInteractive('df-ed5a8cca-193b-4cae-b304-70e91f35c513')\"\n",
              "              title=\"Convert this dataframe to an interactive table.\"\n",
              "              style=\"display:none;\">\n",
              "        \n",
              "  <svg xmlns=\"http://www.w3.org/2000/svg\" height=\"24px\"viewBox=\"0 0 24 24\"\n",
              "       width=\"24px\">\n",
              "    <path d=\"M0 0h24v24H0V0z\" fill=\"none\"/>\n",
              "    <path d=\"M18.56 5.44l.94 2.06.94-2.06 2.06-.94-2.06-.94-.94-2.06-.94 2.06-2.06.94zm-11 1L8.5 8.5l.94-2.06 2.06-.94-2.06-.94L8.5 2.5l-.94 2.06-2.06.94zm10 10l.94 2.06.94-2.06 2.06-.94-2.06-.94-.94-2.06-.94 2.06-2.06.94z\"/><path d=\"M17.41 7.96l-1.37-1.37c-.4-.4-.92-.59-1.43-.59-.52 0-1.04.2-1.43.59L10.3 9.45l-7.72 7.72c-.78.78-.78 2.05 0 2.83L4 21.41c.39.39.9.59 1.41.59.51 0 1.02-.2 1.41-.59l7.78-7.78 2.81-2.81c.8-.78.8-2.07 0-2.86zM5.41 20L4 18.59l7.72-7.72 1.47 1.35L5.41 20z\"/>\n",
              "  </svg>\n",
              "      </button>\n",
              "      \n",
              "  <style>\n",
              "    .colab-df-container {\n",
              "      display:flex;\n",
              "      flex-wrap:wrap;\n",
              "      gap: 12px;\n",
              "    }\n",
              "\n",
              "    .colab-df-convert {\n",
              "      background-color: #E8F0FE;\n",
              "      border: none;\n",
              "      border-radius: 50%;\n",
              "      cursor: pointer;\n",
              "      display: none;\n",
              "      fill: #1967D2;\n",
              "      height: 32px;\n",
              "      padding: 0 0 0 0;\n",
              "      width: 32px;\n",
              "    }\n",
              "\n",
              "    .colab-df-convert:hover {\n",
              "      background-color: #E2EBFA;\n",
              "      box-shadow: 0px 1px 2px rgba(60, 64, 67, 0.3), 0px 1px 3px 1px rgba(60, 64, 67, 0.15);\n",
              "      fill: #174EA6;\n",
              "    }\n",
              "\n",
              "    [theme=dark] .colab-df-convert {\n",
              "      background-color: #3B4455;\n",
              "      fill: #D2E3FC;\n",
              "    }\n",
              "\n",
              "    [theme=dark] .colab-df-convert:hover {\n",
              "      background-color: #434B5C;\n",
              "      box-shadow: 0px 1px 3px 1px rgba(0, 0, 0, 0.15);\n",
              "      filter: drop-shadow(0px 1px 2px rgba(0, 0, 0, 0.3));\n",
              "      fill: #FFFFFF;\n",
              "    }\n",
              "  </style>\n",
              "\n",
              "      <script>\n",
              "        const buttonEl =\n",
              "          document.querySelector('#df-ed5a8cca-193b-4cae-b304-70e91f35c513 button.colab-df-convert');\n",
              "        buttonEl.style.display =\n",
              "          google.colab.kernel.accessAllowed ? 'block' : 'none';\n",
              "\n",
              "        async function convertToInteractive(key) {\n",
              "          const element = document.querySelector('#df-ed5a8cca-193b-4cae-b304-70e91f35c513');\n",
              "          const dataTable =\n",
              "            await google.colab.kernel.invokeFunction('convertToInteractive',\n",
              "                                                     [key], {});\n",
              "          if (!dataTable) return;\n",
              "\n",
              "          const docLinkHtml = 'Like what you see? Visit the ' +\n",
              "            '<a target=\"_blank\" href=https://colab.research.google.com/notebooks/data_table.ipynb>data table notebook</a>'\n",
              "            + ' to learn more about interactive tables.';\n",
              "          element.innerHTML = '';\n",
              "          dataTable['output_type'] = 'display_data';\n",
              "          await google.colab.output.renderOutput(dataTable, element);\n",
              "          const docLink = document.createElement('div');\n",
              "          docLink.innerHTML = docLinkHtml;\n",
              "          element.appendChild(docLink);\n",
              "        }\n",
              "      </script>\n",
              "    </div>\n",
              "  </div>\n",
              "  "
            ]
          },
          "metadata": {},
          "execution_count": 48
        }
      ]
    },
    {
      "cell_type": "code",
      "source": [
        "x[0]"
      ],
      "metadata": {
        "colab": {
          "base_uri": "https://localhost:8080/"
        },
        "id": "WnH_0zy3mOJX",
        "outputId": "fd7127aa-bd80-4698-a5e0-112077fd4816"
      },
      "execution_count": 49,
      "outputs": [
        {
          "output_type": "execute_result",
          "data": {
            "text/plain": [
              "array([ 5.800e+01,  2.143e+03,  5.000e+00,  1.000e+00, -1.000e+00,\n",
              "        0.000e+00,  0.000e+00,  0.000e+00,  0.000e+00,  0.000e+00,\n",
              "        1.000e+00,  0.000e+00,  0.000e+00,  0.000e+00,  0.000e+00,\n",
              "        0.000e+00,  0.000e+00,  0.000e+00,  0.000e+00,  1.000e+00,\n",
              "        0.000e+00,  0.000e+00,  0.000e+00,  0.000e+00,  1.000e+00,\n",
              "        0.000e+00,  1.000e+00,  0.000e+00,  0.000e+00,  1.000e+00,\n",
              "        3.000e+00,  4.000e+00])"
            ]
          },
          "metadata": {},
          "execution_count": 49
        }
      ]
    },
    {
      "cell_type": "code",
      "source": [
        "np.mean(x)"
      ],
      "metadata": {
        "colab": {
          "base_uri": "https://localhost:8080/"
        },
        "id": "mpkM8WQGm2cg",
        "outputId": "2b56c50f-32bc-4949-ff2d-56701d02db9e"
      },
      "execution_count": 50,
      "outputs": [
        {
          "output_type": "execute_result",
          "data": {
            "text/plain": [
              "46.057756270597864"
            ]
          },
          "metadata": {},
          "execution_count": 50
        }
      ]
    },
    {
      "cell_type": "code",
      "source": [
        "np.std(x)"
      ],
      "metadata": {
        "colab": {
          "base_uri": "https://localhost:8080/"
        },
        "id": "QGC-iYnZm4p_",
        "outputId": "acebbf3a-f292-48de-b196-1b4ca5f9e709"
      },
      "execution_count": 51,
      "outputs": [
        {
          "output_type": "execute_result",
          "data": {
            "text/plain": [
              "588.2205700003472"
            ]
          },
          "metadata": {},
          "execution_count": 51
        }
      ]
    },
    {
      "cell_type": "code",
      "source": [
        "X_trainPF, X_testPF, y_trainPF, y_testPF = train_test_split(x, y, test_size=0.3, random_state=1, stratify=y)"
      ],
      "metadata": {
        "id": "QzgBs1tji_Hm"
      },
      "execution_count": 52,
      "outputs": []
    },
    {
      "cell_type": "markdown",
      "source": [
        "Vemos datos estratificados "
      ],
      "metadata": {
        "id": "qAbMEzVNoxwl"
      }
    },
    {
      "cell_type": "code",
      "source": [
        "pl.hist(y_trainPF, label=\"Train\")\n",
        "pl.hist(y_testPF, label=\"Test\")\n",
        "pl.legend()\n",
        "pl.title(\"Distribucion\")\n",
        "pl.show()"
      ],
      "metadata": {
        "colab": {
          "base_uri": "https://localhost:8080/",
          "height": 281
        },
        "id": "HPg5E-sxo06Q",
        "outputId": "1ea47451-0bd4-405c-e075-56d30bbc92e0"
      },
      "execution_count": 53,
      "outputs": [
        {
          "output_type": "display_data",
          "data": {
            "text/plain": [
              "<Figure size 432x288 with 1 Axes>"
            ],
            "image/png": "[encoded data removed]"
          },
          "metadata": {
            "needs_background": "light"
          }
        }
      ]
    },
    {
      "cell_type": "code",
      "source": [
        "mlp_PRO_FLA = MLPClassifier(solver='lbfgs', max_iter=100,random_state=1,hidden_layer_sizes=(2,1))\n",
        "#mlp_PRO_FLA = MLPClassifier()"
      ],
      "metadata": {
        "id": "I34wJyW-mvH1"
      },
      "execution_count": 54,
      "outputs": []
    },
    {
      "cell_type": "code",
      "source": [
        "mlp_PRO_FLA.fit(X_trainPF, y_trainPF)"
      ],
      "metadata": {
        "colab": {
          "base_uri": "https://localhost:8080/"
        },
        "id": "NjBE3aB0nV2P",
        "outputId": "48d41997-72c0-4194-9f19-91b28ef10ce9"
      },
      "execution_count": 55,
      "outputs": [
        {
          "output_type": "execute_result",
          "data": {
            "text/plain": [
              "MLPClassifier(hidden_layer_sizes=(2, 1), max_iter=100, random_state=1,\n",
              "              solver='lbfgs')"
            ]
          },
          "metadata": {},
          "execution_count": 55
        }
      ]
    },
    {
      "cell_type": "code",
      "source": [
        "print('Error en entrenamiento: {}'.format(1-mlp_PRO_FLA.score(X_trainPF, y_trainPF)))\n",
        "print('Error en prueba: {}'.format(1-mlp_PRO_FLA.score(X_testPF, y_testPF)))"
      ],
      "metadata": {
        "colab": {
          "base_uri": "https://localhost:8080/"
        },
        "id": "5t6ghnzNnaP_",
        "outputId": "bfe6ba7d-a4ce-4c28-e346-8983514d7580"
      },
      "execution_count": 56,
      "outputs": [
        {
          "output_type": "stream",
          "name": "stdout",
          "text": [
            "Error en entrenamiento: 0.11726229974405156\n",
            "Error en prueba: 0.11700088469478032\n"
          ]
        }
      ]
    },
    {
      "cell_type": "code",
      "source": [
        "prediction_testAM = mlp_PRO_FLA.predict(X_testPF)\n",
        "cnf_matrixAM = confusion_matrix(y_testPF, prediction_testAM)"
      ],
      "metadata": {
        "id": "MyteUs_qnlzA"
      },
      "execution_count": 57,
      "outputs": []
    },
    {
      "cell_type": "code",
      "source": [
        "prediction_testAM[0:10]"
      ],
      "metadata": {
        "colab": {
          "base_uri": "https://localhost:8080/"
        },
        "id": "-BjtmAxboQDH",
        "outputId": "c5dbf667-dca9-488f-a224-a8e8b39eef53"
      },
      "execution_count": 58,
      "outputs": [
        {
          "output_type": "execute_result",
          "data": {
            "text/plain": [
              "array([0, 0, 0, 0, 0, 0, 0, 0, 0, 0], dtype=uint8)"
            ]
          },
          "metadata": {},
          "execution_count": 58
        }
      ]
    },
    {
      "cell_type": "code",
      "source": [
        "y_testPF[0:10]"
      ],
      "metadata": {
        "colab": {
          "base_uri": "https://localhost:8080/"
        },
        "id": "lJ7Sms88oV71",
        "outputId": "67b9f327-83c9-40b5-a763-9a4568f55107"
      },
      "execution_count": 59,
      "outputs": [
        {
          "output_type": "execute_result",
          "data": {
            "text/plain": [
              "array([0, 1, 0, 0, 0, 0, 1, 0, 0, 0], dtype=uint8)"
            ]
          },
          "metadata": {},
          "execution_count": 59
        }
      ]
    },
    {
      "cell_type": "code",
      "source": [
        "class_names = ['no','yes']"
      ],
      "metadata": {
        "id": "VsFsxFsEnzDt"
      },
      "execution_count": 60,
      "outputs": []
    },
    {
      "cell_type": "code",
      "source": [
        "list_cm(cnf_matrixAM,class_names)"
      ],
      "metadata": {
        "colab": {
          "base_uri": "https://localhost:8080/"
        },
        "id": "9bYiEWoCn5Sw",
        "outputId": "50bbf760-a7aa-4f7d-c1a7-2c98467611f2"
      },
      "execution_count": 61,
      "outputs": [
        {
          "output_type": "stream",
          "name": "stdout",
          "text": [
            "                Valor    Predicho\n",
            "---------  ---  -------  ----------\n",
            "           -    no       yes\n",
            "Valor      no   11976    1\n",
            "Verdadero  yes  1586     1\n"
          ]
        }
      ]
    },
    {
      "cell_type": "code",
      "source": [
        "print('SCORE entrenamiento: {}'.format(mlp_PRO_FLA.score(X_trainPF, y_trainPF)))\n",
        "print('Error en entrenamiento: {}'.format(1-mlp_PRO_FLA.score(X_trainPF, y_trainPF)))\n",
        "print('SCORE prueba: {}'.format(mlp_PRO_FLA.score(X_testPF, y_testPF)))\n",
        "print('Error en prueba: {}'.format(1-mlp_PRO_FLA.score(X_testPF, y_testPF)))\n",
        "sensibilidad=recall_score(y_testPF,prediction_testAM)\n",
        "print(\"Sensibilidad: {}\".format(sensibilidad))"
      ],
      "metadata": {
        "colab": {
          "base_uri": "https://localhost:8080/"
        },
        "id": "NSHwoj51pcl8",
        "outputId": "25427fba-8620-490b-8c34-5a5e94daa364"
      },
      "execution_count": 62,
      "outputs": [
        {
          "output_type": "stream",
          "name": "stdout",
          "text": [
            "SCORE entrenamiento: 0.8827377002559484\n",
            "Error en entrenamiento: 0.11726229974405156\n",
            "SCORE prueba: 0.8829991153052197\n",
            "Error en prueba: 0.11700088469478032\n"
          ]
        }
      ]
    },
    {
      "cell_type": "markdown",
      "source": [
        "Tratando el desbalanceo\n",
        "\n",
        "Estrategia: Subsampling en la clase mayoritaria\n"
      ],
      "metadata": {
        "id": "Plnubs7Gyysg"
      }
    },
    {
      "cell_type": "code",
      "source": [
        "from imblearn.under_sampling import NearMiss\n",
        "from imblearn.over_sampling import RandomOverSampler\n",
        "from imblearn.combine import SMOTETomek\n",
        "from imblearn.ensemble import BalancedBaggingClassifier\n",
        "from collections import Counter"
      ],
      "metadata": {
        "id": "ADxnQy9dy8ye"
      },
      "execution_count": 82,
      "outputs": []
    },
    {
      "cell_type": "markdown",
      "source": [
        "X_trainPF, X_testPF, y_trainPF, y_testPF = train_test_split(x, y, test_size=0.3, random_state=1, stratify=y)"
      ],
      "metadata": {
        "id": "samj2XiazCf6"
      }
    },
    {
      "cell_type": "code",
      "source": [
        "us = NearMiss(n_neighbors=3, version=3)\n",
        "\n",
        "X_train_res, y_train_res = us.fit_resample(X_trainPF, y_trainPF)\n",
        " \n",
        "print (\"Distribucion Original {}\".format(Counter(y_trainPF)))\n",
        "print (\"Distribucion despuest del subsampling {}\".format(Counter(y_train_res)))"
      ],
      "metadata": {
        "colab": {
          "base_uri": "https://localhost:8080/"
        },
        "id": "nszLJi72y0OT",
        "outputId": "d9e74d96-f352-43af-9f07-2469431412e1"
      },
      "execution_count": 64,
      "outputs": [
        {
          "output_type": "stream",
          "name": "stdout",
          "text": [
            "Distribution before resampling Counter({0: 27945, 1: 3702})\n",
            "Distribution after resampling Counter({0: 3702, 1: 3702})\n"
          ]
        }
      ]
    },
    {
      "cell_type": "code",
      "source": [
        "pl.hist(y_testPF, label=\"Test\")\n",
        "pl.legend()\n",
        "pl.title(\"Distribucion\")\n",
        "pl.show()"
      ],
      "metadata": {
        "colab": {
          "base_uri": "https://localhost:8080/",
          "height": 281
        },
        "id": "RDAMNuCc4Uad",
        "outputId": "fa94a972-5812-45c2-fba6-dec463fdaefe"
      },
      "execution_count": 65,
      "outputs": [
        {
          "output_type": "display_data",
          "data": {
            "text/plain": [
              "<Figure size 432x288 with 1 Axes>"
            ],
            "image/png": "[encoded data removed]"
          },
          "metadata": {
            "needs_background": "light"
          }
        }
      ]
    },
    {
      "cell_type": "code",
      "source": [
        "\n",
        "pl.hist(y_train_res, label=\"Train\")\n",
        "pl.legend()\n",
        "pl.title(\"Distribucion\")\n",
        "pl.show()"
      ],
      "metadata": {
        "colab": {
          "base_uri": "https://localhost:8080/",
          "height": 281
        },
        "id": "x0eGnEzOzXtX",
        "outputId": "7b32e3da-1121-4ee8-e716-1e9800fc729d"
      },
      "execution_count": 66,
      "outputs": [
        {
          "output_type": "display_data",
          "data": {
            "text/plain": [
              "<Figure size 432x288 with 1 Axes>"
            ],
            "image/png": "[encoded data removed]"
          },
          "metadata": {
            "needs_background": "light"
          }
        }
      ]
    },
    {
      "cell_type": "code",
      "source": [
        "mlp_PRO_FLA = MLPClassifier(solver='lbfgs', max_iter=200,random_state=1,hidden_layer_sizes=(2,1))\n",
        "mlp_PRO_FLA.fit(X_train_res, y_train_res)\n",
        "prediction_testAM = mlp_PRO_FLA.predict(X_testPF)\n",
        "cnf_matrixAM = confusion_matrix(y_testPF, prediction_testAM)\n",
        "list_cm(cnf_matrixAM,class_names)\n",
        "print('SCORE entrenamiento: {}'.format(mlp_PRO_FLA.score(X_train_res, y_train_res)))\n",
        "print('Error en entrenamiento: {}'.format(1-mlp_PRO_FLA.score(X_train_res, y_train_res)))\n",
        "print('SCORE prueba: {}'.format(mlp_PRO_FLA.score(X_testPF, y_testPF)))\n",
        "print('Error en prueba: {}'.format(1-mlp_PRO_FLA.score(X_testPF, y_testPF)))"
      ],
      "metadata": {
        "colab": {
          "base_uri": "https://localhost:8080/"
        },
        "id": "z_xeDPsd7Hps",
        "outputId": "784a6238-862f-4889-93a4-e14e129f72b5"
      },
      "execution_count": 67,
      "outputs": [
        {
          "output_type": "stream",
          "name": "stdout",
          "text": [
            "                Valor    Predicho\n",
            "---------  ---  -------  ----------\n",
            "           -    no       yes\n",
            "Valor      no   4062     7915\n",
            "Verdadero  yes  857      730\n",
            "SCORE entrenamiento: 0.6636952998379254\n",
            "Error en entrenamiento: 0.3363047001620746\n",
            "SCORE prueba: 0.35328811560011797\n",
            "Error en prueba: 0.646711884399882\n"
          ]
        }
      ]
    },
    {
      "cell_type": "markdown",
      "source": [
        "Sensibillidad del modeo"
      ],
      "metadata": {
        "id": "lLdTIO8M-Kqh"
      }
    },
    {
      "cell_type": "code",
      "source": [
        "from sklearn.metrics import recall_score\n",
        "\n",
        "sensibilidad=recall_score(y_testPF,prediction_testAM)\n",
        "print(sensibilidad)"
      ],
      "metadata": {
        "colab": {
          "base_uri": "https://localhost:8080/"
        },
        "id": "-Y8XbBK27EpF",
        "outputId": "979b5f5f-55fe-4dcb-bf37-b9815cf1a8e8"
      },
      "execution_count": 68,
      "outputs": [
        {
          "output_type": "stream",
          "name": "stdout",
          "text": [
            "0.4599873976055451\n"
          ]
        }
      ]
    },
    {
      "cell_type": "code",
      "source": [
        "us = NearMiss(n_neighbors=3, version=3)\n",
        "\n",
        "X_res, y_res = us.fit_resample(x, y)\n",
        " \n",
        "print (\"Distribucion Original {}\".format(Counter(y)))\n",
        "print (\"Distribution despues del subsampling {}\".format(Counter(y_res)))"
      ],
      "metadata": {
        "colab": {
          "base_uri": "https://localhost:8080/"
        },
        "id": "2UyvCAevAc0A",
        "outputId": "3487cabe-12e6-4f8e-a8c6-8d36cb956ea1"
      },
      "execution_count": 69,
      "outputs": [
        {
          "output_type": "stream",
          "name": "stdout",
          "text": [
            "Distribution before resampling Counter({0: 39922, 1: 5289})\n",
            "Distribution after resampling Counter({0: 5289, 1: 5289})\n"
          ]
        }
      ]
    },
    {
      "cell_type": "code",
      "source": [
        "X_trainPF, X_testPF, y_trainPF, y_testPF = train_test_split(X_res, y_res, test_size=0.3, random_state=1, stratify=y_res)"
      ],
      "metadata": {
        "id": "tUWb4BK4AzRM"
      },
      "execution_count": 70,
      "outputs": []
    },
    {
      "cell_type": "code",
      "source": [
        "pl.hist(y_trainPF, label=\"Train\")\n",
        "pl.hist(y_testPF, label=\"Test\")\n",
        "pl.legend()\n",
        "pl.title(\"Distribucion\")\n",
        "pl.show()"
      ],
      "metadata": {
        "colab": {
          "base_uri": "https://localhost:8080/",
          "height": 281
        },
        "id": "p-PCv0pcAkDh",
        "outputId": "f9df87ba-4f84-4db6-e45a-ed8948a2679e"
      },
      "execution_count": 71,
      "outputs": [
        {
          "output_type": "display_data",
          "data": {
            "text/plain": [
              "<Figure size 432x288 with 1 Axes>"
            ],
            "image/png": "[encoded data removed]"
          },
          "metadata": {
            "needs_background": "light"
          }
        }
      ]
    },
    {
      "cell_type": "code",
      "source": [
        "mlp_PRO_FLA = MLPClassifier(solver='lbfgs', max_iter=200,random_state=1,hidden_layer_sizes=(2,1))\n",
        "mlp_PRO_FLA.fit(X_trainPF, y_trainPF)\n",
        "prediction_testAM = mlp_PRO_FLA.predict(X_testPF)\n",
        "cnf_matrixAM = confusion_matrix(y_testPF, prediction_testAM)\n",
        "list_cm(cnf_matrixAM,class_names)\n",
        "print('SCORE entrenamiento: {}'.format(mlp_PRO_FLA.score(X_trainPF, y_trainPF)))\n",
        "print('Error en entrenamiento: {}'.format(1-mlp_PRO_FLA.score(X_trainPF, y_trainPF)))\n",
        "print('SCORE prueba: {}'.format(mlp_PRO_FLA.score(X_testPF, y_testPF)))\n",
        "print('Error en prueba: {}'.format(1-mlp_PRO_FLA.score(X_testPF, y_testPF)))\n",
        "sensibilidad=recall_score(y_testPF,prediction_testAM)\n",
        "print(\"Sensibilidad: {}\".format(sensibilidad))"
      ],
      "metadata": {
        "colab": {
          "base_uri": "https://localhost:8080/"
        },
        "id": "wC_5qPjRBQ3y",
        "outputId": "dfa2839b-b190-42f0-c06b-52926a0f8766"
      },
      "execution_count": 73,
      "outputs": [
        {
          "output_type": "stream",
          "name": "stdout",
          "text": [
            "                Valor    Predicho\n",
            "---------  ---  -------  ----------\n",
            "           -    no       yes\n",
            "Valor      no   1299     288\n",
            "Verdadero  yes  800      787\n",
            "SCORE entrenamiento: 0.6569421934089681\n",
            "Error en entrenamiento: 0.3430578065910319\n",
            "SCORE prueba: 0.6572148708254568\n",
            "Error en prueba: 0.3427851291745432\n",
            "Sensibilidad: 0.4959042218021424\n"
          ]
        }
      ]
    },
    {
      "cell_type": "markdown",
      "source": [
        "Estrategia: Oversampling de la clase minoritaria"
      ],
      "metadata": {
        "id": "JbfkyROd9TYq"
      }
    },
    {
      "cell_type": "code",
      "source": [
        "over_sampling =  RandomOverSampler(random_state=12)\n",
        "X_train_over, y_train_over = over_sampling.fit_resample(x, y)\n",
        " \n",
        "print (\"Distribucion Original {}\".format(Counter(y)))\n",
        "print (\"Distribution despues del oversampling {}\".format(Counter(y_train_over)))"
      ],
      "metadata": {
        "colab": {
          "base_uri": "https://localhost:8080/"
        },
        "id": "KBZrt8t4-xrM",
        "outputId": "df3ea1dc-0c17-4346-ff2b-5ab710395231"
      },
      "execution_count": 85,
      "outputs": [
        {
          "output_type": "stream",
          "name": "stdout",
          "text": [
            "Distribution before resampling Counter({0: 39922, 1: 5289})\n",
            "Distribution labels after resampling Counter({0: 39922, 1: 39922})\n"
          ]
        }
      ]
    },
    {
      "cell_type": "code",
      "source": [
        "X_trainPF, X_testPF, y_trainPF, y_testPF = train_test_split(X_train_over, y_train_over, test_size=0.3, random_state=1, stratify=y_train_over)\n",
        "pl.hist(y_trainPF, label=\"Train\")\n",
        "pl.hist(y_testPF, label=\"Test\")\n",
        "pl.legend()\n",
        "pl.title(\"Distribucion\")\n",
        "pl.show()"
      ],
      "metadata": {
        "colab": {
          "base_uri": "https://localhost:8080/",
          "height": 281
        },
        "id": "HYiitj4J_VK8",
        "outputId": "3c502f31-c5e2-4546-9808-d20268c8c5de"
      },
      "execution_count": 90,
      "outputs": [
        {
          "output_type": "display_data",
          "data": {
            "text/plain": [
              "<Figure size 432x288 with 1 Axes>"
            ],
            "image/png": "[encoded data removed]"
          },
          "metadata": {
            "needs_background": "light"
          }
        }
      ]
    },
    {
      "cell_type": "markdown",
      "source": [
        "Modelo"
      ],
      "metadata": {
        "id": "bzmlC4h29swz"
      }
    },
    {
      "cell_type": "code",
      "source": [
        "mlp_PRO_FLA = MLPClassifier(solver='lbfgs', max_iter=200,random_state=1,hidden_layer_sizes=(2,1))\n",
        "mlp_PRO_FLA.fit(X_trainPF, y_trainPF)\n",
        "prediction_testAM = mlp_PRO_FLA.predict(X_testPF)\n",
        "cnf_matrixAM = confusion_matrix(y_testPF, prediction_testAM)\n",
        "list_cm(cnf_matrixAM,class_names)\n",
        "print('SCORE entrenamiento: {}'.format(mlp_PRO_FLA.score(X_trainPF, y_trainPF)))\n",
        "print('Error en entrenamiento: {}'.format(1-mlp_PRO_FLA.score(X_trainPF, y_trainPF)))\n",
        "print('SCORE prueba: {}'.format(mlp_PRO_FLA.score(X_testPF, y_testPF)))\n",
        "print('Error en prueba: {}'.format(1-mlp_PRO_FLA.score(X_testPF, y_testPF)))\n",
        "sensibilidad=recall_score(y_testPF,prediction_testAM)\n",
        "print(\"Sensibilidad: {}\".format(sensibilidad))"
      ],
      "metadata": {
        "colab": {
          "base_uri": "https://localhost:8080/"
        },
        "id": "RpyfEJS59vvg",
        "outputId": "1f0c1f55-ff3b-4361-bf28-7e6412f86518"
      },
      "execution_count": 91,
      "outputs": [
        {
          "output_type": "stream",
          "name": "stdout",
          "text": [
            "                Valor    Predicho\n",
            "---------  ---  -------  ----------\n",
            "           -    no       yes\n",
            "Valor      no   2464     9513\n",
            "Verdadero  yes  1143     10834\n",
            "SCORE entrenamiento: 0.5578636607622115\n",
            "Error en entrenamiento: 0.4421363392377885\n",
            "SCORE prueba: 0.5551473657844201\n",
            "Error en prueba: 0.44485263421557986\n",
            "Sensibilidad: 0.9045670869165902\n"
          ]
        }
      ]
    },
    {
      "cell_type": "markdown",
      "source": [
        "Estrategia: Combinamos resampling con Smote-Tomek"
      ],
      "metadata": {
        "id": "ue4tVL1eAB6k"
      }
    },
    {
      "cell_type": "code",
      "source": [
        "smote_tomek = SMOTETomek(random_state=12)\n",
        "X_train_smt, y_train_smt = smote_tomek.fit_resample(x,y)\n",
        " \n",
        "print (\"Distribucion Original {}\".format(Counter(y)))\n",
        "print (\"Distribution despues smote-Tomek {}\".format(Counter(y_train_smt)))"
      ],
      "metadata": {
        "colab": {
          "base_uri": "https://localhost:8080/"
        },
        "id": "lhMeURajAJI_",
        "outputId": "c17a5c80-5106-470e-9c87-290c0df5044b"
      },
      "execution_count": 92,
      "outputs": [
        {
          "output_type": "stream",
          "name": "stdout",
          "text": [
            "Distribucion Original Counter({0: 39922, 1: 5289})\n",
            "Distribution despues smote-Tomek Counter({0: 38900, 1: 38900})\n"
          ]
        }
      ]
    },
    {
      "cell_type": "code",
      "source": [
        "X_trainPF, X_testPF, y_trainPF, y_testPF = train_test_split(X_train_smt, y_train_smt, test_size=0.3, random_state=1, stratify=y_train_smt)\n",
        "pl.hist(y_trainPF, label=\"Train\")\n",
        "pl.hist(y_testPF, label=\"Test\")\n",
        "pl.legend()\n",
        "pl.title(\"Distribucion\")\n",
        "pl.show()"
      ],
      "metadata": {
        "colab": {
          "base_uri": "https://localhost:8080/",
          "height": 281
        },
        "id": "ugLHmb44COYx",
        "outputId": "b9add5cd-6670-4b61-b6a3-5f629e80d6ca"
      },
      "execution_count": 93,
      "outputs": [
        {
          "output_type": "display_data",
          "data": {
            "text/plain": [
              "<Figure size 432x288 with 1 Axes>"
            ],
            "image/png": "[encoded data removed]"
          },
          "metadata": {
            "needs_background": "light"
          }
        }
      ]
    },
    {
      "cell_type": "markdown",
      "source": [
        "Modelo"
      ],
      "metadata": {
        "id": "EemcmgFsCp5s"
      }
    },
    {
      "cell_type": "code",
      "source": [
        "mlp_PRO_FLA = MLPClassifier(solver='lbfgs', max_iter=200,random_state=1,hidden_layer_sizes=(2,1))\n",
        "mlp_PRO_FLA.fit(X_trainPF, y_trainPF)\n",
        "prediction_testAM = mlp_PRO_FLA.predict(X_testPF)\n",
        "cnf_matrixAM = confusion_matrix(y_testPF, prediction_testAM)\n",
        "list_cm(cnf_matrixAM,class_names)\n",
        "print('SCORE entrenamiento: {}'.format(mlp_PRO_FLA.score(X_trainPF, y_trainPF)))\n",
        "print('Error en entrenamiento: {}'.format(1-mlp_PRO_FLA.score(X_trainPF, y_trainPF)))\n",
        "print('SCORE prueba: {}'.format(mlp_PRO_FLA.score(X_testPF, y_testPF)))\n",
        "print('Error en prueba: {}'.format(1-mlp_PRO_FLA.score(X_testPF, y_testPF)))\n",
        "sensibilidad=recall_score(y_testPF,prediction_testAM)\n",
        "print(\"Sensibilidad: {}\".format(sensibilidad))"
      ],
      "metadata": {
        "colab": {
          "base_uri": "https://localhost:8080/"
        },
        "id": "vT1FqparCrTY",
        "outputId": "8a39899f-92f6-49a4-d6fe-ecd4c1f38f33"
      },
      "execution_count": 94,
      "outputs": [
        {
          "output_type": "stream",
          "name": "stdout",
          "text": [
            "                Valor    Predicho\n",
            "---------  ---  -------  ----------\n",
            "           -    no       yes\n",
            "Valor      no   7703     3967\n",
            "Verdadero  yes  5112     6558\n",
            "SCORE entrenamiento: 0.6128167462357694\n",
            "Error en entrenamiento: 0.3871832537642306\n",
            "SCORE prueba: 0.6110111396743787\n",
            "Error en prueba: 0.3889888603256213\n",
            "Sensibilidad: 0.5619537275064267\n"
          ]
        }
      ]
    }
  ],
  "metadata": {
    "colab": {
      "collapsed_sections": [],
      "name": "Proyecto_Final_Sistemas_Inteligentes.ipynb",
      "provenance": [],
      "include_colab_link": true
    },
    "kernelspec": {
      "display_name": "Python 3",
      "name": "python3"
    },
    "language_info": {
      "name": "python"
    }
  },
  "nbformat": 4,
  "nbformat_minor": 0
}